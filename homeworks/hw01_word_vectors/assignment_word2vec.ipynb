{
  "cells": [
    {
      "cell_type": "markdown",
      "metadata": {
        "id": "nTSf4ro-qU0d"
      },
      "source": [
        "## Бонусное задание: word2vec на PyTorch\n",
        "\n",
        "Как вы уже могли заметить, идея, лежащая в основе [word2vec](https://arxiv.org/pdf/1310.4546), достаточно общая. В данном задании вы реализуете его самостоятельно.\n",
        "\n",
        "Дисклеймер: не стоит удивляться тому, что реализация от `gensim` (или аналоги) обучается быстрее и работает точнее. Она использует множество доработок и ускорений, а также достаточно эффективный код. Ваша задача добиться промежуточных результатов за разумное время.\n",
        "\n",
        "P.s. Как ни странно, GPU в этом задании нам не потребуется."
      ]
    },
    {
      "cell_type": "markdown",
      "metadata": {
        "id": "HVXD5OhxYCtZ"
      },
      "source": [
        "__Requirements:__ if you're running locally, in the selected environment run the following command:\n",
        "\n",
        "```pip install --upgrade nltk bokeh umap-learn```\n"
      ]
    },
    {
      "cell_type": "code",
      "execution_count": null,
      "metadata": {
        "id": "Oipe2DU8qfm7"
      },
      "outputs": [],
      "source": [
        "#!pip install --upgrade nltk bokeh umap-learn"
      ]
    },
    {
      "cell_type": "code",
      "execution_count": 1,
      "metadata": {
        "id": "pqPU4Lu2qU0h"
      },
      "outputs": [],
      "source": [
        "import itertools\n",
        "import random\n",
        "import string\n",
        "from collections import Counter\n",
        "from itertools import chain\n",
        "\n",
        "import matplotlib.pyplot as plt\n",
        "import numpy as np\n",
        "import torch\n",
        "import torch.autograd as autograd\n",
        "import torch.nn as nn\n",
        "import torch.nn.functional as F\n",
        "import torch.optim as optim\n",
        "import umap\n",
        "from IPython.display import clear_output\n",
        "from matplotlib import pyplot as plt\n",
        "from nltk.tokenize import WordPunctTokenizer\n",
        "from torch.optim.lr_scheduler import ReduceLROnPlateau, StepLR\n",
        "from tqdm.auto import tqdm as tqdma"
      ]
    },
    {
      "cell_type": "code",
      "execution_count": 2,
      "metadata": {
        "colab": {
          "base_uri": "https://localhost:8080/"
        },
        "id": "8Fbx57z3qU0i",
        "outputId": "e21df087-15c0-481a-9111-d56306414294"
      },
      "outputs": [
        {
          "output_type": "stream",
          "name": "stdout",
          "text": [
            "--2025-03-24 04:20:39--  https://www.dropbox.com/s/obaitrix9jyu84r/quora.txt?dl=1\n",
            "Resolving www.dropbox.com (www.dropbox.com)... 162.125.3.18, 2620:100:6018:18::a27d:312\n",
            "Connecting to www.dropbox.com (www.dropbox.com)|162.125.3.18|:443... connected.\n",
            "HTTP request sent, awaiting response... 302 Found\n",
            "Location: https://www.dropbox.com/scl/fi/p0t2dw6oqs6oxpd6zz534/quora.txt?rlkey=bjupppwua4zmd4elz8octecy9&dl=1 [following]\n",
            "--2025-03-24 04:20:40--  https://www.dropbox.com/scl/fi/p0t2dw6oqs6oxpd6zz534/quora.txt?rlkey=bjupppwua4zmd4elz8octecy9&dl=1\n",
            "Reusing existing connection to www.dropbox.com:443.\n",
            "HTTP request sent, awaiting response... 302 Found\n",
            "Location: https://uc1ff21c328fa0a47b4f766d62fc.dl.dropboxusercontent.com/cd/0/inline/Cmf_QxrXdxfASZlq_gLVU5BuxPGaKPQVdwEclE85ooXi971IysyY8W53EetzuyEbGCdyy4LpbtS_W4nKGrEA5qEXYt1ndHWo5r4VLxNeans9gpj7C5r97_igdXu1NmDBPb4/file?dl=1# [following]\n",
            "--2025-03-24 04:20:40--  https://uc1ff21c328fa0a47b4f766d62fc.dl.dropboxusercontent.com/cd/0/inline/Cmf_QxrXdxfASZlq_gLVU5BuxPGaKPQVdwEclE85ooXi971IysyY8W53EetzuyEbGCdyy4LpbtS_W4nKGrEA5qEXYt1ndHWo5r4VLxNeans9gpj7C5r97_igdXu1NmDBPb4/file?dl=1\n",
            "Resolving uc1ff21c328fa0a47b4f766d62fc.dl.dropboxusercontent.com (uc1ff21c328fa0a47b4f766d62fc.dl.dropboxusercontent.com)... 162.125.3.15, 2620:100:6018:15::a27d:30f\n",
            "Connecting to uc1ff21c328fa0a47b4f766d62fc.dl.dropboxusercontent.com (uc1ff21c328fa0a47b4f766d62fc.dl.dropboxusercontent.com)|162.125.3.15|:443... connected.\n",
            "HTTP request sent, awaiting response... 200 OK\n",
            "Length: 33813903 (32M) [application/binary]\n",
            "Saving to: ‘./quora.txt’\n",
            "\n",
            "./quora.txt         100%[===================>]  32.25M  47.4MB/s    in 0.7s    \n",
            "\n",
            "2025-03-24 04:20:41 (47.4 MB/s) - ‘./quora.txt’ saved [33813903/33813903]\n",
            "\n"
          ]
        }
      ],
      "source": [
        "# download the data:\n",
        "!wget https://www.dropbox.com/s/obaitrix9jyu84r/quora.txt?dl=1 -O ./quora.txt -nc\n",
        "# alternative download link: https://yadi.sk/i/BPQrUu1NaTduEw"
      ]
    },
    {
      "cell_type": "code",
      "execution_count": 3,
      "metadata": {
        "colab": {
          "base_uri": "https://localhost:8080/",
          "height": 35
        },
        "id": "8EYy5dQpqU0i",
        "outputId": "3a6a5955-4a4e-47ad-b486-9d2e5509c390",
        "scrolled": false
      },
      "outputs": [
        {
          "output_type": "execute_result",
          "data": {
            "text/plain": [
              "\"What TV shows or books help you read people's body language?\\n\""
            ],
            "application/vnd.google.colaboratory.intrinsic+json": {
              "type": "string"
            }
          },
          "metadata": {},
          "execution_count": 3
        }
      ],
      "source": [
        "data = list(open(\"./quora.txt\", encoding=\"utf-8\"))\n",
        "data[50]"
      ]
    },
    {
      "cell_type": "markdown",
      "metadata": {
        "id": "feBEGI2eqU0j"
      },
      "source": [
        "Токенизация – первый шаг.\n",
        "Тексты, с которыми мы работаем, включают в себя пунктуацию, смайлики и прочие нестандартные токены, так что простой `str.split` не подойдет.\n",
        "\n",
        "Обратимся к `nltk` - библиотеку, нашла широкое применеие в области NLP."
      ]
    },
    {
      "cell_type": "code",
      "execution_count": 4,
      "metadata": {
        "colab": {
          "base_uri": "https://localhost:8080/"
        },
        "id": "7mWTvm50qU0j",
        "outputId": "d838b01a-0cdd-4f46-8941-1d3519be9e7f"
      },
      "outputs": [
        {
          "output_type": "stream",
          "name": "stdout",
          "text": [
            "['What', 'TV', 'shows', 'or', 'books', 'help', 'you', 'read', 'people', \"'\", 's', 'body', 'language', '?']\n"
          ]
        }
      ],
      "source": [
        "tokenizer = WordPunctTokenizer()\n",
        "\n",
        "print(tokenizer.tokenize(data[50]))"
      ]
    },
    {
      "cell_type": "code",
      "execution_count": 5,
      "metadata": {
        "id": "HzC05EHWqU0j"
      },
      "outputs": [],
      "source": [
        "data_tok = [\n",
        "    tokenizer.tokenize(\n",
        "        line.translate(str.maketrans(\"\", \"\", string.punctuation)).lower()\n",
        "    )\n",
        "    for line in data\n",
        "]\n",
        "data_tok = [x for x in data_tok if len(x) >= 3]"
      ]
    },
    {
      "cell_type": "markdown",
      "metadata": {
        "id": "6azRAgHIqU0k"
      },
      "source": [
        "Несколько проверок:"
      ]
    },
    {
      "cell_type": "code",
      "execution_count": 6,
      "metadata": {
        "id": "Cp8UpxdWqU0k"
      },
      "outputs": [],
      "source": [
        "assert all(\n",
        "    isinstance(row, (list, tuple)) for row in data_tok\n",
        "), \"please convert each line into a list of tokens (strings)\"\n",
        "assert all(\n",
        "    all(isinstance(tok, str) for tok in row) for row in data_tok\n",
        "), \"please convert each line into a list of tokens (strings)\"\n",
        "is_latin = lambda tok: all(\"a\" <= x.lower() <= \"z\" for x in tok)\n",
        "assert all(\n",
        "    map(lambda l: not is_latin(l) or l.islower(), map(\" \".join, data_tok))\n",
        "), \"please make sure to lowercase the data\""
      ]
    },
    {
      "cell_type": "markdown",
      "metadata": {
        "id": "37e7-MIhqU0x"
      },
      "source": [
        "Ниже заданы константы ширины окна контекста и проведена предобработка для построения skip-gram модели."
      ]
    },
    {
      "cell_type": "code",
      "execution_count": 7,
      "metadata": {
        "id": "fugc1IomqU0x"
      },
      "outputs": [],
      "source": [
        "min_count = 5\n",
        "window_radius = 5"
      ]
    },
    {
      "cell_type": "code",
      "execution_count": 8,
      "metadata": {
        "id": "SDQeKu38YCtb"
      },
      "outputs": [],
      "source": [
        "vocabulary_with_counter = Counter(chain.from_iterable(data_tok))\n",
        "\n",
        "word_count_dict = dict()\n",
        "for word, counter in vocabulary_with_counter.items():\n",
        "    if counter >= min_count:\n",
        "        word_count_dict[word] = counter\n",
        "\n",
        "vocabulary = set(word_count_dict.keys())\n",
        "del vocabulary_with_counter"
      ]
    },
    {
      "cell_type": "code",
      "execution_count": 9,
      "metadata": {
        "id": "6hFtbWVfYCtb"
      },
      "outputs": [],
      "source": [
        "word_to_index = {word: index for index, word in enumerate(vocabulary)}\n",
        "index_to_word = {index: word for word, index in word_to_index.items()}"
      ]
    },
    {
      "cell_type": "markdown",
      "metadata": {
        "id": "4Y8rlBfqqU0x"
      },
      "source": [
        "Пары `(слово, контекст)` на основе доступного датасета сгенерированы ниже."
      ]
    },
    {
      "cell_type": "code",
      "execution_count": 10,
      "metadata": {
        "id": "h2-aqyyaqU0x",
        "outputId": "038efe3d-9fc9-40cb-dddc-62ec416c597f",
        "colab": {
          "base_uri": "https://localhost:8080/"
        }
      },
      "outputs": [
        {
          "output_type": "stream",
          "name": "stdout",
          "text": [
            "Generated 40220313 pairs of target and context words.\n"
          ]
        }
      ],
      "source": [
        "context_pairs = []\n",
        "\n",
        "for text in data_tok:\n",
        "    for i, central_word in enumerate(text):\n",
        "        context_indices = range(\n",
        "            max(0, i - window_radius), min(i + window_radius, len(text))\n",
        "        )\n",
        "        for j in context_indices:\n",
        "            if j == i:\n",
        "                continue\n",
        "            context_word = text[j]\n",
        "            if central_word in vocabulary and context_word in vocabulary:\n",
        "                context_pairs.append(\n",
        "                    (word_to_index[central_word], word_to_index[context_word])\n",
        "                )\n",
        "\n",
        "print(f\"Generated {len(context_pairs)} pairs of target and context words.\")"
      ]
    },
    {
      "cell_type": "markdown",
      "metadata": {
        "id": "XdbAQu3TYCtb"
      },
      "source": [
        "#### Подзадача №1: subsampling\n",
        "Для того, чтобы сгладить разницу в частоте встречаемсости слов, необходимо реализовать механизм subsampling'а.\n",
        "Для этого вам необходимо реализовать функцию ниже.\n",
        "\n",
        "Вероятность **исключить** слово из обучения (на фиксированном шаге) вычисляется как\n",
        "$$\n",
        "P_\\text{drop}(w_i)=1 - \\sqrt{\\frac{t}{f(w_i)}},\n",
        "$$\n",
        "где $f(w_i)$ – нормированная частота встречаемости слова, а $t$ – заданный порог (threshold)."
      ]
    },
    {
      "cell_type": "code",
      "execution_count": 11,
      "metadata": {
        "id": "bEFwCpVCYCtb"
      },
      "outputs": [],
      "source": [
        "def subsample_frequent_words(word_count_dict, threshold=1e-5):\n",
        "    \"\"\"\n",
        "    Calculates the subsampling probabilities for words based on their frequencies.\n",
        "\n",
        "    This function is used to determine the probability of keeping a word in the dataset\n",
        "    when subsampling frequent words. The method used is inspired by the subsampling approach\n",
        "    in Word2Vec, where each word's frequency affects its probability of being kept.\n",
        "\n",
        "    Parameters:\n",
        "    - word_count_dict (dict): A dictionary where keys are words and values are the counts of those words.\n",
        "    - threshold (float, optional): A threshold parameter used to adjust the frequency of word subsampling.\n",
        "                                   Defaults to 1e-5.\n",
        "\n",
        "    Returns:\n",
        "    - dict: A dictionary where keys are words and values are the probabilities of keeping each word.\n",
        "\n",
        "    Example:\n",
        "    >>> word_counts = {'the': 5000, 'is': 1000, 'apple': 50}\n",
        "    >>> subsample_frequent_words(word_counts)\n",
        "    {'the': 0.028, 'is': 0.223, 'apple': 1.0}\n",
        "    \"\"\"\n",
        "\n",
        "\n",
        "    total_count = sum(word_count_dict.values())\n",
        "    keep_prob_dict = {}\n",
        "\n",
        "    for word, count in word_count_dict.items():\n",
        "        frequency = count / total_count\n",
        "        prob_drop = 1 - (threshold / frequency) ** 0.5\n",
        "        keep_prob = max(0.0, 1.0 - prob_drop)  # эквивалентно: min(1.0, sqrt(threshold / freq))\n",
        "        keep_prob_dict[word] = keep_prob\n",
        "\n",
        "    return keep_prob_dict"
      ]
    },
    {
      "cell_type": "markdown",
      "metadata": {
        "id": "YyfZMR8QYCtb"
      },
      "source": [
        "#### Подзадача №2: negative sampling\n",
        "Для более эффективного обучения необходимо не только предсказывать высокие вероятности для слов из контекста, но и предсказывать низкие для слов, не встреченных в контексте. Для этого вам необходимо вычислить вероятност использовать слово в качестве negative sample, реализовав функцию ниже.\n",
        "\n",
        "В оригинальной статье предлагается оценивать вероятность слов выступать в качестве negative sample согласно распределению $P_n(w)$\n",
        "$$\n",
        "P_n(w) = \\frac{U(w)^{3/4}}{Z},\n",
        "$$\n",
        "\n",
        "где $U(w)$ распределение слов по частоте (или, как его еще называют, по униграммам), а $Z$ – нормировочная константа, чтобы общая мера была равна $1$."
      ]
    },
    {
      "cell_type": "code",
      "execution_count": 13,
      "metadata": {
        "id": "vsaLz9eSYCtb"
      },
      "outputs": [],
      "source": [
        "def get_negative_sampling_prob(word_count_dict):\n",
        "    \"\"\"\n",
        "    Calculates the negative sampling probabilities for words based on their frequencies.\n",
        "\n",
        "    This function adjusts the frequency of each word raised to the power of 0.75, which is\n",
        "    commonly used in algorithms like Word2Vec to moderate the influence of very frequent words.\n",
        "    It then normalizes these adjusted frequencies to ensure they sum to 1, forming a probability\n",
        "    distribution used for negative sampling.\n",
        "\n",
        "    Parameters:\n",
        "    - word_count_dict (dict): A dictionary where keys are words and values are the counts of those words.\n",
        "\n",
        "    Returns:\n",
        "    - dict: A dictionary where keys are words and values are the probabilities of selecting each word\n",
        "            for negative sampling.\n",
        "\n",
        "    Example:\n",
        "    >>> word_counts = {'the': 5000, 'is': 1000, 'apple': 50}\n",
        "    >>> get_negative_sampling_prob(word_counts)\n",
        "    {'the': 0.298, 'is': 0.160, 'apple': 0.042}\n",
        "    \"\"\"\n",
        "\n",
        "    # Поднимаем частоты в степень 0.75\n",
        "    adjusted_freqs = {word: count ** 0.75 for word, count in word_count_dict.items()}\n",
        "    total_adjusted = sum(adjusted_freqs.values())\n",
        "\n",
        "    # Нормализуем\n",
        "    negative_sampling_prob_dict = {\n",
        "        word: adjusted_freqs[word] / total_adjusted for word in word_count_dict.keys()\n",
        "    }\n",
        "\n",
        "    return negative_sampling_prob_dict"
      ]
    },
    {
      "cell_type": "markdown",
      "metadata": {
        "id": "ftuuZGUnYCtb"
      },
      "source": [
        "Для удобства, преобразуем полученные словари в массивы (т.к. все слова все равно уже пронумерованы)."
      ]
    },
    {
      "cell_type": "code",
      "execution_count": 14,
      "metadata": {
        "id": "T-Aiasa7YCtb"
      },
      "outputs": [],
      "source": [
        "keep_prob_dict = subsample_frequent_words(word_count_dict)\n",
        "assert keep_prob_dict.keys() == word_count_dict.keys()"
      ]
    },
    {
      "cell_type": "code",
      "execution_count": 15,
      "metadata": {
        "id": "2T-smoUmYCtc"
      },
      "outputs": [],
      "source": [
        "negative_sampling_prob_dict = get_negative_sampling_prob(word_count_dict)\n",
        "assert negative_sampling_prob_dict.keys() == negative_sampling_prob_dict.keys()\n",
        "assert np.allclose(sum(negative_sampling_prob_dict.values()), 1)"
      ]
    },
    {
      "cell_type": "code",
      "execution_count": 16,
      "metadata": {
        "id": "e7FQIhO5YCtc"
      },
      "outputs": [],
      "source": [
        "keep_prob_array = np.array(\n",
        "    [keep_prob_dict[index_to_word[idx]] for idx in range(len(word_to_index))]\n",
        ")\n",
        "negative_sampling_prob_array = np.array(\n",
        "    [\n",
        "        negative_sampling_prob_dict[index_to_word[idx]]\n",
        "        for idx in range(len(word_to_index))\n",
        "    ]\n",
        ")"
      ]
    },
    {
      "cell_type": "markdown",
      "metadata": {
        "id": "EJtc8hOcYCtc"
      },
      "source": [
        "Если все прошло успешно, функция ниже поможет вам с генерацией подвыборок (батчей)."
      ]
    },
    {
      "cell_type": "code",
      "execution_count": 17,
      "metadata": {
        "id": "-otv4wqYYCtc"
      },
      "outputs": [],
      "source": [
        "def generate_batch_with_neg_samples(\n",
        "    context_pairs,\n",
        "    batch_size,\n",
        "    keep_prob_array,\n",
        "    word_to_index,\n",
        "    num_negatives,\n",
        "    negative_sampling_prob_array,\n",
        "):\n",
        "    batch = []\n",
        "    neg_samples = []\n",
        "\n",
        "    while len(batch) < batch_size:\n",
        "        center, context = random.choice(context_pairs)\n",
        "        if random.random() < keep_prob_array[center]:\n",
        "            batch.append((center, context))\n",
        "            neg_sample = np.random.choice(\n",
        "                range(len(negative_sampling_prob_array)),\n",
        "                size=num_negatives,\n",
        "                p=negative_sampling_prob_array,\n",
        "            )\n",
        "            neg_samples.append(neg_sample)\n",
        "    batch = np.array(batch)\n",
        "    neg_samples = np.vstack(neg_samples)\n",
        "    return batch, neg_samples"
      ]
    },
    {
      "cell_type": "code",
      "execution_count": 18,
      "metadata": {
        "id": "0c0wP6OuYCtc"
      },
      "outputs": [],
      "source": [
        "batch_size = 4\n",
        "num_negatives = 15\n",
        "batch, neg_samples = generate_batch_with_neg_samples(\n",
        "    context_pairs,\n",
        "    batch_size,\n",
        "    keep_prob_array,\n",
        "    word_to_index,\n",
        "    num_negatives,\n",
        "    negative_sampling_prob_array,\n",
        ")"
      ]
    },
    {
      "cell_type": "code",
      "source": [
        "print(\"batch shape:\", batch.shape)           # должно быть (batch_size, 2)\n",
        "print(\"neg_samples shape:\", neg_samples.shape)  # должно быть (batch_size, num_negatives)"
      ],
      "metadata": {
        "id": "s79KuNABcA6d",
        "outputId": "3de566f2-e90c-4ab9-98cd-245d7d20d256",
        "colab": {
          "base_uri": "https://localhost:8080/"
        }
      },
      "execution_count": 19,
      "outputs": [
        {
          "output_type": "stream",
          "name": "stdout",
          "text": [
            "batch shape: (4, 2)\n",
            "neg_samples shape: (4, 15)\n"
          ]
        }
      ]
    },
    {
      "cell_type": "code",
      "source": [
        "print(\"Примеры пар (center, context):\")\n",
        "for i in range(len(batch)):\n",
        "    center_id, context_id = batch[i]\n",
        "    print(f\"{i+1}. Center: {index_to_word[center_id]}, Context: {index_to_word[context_id]}\")"
      ],
      "metadata": {
        "id": "9QkZGjOkcCgf",
        "outputId": "c68f53f9-4954-4783-c0ae-e757c8d65c8d",
        "colab": {
          "base_uri": "https://localhost:8080/"
        }
      },
      "execution_count": 20,
      "outputs": [
        {
          "output_type": "stream",
          "name": "stdout",
          "text": [
            "Примеры пар (center, context):\n",
            "1. Center: inks, Context: do\n",
            "2. Center: mba, Context: currently\n",
            "3. Center: he, Context: an\n",
            "4. Center: you, Context: between\n"
          ]
        }
      ]
    },
    {
      "cell_type": "code",
      "source": [
        "print(\"\\nNegative samples для каждой пары:\")\n",
        "for i in range(len(neg_samples)):\n",
        "    neg_words = [index_to_word[idx] for idx in neg_samples[i]]\n",
        "    print(f\"{i+1}. Negatives: {neg_words}\")"
      ],
      "metadata": {
        "id": "pPcT0KZRcJRG",
        "outputId": "f0de5519-7076-4d68-aabe-1260e65e676f",
        "colab": {
          "base_uri": "https://localhost:8080/"
        }
      },
      "execution_count": 21,
      "outputs": [
        {
          "output_type": "stream",
          "name": "stdout",
          "text": [
            "\n",
            "Negative samples для каждой пары:\n",
            "1. Negatives: ['alive', 'wheel', 'i', 'kegel', '2015', 'there', 'sun', 'ties', 'web', 'facebook', 'work', 'suggest', 'view', 'in', 'prescriptions']\n",
            "2. Negatives: ['good', 'vaccinations', 'rid', 'check', 'this', 'should', 'film', 'is', 'out', 'high', 'lesson', 'barc', 'sects', 'inflation', 'write']\n",
            "3. Negatives: ['diplomatic', 'andorra', 'royal', 'family', 'in', 'sentence', 'center', 'gandhi', 'since', 'todays', 'what', 'just', 'inmates', '42', 'lingerie']\n",
            "4. Negatives: ['inferior', 'prototype', 'black', 'choose', 'and', 'write', 'candidate', 'does', 'cleaners', 'detail', 'tylenol', 'above', 'matching', 'languages', 'to']\n"
          ]
        }
      ]
    },
    {
      "cell_type": "code",
      "source": [
        "import collections\n",
        "\n",
        "flat_neg = neg_samples.flatten()\n",
        "counts = collections.Counter(flat_neg)\n",
        "most_common = counts.most_common(5)\n",
        "\n",
        "print(\"Наиболее часто встречающиеся негативные слова:\")\n",
        "for idx, count in most_common:\n",
        "    print(f\"{index_to_word[idx]}: {count} раз\")"
      ],
      "metadata": {
        "id": "zgi2nwDFcRa3",
        "outputId": "4449b049-bf12-4bb9-9172-1e90e615a892",
        "colab": {
          "base_uri": "https://localhost:8080/"
        }
      },
      "execution_count": 22,
      "outputs": [
        {
          "output_type": "stream",
          "name": "stdout",
          "text": [
            "Наиболее часто встречающиеся негативные слова:\n",
            "in: 2 раз\n",
            "write: 2 раз\n",
            "alive: 1 раз\n",
            "wheel: 1 раз\n",
            "i: 1 раз\n"
          ]
        }
      ]
    },
    {
      "cell_type": "markdown",
      "metadata": {
        "id": "8zP1rR3SYCtc"
      },
      "source": [
        "Наконец, время реализовать модель. Обращаем ваше внимание, использование линейных слоев (`nn.Linear`) далеко не всегда оправданно!\n",
        "\n",
        "Напомним, что в случае negative sampling решается задача максимизации следующего функционала:\n",
        "\n",
        "$$\n",
        "\\mathcal{L} = \\log \\sigma({\\mathbf{v}'_{w_O}}^\\top \\mathbf{v}_{w_I}) + \\sum_{i=1}^{k} \\mathbb{E}_{w_i \\sim P_n(w)} \\left[ \\log \\sigma({-\\mathbf{v}'_{w_i}}^\\top \\mathbf{v}_{w_I}) \\right],\n",
        "$$\n",
        "\n",
        "где:\n",
        "- $\\mathbf{v}_{w_I}$ – вектор центрального слова $w_I$,\n",
        "- $\\mathbf{v}'_{w_O}$ – вектор слова из контекста $w_O$,\n",
        "- $k$ – число negative samplesЮ,\n",
        "- $P_n(w)$ – распределение negative samples, заданное выше,\n",
        "- $\\sigma$ – сигмоида."
      ]
    },
    {
      "cell_type": "code",
      "execution_count": 23,
      "metadata": {
        "id": "CuTakIuEYCtc"
      },
      "outputs": [],
      "source": [
        "class SkipGramModelWithNegSampling(nn.Module):\n",
        "    def __init__(self, vocab_size, embedding_dim):\n",
        "        super().__init__()\n",
        "        self.center_embeddings = nn.Embedding(vocab_size, embedding_dim)\n",
        "        self.context_embeddings = nn.Embedding(vocab_size, embedding_dim)\n",
        "\n",
        "        # Инициализация весов (по аналогии с Word2Vec)\n",
        "        initrange = 0.5 / embedding_dim\n",
        "        self.center_embeddings.weight.data.uniform_(-initrange, initrange)\n",
        "        self.context_embeddings.weight.data.uniform_(0, 0)\n",
        "\n",
        "    def forward(self, center_words, pos_context_words, neg_context_words):\n",
        "        # Получаем векторы: [B, D], [B, D], [B, K, D]\n",
        "        center_vecs = self.center_embeddings(center_words)           # [B, D]\n",
        "        pos_vecs = self.context_embeddings(pos_context_words)        # [B, D]\n",
        "        neg_vecs = self.context_embeddings(neg_context_words)        # [B, K, D]\n",
        "\n",
        "        pos_scores = torch.sum(center_vecs * pos_vecs, dim=1)\n",
        "\n",
        "        neg_scores = torch.bmm(neg_vecs, center_vecs.unsqueeze(2)).squeeze(2)\n",
        "\n",
        "\n",
        "        return pos_scores, neg_scores"
      ]
    },
    {
      "cell_type": "code",
      "execution_count": 24,
      "metadata": {
        "id": "c_ymd9_RYCtc"
      },
      "outputs": [],
      "source": [
        "device = torch.device(\"cpu\")"
      ]
    },
    {
      "cell_type": "code",
      "execution_count": 25,
      "metadata": {
        "id": "8HDUqsKQYCtc"
      },
      "outputs": [],
      "source": [
        "vocab_size = len(word_to_index)\n",
        "embedding_dim = 32\n",
        "num_negatives = 15\n",
        "\n",
        "model = SkipGramModelWithNegSampling(vocab_size, embedding_dim).to(device)\n",
        "optimizer = optim.Adam(model.parameters(), lr=0.05)\n",
        "lr_scheduler = ReduceLROnPlateau(optimizer, factor=0.5, patience=150)\n",
        "criterion = nn.BCEWithLogitsLoss()"
      ]
    },
    {
      "cell_type": "code",
      "execution_count": 26,
      "metadata": {
        "id": "N_yTStjcYCtc"
      },
      "outputs": [],
      "source": [
        "params_counter = 0\n",
        "for weights in model.parameters():\n",
        "    params_counter += weights.shape.numel()\n",
        "assert params_counter == len(word_to_index) * embedding_dim * 2"
      ]
    },
    {
      "cell_type": "code",
      "execution_count": 27,
      "metadata": {
        "id": "NdSPplG3YCtc"
      },
      "outputs": [],
      "source": [
        "def train_skipgram_with_neg_sampling(\n",
        "    model,\n",
        "    context_pairs,\n",
        "    keep_prob_array,\n",
        "    word_to_index,\n",
        "    batch_size,\n",
        "    num_negatives,\n",
        "    negative_sampling_prob_array,\n",
        "    steps,\n",
        "    optimizer=optimizer,\n",
        "    lr_scheduler=lr_scheduler,\n",
        "    device=device,\n",
        "):\n",
        "    pos_labels = torch.ones(batch_size).to(device)\n",
        "    neg_labels = torch.zeros(batch_size, num_negatives).to(device)\n",
        "    loss_history = []\n",
        "    for step in tqdma(range(steps)):\n",
        "        batch, neg_samples = generate_batch_with_neg_samples(\n",
        "            context_pairs,\n",
        "            batch_size,\n",
        "            keep_prob_array,\n",
        "            word_to_index,\n",
        "            num_negatives,\n",
        "            negative_sampling_prob_array,\n",
        "        )\n",
        "        center_words = torch.tensor([pair[0] for pair in batch], dtype=torch.long).to(\n",
        "            device\n",
        "        )\n",
        "        pos_context_words = torch.tensor(\n",
        "            [pair[1] for pair in batch], dtype=torch.long\n",
        "        ).to(device)\n",
        "        neg_context_words = torch.tensor(neg_samples, dtype=torch.long).to(device)\n",
        "\n",
        "        optimizer.zero_grad()\n",
        "        pos_scores, neg_scores = model(\n",
        "            center_words, pos_context_words, neg_context_words\n",
        "        )\n",
        "\n",
        "        loss_pos = criterion(pos_scores, pos_labels)\n",
        "        loss_neg = criterion(neg_scores, neg_labels)\n",
        "\n",
        "        loss = loss_pos + loss_neg\n",
        "        loss.backward()\n",
        "        optimizer.step()\n",
        "\n",
        "        loss_history.append(loss.item())\n",
        "        lr_scheduler.step(loss_history[-1])\n",
        "\n",
        "        if step % 100 == 0:\n",
        "            print(\n",
        "                f\"Step {step}, Loss: {np.mean(loss_history[-100:])}, learning rate: {lr_scheduler._last_lr}\"\n",
        "            )"
      ]
    },
    {
      "cell_type": "code",
      "execution_count": 28,
      "metadata": {
        "id": "71a8ZyAxYCtc",
        "outputId": "2f0e0159-b1ee-4fd1-db3f-3d93264615e9",
        "colab": {
          "base_uri": "https://localhost:8080/",
          "height": 495,
          "referenced_widgets": [
            "ff58125a9ee549a98d9312a0aa8d96bf",
            "3e5c21ea8177474898edf1fcde7a6656",
            "761782012549443597d80ffd51fd2be0",
            "5d3b4f8164394d88acdb7c2465caadaf",
            "f697d6c770644ad099cd6e8c24d1bcea",
            "2783e03621934785a7daf346a949634f",
            "4c58496981e94a4c987be465a819a29d",
            "43742733e0774202a276ef95948ec7ed",
            "6ac2ed33fa2e4957a52eaaa0a4601fc3",
            "c2f246f2848f4ac08cc7aeebd993a868",
            "5d8c135da83444d1a2727853f65c9031"
          ]
        }
      },
      "outputs": [
        {
          "data": {
            "application/vnd.jupyter.widget-view+json": {
              "model_id": "ff58125a9ee549a98d9312a0aa8d96bf",
              "version_major": 2,
              "version_minor": 0
            },
            "text/plain": [
              "  0%|          | 0/2500 [00:00<?, ?it/s]"
            ]
          },
          "metadata": {},
          "output_type": "display_data"
        },
        {
          "output_type": "stream",
          "name": "stdout",
          "text": [
            "Step 0, Loss: 1.3862946033477783, learning rate: [0.05]\n",
            "Step 100, Loss: 1.4409049153327942, learning rate: [0.05]\n",
            "Step 200, Loss: 1.6328431463241577, learning rate: [0.025]\n",
            "Step 300, Loss: 1.6383334171772004, learning rate: [0.025]\n",
            "Step 400, Loss: 1.5844481897354126, learning rate: [0.0125]\n",
            "Step 500, Loss: 1.5300731670856476, learning rate: [0.00625]\n",
            "Step 600, Loss: 1.4981260478496552, learning rate: [0.00625]\n",
            "Step 700, Loss: 1.4739198637008668, learning rate: [0.00625]\n",
            "Step 800, Loss: 1.455379182100296, learning rate: [0.003125]\n",
            "Step 900, Loss: 1.4434813606739043, learning rate: [0.0015625]\n",
            "Step 1000, Loss: 1.431829845905304, learning rate: [0.0015625]\n",
            "Step 1100, Loss: 1.4301190078258514, learning rate: [0.00078125]\n",
            "Step 1200, Loss: 1.430758672952652, learning rate: [0.00078125]\n",
            "Step 1300, Loss: 1.4260817849636078, learning rate: [0.000390625]\n",
            "Step 1400, Loss: 1.428274530172348, learning rate: [0.000390625]\n",
            "Step 1500, Loss: 1.4195152711868286, learning rate: [0.000390625]\n",
            "Step 1600, Loss: 1.4155012023448945, learning rate: [0.000390625]\n",
            "Step 1700, Loss: 1.413473016023636, learning rate: [0.0001953125]\n",
            "Step 1800, Loss: 1.4103466224670411, learning rate: [0.0001953125]\n",
            "Step 1900, Loss: 1.402332842350006, learning rate: [9.765625e-05]\n",
            "Step 2000, Loss: 1.4207653522491455, learning rate: [9.765625e-05]\n",
            "Step 2100, Loss: 1.4128343772888183, learning rate: [4.8828125e-05]\n",
            "Step 2200, Loss: 1.4117544400691986, learning rate: [2.44140625e-05]\n",
            "Step 2300, Loss: 1.4142673635482788, learning rate: [2.44140625e-05]\n",
            "Step 2400, Loss: 1.4153586900234223, learning rate: [1.220703125e-05]\n"
          ]
        }
      ],
      "source": [
        "steps = 2500\n",
        "batch_size = 512\n",
        "train_skipgram_with_neg_sampling(\n",
        "    model,\n",
        "    context_pairs,\n",
        "    keep_prob_array,\n",
        "    word_to_index,\n",
        "    batch_size,\n",
        "    num_negatives,\n",
        "    negative_sampling_prob_array,\n",
        "    steps,\n",
        ")"
      ]
    },
    {
      "cell_type": "markdown",
      "metadata": {
        "id": "be-skSxiYCtc"
      },
      "source": [
        "Наконец, используйте полученную матрицу весов в качестве матрицы в векторными представлениями слов. Рекомендуем использовать для сдачи матрицу, которая отвечала за слова из контекста (т.е. декодера)."
      ]
    },
    {
      "cell_type": "code",
      "execution_count": 29,
      "metadata": {
        "id": "0JQK01n1YCtd"
      },
      "outputs": [],
      "source": [
        "_model_parameters = model.parameters()\n",
        "embedding_matrix_center = next(\n",
        "    _model_parameters\n",
        ").detach()  # Assuming that first matrix was for central word\n",
        "embedding_matrix_context = next(\n",
        "    _model_parameters\n",
        ").detach()  # Assuming that second matrix was for context word"
      ]
    },
    {
      "cell_type": "code",
      "execution_count": 30,
      "metadata": {
        "id": "vrLjZzRDYCtd"
      },
      "outputs": [],
      "source": [
        "def get_word_vector(word, embedding_matrix, word_to_index=word_to_index):\n",
        "    return embedding_matrix[word_to_index[word]]"
      ]
    },
    {
      "cell_type": "markdown",
      "metadata": {
        "id": "-_UC6534YCtd"
      },
      "source": [
        "Простые проверки:"
      ]
    },
    {
      "cell_type": "code",
      "execution_count": 31,
      "metadata": {
        "id": "tbQ1LcC7YCtd"
      },
      "outputs": [],
      "source": [
        "similarity_1 = F.cosine_similarity(\n",
        "    get_word_vector(\"iphone\", embedding_matrix_context)[None, :],\n",
        "    get_word_vector(\"apple\", embedding_matrix_context)[None, :],\n",
        ")\n",
        "similarity_2 = F.cosine_similarity(\n",
        "    get_word_vector(\"iphone\", embedding_matrix_context)[None, :],\n",
        "    get_word_vector(\"dell\", embedding_matrix_context)[None, :],\n",
        ")\n",
        "assert similarity_1 > similarity_2"
      ]
    },
    {
      "cell_type": "code",
      "execution_count": 32,
      "metadata": {
        "id": "t9OUYbV5YCtd"
      },
      "outputs": [],
      "source": [
        "similarity_1 = F.cosine_similarity(\n",
        "    get_word_vector(\"windows\", embedding_matrix_context)[None, :],\n",
        "    get_word_vector(\"laptop\", embedding_matrix_context)[None, :],\n",
        ")\n",
        "similarity_2 = F.cosine_similarity(\n",
        "    get_word_vector(\"windows\", embedding_matrix_context)[None, :],\n",
        "    get_word_vector(\"macbook\", embedding_matrix_context)[None, :],\n",
        ")\n",
        "assert similarity_1 > similarity_2"
      ]
    },
    {
      "cell_type": "markdown",
      "metadata": {
        "id": "-1ZPSYLlYCtd"
      },
      "source": [
        "Наконец, взглянем на ближайшие по косинусной мере слова. Функция реализована ниже."
      ]
    },
    {
      "cell_type": "code",
      "execution_count": 33,
      "metadata": {
        "id": "dA0V6rOYtsLk"
      },
      "outputs": [],
      "source": [
        "def find_nearest(word, embedding_matrix, word_to_index=word_to_index, k=10):\n",
        "    word_vector = get_word_vector(word, embedding_matrix)[None, :]\n",
        "    dists = F.cosine_similarity(embedding_matrix, word_vector)\n",
        "    index_sorted = torch.argsort(dists)\n",
        "    top_k = index_sorted[-k:]\n",
        "    return [(index_to_word[x], dists[x].item()) for x in top_k.numpy()]"
      ]
    },
    {
      "cell_type": "code",
      "execution_count": 34,
      "metadata": {
        "id": "yY5Rn0feYCte",
        "outputId": "b0daf59e-acbd-45f2-9bc9-fe523f75ca0d",
        "colab": {
          "base_uri": "https://localhost:8080/"
        }
      },
      "outputs": [
        {
          "output_type": "execute_result",
          "data": {
            "text/plain": [
              "[('wordpress', 0.6290746927261353),\n",
              " ('forestry', 0.6310707926750183),\n",
              " ('diverge', 0.6325491666793823),\n",
              " ('europa', 0.633774995803833),\n",
              " ('transmission', 0.6358866095542908),\n",
              " ('violating', 0.6405124068260193),\n",
              " ('rand', 0.6509411931037903),\n",
              " ('shortener', 0.663227379322052),\n",
              " ('handbook', 0.6656278371810913),\n",
              " ('python', 1.0000001192092896)]"
            ]
          },
          "metadata": {},
          "execution_count": 34
        }
      ],
      "source": [
        "find_nearest(\"python\", embedding_matrix_context, k=10)"
      ]
    },
    {
      "cell_type": "markdown",
      "metadata": {
        "id": "_-XGnFPiYCte"
      },
      "source": [
        "Также вы можете визуально проверить, как представлены в латентном пространстве часто встречающиеся слова."
      ]
    },
    {
      "cell_type": "code",
      "execution_count": 35,
      "metadata": {
        "id": "mMPpFpXMYCte"
      },
      "outputs": [],
      "source": [
        "top_k = 5000\n",
        "_top_words = sorted([x for x in word_count_dict.items()], key=lambda x: x[1])[\n",
        "    -top_k - 100 : -100\n",
        "]  # ignoring 100 most frequent words\n",
        "top_words = [x[0] for x in _top_words]\n",
        "del _top_words"
      ]
    },
    {
      "cell_type": "code",
      "execution_count": 36,
      "metadata": {
        "id": "TmU0SXZOYCte"
      },
      "outputs": [],
      "source": [
        "word_embeddings = torch.cat(\n",
        "    [embedding_matrix_context[word_to_index[x]][None, :] for x in top_words], dim=0\n",
        ").numpy()"
      ]
    },
    {
      "cell_type": "code",
      "execution_count": 37,
      "metadata": {
        "id": "NWkN6eK9YCte"
      },
      "outputs": [],
      "source": [
        "import bokeh.models as bm\n",
        "import bokeh.plotting as pl\n",
        "from bokeh.io import output_notebook\n",
        "\n",
        "output_notebook()\n",
        "\n",
        "\n",
        "def draw_vectors(\n",
        "    x,\n",
        "    y,\n",
        "    radius=10,\n",
        "    alpha=0.25,\n",
        "    color=\"blue\",\n",
        "    width=600,\n",
        "    height=400,\n",
        "    show=True,\n",
        "    **kwargs,\n",
        "):\n",
        "    \"\"\"draws an interactive plot for data points with auxilirary info on hover\"\"\"\n",
        "    if isinstance(color, str):\n",
        "        color = [color] * len(x)\n",
        "    data_source = bm.ColumnDataSource({\"x\": x, \"y\": y, \"color\": color, **kwargs})\n",
        "\n",
        "    fig = pl.figure(active_scroll=\"wheel_zoom\", width=width, height=height)\n",
        "    fig.scatter(\"x\", \"y\", size=radius, color=\"color\", alpha=alpha, source=data_source)\n",
        "\n",
        "    fig.add_tools(bm.HoverTool(tooltips=[(key, \"@\" + key) for key in kwargs.keys()]))\n",
        "    if show:\n",
        "        pl.show(fig)\n",
        "    return fig"
      ]
    },
    {
      "cell_type": "code",
      "execution_count": 38,
      "metadata": {
        "id": "H2fz_c4eYCte",
        "outputId": "c93cdb1e-ef28-4270-f281-0d2a80937895",
        "colab": {
          "base_uri": "https://localhost:8080/"
        }
      },
      "outputs": [
        {
          "output_type": "stream",
          "name": "stderr",
          "text": [
            "/usr/local/lib/python3.11/dist-packages/sklearn/utils/deprecation.py:151: FutureWarning: 'force_all_finite' was renamed to 'ensure_all_finite' in 1.6 and will be removed in 1.8.\n",
            "  warnings.warn(\n"
          ]
        }
      ],
      "source": [
        "embedding = umap.UMAP(n_neighbors=5).fit_transform(word_embeddings)"
      ]
    },
    {
      "cell_type": "code",
      "execution_count": 39,
      "metadata": {
        "id": "j-NN8i5BYCte",
        "outputId": "3f75eddf-758d-423d-bc2e-9b0eee8d0f40",
        "colab": {
          "base_uri": "https://localhost:8080/",
          "height": 34
        }
      },
      "outputs": [
        {
          "output_type": "display_data",
          "data": {
            "application/javascript": [
              "'use strict';\n",
              "(function(root) {\n",
              "  function now() {\n",
              "    return new Date();\n",
              "  }\n",
              "\n",
              "  const force = true;\n",
              "\n",
              "  if (typeof root._bokeh_onload_callbacks === \"undefined\" || force === true) {\n",
              "    root._bokeh_onload_callbacks = [];\n",
              "    root._bokeh_is_loading = undefined;\n",
              "  }\n",
              "\n",
              "const JS_MIME_TYPE = 'application/javascript';\n",
              "  const HTML_MIME_TYPE = 'text/html';\n",
              "  const EXEC_MIME_TYPE = 'application/vnd.bokehjs_exec.v0+json';\n",
              "  const CLASS_NAME = 'output_bokeh rendered_html';\n",
              "\n",
              "  /**\n",
              "   * Render data to the DOM node\n",
              "   */\n",
              "  function render(props, node) {\n",
              "    const script = document.createElement(\"script\");\n",
              "    node.appendChild(script);\n",
              "  }\n",
              "\n",
              "  /**\n",
              "   * Handle when an output is cleared or removed\n",
              "   */\n",
              "  function handleClearOutput(event, handle) {\n",
              "    function drop(id) {\n",
              "      const view = Bokeh.index.get_by_id(id)\n",
              "      if (view != null) {\n",
              "        view.model.document.clear()\n",
              "        Bokeh.index.delete(view)\n",
              "      }\n",
              "    }\n",
              "\n",
              "    const cell = handle.cell;\n",
              "\n",
              "    const id = cell.output_area._bokeh_element_id;\n",
              "    const server_id = cell.output_area._bokeh_server_id;\n",
              "\n",
              "    // Clean up Bokeh references\n",
              "    if (id != null) {\n",
              "      drop(id)\n",
              "    }\n",
              "\n",
              "    if (server_id !== undefined) {\n",
              "      // Clean up Bokeh references\n",
              "      const cmd_clean = \"from bokeh.io.state import curstate; print(curstate().uuid_to_server['\" + server_id + \"'].get_sessions()[0].document.roots[0]._id)\";\n",
              "      cell.notebook.kernel.execute(cmd_clean, {\n",
              "        iopub: {\n",
              "          output: function(msg) {\n",
              "            const id = msg.content.text.trim()\n",
              "            drop(id)\n",
              "          }\n",
              "        }\n",
              "      });\n",
              "      // Destroy server and session\n",
              "      const cmd_destroy = \"import bokeh.io.notebook as ion; ion.destroy_server('\" + server_id + \"')\";\n",
              "      cell.notebook.kernel.execute(cmd_destroy);\n",
              "    }\n",
              "  }\n",
              "\n",
              "  /**\n",
              "   * Handle when a new output is added\n",
              "   */\n",
              "  function handleAddOutput(event, handle) {\n",
              "    const output_area = handle.output_area;\n",
              "    const output = handle.output;\n",
              "\n",
              "    // limit handleAddOutput to display_data with EXEC_MIME_TYPE content only\n",
              "    if ((output.output_type != \"display_data\") || (!Object.prototype.hasOwnProperty.call(output.data, EXEC_MIME_TYPE))) {\n",
              "      return\n",
              "    }\n",
              "\n",
              "    const toinsert = output_area.element.find(\".\" + CLASS_NAME.split(' ')[0]);\n",
              "\n",
              "    if (output.metadata[EXEC_MIME_TYPE][\"id\"] !== undefined) {\n",
              "      toinsert[toinsert.length - 1].firstChild.textContent = output.data[JS_MIME_TYPE];\n",
              "      // store reference to embed id on output_area\n",
              "      output_area._bokeh_element_id = output.metadata[EXEC_MIME_TYPE][\"id\"];\n",
              "    }\n",
              "    if (output.metadata[EXEC_MIME_TYPE][\"server_id\"] !== undefined) {\n",
              "      const bk_div = document.createElement(\"div\");\n",
              "      bk_div.innerHTML = output.data[HTML_MIME_TYPE];\n",
              "      const script_attrs = bk_div.children[0].attributes;\n",
              "      for (let i = 0; i < script_attrs.length; i++) {\n",
              "        toinsert[toinsert.length - 1].firstChild.setAttribute(script_attrs[i].name, script_attrs[i].value);\n",
              "        toinsert[toinsert.length - 1].firstChild.textContent = bk_div.children[0].textContent\n",
              "      }\n",
              "      // store reference to server id on output_area\n",
              "      output_area._bokeh_server_id = output.metadata[EXEC_MIME_TYPE][\"server_id\"];\n",
              "    }\n",
              "  }\n",
              "\n",
              "  function register_renderer(events, OutputArea) {\n",
              "\n",
              "    function append_mime(data, metadata, element) {\n",
              "      // create a DOM node to render to\n",
              "      const toinsert = this.create_output_subarea(\n",
              "        metadata,\n",
              "        CLASS_NAME,\n",
              "        EXEC_MIME_TYPE\n",
              "      );\n",
              "      this.keyboard_manager.register_events(toinsert);\n",
              "      // Render to node\n",
              "      const props = {data: data, metadata: metadata[EXEC_MIME_TYPE]};\n",
              "      render(props, toinsert[toinsert.length - 1]);\n",
              "      element.append(toinsert);\n",
              "      return toinsert\n",
              "    }\n",
              "\n",
              "    /* Handle when an output is cleared or removed */\n",
              "    events.on('clear_output.CodeCell', handleClearOutput);\n",
              "    events.on('delete.Cell', handleClearOutput);\n",
              "\n",
              "    /* Handle when a new output is added */\n",
              "    events.on('output_added.OutputArea', handleAddOutput);\n",
              "\n",
              "    /**\n",
              "     * Register the mime type and append_mime function with output_area\n",
              "     */\n",
              "    OutputArea.prototype.register_mime_type(EXEC_MIME_TYPE, append_mime, {\n",
              "      /* Is output safe? */\n",
              "      safe: true,\n",
              "      /* Index of renderer in `output_area.display_order` */\n",
              "      index: 0\n",
              "    });\n",
              "  }\n",
              "\n",
              "  // register the mime type if in Jupyter Notebook environment and previously unregistered\n",
              "  if (root.Jupyter !== undefined) {\n",
              "    const events = require('base/js/events');\n",
              "    const OutputArea = require('notebook/js/outputarea').OutputArea;\n",
              "\n",
              "    if (OutputArea.prototype.mime_types().indexOf(EXEC_MIME_TYPE) == -1) {\n",
              "      register_renderer(events, OutputArea);\n",
              "    }\n",
              "  }\n",
              "  if (typeof (root._bokeh_timeout) === \"undefined\" || force === true) {\n",
              "    root._bokeh_timeout = Date.now() + 5000;\n",
              "    root._bokeh_failed_load = false;\n",
              "  }\n",
              "\n",
              "  const NB_LOAD_WARNING = {'data': {'text/html':\n",
              "     \"<div style='background-color: #fdd'>\\n\"+\n",
              "     \"<p>\\n\"+\n",
              "     \"BokehJS does not appear to have successfully loaded. If loading BokehJS from CDN, this \\n\"+\n",
              "     \"may be due to a slow or bad network connection. Possible fixes:\\n\"+\n",
              "     \"</p>\\n\"+\n",
              "     \"<ul>\\n\"+\n",
              "     \"<li>re-rerun `output_notebook()` to attempt to load from CDN again, or</li>\\n\"+\n",
              "     \"<li>use INLINE resources instead, as so:</li>\\n\"+\n",
              "     \"</ul>\\n\"+\n",
              "     \"<code>\\n\"+\n",
              "     \"from bokeh.resources import INLINE\\n\"+\n",
              "     \"output_notebook(resources=INLINE)\\n\"+\n",
              "     \"</code>\\n\"+\n",
              "     \"</div>\"}};\n",
              "\n",
              "  function display_loaded(error = null) {\n",
              "    const el = document.getElementById(null);\n",
              "    if (el != null) {\n",
              "      const html = (() => {\n",
              "        if (typeof root.Bokeh === \"undefined\") {\n",
              "          if (error == null) {\n",
              "            return \"BokehJS is loading ...\";\n",
              "          } else {\n",
              "            return \"BokehJS failed to load.\";\n",
              "          }\n",
              "        } else {\n",
              "          const prefix = `BokehJS ${root.Bokeh.version}`;\n",
              "          if (error == null) {\n",
              "            return `${prefix} successfully loaded.`;\n",
              "          } else {\n",
              "            return `${prefix} <b>encountered errors</b> while loading and may not function as expected.`;\n",
              "          }\n",
              "        }\n",
              "      })();\n",
              "      el.innerHTML = html;\n",
              "\n",
              "      if (error != null) {\n",
              "        const wrapper = document.createElement(\"div\");\n",
              "        wrapper.style.overflow = \"auto\";\n",
              "        wrapper.style.height = \"5em\";\n",
              "        wrapper.style.resize = \"vertical\";\n",
              "        const content = document.createElement(\"div\");\n",
              "        content.style.fontFamily = \"monospace\";\n",
              "        content.style.whiteSpace = \"pre-wrap\";\n",
              "        content.style.backgroundColor = \"rgb(255, 221, 221)\";\n",
              "        content.textContent = error.stack ?? error.toString();\n",
              "        wrapper.append(content);\n",
              "        el.append(wrapper);\n",
              "      }\n",
              "    } else if (Date.now() < root._bokeh_timeout) {\n",
              "      setTimeout(() => display_loaded(error), 100);\n",
              "    }\n",
              "  }\n",
              "\n",
              "  function run_callbacks() {\n",
              "    try {\n",
              "      root._bokeh_onload_callbacks.forEach(function(callback) {\n",
              "        if (callback != null)\n",
              "          callback();\n",
              "      });\n",
              "    } finally {\n",
              "      delete root._bokeh_onload_callbacks\n",
              "    }\n",
              "    console.debug(\"Bokeh: all callbacks have finished\");\n",
              "  }\n",
              "\n",
              "  function load_libs(css_urls, js_urls, callback) {\n",
              "    if (css_urls == null) css_urls = [];\n",
              "    if (js_urls == null) js_urls = [];\n",
              "\n",
              "    root._bokeh_onload_callbacks.push(callback);\n",
              "    if (root._bokeh_is_loading > 0) {\n",
              "      console.debug(\"Bokeh: BokehJS is being loaded, scheduling callback at\", now());\n",
              "      return null;\n",
              "    }\n",
              "    if (js_urls == null || js_urls.length === 0) {\n",
              "      run_callbacks();\n",
              "      return null;\n",
              "    }\n",
              "    console.debug(\"Bokeh: BokehJS not loaded, scheduling load and callback at\", now());\n",
              "    root._bokeh_is_loading = css_urls.length + js_urls.length;\n",
              "\n",
              "    function on_load() {\n",
              "      root._bokeh_is_loading--;\n",
              "      if (root._bokeh_is_loading === 0) {\n",
              "        console.debug(\"Bokeh: all BokehJS libraries/stylesheets loaded\");\n",
              "        run_callbacks()\n",
              "      }\n",
              "    }\n",
              "\n",
              "    function on_error(url) {\n",
              "      console.error(\"failed to load \" + url);\n",
              "    }\n",
              "\n",
              "    for (let i = 0; i < css_urls.length; i++) {\n",
              "      const url = css_urls[i];\n",
              "      const element = document.createElement(\"link\");\n",
              "      element.onload = on_load;\n",
              "      element.onerror = on_error.bind(null, url);\n",
              "      element.rel = \"stylesheet\";\n",
              "      element.type = \"text/css\";\n",
              "      element.href = url;\n",
              "      console.debug(\"Bokeh: injecting link tag for BokehJS stylesheet: \", url);\n",
              "      document.body.appendChild(element);\n",
              "    }\n",
              "\n",
              "    for (let i = 0; i < js_urls.length; i++) {\n",
              "      const url = js_urls[i];\n",
              "      const element = document.createElement('script');\n",
              "      element.onload = on_load;\n",
              "      element.onerror = on_error.bind(null, url);\n",
              "      element.async = false;\n",
              "      element.src = url;\n",
              "      console.debug(\"Bokeh: injecting script tag for BokehJS library: \", url);\n",
              "      document.head.appendChild(element);\n",
              "    }\n",
              "  };\n",
              "\n",
              "  function inject_raw_css(css) {\n",
              "    const element = document.createElement(\"style\");\n",
              "    element.appendChild(document.createTextNode(css));\n",
              "    document.body.appendChild(element);\n",
              "  }\n",
              "\n",
              "  const js_urls = [\"https://cdn.bokeh.org/bokeh/release/bokeh-3.6.3.min.js\", \"https://cdn.bokeh.org/bokeh/release/bokeh-gl-3.6.3.min.js\", \"https://cdn.bokeh.org/bokeh/release/bokeh-widgets-3.6.3.min.js\", \"https://cdn.bokeh.org/bokeh/release/bokeh-tables-3.6.3.min.js\", \"https://cdn.bokeh.org/bokeh/release/bokeh-mathjax-3.6.3.min.js\"];\n",
              "  const css_urls = [];\n",
              "\n",
              "  const inline_js = [    function(Bokeh) {\n",
              "      Bokeh.set_log_level(\"info\");\n",
              "    },\n",
              "function(Bokeh) {\n",
              "    }\n",
              "  ];\n",
              "\n",
              "  function run_inline_js() {\n",
              "    if (root.Bokeh !== undefined || force === true) {\n",
              "      try {\n",
              "            for (let i = 0; i < inline_js.length; i++) {\n",
              "      inline_js[i].call(root, root.Bokeh);\n",
              "    }\n",
              "\n",
              "      } catch (error) {throw error;\n",
              "      }} else if (Date.now() < root._bokeh_timeout) {\n",
              "      setTimeout(run_inline_js, 100);\n",
              "    } else if (!root._bokeh_failed_load) {\n",
              "      console.log(\"Bokeh: BokehJS failed to load within specified timeout.\");\n",
              "      root._bokeh_failed_load = true;\n",
              "    } else if (force !== true) {\n",
              "      const cell = $(document.getElementById(null)).parents('.cell').data().cell;\n",
              "      cell.output_area.append_execute_result(NB_LOAD_WARNING)\n",
              "    }\n",
              "  }\n",
              "\n",
              "  if (root._bokeh_is_loading === 0) {\n",
              "    console.debug(\"Bokeh: BokehJS loaded, going straight to plotting\");\n",
              "    run_inline_js();\n",
              "  } else {\n",
              "    load_libs(css_urls, js_urls, function() {\n",
              "      console.debug(\"Bokeh: BokehJS plotting callback run at\", now());\n",
              "      run_inline_js();\n",
              "    });\n",
              "  }\n",
              "}(window));"
            ],
            "application/vnd.bokehjs_load.v0+json": "'use strict';\n(function(root) {\n  function now() {\n    return new Date();\n  }\n\n  const force = true;\n\n  if (typeof root._bokeh_onload_callbacks === \"undefined\" || force === true) {\n    root._bokeh_onload_callbacks = [];\n    root._bokeh_is_loading = undefined;\n  }\n\n\n  if (typeof (root._bokeh_timeout) === \"undefined\" || force === true) {\n    root._bokeh_timeout = Date.now() + 5000;\n    root._bokeh_failed_load = false;\n  }\n\n  const NB_LOAD_WARNING = {'data': {'text/html':\n     \"<div style='background-color: #fdd'>\\n\"+\n     \"<p>\\n\"+\n     \"BokehJS does not appear to have successfully loaded. If loading BokehJS from CDN, this \\n\"+\n     \"may be due to a slow or bad network connection. Possible fixes:\\n\"+\n     \"</p>\\n\"+\n     \"<ul>\\n\"+\n     \"<li>re-rerun `output_notebook()` to attempt to load from CDN again, or</li>\\n\"+\n     \"<li>use INLINE resources instead, as so:</li>\\n\"+\n     \"</ul>\\n\"+\n     \"<code>\\n\"+\n     \"from bokeh.resources import INLINE\\n\"+\n     \"output_notebook(resources=INLINE)\\n\"+\n     \"</code>\\n\"+\n     \"</div>\"}};\n\n  function display_loaded(error = null) {\n    const el = document.getElementById(null);\n    if (el != null) {\n      const html = (() => {\n        if (typeof root.Bokeh === \"undefined\") {\n          if (error == null) {\n            return \"BokehJS is loading ...\";\n          } else {\n            return \"BokehJS failed to load.\";\n          }\n        } else {\n          const prefix = `BokehJS ${root.Bokeh.version}`;\n          if (error == null) {\n            return `${prefix} successfully loaded.`;\n          } else {\n            return `${prefix} <b>encountered errors</b> while loading and may not function as expected.`;\n          }\n        }\n      })();\n      el.innerHTML = html;\n\n      if (error != null) {\n        const wrapper = document.createElement(\"div\");\n        wrapper.style.overflow = \"auto\";\n        wrapper.style.height = \"5em\";\n        wrapper.style.resize = \"vertical\";\n        const content = document.createElement(\"div\");\n        content.style.fontFamily = \"monospace\";\n        content.style.whiteSpace = \"pre-wrap\";\n        content.style.backgroundColor = \"rgb(255, 221, 221)\";\n        content.textContent = error.stack ?? error.toString();\n        wrapper.append(content);\n        el.append(wrapper);\n      }\n    } else if (Date.now() < root._bokeh_timeout) {\n      setTimeout(() => display_loaded(error), 100);\n    }\n  }\n\n  function run_callbacks() {\n    try {\n      root._bokeh_onload_callbacks.forEach(function(callback) {\n        if (callback != null)\n          callback();\n      });\n    } finally {\n      delete root._bokeh_onload_callbacks\n    }\n    console.debug(\"Bokeh: all callbacks have finished\");\n  }\n\n  function load_libs(css_urls, js_urls, callback) {\n    if (css_urls == null) css_urls = [];\n    if (js_urls == null) js_urls = [];\n\n    root._bokeh_onload_callbacks.push(callback);\n    if (root._bokeh_is_loading > 0) {\n      console.debug(\"Bokeh: BokehJS is being loaded, scheduling callback at\", now());\n      return null;\n    }\n    if (js_urls == null || js_urls.length === 0) {\n      run_callbacks();\n      return null;\n    }\n    console.debug(\"Bokeh: BokehJS not loaded, scheduling load and callback at\", now());\n    root._bokeh_is_loading = css_urls.length + js_urls.length;\n\n    function on_load() {\n      root._bokeh_is_loading--;\n      if (root._bokeh_is_loading === 0) {\n        console.debug(\"Bokeh: all BokehJS libraries/stylesheets loaded\");\n        run_callbacks()\n      }\n    }\n\n    function on_error(url) {\n      console.error(\"failed to load \" + url);\n    }\n\n    for (let i = 0; i < css_urls.length; i++) {\n      const url = css_urls[i];\n      const element = document.createElement(\"link\");\n      element.onload = on_load;\n      element.onerror = on_error.bind(null, url);\n      element.rel = \"stylesheet\";\n      element.type = \"text/css\";\n      element.href = url;\n      console.debug(\"Bokeh: injecting link tag for BokehJS stylesheet: \", url);\n      document.body.appendChild(element);\n    }\n\n    for (let i = 0; i < js_urls.length; i++) {\n      const url = js_urls[i];\n      const element = document.createElement('script');\n      element.onload = on_load;\n      element.onerror = on_error.bind(null, url);\n      element.async = false;\n      element.src = url;\n      console.debug(\"Bokeh: injecting script tag for BokehJS library: \", url);\n      document.head.appendChild(element);\n    }\n  };\n\n  function inject_raw_css(css) {\n    const element = document.createElement(\"style\");\n    element.appendChild(document.createTextNode(css));\n    document.body.appendChild(element);\n  }\n\n  const js_urls = [\"https://cdn.bokeh.org/bokeh/release/bokeh-3.6.3.min.js\", \"https://cdn.bokeh.org/bokeh/release/bokeh-gl-3.6.3.min.js\", \"https://cdn.bokeh.org/bokeh/release/bokeh-widgets-3.6.3.min.js\", \"https://cdn.bokeh.org/bokeh/release/bokeh-tables-3.6.3.min.js\", \"https://cdn.bokeh.org/bokeh/release/bokeh-mathjax-3.6.3.min.js\"];\n  const css_urls = [];\n\n  const inline_js = [    function(Bokeh) {\n      Bokeh.set_log_level(\"info\");\n    },\nfunction(Bokeh) {\n    }\n  ];\n\n  function run_inline_js() {\n    if (root.Bokeh !== undefined || force === true) {\n      try {\n            for (let i = 0; i < inline_js.length; i++) {\n      inline_js[i].call(root, root.Bokeh);\n    }\n\n      } catch (error) {throw error;\n      }} else if (Date.now() < root._bokeh_timeout) {\n      setTimeout(run_inline_js, 100);\n    } else if (!root._bokeh_failed_load) {\n      console.log(\"Bokeh: BokehJS failed to load within specified timeout.\");\n      root._bokeh_failed_load = true;\n    } else if (force !== true) {\n      const cell = $(document.getElementById(null)).parents('.cell').data().cell;\n      cell.output_area.append_execute_result(NB_LOAD_WARNING)\n    }\n  }\n\n  if (root._bokeh_is_loading === 0) {\n    console.debug(\"Bokeh: BokehJS loaded, going straight to plotting\");\n    run_inline_js();\n  } else {\n    load_libs(css_urls, js_urls, function() {\n      console.debug(\"Bokeh: BokehJS plotting callback run at\", now());\n      run_inline_js();\n    });\n  }\n}(window));"
          },
          "metadata": {}
        },
        {
          "output_type": "display_data",
          "data": {
            "text/html": [
              "\n",
              "  <div id=\"c315b906-b71c-4abf-8b97-e12d5e77f4aa\" data-root-id=\"p1004\" style=\"display: contents;\"></div>\n"
            ]
          },
          "metadata": {}
        },
        {
          "output_type": "display_data",
          "data": {
            "application/javascript": [
              "(function(root) {\n",
              "  function embed_document(root) {\n",
              "  const docs_json = {\"94beaa74-13c5-4457-8e0a-a20e41b132a2\":{\"version\":\"3.6.3\",\"title\":\"Bokeh Application\",\"roots\":[{\"type\":\"object\",\"name\":\"Figure\",\"id\":\"p1004\",\"attributes\":{\"height\":400,\"x_range\":{\"type\":\"object\",\"name\":\"DataRange1d\",\"id\":\"p1005\"},\"y_range\":{\"type\":\"object\",\"name\":\"DataRange1d\",\"id\":\"p1006\"},\"x_scale\":{\"type\":\"object\",\"name\":\"LinearScale\",\"id\":\"p1013\"},\"y_scale\":{\"type\":\"object\",\"name\":\"LinearScale\",\"id\":\"p1014\"},\"title\":{\"type\":\"object\",\"name\":\"Title\",\"id\":\"p1011\"},\"renderers\":[{\"type\":\"object\",\"name\":\"GlyphRenderer\",\"id\":\"p1044\",\"attributes\":{\"data_source\":{\"type\":\"object\",\"name\":\"ColumnDataSource\",\"id\":\"p1001\",\"attributes\":{\"selected\":{\"type\":\"object\",\"name\":\"Selection\",\"id\":\"p1002\",\"attributes\":{\"indices\":[],\"line_indices\":[]}},\"selection_policy\":{\"type\":\"object\",\"name\":\"UnionRenderers\",\"id\":\"p1003\"},\"data\":{\"type\":\"map\",\"entries\":[[\"x\",{\"type\":\"ndarray\",\"array\":{\"type\":\"bytes\",\"data\":\"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\"},\"shape\":[5000],\"dtype\":\"float32\",\"order\":\"little\"}],[\"y\",{\"type\":\"ndarray\",\"array\":{\"type\":\"bytes\",\"data\":\"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\"},\"shape\":[5000],\"dtype\":\"float32\",\"order\":\"little\"}],[\"color\",[\"blue\",\"blue\",\"blue\",\"blue\",\"blue\",\"blue\",\"blue\",\"blue\",\"blue\",\"blue\",\"blue\",\"blue\",\"blue\",\"blue\",\"blue\",\"blue\",\"blue\",\"blue\",\"blue\",\"blue\",\"blue\",\"blue\",\"blue\",\"blue\",\"blue\",\"blue\",\"blue\",\"blue\",\"blue\",\"blue\",\"blue\",\"blue\",\"blue\",\"blue\",\"blue\",\"blue\",\"blue\",\"blue\",\"blue\",\"blue\",\"blue\",\"blue\",\"blue\",\"blue\",\"blue\",\"blue\",\"blue\",\"blue\",\"blue\",\"blue\",\"blue\",\"blue\",\"blue\",\"blue\",\"blue\",\"blue\",\"blue\",\"blue\",\"blue\",\"blue\",\"blue\",\"blue\",\"blue\",\"blue\",\"blue\",\"blue\",\"blue\",\"blue\",\"blue\",\"blue\",\"blue\",\"blue\",\"blue\",\"blue\",\"blue\",\"blue\",\"blue\",\"blue\",\"blue\",\"blue\",\"blue\",\"blue\",\"blue\",\"blue\",\"blue\",\"blue\",\"blue\",\"blue\",\"blue\",\"blue\",\"blue\",\"blue\",\"blue\",\"blue\",\"blue\",\"blue\",\"blue\",\"blue\",\"blue\",\"blue\",\"blue\",\"blue\",\"blue\",\"blue\",\"blue\",\"blue\",\"blue\",\"blue\",\"blue\",\"blue\",\"blue\",\"blue\",\"blue\",\"blue\",\"blue\",\"blue\",\"blue\",\"blue\",\"blue\",\"blue\",\"blue\",\"blue\",\"blue\",\"blue\",\"blue\",\"blue\",\"blue\",\"blue\",\"blue\",\"blue\",\"blue\",\"blue\",\"blue\",\"blue\",\"blue\",\"blue\",\"blue\",\"blue\",\"blue\",\"blue\",\"blue\",\"blue\",\"blue\",\"blue\",\"blue\",\"blue\",\"blue\",\"blue\",\"blue\",\"blue\",\"blue\",\"blue\",\"blue\",\"blue\",\"blue\",\"blue\",\"blue\",\"blue\",\"blue\",\"blue\",\"blue\",\"blue\",\"blue\",\"blue\",\"blue\",\"blue\",\"blue\",\"blue\",\"blue\",\"blue\",\"blue\",\"blue\",\"blue\",\"blue\",\"blue\",\"blue\",\"blue\",\"blue\",\"blue\",\"blue\",\"blue\",\"blue\",\"blue\",\"blue\",\"blue\",\"blue\",\"blue\",\"blue\",\"blue\",\"blue\",\"blue\",\"blue\",\"blue\",\"blue\",\"blue\",\"blue\",\"blue\",\"blue\",\"blue\",\"blue\",\"blue\",\"blue\",\"blue\",\"blue\",\"blue\",\"blue\",\"blue\",\"blue\",\"blue\",\"blue\",\"blue\",\"blue\",\"blue\",\"blue\",\"blue\",\"blue\",\"blue\",\"blue\",\"blue\",\"blue\",\"blue\",\"blue\",\"blue\",\"blue\",\"blue\",\"blue\",\"blue\",\"blue\",\"blue\",\"blue\",\"blue\",\"blue\",\"blue\",\"blue\",\"blue\",\"blue\",\"blue\",\"blue\",\"blue\",\"blue\",\"blue\",\"blue\",\"blue\",\"blue\",\"blue\",\"blue\",\"blue\",\"blue\",\"blue\",\"blue\",\"blue\",\"blue\",\"blue\",\"blue\",\"blue\",\"blue\",\"blue\",\"blue\",\"blue\",\"blue\",\"blue\",\"blue\",\"blue\",\"blue\",\"blue\",\"blue\",\"blue\",\"blue\",\"blue\",\"blue\",\"blue\",\"blue\",\"blue\",\"blue\",\"blue\",\"blue\",\"blue\",\"blue\",\"blue\",\"blue\",\"blue\",\"blue\",\"blue\",\"blue\",\"blue\",\"blue\",\"blue\",\"blue\",\"blue\",\"blue\",\"blue\",\"blue\",\"blue\",\"blue\",\"blue\",\"blue\",\"blue\",\"blue\",\"blue\",\"blue\",\"blue\",\"blue\",\"blue\",\"blue\",\"blue\",\"blue\",\"blue\",\"blue\",\"blue\",\"blue\",\"blue\",\"blue\",\"blue\",\"blue\",\"blue\",\"blue\",\"blue\",\"blue\",\"blue\",\"blue\",\"blue\",\"blue\",\"blue\",\"blue\",\"blue\",\"blue\",\"blue\",\"blue\",\"blue\",\"blue\",\"blue\",\"blue\",\"blue\",\"blue\",\"blue\",\"blue\",\"blue\",\"blue\",\"blue\",\"blue\",\"blue\",\"blue\",\"blue\",\"blue\",\"blue\",\"blue\",\"blue\",\"blue\",\"blue\",\"blue\",\"blue\",\"blue\",\"blue\",\"blue\",\"blue\",\"blue\",\"blue\",\"blue\",\"blue\",\"blue\",\"blue\",\"blue\",\"blue\",\"blue\",\"blue\",\"blue\",\"blue\",\"blue\",\"blue\",\"blue\",\"blue\",\"blue\",\"blue\",\"blue\",\"blue\",\"blue\",\"blue\",\"blue\",\"blue\",\"blue\",\"blue\",\"blue\",\"blue\",\"blue\",\"blue\",\"blue\",\"blue\",\"blue\",\"blue\",\"blue\",\"blue\",\"blue\",\"blue\",\"blue\",\"blue\",\"blue\",\"blue\",\"blue\",\"blue\",\"blue\",\"blue\",\"blue\",\"blue\",\"blue\",\"blue\",\"blue\",\"blue\",\"blue\",\"blue\",\"blue\",\"blue\",\"blue\",\"blue\",\"blue\",\"blue\",\"blue\",\"blue\",\"blue\",\"blue\",\"blue\",\"blue\",\"blue\",\"blue\",\"blue\",\"blue\",\"blue\",\"blue\",\"blue\",\"blue\",\"blue\",\"blue\",\"blue\",\"blue\",\"blue\",\"blue\",\"blue\",\"blue\",\"blue\",\"blue\",\"blue\",\"blue\",\"blue\",\"blue\",\"blue\",\"blue\",\"blue\",\"blue\",\"blue\",\"blue\",\"blue\",\"blue\",\"blue\",\"blue\",\"blue\",\"blue\",\"blue\",\"blue\",\"blue\",\"blue\",\"blue\",\"blue\",\"blue\",\"blue\",\"blue\",\"blue\",\"blue\",\"blue\",\"blue\",\"blue\",\"blue\",\"blue\",\"blue\",\"blue\",\"blue\",\"blue\",\"blue\",\"blue\",\"blue\",\"blue\",\"blue\",\"blue\",\"blue\",\"blue\",\"blue\",\"blue\",\"blue\",\"blue\",\"blue\",\"blue\",\"blue\",\"blue\",\"blue\",\"blue\",\"blue\",\"blue\",\"blue\",\"blue\",\"blue\",\"blue\",\"blue\",\"blue\",\"blue\",\"blue\",\"blue\",\"blue\",\"blue\",\"blue\",\"blue\",\"blue\",\"blue\",\"blue\",\"blue\",\"blue\",\"blue\",\"blue\",\"blue\",\"blue\",\"blue\",\"blue\",\"blue\",\"blue\",\"blue\",\"blue\",\"blue\",\"blue\",\"blue\",\"blue\",\"blue\",\"blue\",\"blue\",\"blue\",\"blue\",\"blue\",\"blue\",\"blue\",\"blue\",\"blue\",\"blue\",\"blue\",\"blue\",\"blue\",\"blue\",\"blue\",\"blue\",\"blue\",\"blue\",\"blue\",\"blue\",\"blue\",\"blue\",\"blue\",\"blue\",\"blue\",\"blue\",\"blue\",\"blue\",\"blue\",\"blue\",\"blue\",\"blue\",\"blue\",\"blue\",\"blue\",\"blue\",\"blue\",\"blue\",\"blue\",\"blue\",\"blue\",\"blue\",\"blue\",\"blue\",\"blue\",\"blue\",\"blue\",\"blue\",\"blue\",\"blue\",\"blue\",\"blue\",\"blue\",\"blue\",\"blue\",\"blue\",\"blue\",\"blue\",\"blue\",\"blue\",\"blue\",\"blue\",\"blue\",\"blue\",\"blue\",\"blue\",\"blue\",\"blue\",\"blue\",\"blue\",\"blue\",\"blue\",\"blue\",\"blue\",\"blue\",\"blue\",\"blue\",\"blue\",\"blue\",\"blue\",\"blue\",\"blue\",\"blue\",\"blue\",\"blue\",\"blue\",\"blue\",\"blue\",\"blue\",\"blue\",\"blue\",\"blue\",\"blue\",\"blue\",\"blue\",\"blue\",\"blue\",\"blue\",\"blue\",\"blue\",\"blue\",\"blue\",\"blue\",\"blue\",\"blue\",\"blue\",\"blue\",\"blue\",\"blue\",\"blue\",\"blue\",\"blue\",\"blue\",\"blue\",\"blue\",\"blue\",\"blue\",\"blue\",\"blue\",\"blue\",\"blue\",\"blue\",\"blue\",\"blue\",\"blue\",\"blue\",\"blue\",\"blue\",\"blue\",\"blue\",\"blue\",\"blue\",\"blue\",\"blue\",\"blue\",\"blue\",\"blue\",\"blue\",\"blue\",\"blue\",\"blue\",\"blue\",\"blue\",\"blue\",\"blue\",\"blue\",\"blue\",\"blue\",\"blue\",\"blue\",\"blue\",\"blue\",\"blue\",\"blue\",\"blue\",\"blue\",\"blue\",\"blue\",\"blue\",\"blue\",\"blue\",\"blue\",\"blue\",\"blue\",\"blue\",\"blue\",\"blue\",\"blue\",\"blue\",\"blue\",\"blue\",\"blue\",\"blue\",\"blue\",\"blue\",\"blue\",\"blue\",\"blue\",\"blue\",\"blue\",\"blue\",\"blue\",\"blue\",\"blue\",\"blue\",\"blue\",\"blue\",\"blue\",\"blue\",\"blue\",\"blue\",\"blue\",\"blue\",\"blue\",\"blue\",\"blue\",\"blue\",\"blue\",\"blue\",\"blue\",\"blue\",\"blue\",\"blue\",\"blue\",\"blue\",\"blue\",\"blue\",\"blue\",\"blue\",\"blue\",\"blue\",\"blue\",\"blue\",\"blue\",\"blue\",\"blue\",\"blue\",\"blue\",\"blue\",\"blue\",\"blue\",\"blue\",\"blue\",\"blue\",\"blue\",\"blue\",\"blue\",\"blue\",\"blue\",\"blue\",\"blue\",\"blue\",\"blue\",\"blue\",\"blue\",\"blue\",\"blue\",\"blue\",\"blue\",\"blue\",\"blue\",\"blue\",\"blue\",\"blue\",\"blue\",\"blue\",\"blue\",\"blue\",\"blue\",\"blue\",\"blue\",\"blue\",\"blue\",\"blue\",\"blue\",\"blue\",\"blue\",\"blue\",\"blue\",\"blue\",\"blue\",\"blue\",\"blue\",\"blue\",\"blue\",\"blue\",\"blue\",\"blue\",\"blue\",\"blue\",\"blue\",\"blue\",\"blue\",\"blue\",\"blue\",\"blue\",\"blue\",\"blue\",\"blue\",\"blue\",\"blue\",\"blue\",\"blue\",\"blue\",\"blue\",\"blue\",\"blue\",\"blue\",\"blue\",\"blue\",\"blue\",\"blue\",\"blue\",\"blue\",\"blue\",\"blue\",\"blue\",\"blue\",\"blue\",\"blue\",\"blue\",\"blue\",\"blue\",\"blue\",\"blue\",\"blue\",\"blue\",\"blue\",\"blue\",\"blue\",\"blue\",\"blue\",\"blue\",\"blue\",\"blue\",\"blue\",\"blue\",\"blue\",\"blue\",\"blue\",\"blue\",\"blue\",\"blue\",\"blue\",\"blue\",\"blue\",\"blue\",\"blue\",\"blue\",\"blue\",\"blue\",\"blue\",\"blue\",\"blue\",\"blue\",\"blue\",\"blue\",\"blue\",\"blue\",\"blue\",\"blue\",\"blue\",\"blue\",\"blue\",\"blue\",\"blue\",\"blue\",\"blue\",\"blue\",\"blue\",\"blue\",\"blue\",\"blue\",\"blue\",\"blue\",\"blue\",\"blue\",\"blue\",\"blue\",\"blue\",\"blue\",\"blue\",\"blue\",\"blue\",\"blue\",\"blue\",\"blue\",\"blue\",\"blue\",\"blue\",\"blue\",\"blue\",\"blue\",\"blue\",\"blue\",\"blue\",\"blue\",\"blue\",\"blue\",\"blue\",\"blue\",\"blue\",\"blue\",\"blue\",\"blue\",\"blue\",\"blue\",\"blue\",\"blue\",\"blue\",\"blue\",\"blue\",\"blue\",\"blue\",\"blue\",\"blue\",\"blue\",\"blue\",\"blue\",\"blue\",\"blue\",\"blue\",\"blue\",\"blue\",\"blue\",\"blue\",\"blue\",\"blue\",\"blue\",\"blue\",\"blue\",\"blue\",\"blue\",\"blue\",\"blue\",\"blue\",\"blue\",\"blue\",\"blue\",\"blue\",\"blue\",\"blue\",\"blue\",\"blue\",\"blue\",\"blue\",\"blue\",\"blue\",\"blue\",\"blue\",\"blue\",\"blue\",\"blue\",\"blue\",\"blue\",\"blue\",\"blue\",\"blue\",\"blue\",\"blue\",\"blue\",\"blue\",\"blue\",\"blue\",\"blue\",\"blue\",\"blue\",\"blue\",\"blue\",\"blue\",\"blue\",\"blue\",\"blue\",\"blue\",\"blue\",\"blue\",\"blue\",\"blue\",\"blue\",\"blue\",\"blue\",\"blue\",\"blue\",\"blue\",\"blue\",\"blue\",\"blue\",\"blue\",\"blue\",\"blue\",\"blue\",\"blue\",\"blue\",\"blue\",\"blue\",\"blue\",\"blue\",\"blue\",\"blue\",\"blue\",\"blue\",\"blue\",\"blue\",\"blue\",\"blue\",\"blue\",\"blue\",\"blue\",\"blue\",\"blue\",\"blue\",\"blue\",\"blue\",\"blue\",\"blue\",\"blue\",\"blue\",\"blue\",\"blue\",\"blue\",\"blue\",\"blue\",\"blue\",\"blue\",\"blue\",\"blue\",\"blue\",\"blue\",\"blue\",\"blue\",\"blue\",\"blue\",\"blue\",\"blue\",\"blue\",\"blue\",\"blue\",\"blue\",\"blue\",\"blue\",\"blue\",\"blue\",\"blue\",\"blue\",\"blue\",\"blue\",\"blue\",\"blue\",\"blue\",\"blue\",\"blue\",\"blue\",\"blue\",\"blue\",\"blue\",\"blue\",\"blue\",\"blue\",\"blue\",\"blue\",\"blue\",\"blue\",\"blue\",\"blue\",\"blue\",\"blue\",\"blue\",\"blue\",\"blue\",\"blue\",\"blue\",\"blue\",\"blue\",\"blue\",\"blue\",\"blue\",\"blue\",\"blue\",\"blue\",\"blue\",\"blue\",\"blue\",\"blue\",\"blue\",\"blue\",\"blue\",\"blue\",\"blue\",\"blue\",\"blue\",\"blue\",\"blue\",\"blue\",\"blue\",\"blue\",\"blue\",\"blue\",\"blue\",\"blue\",\"blue\",\"blue\",\"blue\",\"blue\",\"blue\",\"blue\",\"blue\",\"blue\",\"blue\",\"blue\",\"blue\",\"blue\",\"blue\",\"blue\",\"blue\",\"blue\",\"blue\",\"blue\",\"blue\",\"blue\",\"blue\",\"blue\",\"blue\",\"blue\",\"blue\",\"blue\",\"blue\",\"blue\",\"blue\",\"blue\",\"blue\",\"blue\",\"blue\",\"blue\",\"blue\",\"blue\",\"blue\",\"blue\",\"blue\",\"blue\",\"blue\",\"blue\",\"blue\",\"blue\",\"blue\",\"blue\",\"blue\",\"blue\",\"blue\",\"blue\",\"blue\",\"blue\",\"blue\",\"blue\",\"blue\",\"blue\",\"blue\",\"blue\",\"blue\",\"blue\",\"blue\",\"blue\",\"blue\",\"blue\",\"blue\",\"blue\",\"blue\",\"blue\",\"blue\",\"blue\",\"blue\",\"blue\",\"blue\",\"blue\",\"blue\",\"blue\",\"blue\",\"blue\",\"blue\",\"blue\",\"blue\",\"blue\",\"blue\",\"blue\",\"blue\",\"blue\",\"blue\",\"blue\",\"blue\",\"blue\",\"blue\",\"blue\",\"blue\",\"blue\",\"blue\",\"blue\",\"blue\",\"blue\",\"blue\",\"blue\",\"blue\",\"blue\",\"blue\",\"blue\",\"blue\",\"blue\",\"blue\",\"blue\",\"blue\",\"blue\",\"blue\",\"blue\",\"blue\",\"blue\",\"blue\",\"blue\",\"blue\",\"blue\",\"blue\",\"blue\",\"blue\",\"blue\",\"blue\",\"blue\",\"blue\",\"blue\",\"blue\",\"blue\",\"blue\",\"blue\",\"blue\",\"blue\",\"blue\",\"blue\",\"blue\",\"blue\",\"blue\",\"blue\",\"blue\",\"blue\",\"blue\",\"blue\",\"blue\",\"blue\",\"blue\",\"blue\",\"blue\",\"blue\",\"blue\",\"blue\",\"blue\",\"blue\",\"blue\",\"blue\",\"blue\",\"blue\",\"blue\",\"blue\",\"blue\",\"blue\",\"blue\",\"blue\",\"blue\",\"blue\",\"blue\",\"blue\",\"blue\",\"blue\",\"blue\",\"blue\",\"blue\",\"blue\",\"blue\",\"blue\",\"blue\",\"blue\",\"blue\",\"blue\",\"blue\",\"blue\",\"blue\",\"blue\",\"blue\",\"blue\",\"blue\",\"blue\",\"blue\",\"blue\",\"blue\",\"blue\",\"blue\",\"blue\",\"blue\",\"blue\",\"blue\",\"blue\",\"blue\",\"blue\",\"blue\",\"blue\",\"blue\",\"blue\",\"blue\",\"blue\",\"blue\",\"blue\",\"blue\",\"blue\",\"blue\",\"blue\",\"blue\",\"blue\",\"blue\",\"blue\",\"blue\",\"blue\",\"blue\",\"blue\",\"blue\",\"blue\",\"blue\",\"blue\",\"blue\",\"blue\",\"blue\",\"blue\",\"blue\",\"blue\",\"blue\",\"blue\",\"blue\",\"blue\",\"blue\",\"blue\",\"blue\",\"blue\",\"blue\",\"blue\",\"blue\",\"blue\",\"blue\",\"blue\",\"blue\",\"blue\",\"blue\",\"blue\",\"blue\",\"blue\",\"blue\",\"blue\",\"blue\",\"blue\",\"blue\",\"blue\",\"blue\",\"blue\",\"blue\",\"blue\",\"blue\",\"blue\",\"blue\",\"blue\",\"blue\",\"blue\",\"blue\",\"blue\",\"blue\",\"blue\",\"blue\",\"blue\",\"blue\",\"blue\",\"blue\",\"blue\",\"blue\",\"blue\",\"blue\",\"blue\",\"blue\",\"blue\",\"blue\",\"blue\",\"blue\",\"blue\",\"blue\",\"blue\",\"blue\",\"blue\",\"blue\",\"blue\",\"blue\",\"blue\",\"blue\",\"blue\",\"blue\",\"blue\",\"blue\",\"blue\",\"blue\",\"blue\",\"blue\",\"blue\",\"blue\",\"blue\",\"blue\",\"blue\",\"blue\",\"blue\",\"blue\",\"blue\",\"blue\",\"blue\",\"blue\",\"blue\",\"blue\",\"blue\",\"blue\",\"blue\",\"blue\",\"blue\",\"blue\",\"blue\",\"blue\",\"blue\",\"blue\",\"blue\",\"blue\",\"blue\",\"blue\",\"blue\",\"blue\",\"blue\",\"blue\",\"blue\",\"blue\",\"blue\",\"blue\",\"blue\",\"blue\",\"blue\",\"blue\",\"blue\",\"blue\",\"blue\",\"blue\",\"blue\",\"blue\",\"blue\",\"blue\",\"blue\",\"blue\",\"blue\",\"blue\",\"blue\",\"blue\",\"blue\",\"blue\",\"blue\",\"blue\",\"blue\",\"blue\",\"blue\",\"blue\",\"blue\",\"blue\",\"blue\",\"blue\",\"blue\",\"blue\",\"blue\",\"blue\",\"blue\",\"blue\",\"blue\",\"blue\",\"blue\",\"blue\",\"blue\",\"blue\",\"blue\",\"blue\",\"blue\",\"blue\",\"blue\",\"blue\",\"blue\",\"blue\",\"blue\",\"blue\",\"blue\",\"blue\",\"blue\",\"blue\",\"blue\",\"blue\",\"blue\",\"blue\",\"blue\",\"blue\",\"blue\",\"blue\",\"blue\",\"blue\",\"blue\",\"blue\",\"blue\",\"blue\",\"blue\",\"blue\",\"blue\",\"blue\",\"blue\",\"blue\",\"blue\",\"blue\",\"blue\",\"blue\",\"blue\",\"blue\",\"blue\",\"blue\",\"blue\",\"blue\",\"blue\",\"blue\",\"blue\",\"blue\",\"blue\",\"blue\",\"blue\",\"blue\",\"blue\",\"blue\",\"blue\",\"blue\",\"blue\",\"blue\",\"blue\",\"blue\",\"blue\",\"blue\",\"blue\",\"blue\",\"blue\",\"blue\",\"blue\",\"blue\",\"blue\",\"blue\",\"blue\",\"blue\",\"blue\",\"blue\",\"blue\",\"blue\",\"blue\",\"blue\",\"blue\",\"blue\",\"blue\",\"blue\",\"blue\",\"blue\",\"blue\",\"blue\",\"blue\",\"blue\",\"blue\",\"blue\",\"blue\",\"blue\",\"blue\",\"blue\",\"blue\",\"blue\",\"blue\",\"blue\",\"blue\",\"blue\",\"blue\",\"blue\",\"blue\",\"blue\",\"blue\",\"blue\",\"blue\",\"blue\",\"blue\",\"blue\",\"blue\",\"blue\",\"blue\",\"blue\",\"blue\",\"blue\",\"blue\",\"blue\",\"blue\",\"blue\",\"blue\",\"blue\",\"blue\",\"blue\",\"blue\",\"blue\",\"blue\",\"blue\",\"blue\",\"blue\",\"blue\",\"blue\",\"blue\",\"blue\",\"blue\",\"blue\",\"blue\",\"blue\",\"blue\",\"blue\",\"blue\",\"blue\",\"blue\",\"blue\",\"blue\",\"blue\",\"blue\",\"blue\",\"blue\",\"blue\",\"blue\",\"blue\",\"blue\",\"blue\",\"blue\",\"blue\",\"blue\",\"blue\",\"blue\",\"blue\",\"blue\",\"blue\",\"blue\",\"blue\",\"blue\",\"blue\",\"blue\",\"blue\",\"blue\",\"blue\",\"blue\",\"blue\",\"blue\",\"blue\",\"blue\",\"blue\",\"blue\",\"blue\",\"blue\",\"blue\",\"blue\",\"blue\",\"blue\",\"blue\",\"blue\",\"blue\",\"blue\",\"blue\",\"blue\",\"blue\",\"blue\",\"blue\",\"blue\",\"blue\",\"blue\",\"blue\",\"blue\",\"blue\",\"blue\",\"blue\",\"blue\",\"blue\",\"blue\",\"blue\",\"blue\",\"blue\",\"blue\",\"blue\",\"blue\",\"blue\",\"blue\",\"blue\",\"blue\",\"blue\",\"blue\",\"blue\",\"blue\",\"blue\",\"blue\",\"blue\",\"blue\",\"blue\",\"blue\",\"blue\",\"blue\",\"blue\",\"blue\",\"blue\",\"blue\",\"blue\",\"blue\",\"blue\",\"blue\",\"blue\",\"blue\",\"blue\",\"blue\",\"blue\",\"blue\",\"blue\",\"blue\",\"blue\",\"blue\",\"blue\",\"blue\",\"blue\",\"blue\",\"blue\",\"blue\",\"blue\",\"blue\",\"blue\",\"blue\",\"blue\",\"blue\",\"blue\",\"blue\",\"blue\",\"blue\",\"blue\",\"blue\",\"blue\",\"blue\",\"blue\",\"blue\",\"blue\",\"blue\",\"blue\",\"blue\",\"blue\",\"blue\",\"blue\",\"blue\",\"blue\",\"blue\",\"blue\",\"blue\",\"blue\",\"blue\",\"blue\",\"blue\",\"blue\",\"blue\",\"blue\",\"blue\",\"blue\",\"blue\",\"blue\",\"blue\",\"blue\",\"blue\",\"blue\",\"blue\",\"blue\",\"blue\",\"blue\",\"blue\",\"blue\",\"blue\",\"blue\",\"blue\",\"blue\",\"blue\",\"blue\",\"blue\",\"blue\",\"blue\",\"blue\",\"blue\",\"blue\",\"blue\",\"blue\",\"blue\",\"blue\",\"blue\",\"blue\",\"blue\",\"blue\",\"blue\",\"blue\",\"blue\",\"blue\",\"blue\",\"blue\",\"blue\",\"blue\",\"blue\",\"blue\",\"blue\",\"blue\",\"blue\",\"blue\",\"blue\",\"blue\",\"blue\",\"blue\",\"blue\",\"blue\",\"blue\",\"blue\",\"blue\",\"blue\",\"blue\",\"blue\",\"blue\",\"blue\",\"blue\",\"blue\",\"blue\",\"blue\",\"blue\",\"blue\",\"blue\",\"blue\",\"blue\",\"blue\",\"blue\",\"blue\",\"blue\",\"blue\",\"blue\",\"blue\",\"blue\",\"blue\",\"blue\",\"blue\",\"blue\",\"blue\",\"blue\",\"blue\",\"blue\",\"blue\",\"blue\",\"blue\",\"blue\",\"blue\",\"blue\",\"blue\",\"blue\",\"blue\",\"blue\",\"blue\",\"blue\",\"blue\",\"blue\",\"blue\",\"blue\",\"blue\",\"blue\",\"blue\",\"blue\",\"blue\",\"blue\",\"blue\",\"blue\",\"blue\",\"blue\",\"blue\",\"blue\",\"blue\",\"blue\",\"blue\",\"blue\",\"blue\",\"blue\",\"blue\",\"blue\",\"blue\",\"blue\",\"blue\",\"blue\",\"blue\",\"blue\",\"blue\",\"blue\",\"blue\",\"blue\",\"blue\",\"blue\",\"blue\",\"blue\",\"blue\",\"blue\",\"blue\",\"blue\",\"blue\",\"blue\",\"blue\",\"blue\",\"blue\",\"blue\",\"blue\",\"blue\",\"blue\",\"blue\",\"blue\",\"blue\",\"blue\",\"blue\",\"blue\",\"blue\",\"blue\",\"blue\",\"blue\",\"blue\",\"blue\",\"blue\",\"blue\",\"blue\",\"blue\",\"blue\",\"blue\",\"blue\",\"blue\",\"blue\",\"blue\",\"blue\",\"blue\",\"blue\",\"blue\",\"blue\",\"blue\",\"blue\",\"blue\",\"blue\",\"blue\",\"blue\",\"blue\",\"blue\",\"blue\",\"blue\",\"blue\",\"blue\",\"blue\",\"blue\",\"blue\",\"blue\",\"blue\",\"blue\",\"blue\",\"blue\",\"blue\",\"blue\",\"blue\",\"blue\",\"blue\",\"blue\",\"blue\",\"blue\",\"blue\",\"blue\",\"blue\",\"blue\",\"blue\",\"blue\",\"blue\",\"blue\",\"blue\",\"blue\",\"blue\",\"blue\",\"blue\",\"blue\",\"blue\",\"blue\",\"blue\",\"blue\",\"blue\",\"blue\",\"blue\",\"blue\",\"blue\",\"blue\",\"blue\",\"blue\",\"blue\",\"blue\",\"blue\",\"blue\",\"blue\",\"blue\",\"blue\",\"blue\",\"blue\",\"blue\",\"blue\",\"blue\",\"blue\",\"blue\",\"blue\",\"blue\",\"blue\",\"blue\",\"blue\",\"blue\",\"blue\",\"blue\",\"blue\",\"blue\",\"blue\",\"blue\",\"blue\",\"blue\",\"blue\",\"blue\",\"blue\",\"blue\",\"blue\",\"blue\",\"blue\",\"blue\",\"blue\",\"blue\",\"blue\",\"blue\",\"blue\",\"blue\",\"blue\",\"blue\",\"blue\",\"blue\",\"blue\",\"blue\",\"blue\",\"blue\",\"blue\",\"blue\",\"blue\",\"blue\",\"blue\",\"blue\",\"blue\",\"blue\",\"blue\",\"blue\",\"blue\",\"blue\",\"blue\",\"blue\",\"blue\",\"blue\",\"blue\",\"blue\",\"blue\",\"blue\",\"blue\",\"blue\",\"blue\",\"blue\",\"blue\",\"blue\",\"blue\",\"blue\",\"blue\",\"blue\",\"blue\",\"blue\",\"blue\",\"blue\",\"blue\",\"blue\",\"blue\",\"blue\",\"blue\",\"blue\",\"blue\",\"blue\",\"blue\",\"blue\",\"blue\",\"blue\",\"blue\",\"blue\",\"blue\",\"blue\",\"blue\",\"blue\",\"blue\",\"blue\",\"blue\",\"blue\",\"blue\",\"blue\",\"blue\",\"blue\",\"blue\",\"blue\",\"blue\",\"blue\",\"blue\",\"blue\",\"blue\",\"blue\",\"blue\",\"blue\",\"blue\",\"blue\",\"blue\",\"blue\",\"blue\",\"blue\",\"blue\",\"blue\",\"blue\",\"blue\",\"blue\",\"blue\",\"blue\",\"blue\",\"blue\",\"blue\",\"blue\",\"blue\",\"blue\",\"blue\",\"blue\",\"blue\",\"blue\",\"blue\",\"blue\",\"blue\",\"blue\",\"blue\",\"blue\",\"blue\",\"blue\",\"blue\",\"blue\",\"blue\",\"blue\",\"blue\",\"blue\",\"blue\",\"blue\",\"blue\",\"blue\",\"blue\",\"blue\",\"blue\",\"blue\",\"blue\",\"blue\",\"blue\",\"blue\",\"blue\",\"blue\",\"blue\",\"blue\",\"blue\",\"blue\",\"blue\",\"blue\",\"blue\",\"blue\",\"blue\",\"blue\",\"blue\",\"blue\",\"blue\",\"blue\",\"blue\",\"blue\",\"blue\",\"blue\",\"blue\",\"blue\",\"blue\",\"blue\",\"blue\",\"blue\",\"blue\",\"blue\",\"blue\",\"blue\",\"blue\",\"blue\",\"blue\",\"blue\",\"blue\",\"blue\",\"blue\",\"blue\",\"blue\",\"blue\",\"blue\",\"blue\",\"blue\",\"blue\",\"blue\",\"blue\",\"blue\",\"blue\",\"blue\",\"blue\",\"blue\",\"blue\",\"blue\",\"blue\",\"blue\",\"blue\",\"blue\",\"blue\",\"blue\",\"blue\",\"blue\",\"blue\",\"blue\",\"blue\",\"blue\",\"blue\",\"blue\",\"blue\",\"blue\",\"blue\",\"blue\",\"blue\",\"blue\",\"blue\",\"blue\",\"blue\",\"blue\",\"blue\",\"blue\",\"blue\",\"blue\",\"blue\",\"blue\",\"blue\",\"blue\",\"blue\",\"blue\",\"blue\",\"blue\",\"blue\",\"blue\",\"blue\",\"blue\",\"blue\",\"blue\",\"blue\",\"blue\",\"blue\",\"blue\",\"blue\",\"blue\",\"blue\",\"blue\",\"blue\",\"blue\",\"blue\",\"blue\",\"blue\",\"blue\",\"blue\",\"blue\",\"blue\",\"blue\",\"blue\",\"blue\",\"blue\",\"blue\",\"blue\",\"blue\",\"blue\",\"blue\",\"blue\",\"blue\",\"blue\",\"blue\",\"blue\",\"blue\",\"blue\",\"blue\",\"blue\",\"blue\",\"blue\",\"blue\",\"blue\",\"blue\",\"blue\",\"blue\",\"blue\",\"blue\",\"blue\",\"blue\",\"blue\",\"blue\",\"blue\",\"blue\",\"blue\",\"blue\",\"blue\",\"blue\",\"blue\",\"blue\",\"blue\",\"blue\",\"blue\",\"blue\",\"blue\",\"blue\",\"blue\",\"blue\",\"blue\",\"blue\",\"blue\",\"blue\",\"blue\",\"blue\",\"blue\",\"blue\",\"blue\",\"blue\",\"blue\",\"blue\",\"blue\",\"blue\",\"blue\",\"blue\",\"blue\",\"blue\",\"blue\",\"blue\",\"blue\",\"blue\",\"blue\",\"blue\",\"blue\",\"blue\",\"blue\",\"blue\",\"blue\",\"blue\",\"blue\",\"blue\",\"blue\",\"blue\",\"blue\",\"blue\",\"blue\",\"blue\",\"blue\",\"blue\",\"blue\",\"blue\",\"blue\",\"blue\",\"blue\",\"blue\",\"blue\",\"blue\",\"blue\",\"blue\",\"blue\",\"blue\",\"blue\",\"blue\",\"blue\",\"blue\",\"blue\",\"blue\",\"blue\",\"blue\",\"blue\",\"blue\",\"blue\",\"blue\",\"blue\",\"blue\",\"blue\",\"blue\",\"blue\",\"blue\",\"blue\",\"blue\",\"blue\",\"blue\",\"blue\",\"blue\",\"blue\",\"blue\",\"blue\",\"blue\",\"blue\",\"blue\",\"blue\",\"blue\",\"blue\",\"blue\",\"blue\",\"blue\",\"blue\",\"blue\",\"blue\",\"blue\",\"blue\",\"blue\",\"blue\",\"blue\",\"blue\",\"blue\",\"blue\",\"blue\",\"blue\",\"blue\",\"blue\",\"blue\",\"blue\",\"blue\",\"blue\",\"blue\",\"blue\",\"blue\",\"blue\",\"blue\",\"blue\",\"blue\",\"blue\",\"blue\",\"blue\",\"blue\",\"blue\",\"blue\",\"blue\",\"blue\",\"blue\",\"blue\",\"blue\",\"blue\",\"blue\",\"blue\",\"blue\",\"blue\",\"blue\",\"blue\",\"blue\",\"blue\",\"blue\",\"blue\",\"blue\",\"blue\",\"blue\",\"blue\",\"blue\",\"blue\",\"blue\",\"blue\",\"blue\",\"blue\",\"blue\",\"blue\",\"blue\",\"blue\",\"blue\",\"blue\",\"blue\",\"blue\",\"blue\",\"blue\",\"blue\",\"blue\",\"blue\",\"blue\",\"blue\",\"blue\",\"blue\",\"blue\",\"blue\",\"blue\",\"blue\",\"blue\",\"blue\",\"blue\",\"blue\",\"blue\",\"blue\",\"blue\",\"blue\",\"blue\",\"blue\",\"blue\",\"blue\",\"blue\",\"blue\",\"blue\",\"blue\",\"blue\",\"blue\",\"blue\",\"blue\",\"blue\",\"blue\",\"blue\",\"blue\",\"blue\",\"blue\",\"blue\",\"blue\",\"blue\",\"blue\",\"blue\",\"blue\",\"blue\",\"blue\",\"blue\",\"blue\",\"blue\",\"blue\",\"blue\",\"blue\",\"blue\",\"blue\",\"blue\",\"blue\",\"blue\",\"blue\",\"blue\",\"blue\",\"blue\",\"blue\",\"blue\",\"blue\",\"blue\",\"blue\",\"blue\",\"blue\",\"blue\",\"blue\",\"blue\",\"blue\",\"blue\",\"blue\",\"blue\",\"blue\",\"blue\",\"blue\",\"blue\",\"blue\",\"blue\",\"blue\",\"blue\",\"blue\",\"blue\",\"blue\",\"blue\",\"blue\",\"blue\",\"blue\",\"blue\",\"blue\",\"blue\",\"blue\",\"blue\",\"blue\",\"blue\",\"blue\",\"blue\",\"blue\",\"blue\",\"blue\",\"blue\",\"blue\",\"blue\",\"blue\",\"blue\",\"blue\",\"blue\",\"blue\",\"blue\",\"blue\",\"blue\",\"blue\",\"blue\",\"blue\",\"blue\",\"blue\",\"blue\",\"blue\",\"blue\",\"blue\",\"blue\",\"blue\",\"blue\",\"blue\",\"blue\",\"blue\",\"blue\",\"blue\",\"blue\",\"blue\",\"blue\",\"blue\",\"blue\",\"blue\",\"blue\",\"blue\",\"blue\",\"blue\",\"blue\",\"blue\",\"blue\",\"blue\",\"blue\",\"blue\",\"blue\",\"blue\",\"blue\",\"blue\",\"blue\",\"blue\",\"blue\",\"blue\",\"blue\",\"blue\",\"blue\",\"blue\",\"blue\",\"blue\",\"blue\",\"blue\",\"blue\",\"blue\",\"blue\",\"blue\",\"blue\",\"blue\",\"blue\",\"blue\",\"blue\",\"blue\",\"blue\",\"blue\",\"blue\",\"blue\",\"blue\",\"blue\",\"blue\",\"blue\",\"blue\",\"blue\",\"blue\",\"blue\",\"blue\",\"blue\",\"blue\",\"blue\",\"blue\",\"blue\",\"blue\",\"blue\",\"blue\",\"blue\",\"blue\",\"blue\",\"blue\",\"blue\",\"blue\",\"blue\",\"blue\",\"blue\",\"blue\",\"blue\",\"blue\",\"blue\",\"blue\",\"blue\",\"blue\",\"blue\",\"blue\",\"blue\",\"blue\",\"blue\",\"blue\",\"blue\",\"blue\",\"blue\",\"blue\",\"blue\",\"blue\",\"blue\",\"blue\",\"blue\",\"blue\",\"blue\",\"blue\",\"blue\",\"blue\",\"blue\",\"blue\",\"blue\",\"blue\",\"blue\",\"blue\",\"blue\",\"blue\",\"blue\",\"blue\",\"blue\",\"blue\",\"blue\",\"blue\",\"blue\",\"blue\",\"blue\",\"blue\",\"blue\",\"blue\",\"blue\",\"blue\",\"blue\",\"blue\",\"blue\",\"blue\",\"blue\",\"blue\",\"blue\",\"blue\",\"blue\",\"blue\",\"blue\",\"blue\",\"blue\",\"blue\",\"blue\",\"blue\",\"blue\",\"blue\",\"blue\",\"blue\",\"blue\",\"blue\",\"blue\",\"blue\",\"blue\",\"blue\",\"blue\",\"blue\",\"blue\",\"blue\",\"blue\",\"blue\",\"blue\",\"blue\",\"blue\",\"blue\",\"blue\",\"blue\",\"blue\",\"blue\",\"blue\",\"blue\",\"blue\",\"blue\",\"blue\",\"blue\",\"blue\",\"blue\",\"blue\",\"blue\",\"blue\",\"blue\",\"blue\",\"blue\",\"blue\",\"blue\",\"blue\",\"blue\",\"blue\",\"blue\",\"blue\",\"blue\",\"blue\",\"blue\",\"blue\",\"blue\",\"blue\",\"blue\",\"blue\",\"blue\",\"blue\",\"blue\",\"blue\",\"blue\",\"blue\",\"blue\",\"blue\",\"blue\",\"blue\",\"blue\",\"blue\",\"blue\",\"blue\",\"blue\",\"blue\",\"blue\",\"blue\",\"blue\",\"blue\",\"blue\",\"blue\",\"blue\",\"blue\",\"blue\",\"blue\",\"blue\",\"blue\",\"blue\",\"blue\",\"blue\",\"blue\",\"blue\",\"blue\",\"blue\",\"blue\",\"blue\",\"blue\",\"blue\",\"blue\",\"blue\",\"blue\",\"blue\",\"blue\",\"blue\",\"blue\",\"blue\",\"blue\",\"blue\",\"blue\",\"blue\",\"blue\",\"blue\",\"blue\",\"blue\",\"blue\",\"blue\",\"blue\",\"blue\",\"blue\",\"blue\",\"blue\",\"blue\",\"blue\",\"blue\",\"blue\",\"blue\",\"blue\",\"blue\",\"blue\",\"blue\",\"blue\",\"blue\",\"blue\",\"blue\",\"blue\",\"blue\",\"blue\",\"blue\",\"blue\",\"blue\",\"blue\",\"blue\",\"blue\",\"blue\",\"blue\",\"blue\",\"blue\",\"blue\",\"blue\",\"blue\",\"blue\",\"blue\",\"blue\",\"blue\",\"blue\",\"blue\",\"blue\",\"blue\",\"blue\",\"blue\",\"blue\",\"blue\",\"blue\",\"blue\",\"blue\",\"blue\",\"blue\",\"blue\",\"blue\",\"blue\",\"blue\",\"blue\",\"blue\",\"blue\",\"blue\",\"blue\",\"blue\",\"blue\",\"blue\",\"blue\",\"blue\",\"blue\",\"blue\",\"blue\",\"blue\",\"blue\",\"blue\",\"blue\",\"blue\",\"blue\",\"blue\",\"blue\",\"blue\",\"blue\",\"blue\",\"blue\",\"blue\",\"blue\",\"blue\",\"blue\",\"blue\",\"blue\",\"blue\",\"blue\",\"blue\",\"blue\",\"blue\",\"blue\",\"blue\",\"blue\",\"blue\",\"blue\",\"blue\",\"blue\",\"blue\",\"blue\",\"blue\",\"blue\",\"blue\",\"blue\",\"blue\",\"blue\",\"blue\",\"blue\",\"blue\",\"blue\",\"blue\",\"blue\",\"blue\",\"blue\",\"blue\",\"blue\",\"blue\",\"blue\",\"blue\",\"blue\",\"blue\",\"blue\",\"blue\",\"blue\",\"blue\",\"blue\",\"blue\",\"blue\",\"blue\",\"blue\",\"blue\",\"blue\",\"blue\",\"blue\",\"blue\",\"blue\",\"blue\",\"blue\",\"blue\",\"blue\",\"blue\",\"blue\",\"blue\",\"blue\",\"blue\",\"blue\",\"blue\",\"blue\",\"blue\",\"blue\",\"blue\",\"blue\",\"blue\",\"blue\",\"blue\",\"blue\",\"blue\",\"blue\",\"blue\",\"blue\",\"blue\",\"blue\",\"blue\",\"blue\",\"blue\",\"blue\",\"blue\",\"blue\",\"blue\",\"blue\",\"blue\",\"blue\",\"blue\",\"blue\",\"blue\",\"blue\",\"blue\",\"blue\",\"blue\",\"blue\",\"blue\",\"blue\",\"blue\",\"blue\",\"blue\",\"blue\",\"blue\",\"blue\",\"blue\",\"blue\",\"blue\",\"blue\",\"blue\",\"blue\",\"blue\",\"blue\",\"blue\",\"blue\",\"blue\",\"blue\",\"blue\",\"blue\",\"blue\",\"blue\",\"blue\",\"blue\",\"blue\",\"blue\",\"blue\",\"blue\",\"blue\",\"blue\",\"blue\",\"blue\",\"blue\",\"blue\",\"blue\",\"blue\",\"blue\",\"blue\",\"blue\",\"blue\",\"blue\",\"blue\",\"blue\",\"blue\",\"blue\",\"blue\",\"blue\",\"blue\",\"blue\",\"blue\",\"blue\",\"blue\",\"blue\",\"blue\",\"blue\",\"blue\",\"blue\",\"blue\",\"blue\",\"blue\",\"blue\",\"blue\",\"blue\",\"blue\",\"blue\",\"blue\",\"blue\",\"blue\",\"blue\",\"blue\",\"blue\",\"blue\",\"blue\",\"blue\",\"blue\",\"blue\",\"blue\",\"blue\",\"blue\",\"blue\",\"blue\",\"blue\",\"blue\",\"blue\",\"blue\",\"blue\",\"blue\",\"blue\",\"blue\",\"blue\",\"blue\",\"blue\",\"blue\",\"blue\",\"blue\",\"blue\",\"blue\",\"blue\",\"blue\",\"blue\",\"blue\",\"blue\",\"blue\",\"blue\",\"blue\",\"blue\",\"blue\",\"blue\",\"blue\",\"blue\",\"blue\",\"blue\",\"blue\",\"blue\",\"blue\",\"blue\",\"blue\",\"blue\",\"blue\",\"blue\",\"blue\",\"blue\",\"blue\",\"blue\",\"blue\",\"blue\",\"blue\",\"blue\",\"blue\",\"blue\",\"blue\",\"blue\",\"blue\",\"blue\",\"blue\",\"blue\",\"blue\",\"blue\",\"blue\",\"blue\",\"blue\",\"blue\",\"blue\",\"blue\",\"blue\",\"blue\",\"blue\",\"blue\",\"blue\",\"blue\",\"blue\",\"blue\",\"blue\",\"blue\",\"blue\",\"blue\",\"blue\",\"blue\",\"blue\",\"blue\",\"blue\",\"blue\",\"blue\",\"blue\",\"blue\",\"blue\",\"blue\",\"blue\",\"blue\",\"blue\",\"blue\",\"blue\",\"blue\",\"blue\",\"blue\",\"blue\",\"blue\",\"blue\",\"blue\",\"blue\",\"blue\",\"blue\",\"blue\",\"blue\",\"blue\",\"blue\",\"blue\",\"blue\",\"blue\",\"blue\",\"blue\",\"blue\",\"blue\",\"blue\",\"blue\",\"blue\",\"blue\",\"blue\",\"blue\",\"blue\",\"blue\",\"blue\",\"blue\",\"blue\",\"blue\",\"blue\",\"blue\",\"blue\",\"blue\",\"blue\",\"blue\",\"blue\",\"blue\",\"blue\",\"blue\",\"blue\",\"blue\",\"blue\",\"blue\",\"blue\",\"blue\",\"blue\",\"blue\",\"blue\",\"blue\",\"blue\",\"blue\",\"blue\",\"blue\",\"blue\",\"blue\",\"blue\",\"blue\",\"blue\",\"blue\",\"blue\",\"blue\",\"blue\",\"blue\",\"blue\",\"blue\",\"blue\",\"blue\",\"blue\",\"blue\",\"blue\",\"blue\",\"blue\",\"blue\",\"blue\",\"blue\",\"blue\",\"blue\",\"blue\",\"blue\",\"blue\",\"blue\",\"blue\",\"blue\",\"blue\",\"blue\",\"blue\",\"blue\",\"blue\",\"blue\",\"blue\",\"blue\",\"blue\",\"blue\",\"blue\",\"blue\",\"blue\",\"blue\",\"blue\",\"blue\",\"blue\",\"blue\",\"blue\",\"blue\",\"blue\",\"blue\",\"blue\",\"blue\",\"blue\",\"blue\",\"blue\",\"blue\",\"blue\",\"blue\",\"blue\",\"blue\",\"blue\",\"blue\",\"blue\",\"blue\",\"blue\",\"blue\",\"blue\",\"blue\",\"blue\",\"blue\",\"blue\",\"blue\",\"blue\",\"blue\",\"blue\",\"blue\",\"blue\",\"blue\",\"blue\",\"blue\",\"blue\",\"blue\",\"blue\",\"blue\",\"blue\",\"blue\",\"blue\",\"blue\",\"blue\",\"blue\",\"blue\",\"blue\",\"blue\",\"blue\",\"blue\",\"blue\",\"blue\",\"blue\",\"blue\",\"blue\",\"blue\",\"blue\",\"blue\",\"blue\",\"blue\",\"blue\",\"blue\",\"blue\",\"blue\",\"blue\",\"blue\",\"blue\",\"blue\",\"blue\",\"blue\",\"blue\",\"blue\",\"blue\",\"blue\",\"blue\",\"blue\",\"blue\",\"blue\",\"blue\",\"blue\",\"blue\",\"blue\",\"blue\",\"blue\",\"blue\",\"blue\",\"blue\",\"blue\",\"blue\",\"blue\",\"blue\",\"blue\",\"blue\",\"blue\",\"blue\",\"blue\",\"blue\",\"blue\",\"blue\",\"blue\",\"blue\",\"blue\",\"blue\",\"blue\",\"blue\",\"blue\",\"blue\",\"blue\",\"blue\",\"blue\",\"blue\",\"blue\",\"blue\",\"blue\",\"blue\",\"blue\",\"blue\",\"blue\",\"blue\",\"blue\",\"blue\",\"blue\",\"blue\",\"blue\",\"blue\",\"blue\",\"blue\",\"blue\",\"blue\",\"blue\",\"blue\",\"blue\",\"blue\",\"blue\",\"blue\",\"blue\",\"blue\",\"blue\",\"blue\",\"blue\",\"blue\",\"blue\",\"blue\",\"blue\",\"blue\",\"blue\",\"blue\",\"blue\",\"blue\",\"blue\",\"blue\",\"blue\",\"blue\",\"blue\",\"blue\",\"blue\",\"blue\",\"blue\",\"blue\",\"blue\",\"blue\",\"blue\",\"blue\",\"blue\",\"blue\",\"blue\",\"blue\",\"blue\",\"blue\",\"blue\",\"blue\",\"blue\",\"blue\",\"blue\",\"blue\",\"blue\",\"blue\",\"blue\",\"blue\",\"blue\",\"blue\",\"blue\",\"blue\",\"blue\",\"blue\",\"blue\",\"blue\",\"blue\",\"blue\",\"blue\",\"blue\",\"blue\",\"blue\",\"blue\",\"blue\",\"blue\",\"blue\",\"blue\",\"blue\",\"blue\",\"blue\",\"blue\",\"blue\",\"blue\",\"blue\",\"blue\",\"blue\",\"blue\",\"blue\",\"blue\",\"blue\",\"blue\",\"blue\",\"blue\",\"blue\",\"blue\",\"blue\",\"blue\",\"blue\",\"blue\",\"blue\",\"blue\",\"blue\",\"blue\",\"blue\",\"blue\",\"blue\",\"blue\",\"blue\",\"blue\",\"blue\",\"blue\",\"blue\",\"blue\",\"blue\",\"blue\",\"blue\",\"blue\",\"blue\",\"blue\",\"blue\",\"blue\",\"blue\",\"blue\",\"blue\",\"blue\",\"blue\",\"blue\",\"blue\",\"blue\",\"blue\",\"blue\",\"blue\",\"blue\",\"blue\",\"blue\",\"blue\",\"blue\",\"blue\",\"blue\",\"blue\",\"blue\",\"blue\",\"blue\",\"blue\",\"blue\",\"blue\",\"blue\",\"blue\",\"blue\",\"blue\",\"blue\",\"blue\",\"blue\",\"blue\",\"blue\",\"blue\",\"blue\",\"blue\",\"blue\",\"blue\",\"blue\",\"blue\",\"blue\",\"blue\",\"blue\",\"blue\",\"blue\",\"blue\",\"blue\",\"blue\",\"blue\",\"blue\",\"blue\",\"blue\",\"blue\",\"blue\",\"blue\",\"blue\",\"blue\",\"blue\",\"blue\",\"blue\",\"blue\",\"blue\",\"blue\",\"blue\",\"blue\",\"blue\",\"blue\",\"blue\",\"blue\",\"blue\",\"blue\",\"blue\",\"blue\",\"blue\",\"blue\",\"blue\",\"blue\",\"blue\",\"blue\",\"blue\",\"blue\",\"blue\",\"blue\",\"blue\",\"blue\",\"blue\",\"blue\",\"blue\",\"blue\",\"blue\",\"blue\",\"blue\",\"blue\",\"blue\",\"blue\",\"blue\",\"blue\",\"blue\",\"blue\",\"blue\",\"blue\",\"blue\",\"blue\",\"blue\",\"blue\",\"blue\",\"blue\",\"blue\",\"blue\",\"blue\",\"blue\",\"blue\",\"blue\",\"blue\",\"blue\",\"blue\",\"blue\",\"blue\",\"blue\",\"blue\",\"blue\",\"blue\",\"blue\",\"blue\",\"blue\",\"blue\",\"blue\",\"blue\",\"blue\",\"blue\",\"blue\",\"blue\",\"blue\",\"blue\",\"blue\",\"blue\",\"blue\",\"blue\",\"blue\",\"blue\",\"blue\",\"blue\",\"blue\",\"blue\",\"blue\",\"blue\",\"blue\",\"blue\",\"blue\",\"blue\",\"blue\",\"blue\",\"blue\",\"blue\",\"blue\",\"blue\",\"blue\",\"blue\",\"blue\",\"blue\",\"blue\",\"blue\",\"blue\",\"blue\",\"blue\",\"blue\",\"blue\",\"blue\",\"blue\",\"blue\",\"blue\",\"blue\",\"blue\",\"blue\",\"blue\",\"blue\",\"blue\",\"blue\",\"blue\",\"blue\",\"blue\",\"blue\",\"blue\",\"blue\",\"blue\",\"blue\",\"blue\",\"blue\",\"blue\",\"blue\",\"blue\",\"blue\",\"blue\",\"blue\",\"blue\",\"blue\",\"blue\",\"blue\",\"blue\",\"blue\",\"blue\",\"blue\",\"blue\",\"blue\",\"blue\",\"blue\",\"blue\",\"blue\",\"blue\",\"blue\",\"blue\",\"blue\",\"blue\",\"blue\",\"blue\",\"blue\",\"blue\",\"blue\",\"blue\",\"blue\",\"blue\",\"blue\",\"blue\",\"blue\",\"blue\",\"blue\",\"blue\",\"blue\",\"blue\",\"blue\",\"blue\",\"blue\",\"blue\",\"blue\",\"blue\",\"blue\",\"blue\",\"blue\",\"blue\",\"blue\",\"blue\",\"blue\",\"blue\",\"blue\",\"blue\",\"blue\",\"blue\",\"blue\",\"blue\",\"blue\",\"blue\",\"blue\",\"blue\",\"blue\",\"blue\",\"blue\",\"blue\",\"blue\",\"blue\",\"blue\",\"blue\",\"blue\",\"blue\",\"blue\",\"blue\",\"blue\",\"blue\",\"blue\",\"blue\",\"blue\",\"blue\",\"blue\",\"blue\",\"blue\",\"blue\",\"blue\",\"blue\",\"blue\",\"blue\",\"blue\",\"blue\",\"blue\",\"blue\",\"blue\",\"blue\",\"blue\",\"blue\",\"blue\",\"blue\",\"blue\",\"blue\",\"blue\",\"blue\",\"blue\",\"blue\",\"blue\",\"blue\",\"blue\",\"blue\",\"blue\",\"blue\",\"blue\",\"blue\",\"blue\",\"blue\",\"blue\",\"blue\",\"blue\",\"blue\",\"blue\",\"blue\",\"blue\",\"blue\",\"blue\",\"blue\",\"blue\",\"blue\",\"blue\",\"blue\",\"blue\",\"blue\",\"blue\",\"blue\",\"blue\",\"blue\",\"blue\",\"blue\",\"blue\",\"blue\",\"blue\",\"blue\",\"blue\",\"blue\",\"blue\",\"blue\",\"blue\",\"blue\",\"blue\",\"blue\",\"blue\",\"blue\",\"blue\",\"blue\",\"blue\",\"blue\",\"blue\",\"blue\",\"blue\",\"blue\",\"blue\",\"blue\",\"blue\",\"blue\",\"blue\",\"blue\",\"blue\",\"blue\",\"blue\",\"blue\",\"blue\",\"blue\",\"blue\",\"blue\",\"blue\",\"blue\",\"blue\",\"blue\",\"blue\",\"blue\",\"blue\",\"blue\",\"blue\",\"blue\",\"blue\",\"blue\",\"blue\",\"blue\",\"blue\",\"blue\",\"blue\",\"blue\",\"blue\",\"blue\",\"blue\",\"blue\",\"blue\",\"blue\",\"blue\",\"blue\",\"blue\",\"blue\",\"blue\",\"blue\",\"blue\",\"blue\",\"blue\",\"blue\",\"blue\",\"blue\",\"blue\",\"blue\",\"blue\",\"blue\",\"blue\",\"blue\",\"blue\",\"blue\",\"blue\",\"blue\",\"blue\",\"blue\",\"blue\",\"blue\",\"blue\",\"blue\",\"blue\",\"blue\",\"blue\",\"blue\",\"blue\",\"blue\",\"blue\",\"blue\",\"blue\",\"blue\",\"blue\",\"blue\",\"blue\",\"blue\",\"blue\",\"blue\",\"blue\",\"blue\",\"blue\",\"blue\",\"blue\",\"blue\",\"blue\",\"blue\",\"blue\",\"blue\",\"blue\",\"blue\",\"blue\",\"blue\",\"blue\",\"blue\",\"blue\",\"blue\",\"blue\",\"blue\",\"blue\",\"blue\",\"blue\",\"blue\",\"blue\",\"blue\",\"blue\",\"blue\",\"blue\",\"blue\",\"blue\",\"blue\",\"blue\",\"blue\",\"blue\",\"blue\",\"blue\",\"blue\",\"blue\",\"blue\",\"blue\",\"blue\",\"blue\",\"blue\",\"blue\",\"blue\",\"blue\",\"blue\",\"blue\",\"blue\",\"blue\",\"blue\",\"blue\",\"blue\",\"blue\",\"blue\",\"blue\",\"blue\",\"blue\",\"blue\",\"blue\",\"blue\",\"blue\",\"blue\",\"blue\",\"blue\",\"blue\",\"blue\",\"blue\",\"blue\",\"blue\",\"blue\",\"blue\",\"blue\",\"blue\",\"blue\",\"blue\",\"blue\",\"blue\",\"blue\",\"blue\",\"blue\",\"blue\",\"blue\",\"blue\",\"blue\",\"blue\",\"blue\",\"blue\",\"blue\",\"blue\",\"blue\",\"blue\",\"blue\",\"blue\",\"blue\",\"blue\",\"blue\",\"blue\",\"blue\",\"blue\",\"blue\",\"blue\",\"blue\",\"blue\",\"blue\",\"blue\",\"blue\",\"blue\",\"blue\",\"blue\",\"blue\",\"blue\",\"blue\",\"blue\",\"blue\",\"blue\",\"blue\",\"blue\",\"blue\",\"blue\",\"blue\",\"blue\",\"blue\",\"blue\",\"blue\",\"blue\",\"blue\",\"blue\",\"blue\",\"blue\",\"blue\",\"blue\",\"blue\",\"blue\",\"blue\",\"blue\",\"blue\",\"blue\",\"blue\",\"blue\",\"blue\",\"blue\",\"blue\",\"blue\",\"blue\",\"blue\",\"blue\",\"blue\",\"blue\",\"blue\",\"blue\",\"blue\",\"blue\",\"blue\",\"blue\",\"blue\",\"blue\",\"blue\",\"blue\",\"blue\",\"blue\",\"blue\",\"blue\",\"blue\",\"blue\",\"blue\",\"blue\",\"blue\",\"blue\",\"blue\",\"blue\",\"blue\",\"blue\",\"blue\",\"blue\",\"blue\",\"blue\",\"blue\",\"blue\",\"blue\",\"blue\",\"blue\",\"blue\",\"blue\",\"blue\",\"blue\",\"blue\",\"blue\",\"blue\",\"blue\",\"blue\",\"blue\",\"blue\",\"blue\",\"blue\",\"blue\",\"blue\",\"blue\",\"blue\",\"blue\",\"blue\",\"blue\",\"blue\",\"blue\",\"blue\",\"blue\",\"blue\",\"blue\",\"blue\",\"blue\",\"blue\",\"blue\",\"blue\",\"blue\",\"blue\",\"blue\",\"blue\",\"blue\",\"blue\",\"blue\",\"blue\",\"blue\",\"blue\",\"blue\",\"blue\",\"blue\",\"blue\",\"blue\",\"blue\",\"blue\",\"blue\",\"blue\",\"blue\",\"blue\",\"blue\",\"blue\",\"blue\",\"blue\",\"blue\",\"blue\",\"blue\",\"blue\",\"blue\",\"blue\",\"blue\",\"blue\",\"blue\",\"blue\",\"blue\",\"blue\",\"blue\",\"blue\",\"blue\",\"blue\",\"blue\",\"blue\",\"blue\",\"blue\",\"blue\",\"blue\",\"blue\",\"blue\",\"blue\",\"blue\",\"blue\",\"blue\",\"blue\",\"blue\",\"blue\",\"blue\",\"blue\",\"blue\",\"blue\",\"blue\",\"blue\",\"blue\",\"blue\",\"blue\",\"blue\",\"blue\",\"blue\",\"blue\",\"blue\",\"blue\",\"blue\",\"blue\",\"blue\",\"blue\",\"blue\",\"blue\",\"blue\",\"blue\",\"blue\",\"blue\",\"blue\",\"blue\",\"blue\",\"blue\",\"blue\",\"blue\",\"blue\",\"blue\",\"blue\",\"blue\",\"blue\",\"blue\",\"blue\",\"blue\",\"blue\",\"blue\",\"blue\",\"blue\",\"blue\",\"blue\",\"blue\",\"blue\",\"blue\",\"blue\",\"blue\",\"blue\",\"blue\",\"blue\",\"blue\",\"blue\",\"blue\",\"blue\",\"blue\",\"blue\",\"blue\",\"blue\",\"blue\",\"blue\",\"blue\",\"blue\",\"blue\",\"blue\",\"blue\",\"blue\",\"blue\",\"blue\",\"blue\",\"blue\",\"blue\",\"blue\",\"blue\",\"blue\",\"blue\",\"blue\",\"blue\",\"blue\",\"blue\",\"blue\",\"blue\",\"blue\",\"blue\",\"blue\",\"blue\",\"blue\",\"blue\",\"blue\",\"blue\",\"blue\",\"blue\",\"blue\",\"blue\",\"blue\",\"blue\",\"blue\",\"blue\",\"blue\",\"blue\",\"blue\",\"blue\",\"blue\",\"blue\",\"blue\",\"blue\",\"blue\",\"blue\",\"blue\",\"blue\",\"blue\",\"blue\",\"blue\",\"blue\",\"blue\",\"blue\",\"blue\",\"blue\",\"blue\",\"blue\",\"blue\",\"blue\",\"blue\",\"blue\",\"blue\",\"blue\",\"blue\",\"blue\",\"blue\",\"blue\",\"blue\",\"blue\",\"blue\",\"blue\",\"blue\",\"blue\",\"blue\",\"blue\",\"blue\",\"blue\",\"blue\",\"blue\",\"blue\",\"blue\",\"blue\",\"blue\",\"blue\",\"blue\",\"blue\",\"blue\",\"blue\",\"blue\",\"blue\",\"blue\",\"blue\",\"blue\",\"blue\",\"blue\",\"blue\",\"blue\",\"blue\",\"blue\",\"blue\",\"blue\",\"blue\",\"blue\",\"blue\",\"blue\",\"blue\",\"blue\",\"blue\",\"blue\",\"blue\",\"blue\",\"blue\",\"blue\",\"blue\",\"blue\",\"blue\",\"blue\",\"blue\",\"blue\",\"blue\",\"blue\",\"blue\",\"blue\",\"blue\",\"blue\",\"blue\",\"blue\",\"blue\",\"blue\",\"blue\",\"blue\",\"blue\",\"blue\",\"blue\",\"blue\",\"blue\",\"blue\",\"blue\",\"blue\",\"blue\",\"blue\",\"blue\",\"blue\",\"blue\",\"blue\",\"blue\",\"blue\",\"blue\",\"blue\",\"blue\",\"blue\",\"blue\",\"blue\",\"blue\",\"blue\",\"blue\",\"blue\",\"blue\",\"blue\",\"blue\",\"blue\",\"blue\",\"blue\",\"blue\",\"blue\",\"blue\",\"blue\",\"blue\",\"blue\",\"blue\",\"blue\",\"blue\",\"blue\",\"blue\",\"blue\",\"blue\",\"blue\",\"blue\",\"blue\",\"blue\",\"blue\",\"blue\",\"blue\",\"blue\",\"blue\",\"blue\",\"blue\",\"blue\",\"blue\",\"blue\",\"blue\",\"blue\",\"blue\",\"blue\",\"blue\",\"blue\",\"blue\",\"blue\",\"blue\",\"blue\",\"blue\",\"blue\",\"blue\",\"blue\",\"blue\",\"blue\",\"blue\",\"blue\",\"blue\",\"blue\",\"blue\",\"blue\",\"blue\",\"blue\",\"blue\",\"blue\",\"blue\",\"blue\",\"blue\",\"blue\",\"blue\",\"blue\",\"blue\",\"blue\",\"blue\",\"blue\",\"blue\",\"blue\",\"blue\",\"blue\",\"blue\",\"blue\",\"blue\",\"blue\",\"blue\",\"blue\",\"blue\",\"blue\",\"blue\",\"blue\",\"blue\",\"blue\",\"blue\",\"blue\",\"blue\",\"blue\",\"blue\",\"blue\",\"blue\",\"blue\",\"blue\",\"blue\",\"blue\",\"blue\",\"blue\",\"blue\",\"blue\",\"blue\",\"blue\",\"blue\",\"blue\",\"blue\",\"blue\",\"blue\",\"blue\",\"blue\",\"blue\",\"blue\",\"blue\",\"blue\",\"blue\",\"blue\",\"blue\",\"blue\",\"blue\",\"blue\",\"blue\",\"blue\",\"blue\",\"blue\",\"blue\",\"blue\",\"blue\",\"blue\",\"blue\",\"blue\",\"blue\",\"blue\",\"blue\",\"blue\",\"blue\",\"blue\",\"blue\",\"blue\",\"blue\",\"blue\",\"blue\",\"blue\",\"blue\",\"blue\",\"blue\",\"blue\",\"blue\",\"blue\",\"blue\",\"blue\",\"blue\",\"blue\",\"blue\",\"blue\",\"blue\",\"blue\",\"blue\",\"blue\",\"blue\",\"blue\",\"blue\",\"blue\",\"blue\",\"blue\",\"blue\",\"blue\",\"blue\",\"blue\",\"blue\",\"blue\",\"blue\",\"blue\",\"blue\",\"blue\",\"blue\",\"blue\",\"blue\",\"blue\",\"blue\",\"blue\",\"blue\",\"blue\",\"blue\",\"blue\",\"blue\",\"blue\",\"blue\",\"blue\",\"blue\",\"blue\",\"blue\",\"blue\",\"blue\",\"blue\",\"blue\",\"blue\",\"blue\",\"blue\",\"blue\",\"blue\",\"blue\",\"blue\",\"blue\",\"blue\",\"blue\",\"blue\",\"blue\",\"blue\",\"blue\",\"blue\",\"blue\",\"blue\",\"blue\",\"blue\",\"blue\",\"blue\",\"blue\",\"blue\",\"blue\",\"blue\",\"blue\",\"blue\",\"blue\",\"blue\",\"blue\",\"blue\",\"blue\",\"blue\",\"blue\",\"blue\",\"blue\",\"blue\",\"blue\",\"blue\",\"blue\",\"blue\",\"blue\",\"blue\",\"blue\",\"blue\",\"blue\",\"blue\",\"blue\",\"blue\",\"blue\",\"blue\",\"blue\",\"blue\",\"blue\",\"blue\",\"blue\",\"blue\",\"blue\",\"blue\",\"blue\",\"blue\",\"blue\",\"blue\",\"blue\",\"blue\",\"blue\",\"blue\",\"blue\",\"blue\",\"blue\",\"blue\",\"blue\",\"blue\",\"blue\",\"blue\",\"blue\",\"blue\",\"blue\",\"blue\",\"blue\",\"blue\",\"blue\",\"blue\",\"blue\",\"blue\",\"blue\",\"blue\",\"blue\",\"blue\",\"blue\",\"blue\",\"blue\",\"blue\",\"blue\",\"blue\",\"blue\",\"blue\",\"blue\",\"blue\",\"blue\",\"blue\",\"blue\",\"blue\",\"blue\",\"blue\",\"blue\",\"blue\",\"blue\",\"blue\",\"blue\",\"blue\",\"blue\",\"blue\",\"blue\",\"blue\",\"blue\",\"blue\",\"blue\",\"blue\",\"blue\",\"blue\",\"blue\",\"blue\",\"blue\",\"blue\",\"blue\",\"blue\",\"blue\",\"blue\",\"blue\",\"blue\",\"blue\",\"blue\",\"blue\",\"blue\",\"blue\",\"blue\",\"blue\",\"blue\",\"blue\",\"blue\",\"blue\",\"blue\",\"blue\",\"blue\",\"blue\",\"blue\",\"blue\",\"blue\",\"blue\",\"blue\",\"blue\",\"blue\",\"blue\",\"blue\",\"blue\",\"blue\",\"blue\",\"blue\",\"blue\",\"blue\",\"blue\",\"blue\",\"blue\",\"blue\",\"blue\",\"blue\",\"blue\",\"blue\",\"blue\",\"blue\",\"blue\",\"blue\",\"blue\",\"blue\",\"blue\",\"blue\",\"blue\",\"blue\",\"blue\",\"blue\",\"blue\",\"blue\",\"blue\",\"blue\",\"blue\",\"blue\",\"blue\",\"blue\",\"blue\",\"blue\",\"blue\",\"blue\",\"blue\",\"blue\",\"blue\",\"blue\",\"blue\",\"blue\",\"blue\",\"blue\",\"blue\",\"blue\",\"blue\",\"blue\",\"blue\",\"blue\",\"blue\",\"blue\",\"blue\",\"blue\",\"blue\",\"blue\",\"blue\",\"blue\",\"blue\",\"blue\",\"blue\",\"blue\",\"blue\",\"blue\",\"blue\",\"blue\",\"blue\",\"blue\",\"blue\",\"blue\",\"blue\",\"blue\",\"blue\",\"blue\",\"blue\",\"blue\",\"blue\",\"blue\",\"blue\",\"blue\",\"blue\",\"blue\",\"blue\",\"blue\",\"blue\",\"blue\",\"blue\",\"blue\",\"blue\",\"blue\",\"blue\",\"blue\",\"blue\",\"blue\",\"blue\",\"blue\",\"blue\",\"blue\",\"blue\",\"blue\",\"blue\",\"blue\",\"blue\",\"blue\",\"blue\",\"blue\",\"blue\",\"blue\",\"blue\",\"blue\",\"blue\",\"blue\",\"blue\",\"blue\",\"blue\",\"blue\",\"blue\",\"blue\",\"blue\",\"blue\",\"blue\",\"blue\",\"blue\",\"blue\",\"blue\",\"blue\",\"blue\",\"blue\",\"blue\",\"blue\",\"blue\",\"blue\",\"blue\",\"blue\",\"blue\",\"blue\",\"blue\",\"blue\",\"blue\",\"blue\",\"blue\",\"blue\",\"blue\",\"blue\",\"blue\",\"blue\",\"blue\",\"blue\",\"blue\",\"blue\",\"blue\",\"blue\",\"blue\",\"blue\",\"blue\",\"blue\",\"blue\",\"blue\",\"blue\",\"blue\",\"blue\",\"blue\",\"blue\",\"blue\"]],[\"token\",[\"verified\",\"2gb\",\"illinois\",\"jazz\",\"checking\",\"telescope\",\"seasons\",\"astrologer\",\"contribution\",\"homemade\",\"heroes\",\"warcraft\",\"kumar\",\"tester\",\"politically\",\"conquer\",\"columbia\",\"quiet\",\"repeat\",\"kapil\",\"involve\",\"mckinsey\",\"switched\",\"att\",\"instance\",\"innocent\",\"portuguese\",\"subscribers\",\"cabinet\",\"terror\",\"85\",\"rotation\",\"shirts\",\"drawn\",\"bi\",\"aspergers\",\"inspiration\",\"beats\",\"\\u00a3\",\"approximately\",\"asset\",\"empathy\",\"rooting\",\"ia\",\"dandruff\",\"slab\",\"operator\",\"horrible\",\"dominant\",\"ocd\",\"spacetime\",\"blow\",\"installing\",\"learnt\",\"separation\",\"institution\",\"temples\",\"hons\",\"pound\",\"removing\",\"unemployment\",\"greenlit\",\"audit\",\"supplement\",\"roller\",\"dota\",\"tiny\",\"equally\",\"braces\",\"aggressive\",\"corn\",\"camps\",\"additional\",\"consent\",\"granted\",\"welfare\",\"myths\",\"stations\",\"timeline\",\"psychologist\",\"nagpur\",\"herself\",\"cooper\",\"exgirlfriend\",\"intercourse\",\"flip\",\"hurts\",\"lpa\",\"nerve\",\"tvs\",\"halloween\",\"screenshot\",\"biomedical\",\"covered\",\"milky\",\"onsite\",\"aside\",\"meaningful\",\"stretch\",\"joker\",\"encounter\",\"tone\",\"founders\",\"talked\",\"respectively\",\"downloads\",\"cocaine\",\"toxic\",\"sword\",\"fuck\",\"trainer\",\"partition\",\"boxing\",\"grid\",\"practicing\",\"menu\",\"cms\",\"indore\",\"ate\",\"volunteer\",\"misconceptions\",\"pics\",\"flies\",\"instantly\",\"trans\",\"friday\",\"sociopaths\",\"ctc\",\"hoax\",\"detailed\",\"sizes\",\"rejection\",\"limitations\",\"bharat\",\"kissing\",\"renewable\",\"oriented\",\"countrys\",\"dumps\",\"spiders\",\"technological\",\"advertisement\",\"headache\",\"zodiac\",\"accommodation\",\"venus\",\"calcium\",\"passenger\",\"falls\",\"overnight\",\"pickup\",\"gary\",\"transportation\",\"odds\",\"jupiter\",\"purchasing\",\"fluently\",\"flu\",\"photons\",\"conductor\",\"ohio\",\"balaji\",\"mcdonalds\",\"betting\",\"irrational\",\"sachin\",\"deactivate\",\"estimate\",\"hairs\",\"fluent\",\"errors\",\"remaining\",\"marriages\",\"medieval\",\"charles\",\"spider\",\"oxford\",\"gita\",\"races\",\"liquor\",\"poland\",\"lease\",\"co2\",\"selenium\",\"attempts\",\"crystal\",\"manaphy\",\"knight\",\"collapsed\",\"wheels\",\"behaviour\",\"bitcoins\",\"parliament\",\"himher\",\"handsome\",\"thousands\",\"caring\",\"kings\",\"lucky\",\"workplace\",\"condom\",\"intuitive\",\"chronic\",\"eyesight\",\"simulation\",\"prank\",\"quickest\",\"concert\",\"popularity\",\"connections\",\"disorders\",\"scripting\",\"appearance\",\"js\",\"depth\",\"cheque\",\"longterm\",\"documentaries\",\"dioxide\",\"bright\",\"info\",\"diseases\",\"appeal\",\"snap\",\"smoked\",\"singers\",\"boil\",\"probably\",\"temperatures\",\"appearing\",\"olive\",\"ntse\",\"telecom\",\"brief\",\"discrimination\",\"ethnic\",\"cache\",\"passionate\",\"shoulder\",\"assault\",\"marshmallow\",\"momentum\",\"yr\",\"migrate\",\"retire\",\"cet\",\"canvas\",\"vietnamese\",\"institutions\",\"meter\",\"roots\",\"integer\",\"imported\",\"ants\",\"lyft\",\"piercing\",\"il\",\"poop\",\"organisms\",\"ve\",\"entropy\",\"calm\",\"saddest\",\"toward\",\"myth\",\"sight\",\"filling\",\"hdmi\",\"satisfied\",\"transactions\",\"pharmacy\",\"nursing\",\"correlation\",\"regression\",\"awake\",\"md\",\"nri\",\"recommendations\",\"bin\",\"finland\",\"multi\",\"voted\",\"discovery\",\"edward\",\"touching\",\"immigrant\",\"geometry\",\"indicate\",\"ourselves\",\"texting\",\"seek\",\"expecting\",\"dj\",\"brake\",\"helicopter\",\"blonde\",\"triple\",\"ladies\",\"vivekananda\",\"switching\",\"prostitution\",\"banana\",\"magazines\",\"shippuden\",\"lucknow\",\"2019\",\"failing\",\"elizabeth\",\"irish\",\"ebook\",\"temporary\",\"governor\",\"wasting\",\"weekends\",\"cpt\",\"wax\",\"labor\",\"instruments\",\"instrumentation\",\"hates\",\"hip\",\"arnab\",\"bubble\",\"employers\",\"aadhaar\",\"boyfriends\",\"jake\",\"explained\",\"yesterday\",\"beta\",\"extrovert\",\"andhra\",\"micromax\",\"vertical\",\"lay\",\"nonprofit\",\"dubbed\",\"typing\",\"automotive\",\"thomas\",\"procedures\",\"priority\",\"funded\",\"arabs\",\"siblings\",\"guinea\",\"missile\",\"luck\",\"strategic\",\"defend\",\"module\",\"tuition\",\"acids\",\"controller\",\"committee\",\"housing\",\"integral\",\"peaceful\",\"refugees\",\"prescription\",\"interns\",\"supported\",\"womans\",\"dentist\",\"wives\",\"village\",\"affecting\",\"lte\",\"beaches\",\"austin\",\"substance\",\"engagement\",\"trainee\",\"measures\",\"trailer\",\"purchased\",\"15000\",\"uttar\",\"glue\",\"dtu\",\"medal\",\"photon\",\"engg\",\"violin\",\"column\",\"somehow\",\"rotate\",\"3000\",\"virat\",\"forgotten\",\"fingers\",\"slim\",\"arrest\",\"covalent\",\"ncert\",\"kernel\",\"da\",\"alarm\",\"ngo\",\"4gb\",\"productivity\",\"planned\",\"district\",\"berlin\",\"lists\",\"leads\",\"slang\",\"defence\",\"aspiring\",\"56\",\"enemy\",\"farming\",\"muller\",\"pays\",\"liver\",\"membrane\",\"secretly\",\"plug\",\"gum\",\"eclipse\",\"chewing\",\"labs\",\"zombie\",\"authority\",\"males\",\"argentina\",\"tasks\",\"fell\",\"nails\",\"palestine\",\"tanks\",\"identical\",\"deck\",\"qualification\",\"leadership\",\"kohli\",\"pronunciation\",\"hello\",\"violent\",\"sabha\",\"respiration\",\"transform\",\"warranty\",\"faculty\",\"adolf\",\"expenses\",\"jersey\",\"mercury\",\"whiskey\",\"tackle\",\"tweet\",\"blame\",\"cruise\",\"mahindra\",\"discharge\",\"reduced\",\"vodka\",\"mahatma\",\"bass\",\"compete\",\"stains\",\"pill\",\"swim\",\"ali\",\"gf\",\"ford\",\"prince\",\"sweat\",\"performing\",\"limits\",\"leonardo\",\"cow\",\"resolve\",\"matters\",\"pharmaceutical\",\"ray\",\"remotely\",\"pf\",\"clinical\",\"bpo\",\"homeless\",\"husbands\",\"rising\",\"newtons\",\"outcome\",\"derivative\",\"alpha\",\"grown\",\"capitalism\",\"astronaut\",\"hybrid\",\"palm\",\"teens\",\"hits\",\"airplanes\",\"none\",\"admin\",\"applicable\",\"amcat\",\"spam\",\"neutrality\",\"pixel\",\"festival\",\"faces\",\"molar\",\"snakes\",\"sip\",\"kik\",\"farm\",\"ltd\",\"votes\",\"publishing\",\"comfort\",\"frontend\",\"spin\",\"diagnosed\",\"buildings\",\"\\u00b0\",\"cashless\",\"addictive\",\"extinct\",\"ugc\",\"coke\",\"llb\",\"phrases\",\"struggle\",\"drives\",\"fiber\",\"grocery\",\"achieved\",\"penny\",\"bath\",\"allies\",\"uninstall\",\"ny\",\"appears\",\"effort\",\"satellites\",\"confirmed\",\"loneliness\",\"illuminati\",\"uri\",\"lucid\",\"preferably\",\"neither\",\"\\u221a\",\"pacific\",\"americas\",\"bs\",\"graduated\",\"bills\",\"tube\",\"germans\",\"assume\",\"cleared\",\"mate\",\"divide\",\"versions\",\"fallen\",\"journey\",\"anthem\",\"certificates\",\"looked\",\"sponsor\",\"useless\",\"dependent\",\"invite\",\"guru\",\"keyword\",\"aipmt\",\"clone\",\"kgs\",\"chip\",\"origins\",\"wide\",\"motivational\",\"elite\",\"wanna\",\"unity\",\"cough\",\"connecting\",\"mystery\",\"kim\",\"syrian\",\"voldemort\",\"responsibilities\",\"molecules\",\"boobs\",\"holidays\",\"tutorial\",\"circumstances\",\"fiitjee\",\"islands\",\"bypass\",\"slowly\",\"mixture\",\"aluminum\",\"salesforce\",\"twin\",\"iot\",\"remedy\",\"sheets\",\"pole\",\"hated\",\"females\",\"protected\",\"irs\",\"insecure\",\"entering\",\"neuroscience\",\"offices\",\"delta\",\"suggestion\",\"snapdeal\",\"backstory\",\"periodic\",\"cancelled\",\"mans\",\"complicated\",\"bitsat\",\"pleasure\",\"loop\",\"dropbox\",\"selfish\",\"nude\",\"20000\",\"voter\",\"variables\",\"victory\",\"closest\",\"compensation\",\"extended\",\"locations\",\"cracked\",\"perks\",\"ended\",\"exit\",\"awareness\",\"pakistanis\",\"ebooks\",\"bull\",\"unblock\",\"100000\",\"entrepreneurship\",\"infrastructure\",\"scotland\",\"guest\",\"attacked\",\"hurting\",\"lion\",\"reject\",\"purposes\",\"knife\",\"thai\",\"ipl\",\"knee\",\"accepting\",\"spent\",\"punjabi\",\"tab\",\"quoras\",\"caffeine\",\"athletes\",\"ink\",\"cooked\",\"improving\",\"invaded\",\"allah\",\"thermodynamics\",\"mortgage\",\"firsttime\",\"achievements\",\"issued\",\"breath\",\"award\",\"llc\",\"legends\",\"mood\",\"influenced\",\"proteins\",\"holy\",\"performed\",\"pee\",\"blocks\",\"molecule\",\"interests\",\"imei\",\"requires\",\"cisco\",\"moves\",\"marrying\",\"mca\",\"perfectly\",\"iisc\",\"corporation\",\"shiva\",\"viruses\",\"difficulty\",\"50000\",\"volte\",\"shampoo\",\"secular\",\"transplant\",\"ghz\",\"ahead\",\"crew\",\"interact\",\"depend\",\"hawaii\",\"hiv\",\"evening\",\"vegetable\",\"revenge\",\"suppose\",\"busy\",\"label\",\"rogue\",\"rational\",\"hillstation\",\"brains\",\"urdu\",\"imagine\",\"salaries\",\"survey\",\"g4\",\"butt\",\"manufacturers\",\"saas\",\"residency\",\"recommendation\",\"purple\",\"fault\",\"aadhar\",\"aging\",\"bhopal\",\"conducted\",\"loses\",\"infection\",\"forest\",\"impacts\",\"collection\",\"fridge\",\"diamond\",\"mis\",\"recorded\",\"march\",\"conditioner\",\"signature\",\"listed\",\"branches\",\"manchester\",\"wanting\",\"perception\",\"absolutely\",\"servers\",\"soluble\",\"swami\",\"lumia\",\"directors\",\"52\",\"2008\",\"gaining\",\"stereotypes\",\"homes\",\"vegas\",\"jam\",\"behave\",\"relatively\",\"forum\",\"ib\",\"earphones\",\"facilities\",\"april\",\"finally\",\"tail\",\"capacitor\",\"tiger\",\"deaf\",\"deliver\",\"django\",\"expand\",\"skip\",\"nearly\",\"maybe\",\"task\",\"gateway\",\"strangest\",\"abstract\",\"adding\",\"suck\",\"tim\",\"printed\",\"sigma\",\"immigrate\",\"decline\",\"arrested\",\"95\",\"narcissistic\",\"freelancing\",\"patterns\",\"expired\",\"casual\",\"tablets\",\"patients\",\"lean\",\"pieces\",\"laymans\",\"whatever\",\"polish\",\"lemon\",\"abortion\",\"i3\",\"theorem\",\"h\",\"compulsory\",\"helped\",\"sons\",\"feminism\",\"compiler\",\"tested\",\"enhance\",\"adhd\",\"manhattan\",\"iii\",\"nail\",\"eee\",\"deals\",\"excellent\",\"ipo\",\"folder\",\"sand\",\"continuous\",\"capable\",\"libraries\",\"aggregate\",\"64\",\"bsnl\",\"profiles\",\"spirit\",\"pulled\",\"owns\",\"deloitte\",\"therapist\",\"acts\",\"millions\",\"authors\",\"marathi\",\"dvd\",\"coconut\",\"swiss\",\"interaction\",\"ncr\",\"kannada\",\"smallest\",\"advisable\",\"smartest\",\"sorry\",\"normally\",\"ends\",\"rome\",\"spectrum\",\"cousin\",\"75\",\"suzuki\",\"nights\",\"cap\",\"enable\",\"counselling\",\"proxy\",\"margin\",\"shops\",\"hackers\",\"tatkal\",\"opened\",\"cinema\",\"consumption\",\"coal\",\"silent\",\"choosing\",\"introduction\",\"electromagnetic\",\"hcl\",\"complaint\",\"puppies\",\"vc\",\"symbols\",\"lenses\",\"username\",\"arrow\",\"adopted\",\"affects\",\"sudden\",\"pcm\",\"gel\",\"affair\",\"pinterest\",\"statements\",\"supplements\",\"justified\",\"turns\",\"santa\",\"shoe\",\"trek\",\"headphone\",\"girlfriends\",\"verizon\",\"rocket\",\"conference\",\"ego\",\"srm\",\"afghanistan\",\"nucleus\",\"generated\",\"chinas\",\"ww1\",\"consultancy\",\"socially\",\"allen\",\"berkeley\",\"missed\",\"crying\",\"introduced\",\"ps3\",\"flour\",\"brought\",\"elder\",\"minecraft\",\"9th\",\"freelancer\",\"circles\",\"scars\",\"entertainment\",\"turbine\",\"deeply\",\"rom\",\"evolved\",\"nato\",\"strengths\",\"ide\",\"tweets\",\"scholarships\",\"mentor\",\"collect\",\"hdfc\",\"mandarin\",\"solo\",\"terrible\",\"influential\",\"professionals\",\"65\",\"recognition\",\"nvidia\",\"cia\",\"designs\",\"10k\",\"creation\",\"tom\",\"rated\",\"introverts\",\"boiling\",\"communism\",\"treaty\",\"whereas\",\"thanks\",\"cigarette\",\"bengaluru\",\"oneplus\",\"reserve\",\"advertise\",\"nits\",\"helping\",\"bruce\",\"mp3\",\"severe\",\"proposal\",\"cultures\",\"tap\",\"animated\",\"planes\",\"hall\",\"cognitive\",\"supports\",\"keys\",\"gotten\",\"feedback\",\"recording\",\"proceed\",\"membership\",\"console\",\"overseas\",\"hows\",\"william\",\"billionaires\",\"updated\",\"pre\",\"organizations\",\"messi\",\"unexpected\",\"nitrogen\",\"hungry\",\"nigeria\",\"sync\",\"arduino\",\"gross\",\"outer\",\"searching\",\"workers\",\"outlook\",\"europeans\",\"founder\",\"lectures\",\"legitimate\",\"camp\",\"ordinary\",\"investments\",\"bone\",\"raising\",\"quite\",\"ages\",\"joint\",\"johnson\",\"destination\",\"concerned\",\"belief\",\"refrigerator\",\"implications\",\"manga\",\"mandatory\",\"obamas\",\"lawyers\",\"bedroom\",\"icon\",\"qualifications\",\"qa\",\"bikes\",\"boston\",\"holding\",\"session\",\"appointment\",\"weaknesses\",\"iphones\",\"motorcycle\",\"schizophrenia\",\"5th\",\"intellectual\",\"eaten\",\"attending\",\"medals\",\"adsense\",\"nda\",\"6th\",\"kali\",\"georgia\",\"wechat\",\"earlier\",\"drone\",\"truck\",\"horse\",\"merchant\",\"torque\",\"seed\",\"backend\",\"holmes\",\"graduating\",\"400\",\"bones\",\"sufficient\",\"participate\",\"rifle\",\"shock\",\"downloaded\",\"earthquake\",\"breasts\",\"secretary\",\"insert\",\"damaged\",\"massive\",\"standing\",\"remainder\",\"programme\",\"holocaust\",\"totally\",\"belt\",\"affairs\",\"nokia\",\"mechanism\",\"pin\",\"scan\",\"fought\",\"superpower\",\"poetry\",\"signals\",\"educated\",\"scariest\",\"trains\",\"closer\",\"weapon\",\"icici\",\"serial\",\"bicycle\",\"terminal\",\"finished\",\"stolen\",\"inspiring\",\"cuisine\",\"spark\",\"sounds\",\"pricing\",\"click\",\"underwear\",\"kidney\",\"bengal\",\"invention\",\"discount\",\"chase\",\"evaluate\",\"distributed\",\"themes\",\"amd\",\"stem\",\"st\",\"genre\",\"vegetables\",\"council\",\"bihar\",\"thick\",\"mouse\",\"worry\",\"newly\",\"updates\",\"candy\",\"prepaid\",\"wet\",\"rap\",\"motors\",\"implemented\",\"theoretical\",\"fabric\",\"mexican\",\"portfolio\",\"technique\",\"icse\",\"expansion\",\"evolutionary\",\"justify\",\"trick\",\"attached\",\"lightning\",\"pitch\",\"armed\",\"einstein\",\"conversion\",\"iitjee\",\"declared\",\"admit\",\"acquisition\",\"innovation\",\"runs\",\"wwe\",\"trial\",\"memories\",\"refuse\",\"netherlands\",\"committed\",\"fraud\",\"jailbreak\",\"settle\",\"badly\",\"approved\",\"eligibility\",\"trend\",\"increases\",\"comic\",\"quorans\",\"cellular\",\"matches\",\"receiving\",\"bmw\",\"vlsi\",\"signed\",\"lakes\",\"350\",\"communications\",\"pork\",\"joined\",\"anyway\",\"differentiate\",\"actresses\",\"29\",\"ethics\",\"premier\",\"hearing\",\"vehicles\",\"drama\",\"instant\",\"lips\",\"dates\",\"july\",\"holiday\",\"coach\",\"malayalam\",\"superior\",\"soviet\",\"plate\",\"throw\",\"worship\",\"bars\",\"sharma\",\"mothers\",\"integrated\",\"clubs\",\"bug\",\"melbourne\",\"co\",\"bisexual\",\"regions\",\"lesson\",\"heads\",\"reader\",\"snake\",\"qualify\",\"paul\",\"causing\",\"disappear\",\"era\",\"lets\",\"qualified\",\"spiritual\",\"wolf\",\"requirement\",\"journalism\",\"studied\",\"lowest\",\"vader\",\"coursera\",\"stark\",\"configuration\",\"verbal\",\"undergrad\",\"dimensions\",\"transition\",\"efficiently\",\"interstellar\",\"locked\",\"summary\",\"chandigarh\",\"ghosts\",\"included\",\"operate\",\"dimension\",\"mount\",\"noticed\",\"rating\",\"somewhere\",\"martin\",\"bra\",\"bird\",\"zuckerberg\",\"sensor\",\"audience\",\"dirty\",\"starbucks\",\"permission\",\"residential\",\"wholesale\",\"assets\",\"clearly\",\"km\",\"invade\",\"ipcc\",\"fb\",\"shell\",\"shave\",\"loud\",\"tip\",\"seeds\",\"sets\",\"polar\",\"although\",\"june\",\"judaism\",\"anti\",\"instrument\",\"seven\",\"shooting\",\"j\",\"portal\",\"tower\",\"github\",\"linked\",\"admitted\",\"punishment\",\"mid\",\"micro\",\"cured\",\"lifestyle\",\"nor\",\"upset\",\"challenge\",\"soap\",\"standards\",\"integration\",\"lottery\",\"lab\",\"williams\",\"odd\",\"soil\",\"sensitive\",\"route\",\"tattoos\",\"coin\",\"declare\",\"frame\",\"differential\",\"bowl\",\"softwares\",\"notifications\",\"maintenance\",\"inner\",\"apples\",\"converted\",\"recruiter\",\"bombay\",\"command\",\"posting\",\"controlled\",\"balls\",\"personally\",\"poker\",\"extract\",\"hired\",\"bugs\",\"providers\",\"loans\",\"calculator\",\"attractions\",\"torrents\",\"keywords\",\"profession\",\"blogging\",\"transport\",\"sue\",\"anonymously\",\"compounds\",\"robot\",\"buddhism\",\"sweet\",\"defense\",\"nobody\",\"uc\",\"defined\",\"division\",\"bags\",\"epic\",\"unhealthy\",\"craziest\",\"urban\",\"combination\",\"pair\",\"laugh\",\"cv\",\"usd\",\"launched\",\"usps\",\"visited\",\"nexus\",\"regularly\",\"brothers\",\"broker\",\"concentrate\",\"agreement\",\"nervous\",\"frozen\",\"detail\",\"sir\",\"situations\",\"borderline\",\"angularjs\",\"abusive\",\"tourism\",\"relate\",\"august\",\"communist\",\"accountant\",\"dumb\",\"arab\",\"b2b\",\"du\",\"thermal\",\"asians\",\"threat\",\"karma\",\"passive\",\"homosexuality\",\"putting\",\"quantitative\",\"relativity\",\"sanskrit\",\"opinions\",\"verify\",\"bear\",\"roll\",\"expanding\",\"teenage\",\"jeans\",\"providing\",\"shared\",\"extreme\",\"mi\",\"vr\",\"progress\",\"greece\",\"cpu\",\"ips\",\"merge\",\"reputation\",\"loving\",\"salman\",\"iss\",\"warm\",\"dental\",\"extension\",\"attraction\",\"fictional\",\"journal\",\"login\",\"secondary\",\"recognize\",\"southern\",\"ph\",\"lunch\",\"wallet\",\"ronaldo\",\"larger\",\"actions\",\"fathers\",\"adopt\",\"claims\",\"bottom\",\"therapy\",\"patient\",\"described\",\"virginity\",\"functional\",\"ionic\",\"chartered\",\"discover\",\"55\",\"21st\",\"biased\",\"mad\",\"northern\",\"onto\",\"liberals\",\"premium\",\"neutral\",\"detect\",\"diagram\",\"sperm\",\"ga\",\"bleach\",\"spread\",\"contributions\",\"activate\",\"prior\",\"safest\",\"holder\",\"360\",\"aim\",\"rental\",\"families\",\"everybody\",\"shut\",\"payments\",\"150\",\"cube\",\"vegan\",\"newspaper\",\"beef\",\"houses\",\"preferred\",\"simultaneously\",\"marked\",\"reactions\",\"emergency\",\"protection\",\"cab\",\"forex\",\"norway\",\"immigrants\",\"googles\",\"ssb\",\"wing\",\"yrs\",\"ensure\",\"spy\",\"reasoning\",\"strange\",\"forgive\",\"turkish\",\"tag\",\"ranking\",\"platforms\",\"fox\",\"existed\",\"walmart\",\"lazy\",\"ears\",\"clock\",\"beam\",\"rare\",\"bush\",\"2011\",\"stops\",\"batteries\",\"certified\",\"naked\",\"worldwide\",\"staying\",\"lifetime\",\"ted\",\"lake\",\"wealthy\",\"transit\",\"stephen\",\"rural\",\"versa\",\"pets\",\"commonly\",\"adults\",\"ultimate\",\"genius\",\"vinegar\",\"allows\",\"aid\",\"retirement\",\"airtel\",\"sciences\",\"mountain\",\"drinks\",\"tour\",\"wind\",\"seattle\",\"disabled\",\"bodies\",\"lesbian\",\"governments\",\"kinetic\",\"tumblr\",\"absolute\",\"author\",\"toilet\",\"whey\",\"sleepy\",\"molecular\",\"watches\",\"inventions\",\"rain\",\"34\",\"angular\",\"o\",\"dish\",\"however\",\"agents\",\"abs\",\"switzerland\",\"transformer\",\"clearing\",\"consciousness\",\"broadband\",\"uae\",\"automatic\",\"opposed\",\"geography\",\"astronauts\",\"decisions\",\"cement\",\"induction\",\"luxury\",\"upvotes\",\"politicians\",\"posted\",\"toefl\",\"kitchen\",\"noise\",\"radius\",\"dye\",\"miles\",\"risks\",\"scientifically\",\"mnc\",\"propose\",\"prepared\",\"iiit\",\"mention\",\"equipment\",\"darth\",\"january\",\"surname\",\"raised\",\"attitude\",\"gta\",\"david\",\"hike\",\"awkward\",\"proven\",\"productive\",\"lg\",\"filled\",\"atmosphere\",\"lee\",\"irctc\",\"addicted\",\"dynamic\",\"employment\",\"weekend\",\"replacement\",\"singing\",\"owners\",\"bipolar\",\"tomorrow\",\"poems\",\"default\",\"kvpy\",\"sauce\",\"competitors\",\"russians\",\"sample\",\"crimes\",\"hang\",\"inspired\",\"furniture\",\"throughout\",\"presence\",\"efficiency\",\"leg\",\"biological\",\"pilani\",\"conversations\",\"inspirational\",\"bachelor\",\"centers\",\"withdraw\",\"fundamental\",\"comparison\",\"november\",\"fifa\",\"penalty\",\"algebra\",\"joke\",\"htc\",\"pilots\",\"collapse\",\"texts\",\"vocabulary\",\"moved\",\"sc\",\"smile\",\"october\",\"dot\",\"genetic\",\"architect\",\"url\",\"51\",\"sore\",\"uniform\",\"re\",\"rails\",\"smaller\",\"marine\",\"terrorists\",\"nazi\",\"breast\",\"politician\",\"subtitles\",\"chosen\",\"egypt\",\"thin\",\"packages\",\"editor\",\"bands\",\"mythology\",\"reasonable\",\"permit\",\"acceptable\",\"seriously\",\"iraq\",\"fever\",\"visitor\",\"honest\",\"friction\",\"offering\",\"smarter\",\"ahmedabad\",\"replaced\",\"resolution\",\"burning\",\"bridge\",\"catholic\",\"calendar\",\"resident\",\"policies\",\"forced\",\"leading\",\"arm\",\"deserve\",\"context\",\"coolest\",\"arranged\",\"arizona\",\"comics\",\"harm\",\"democrats\",\"jail\",\"breed\",\"anywhere\",\"psu\",\"christ\",\"violence\",\"agriculture\",\"objective\",\"moments\",\"infinity\",\"supporting\",\"critical\",\"trees\",\"beyond\",\"bag\",\"vitamin\",\"assembly\",\"solved\",\"array\",\"perspective\",\"pas\",\"wwii\",\"skinny\",\"contains\",\"lift\",\"cleaning\",\"peter\",\"aap\",\"pimples\",\"initial\",\"lesserknown\",\"sights\",\"principles\",\"realize\",\"millionaire\",\"faux\",\"orbit\",\"desire\",\"hi\",\"prophet\",\"suits\",\"careers\",\"thinks\",\"quantity\",\"spots\",\"wage\",\"asleep\",\"sociology\",\"guard\",\"units\",\"structural\",\"operation\",\"pants\",\"w\",\"bulk\",\"possibly\",\"drunk\",\"fired\",\"accident\",\"inch\",\"bottle\",\"aerospace\",\"narcissist\",\"ux\",\"angeles\",\"wood\",\"index\",\"safely\",\"robotics\",\"edition\",\"metals\",\"practices\",\"scheme\",\"interior\",\"diabetes\",\"nobel\",\"youth\",\"lived\",\"september\",\"chief\",\"proposed\",\"assuming\",\"sin\",\"counter\",\"disable\",\"introduce\",\"restore\",\"swimming\",\"intern\",\"answering\",\"mentioned\",\"crash\",\"laser\",\"teenagers\",\"presentation\",\"quran\",\"classified\",\"demonetisation\",\"communicate\",\"cotton\",\"autism\",\"anger\",\"environmental\",\"stable\",\"7th\",\"bread\",\"invited\",\"wisdom\",\"wrote\",\"widely\",\"minor\",\"formal\",\"dreaming\",\"managers\",\"escape\",\"pollution\",\"taiwan\",\"verification\",\"los\",\"figures\",\"26\",\"illness\",\"sides\",\"compatible\",\"pack\",\"conspiracy\",\"hedge\",\"flights\",\"dropped\",\"former\",\"suffer\",\"aware\",\"designers\",\"mahabharata\",\"evolve\",\"weigh\",\"dies\",\"fruits\",\"cc\",\"butter\",\"sharing\",\"atoms\",\"tongue\",\"transaction\",\"poverty\",\"suffering\",\"presidents\",\"resistance\",\"adam\",\"civilization\",\"mining\",\"toronto\",\"stick\",\"increased\",\"wild\",\"freelance\",\"removal\",\"aws\",\"rio\",\"principle\",\"asus\",\"cute\",\"consumer\",\"pool\",\"variable\",\"tutorials\",\"advance\",\"keeping\",\"visible\",\"cognizant\",\"equations\",\"rooms\",\"krishna\",\"printer\",\"tooth\",\"mentally\",\"realistic\",\"automobile\",\"cake\",\"tie\",\"beach\",\"ghost\",\"comfortable\",\"mysql\",\"oral\",\"closed\",\"helps\",\"maharashtra\",\"admissions\",\"i5\",\"partners\",\"axis\",\"beliefs\",\"neck\",\"clans\",\"hidden\",\"cyber\",\"voting\",\"bacteria\",\"layer\",\"chhattisgarh\",\"5000\",\"sitting\",\"murder\",\"argument\",\"f\",\"privacy\",\"syndrome\",\"2010\",\"bite\",\"vacation\",\"isro\",\"trouble\",\"records\",\"answered\",\"digit\",\"defeat\",\"childhood\",\"5s\",\"gates\",\"f1\",\"town\",\"anal\",\"copper\",\"talks\",\"affiliate\",\"sociopath\",\"installed\",\"static\",\"copyright\",\"animation\",\"donate\",\"stranger\",\"bcom\",\"destroyed\",\"gujarat\",\"foundation\",\"prize\",\"components\",\"foreigner\",\"arms\",\"unlimited\",\"needing\",\"settings\",\"item\",\"eve\",\"competition\",\"landing\",\"beard\",\"patent\",\"ending\",\"2020\",\"incident\",\"petroleum\",\"florida\",\"particularly\",\"ups\",\"generator\",\"leather\",\"heal\",\"experiment\",\"28\",\"passing\",\"talent\",\"remote\",\"300\",\"published\",\"impossible\",\"steam\",\"80\",\"washing\",\"guilty\",\"punjab\",\"70\",\"album\",\"bullet\",\"paris\",\"interface\",\"agencies\",\"mission\",\"digits\",\"modis\",\"recruitment\",\"manipal\",\"telling\",\"meal\",\"orange\",\"stone\",\"links\",\"ab\",\"upper\",\"cameras\",\"p\",\"combat\",\"passion\",\"shower\",\"thailand\",\"beings\",\"grad\",\"27\",\"finger\",\"jump\",\"lights\",\"ui\",\"bba\",\"sweden\",\"arrive\",\"4th\",\"amendment\",\"window\",\"satellite\",\"al\",\"matlab\",\"jokes\",\"muhammad\",\"expression\",\"booking\",\"dinner\",\"skype\",\"lots\",\"2018\",\"teen\",\"finish\",\"dslr\",\"mens\",\"proud\",\"entrepreneurs\",\"ukraine\",\"coins\",\"scenario\",\"transmission\",\"ignore\",\"pride\",\"contribute\",\"grand\",\"curve\",\"false\",\"operations\",\"breakup\",\"eventually\",\"acquire\",\"commission\",\"lies\",\"spoken\",\"pills\",\"masturbating\",\"jackson\",\"airbnb\",\"delivered\",\"disk\",\"radiation\",\"plays\",\"marvel\",\"particle\",\"breakfast\",\"smartphones\",\"relevant\",\"quota\",\"refund\",\"inches\",\"telugu\",\"angel\",\"eastern\",\"inflation\",\"predict\",\"annoying\",\"obc\",\"tough\",\"conduct\",\"originate\",\"notification\",\"backup\",\"harder\",\"richest\",\"pronounce\",\"sri\",\"wheel\",\"wasnt\",\"oldest\",\"sheet\",\"soda\",\"20s\",\"wipro\",\"awesome\",\"facial\",\"z\",\"noida\",\"confident\",\"fbi\",\"corrupt\",\"succeed\",\"reddit\",\"associate\",\"input\",\"guns\",\"rahul\",\"baking\",\"description\",\"musical\",\"apache\",\"nowadays\",\"fluid\",\"capacity\",\"loose\",\"freshman\",\"cfa\",\"optional\",\"theres\",\"ps4\",\"trends\",\"jon\",\"richard\",\"legit\",\"nodejs\",\"document\",\"sexually\",\"particles\",\"singer\",\"printing\",\"captain\",\"valuable\",\"several\",\"aiims\",\"boot\",\"sit\",\"zone\",\"billionaire\",\"floor\",\"gravitational\",\"export\",\"motivation\",\"golden\",\"transgender\",\"healthcare\",\"heaven\",\"81\",\"leaves\",\"listening\",\"overall\",\"press\",\"dishes\",\"railways\",\"warming\",\"enfield\",\"extent\",\"acceleration\",\"afford\",\"bonds\",\"border\",\"registration\",\"cast\",\"hope\",\"shipping\",\"karnataka\",\"specifically\",\"opportunity\",\"arabia\",\"pump\",\"pg\",\"carrier\",\"plot\",\"kingdom\",\"contract\",\"painful\",\"kindle\",\"boring\",\"essential\",\"disney\",\"charger\",\"seconds\",\"measured\",\"honda\",\"ba\",\"makeup\",\"\\u2013\",\"mini\",\"annual\",\"traits\",\"retrieve\",\"willing\",\"swift\",\"consume\",\"hindus\",\"psychopath\",\"tells\",\"solving\",\"conditions\",\"artists\",\"spotify\",\"bomb\",\"integrate\",\"stuck\",\"nikon\",\"gadgets\",\"womens\",\"judge\",\"republicans\",\"vacuum\",\"felt\",\"putin\",\"tennis\",\"concentration\",\"fans\",\"constantly\",\"matrix\",\"secrets\",\"spot\",\"soft\",\"stored\",\"neural\",\"submit\",\"scores\",\"ola\",\"wire\",\"gdp\",\"jaipur\",\"typically\",\"airline\",\"roles\",\"cheaper\",\"machines\",\"shift\",\"impress\",\"basics\",\"32\",\"conservative\",\"birds\",\"tend\",\"duty\",\"setup\",\"rude\",\"pink\",\"church\",\"mine\",\"jack\",\"sending\",\"cooking\",\"versus\",\"expert\",\"olympic\",\"biotechnology\",\"gurgaon\",\"worked\",\"codes\",\"successfully\",\"hardware\",\"faith\",\"pr\",\"television\",\"compound\",\"vit\",\"universal\",\"thank\",\"grammatically\",\"chicago\",\"ivy\",\"worried\",\"enterprise\",\"sodium\",\"railway\",\"remedies\",\"racism\",\"tracking\",\"psychological\",\"apartment\",\"magazine\",\"martial\",\"beauty\",\"waiting\",\"attacks\",\"horror\",\"fantasy\",\"ma\",\"select\",\"increasing\",\"metro\",\"opt\",\"map\",\"watched\",\"gear\",\"icloud\",\"james\",\"comedy\",\"lollipop\",\"ireland\",\"upcoming\",\"italian\",\"oven\",\"emotionally\",\"decided\",\"lakh\",\"grey\",\"kept\",\"produced\",\"mouth\",\"manual\",\"dhoni\",\"fill\",\"throat\",\"shoot\",\"liked\",\"innovative\",\"immediately\",\"lonely\",\"fighting\",\"max\",\"accidentally\",\"schedule\",\"orgasm\",\"rape\",\"ride\",\"muscles\",\"graduates\",\"taller\",\"boost\",\"lakhs\",\"microwave\",\"electrons\",\"upon\",\"attract\",\"ap\",\"abuse\",\"earths\",\"forever\",\"underrated\",\"facing\",\"terrorist\",\"alien\",\"celebrity\",\"frequently\",\"vpn\",\"wales\",\"powder\",\"superman\",\"mixed\",\"caught\",\"goods\",\"beginning\",\"starts\",\"atomic\",\"associated\",\"triangle\",\"parties\",\"banning\",\"k\",\"honey\",\"monitor\",\"graph\",\"leaders\",\"embedded\",\"juice\",\"split\",\"lady\",\"sequence\",\"911\",\"harassment\",\"nepal\",\"pop\",\"habit\",\"setting\",\"edge\",\"ww2\",\"gps\",\"federal\",\"charged\",\"lying\",\"empty\",\"whenever\",\"airplane\",\"jet\",\"destroy\",\"ies\",\"wouldnt\",\"quick\",\"decrease\",\"robert\",\"pradesh\",\"professors\",\"massage\",\"held\",\"spending\",\"markets\",\"objects\",\"chart\",\"mechanics\",\"silver\",\"usage\",\"basketball\",\"gen\",\"periods\",\"identity\",\"individuals\",\"css\",\"soul\",\"ipod\",\"chest\",\"understanding\",\"coast\",\"classic\",\"spain\",\"babies\",\"sd\",\"hostel\",\"shirt\",\"further\",\"logical\",\"franchise\",\"obtain\",\"foreigners\",\"fully\",\"region\",\"designed\",\"cheated\",\"beneficial\",\"shes\",\"accent\",\"couldnt\",\"queen\",\"sick\",\"blowing\",\"properly\",\"stronger\",\"returns\",\"condition\",\"musk\",\"ugly\",\"teams\",\"filter\",\"snow\",\"glasses\",\"employer\",\"solid\",\"followed\",\"embarrassing\",\"auto\",\"meeting\",\"belong\",\"strike\",\"internships\",\"bachelors\",\"administration\",\"temple\",\"wealth\",\"retail\",\"speakers\",\"electoral\",\"headphones\",\"streaming\",\"mirror\",\"diesel\",\"republic\",\"antivirus\",\"customers\",\"atm\",\"vagina\",\"cigarettes\",\"aptitude\",\"lewis\",\"saudi\",\"puppy\",\"recovery\",\"jimmy\",\"obsessed\",\"domestic\",\"pen\",\"batch\",\"de\",\"drawing\",\"ai\",\"medium\",\"simply\",\"photoshop\",\"sms\",\"turning\",\"nadu\",\"appropriate\",\"adobe\",\"substitute\",\"fruit\",\"recipes\",\"fighter\",\"saving\",\"greater\",\"cheat\",\"routine\",\"push\",\"sherlock\",\"arguments\",\"sony\",\"import\",\"soldiers\",\"charges\",\"emotions\",\"ibm\",\"un\",\"innovations\",\"itunes\",\"consultant\",\"iims\",\"relations\",\"psychopaths\",\"existing\",\"angle\",\"clash\",\"bus\",\"australian\",\"crazy\",\"pull\",\"theories\",\"savings\",\"suit\",\"contrast\",\"calculus\",\"pi\",\"credits\",\"bluetooth\",\"himself\",\"traveling\",\"criminal\",\"xiaomi\",\"zealand\",\"seats\",\"electron\",\"script\",\"11th\",\"lessons\",\"programmers\",\"december\",\"flag\",\"singh\",\"arabic\",\"sale\",\"nfl\",\"grammar\",\"killing\",\"virgin\",\"differently\",\"poem\",\"provided\",\"automation\",\"shy\",\"translation\",\"mathematical\",\"45\",\"celebrities\",\"spring\",\"downloading\",\"dr\",\"organization\",\"majority\",\"clients\",\"hd\",\"motivate\",\"thats\",\"thesis\",\"door\",\"weakest\",\"saw\",\"canon\",\"younger\",\"costs\",\"river\",\"rings\",\"factory\",\"decent\",\"clintons\",\"holes\",\"desert\",\"divorce\",\"sold\",\"cheese\",\"atom\",\"taught\",\"minute\",\"ocean\",\"crisis\",\"represent\",\"surgical\",\"parent\",\"brexit\",\"possibility\",\"longest\",\"edit\",\"scholarship\",\"motivated\",\"chocolate\",\"faced\",\"90\",\"parallel\",\"foot\",\"examination\",\"friendly\",\"kinds\",\"wins\",\"islamic\",\"degrees\",\"registered\",\"distribution\",\"junior\",\"gave\",\"sing\",\"articles\",\"hadoop\",\"saved\",\"hero\",\"ear\",\"asks\",\"improved\",\"teenager\",\"forms\",\"wash\",\"provides\",\"washington\",\"strikes\",\"binary\",\"syria\",\"indonesia\",\"powers\",\"highly\",\"heshe\",\"happiness\",\"director\",\"citizenship\",\"knew\",\"humanity\",\"translate\",\"nba\",\"permanently\",\"soccer\",\"todays\",\"challenges\",\"barack\",\"title\",\"latin\",\"fitness\",\"genuine\",\"investor\",\"dislike\",\"scenes\",\"hacker\",\"bangladesh\",\"ebay\",\"earning\",\"dell\",\"paytm\",\"spouse\",\"bored\",\"roman\",\"official\",\"dragon\",\"park\",\"except\",\"habits\",\"quote\",\"astrology\",\"congress\",\"automatically\",\"island\",\"religions\",\"christianity\",\"supreme\",\"owner\",\"hell\",\"wikipedia\",\"cancel\",\"industries\",\"actress\",\"client\",\"visual\",\"michael\",\"remain\",\"ability\",\"concrete\",\"conflict\",\"string\",\"linear\",\"supposed\",\"engines\",\"2012\",\"\\u2018\",\"lesser\",\"traditional\",\"episodes\",\"goals\",\"tata\",\"opening\",\"target\",\"weak\",\"anonymous\",\"bjp\",\"resource\",\"concepts\",\"ruby\",\"friendship\",\"nyc\",\"pretty\",\"implement\",\"painting\",\"ill\",\"agency\",\"reverse\",\"confused\",\"italy\",\"response\",\"yellow\",\"dance\",\"contain\",\"vice\",\"editing\",\"acting\",\"weirdest\",\"feels\",\"govt\",\"accounting\",\"rise\",\"wise\",\"leaving\",\"lens\",\"artist\",\"arvind\",\"pattern\",\"scared\",\"attention\",\"airlines\",\"sky\",\"malaysia\",\"port\",\"attempt\",\"element\",\"classical\",\"shown\",\"safety\",\"including\",\"tablet\",\"la\",\"terrorism\",\"commit\",\"maps\",\"african\",\"viewed\",\"calling\",\"6s\",\"agent\",\"output\",\"justice\",\"don\",\"addiction\",\"lock\",\"vegetarian\",\"britain\",\"percent\",\"meditation\",\"ibps\",\"monthly\",\"writers\",\"forward\",\"stuff\",\"mr\",\"ready\",\"forgot\",\"flying\",\"recommended\",\"fields\",\"blind\",\"l\",\"hinduism\",\"desktop\",\"host\",\"tattoo\",\"maintain\",\"boards\",\"helpful\",\"semester\",\"load\",\"tier\",\"agree\",\"factor\",\"elon\",\"freshers\",\"sql\",\"cases\",\"exact\",\"confidence\",\"behavior\",\"hacked\",\"quotes\",\"hydrogen\",\"pakistani\",\"masturbate\",\"divided\",\"skill\",\"fine\",\"falling\",\"chess\",\"charging\",\"pages\",\"vector\",\"supporters\",\"waste\",\"sanders\",\"affordable\",\"unlock\",\"techniques\",\"wine\",\"keyboard\",\"cm\",\"wireless\",\"lawyer\",\"egg\",\"cope\",\"mindblowing\",\"recipe\",\"corruption\",\"scored\",\"secure\",\"teaching\",\"opposite\",\"educational\",\"bernie\",\"y\",\"library\",\"models\",\"kid\",\"stack\",\"separate\",\"19\",\"extremely\",\"properties\",\"cable\",\"magic\",\"removed\",\"computing\",\"hospital\",\"beer\",\"christians\",\"twice\",\"kg\",\"consulting\",\"whose\",\"serious\",\"petrol\",\"travelling\",\"revolution\",\"custom\",\"structures\",\"guide\",\"celebrate\",\"lenovo\",\"turned\",\"ielts\",\"grades\",\"fuel\",\"relative\",\"oracle\",\"academy\",\"lack\",\"passed\",\"relation\",\"values\",\"movement\",\"strategies\",\"eu\",\"emotional\",\"legs\",\"pokemon\",\"3g\",\"iran\",\"mostly\",\"jewish\",\"offered\",\"log\",\"hasnt\",\"explanation\",\"signal\",\"stores\",\"syllabus\",\"bits\",\"yoga\",\"weapons\",\"gods\",\"10000\",\"delivery\",\"gb\",\"sum\",\"letters\",\"venture\",\"selection\",\"winning\",\"35\",\"comment\",\"consequences\",\"sport\",\"items\",\"seems\",\"ring\",\"jealous\",\"laptops\",\"criteria\",\"fresh\",\"reference\",\"bitcoin\",\"infinite\",\"perform\",\"brazil\",\"density\",\"plans\",\"hosting\",\"clothing\",\"hong\",\"dying\",\"heavy\",\"steve\",\"gone\",\"damage\",\"missing\",\"ethical\",\"republican\",\"contacts\",\"activity\",\"electronic\",\"qualities\",\"piano\",\"hisher\",\"repair\",\"posts\",\"disease\",\"winter\",\"ten\",\"publish\",\"paint\",\"physically\",\"executive\",\"deposit\",\"elements\",\"xbox\",\"ceo\",\"visitors\",\"discovered\",\"tickets\",\"literature\",\"primary\",\"naturally\",\"senior\",\"u\",\"hardest\",\"debate\",\"frequency\",\"vietnam\",\"cry\",\"assistant\",\"gifts\",\"practical\",\"funny\",\"valid\",\"liberal\",\"refer\",\"beat\",\"shape\",\"institutes\",\"msc\",\"internal\",\"located\",\"significant\",\"scientists\",\"g\",\"ship\",\"proper\",\"independence\",\"added\",\"hes\",\"catch\",\"urine\",\"effectively\",\"named\",\"responsible\",\"strength\",\"whos\",\"immigration\",\"vehicle\",\"tesla\",\"kong\",\"meth\",\"england\",\"huge\",\"pizza\",\"rejected\",\"george\",\"fan\",\"salt\",\"browser\",\"sat\",\"loved\",\"fees\",\"walking\",\"symbol\",\"equity\",\"ubuntu\",\"alternatives\",\"theme\",\"virus\",\"manufacturing\",\"cutoff\",\"pure\",\"22\",\"introvert\",\"unable\",\"greek\",\"rice\",\"gst\",\"happening\",\"centre\",\"kiss\",\"prison\",\"bigger\",\"font\",\"construction\",\"exercises\",\"keeps\",\"gmat\",\"offers\",\"cross\",\"nasa\",\"unit\",\"advertising\",\"cup\",\"fixed\",\"limited\",\"billion\",\"subjects\",\"arts\",\"worlds\",\"stupid\",\"breaking\",\"funding\",\"tank\",\"generate\",\"efficient\",\"exists\",\"atheist\",\"entrepreneur\",\"direction\",\"broken\",\"offline\",\"firms\",\"station\",\"magnetic\",\"include\",\"aliens\",\"tinder\",\"logo\",\"photography\",\"worse\",\"besides\",\"path\",\"somebody\",\"interviews\",\"persons\",\"figure\",\"placed\",\"nation\",\"knows\",\"unmarried\",\"hp\",\"profitable\",\"tricks\",\"boss\",\"reply\",\"scam\",\"circle\",\"processor\",\"debt\",\"growing\",\"royal\",\"fiction\",\"department\",\"mistake\",\"weird\",\"graphics\",\"external\",\"article\",\"volume\",\"scratch\",\"chain\",\"protect\",\"storage\",\"texas\",\"liquid\",\"circuit\",\"graphic\",\"tired\",\"weather\",\"oxygen\",\"velocity\",\"dad\",\"band\",\"teachers\",\"drugs\",\"complex\",\"studio\",\"accenture\",\"leader\",\"levels\",\"goal\",\"logic\",\"acne\",\"plastic\",\"motion\",\"button\",\"peoples\",\"vision\",\"gap\",\"dollar\",\"computers\",\"stomach\",\"sources\",\"constant\",\"draw\",\"dress\",\"calculated\",\"sort\",\"3rd\",\"club\",\"channels\",\"creating\",\"candidates\",\"kejriwal\",\"broke\",\"sentences\",\"format\",\"emails\",\"raw\",\"stanford\",\"completed\",\"documents\",\"pan\",\"showing\",\"enter\",\"unknown\",\"bought\",\"router\",\"claim\",\"six\",\"technologies\",\"\\u20b9\",\"flipkart\",\"infosys\",\"mutual\",\"angry\",\"iits\",\"affected\",\"prices\",\"shares\",\"naruto\",\"processing\",\"finding\",\"democratic\",\"evolution\",\"harmful\",\"dual\",\"virtual\",\"member\",\"wave\",\"actual\",\"extra\",\"radio\",\"citizens\",\"e\",\"hr\",\"previous\",\"stopped\",\"walk\",\"redmi\",\"speaker\",\"torrent\",\"smoke\",\"mistakes\",\"flash\",\"iron\",\"entire\",\"individual\",\"express\",\"flow\",\"mode\",\"aircraft\",\"section\",\"planets\",\"10th\",\"respond\",\"easier\",\"evil\",\"percentile\",\"seeing\",\"calories\",\"upgrade\",\"professor\",\"v\",\"launch\",\"staff\",\"till\",\"silicon\",\"entry\",\"constitution\",\"century\",\"notice\",\"ie\",\"atheists\",\"tests\",\"21\",\"became\",\"kerala\",\"truly\",\"count\",\"essay\",\"papers\",\"accurate\",\"colors\",\"respect\",\"ideal\",\"rock\",\"reliance\",\"peace\",\"masturbation\",\"audio\",\"random\",\"independent\",\"colour\",\"hotels\",\"presidency\",\"generation\",\"paypal\",\"shot\",\"central\",\"released\",\"occur\",\"display\",\"industrial\",\"particular\",\"risk\",\"eg\",\"belly\",\"pet\",\"similarities\",\"organic\",\"marijuana\",\"networks\",\"aspects\",\"flat\",\"d\",\"comments\",\"nose\",\"identify\",\"rbi\",\"improvement\",\"directly\",\"framework\",\"suggestions\",\"designing\",\"brands\",\"religious\",\"influence\",\"novels\",\"statistics\",\"historical\",\"ground\",\"commerce\",\"pregnancy\",\"romantic\",\"failure\",\"wearing\",\"john\",\"apart\",\"bay\",\"symptoms\",\"200\",\"couple\",\"60\",\"canadian\",\"lie\",\"print\",\"carry\",\"gender\",\"experienced\",\"pounds\",\"reservation\",\"either\",\"stage\",\"artificial\",\"fit\",\"blogs\",\"developing\",\"environment\",\"learned\",\"copy\",\"phase\",\"bond\",\"democracy\",\"cgpa\",\"operating\",\"surface\",\"officers\",\"h1b\",\"ip\",\"workout\",\"fee\",\"elected\",\"hands\",\"largest\",\"sad\",\"shouldnt\",\"seat\",\"sister\",\"developers\",\"despite\",\"scene\",\"po\",\"diploma\",\"request\",\"empire\",\"ratio\",\"considering\",\"academic\",\"tree\",\"register\",\"advantage\",\"eligible\",\"nit\",\"shop\",\"intel\",\"funniest\",\"alternative\",\"fail\",\"ads\",\"nature\",\"miss\",\"involved\",\"overrated\",\"attend\",\"freedom\",\"dna\",\"beginners\",\"raise\",\"dry\",\"failed\",\"legally\",\"batman\",\"upload\",\"carbon\",\"regret\",\"applied\",\"points\",\"investors\",\"pick\",\"equivalent\",\"connected\",\"christmas\",\"lyrics\",\"nations\",\"caused\",\"bsc\",\"1st\",\"action\",\"activities\",\"biology\",\"hide\",\"asia\",\"takes\",\"require\",\"alive\",\"mom\",\"cycle\",\"generally\",\"campaign\",\"fair\",\"wake\",\"bit\",\"rules\",\"olympics\",\"racist\",\"areas\",\"eggs\",\"feature\",\"sap\",\"taxes\",\"ad\",\"shall\",\"theyre\",\"species\",\"pilot\",\"firm\",\"fish\",\"define\",\"doctors\",\"piece\",\"itself\",\"bang\",\"solutions\",\"iim\",\"2013\",\"wanted\",\"length\",\"burn\",\"waves\",\"bar\",\"gives\",\"forces\",\"christian\",\"anybody\",\"relationships\",\"nice\",\"wedding\",\"various\",\"brother\",\"films\",\"cream\",\"suddenly\",\"philippines\",\"fashion\",\"truth\",\"gpa\",\"cgl\",\"tall\",\"goa\",\"hacking\",\"statement\",\"reset\",\"materials\",\"played\",\"match\",\"usb\",\"novel\",\"unusual\",\"knowing\",\"selected\",\"valley\",\"chrome\",\"couples\",\"becomes\",\"died\",\"cheating\",\"community\",\"groups\",\"category\",\"pursuing\",\"writer\",\"mexico\",\"anymore\",\"sugar\",\"climate\",\"brown\",\"players\",\"ii\",\"reviews\",\"took\",\"led\",\"connection\",\"begin\",\"html\",\"changing\",\"received\",\"plants\",\"debit\",\"record\",\"revenue\",\"mars\",\"strongest\",\"members\",\"formed\",\"union\",\"thought\",\"existence\",\"kashmir\",\"gandhi\",\"pdf\",\"banned\",\"0\",\"plane\",\"treated\",\"electricity\",\"scale\",\"basis\",\"moral\",\"images\",\"methods\",\"certification\",\"voltage\",\"style\",\"base\",\"excel\",\"amazing\",\"regarding\",\"result\",\"rates\",\"hold\",\"indias\",\"airport\",\"businesses\",\"feet\",\"built\",\"linkedin\",\"signs\",\"above\",\"networking\",\"r\",\"shopping\",\"looks\",\"went\",\"placements\",\"bed\",\"experiences\",\"daughter\",\"tourist\",\"employee\",\"caste\",\"wait\",\"direct\",\"especially\",\"feed\",\"continue\",\"expected\",\"algorithm\",\"depressed\",\"shoes\",\"soon\",\"supply\",\"stress\",\"24\",\"inr\",\"foods\",\"rent\",\"architecture\",\"ban\",\"entrance\",\"actors\",\"messenger\",\"unique\",\"kolkata\",\"funds\",\"rupee\",\"promote\",\"rupees\",\"jews\",\"23\",\"cook\",\"cultural\",\"accepted\",\"hear\",\"glass\",\"road\",\"joining\",\"measure\",\"havent\",\"metal\",\"resume\",\"afraid\",\"turkey\",\"meat\",\"goes\",\"installation\",\"netflix\",\"benefit\",\"demand\",\"release\",\"produce\",\"report\",\"cover\",\"changes\",\"double\",\"2nd\",\"reaction\",\"killed\",\"steel\",\"requirements\",\"france\",\"exchange\",\"ac\",\"quantum\",\"reliable\",\"box\",\"results\",\"lives\",\"treatment\",\"4g\",\"ece\",\"probability\",\"sleeping\",\"philosophy\",\"handle\",\"forget\",\"driver\",\"demonetization\",\"algorithms\",\"trade\",\"rule\",\"muscle\",\"calls\",\"tried\",\"mental\",\"sure\",\"quit\",\"navy\",\"achieve\",\"francisco\",\"location\",\"until\",\"sense\",\"anxiety\",\"wordpress\",\"focus\",\"fact\",\"production\",\"conversation\",\"motor\",\"five\",\"attracted\",\"hit\",\"analyst\",\"moto\",\"isis\",\"chicken\",\"sector\",\"permanent\",\"along\",\"king\",\"slow\",\"candidate\",\"minutes\",\"purchase\",\"gun\",\"selling\",\"usually\",\"\\u2026\",\"fly\",\"round\",\"panel\",\"error\",\"stocks\",\"api\",\"remember\",\"africa\",\"paying\",\"hitler\",\"3d\",\"regular\",\"losing\",\"mail\",\"yahoo\",\"cheapest\",\"older\",\"concept\",\"characters\",\"definition\",\"lines\",\"pm\",\"cloud\",\"cats\",\"russian\",\"ipad\",\"korean\",\"proof\",\"battle\",\"stars\",\"stream\",\"recent\",\"typical\",\"performance\",\"harvard\",\"restaurant\",\"origin\",\"listen\",\"smell\",\"decide\",\"serve\",\"undergraduate\",\"profit\",\"situation\",\"surgery\",\"asking\",\"plant\",\"link\",\"square\",\"completing\",\"four\",\"trust\",\"payment\",\"gym\",\"andor\",\"worklife\",\"guitar\",\"elections\",\"half\",\"investing\",\"scientist\",\"street\",\"needs\",\"native\",\"thoughts\",\"reality\",\"40\",\"medicine\",\"race\",\"choice\",\"longer\",\"came\",\"applying\",\"hiring\",\"west\",\"weed\",\"hacks\",\"step\",\"sea\",\"crime\",\"devices\",\"event\",\"citizen\",\"14\",\"17\",\"ticket\",\"fund\",\"equation\",\"suicide\",\"whom\",\"met\",\"almost\",\"designer\",\"local\",\"departments\",\"khan\",\"customer\",\"banking\",\"javascript\",\"trip\",\"issue\",\"react\",\"cannot\",\"dubai\",\"wall\",\"touch\",\"parts\",\"loves\",\"clothes\",\"straight\",\"sexual\",\"active\",\"inpatient\",\"dreams\",\"protein\",\"table\",\"exercise\",\"lord\",\"mtech\",\"creative\",\"ball\",\"speaking\",\"son\",\"receive\",\"dollars\",\"domain\",\"prospects\",\"hour\",\"graduation\",\"commercial\",\"themselves\",\"factors\",\"jesus\",\"programmer\",\"recommend\",\"replace\",\"chat\",\"placement\",\"episode\",\"fastest\",\"restaurants\",\"object\",\"drivers\",\"gaming\",\"mark\",\"taste\",\"seem\",\"perfect\",\"potential\",\"trumps\",\"appear\",\"rights\",\"equal\",\"rest\",\"package\",\"meant\",\"drop\",\"cool\",\"material\",\"potter\",\"events\",\"convince\",\"completely\",\"n\",\"zero\",\"significance\",\"lower\",\"feelings\",\"followers\",\"evidence\",\"certain\",\"later\",\"original\",\"bible\",\"disorder\",\"testing\",\"via\",\"stand\",\"actor\",\"characteristics\",\"cities\",\"reach\",\"ago\",\"mbbs\",\"speech\",\"electric\",\"approach\",\"scientific\",\"root\",\"analytics\",\"below\",\"grade\",\"mains\",\"topic\",\"fun\",\"ancient\",\"adult\",\"standard\",\"ice\",\"everyday\",\"population\",\"invented\",\"european\",\"intelligent\",\"11\",\"subject\",\"rehab\",\"background\",\"giving\",\"platform\",\"flight\",\"thrones\",\"maths\",\"dc\",\"teeth\",\"mit\",\"weeks\",\"east\",\"means\",\"programs\",\"beginner\",\"heat\",\"third\",\"tea\",\"range\",\"london\",\"maximum\",\"enjoy\",\"2000\",\"cells\",\"quickly\",\"here\",\"expensive\",\"phrase\",\"partner\",\"league\",\"anime\",\"latest\",\"specific\",\"whether\",\"functions\",\"os\",\"fire\",\"saying\",\"secret\",\"13\",\"planet\",\"hole\",\"super\",\"teacher\",\"strong\",\"accounts\",\"minister\",\"database\",\"economic\",\"channel\",\"estate\",\"ram\",\"switch\",\"asian\",\"smoking\",\"branch\",\"israel\",\"18\",\"features\",\"success\",\"lead\",\"total\",\"key\",\"master\",\"ok\",\"favourite\",\"psychology\",\"pok\\u00e9mon\",\"nothing\",\"clean\",\"25\",\"politics\",\"drinking\",\"sometimes\",\"recently\",\"korea\",\"sent\",\"poor\",\"hindu\",\"hollywood\",\"survive\",\"cure\",\"property\",\"return\",\"narendra\",\"budget\",\"sports\",\"limit\",\"arent\",\"boys\",\"driving\",\"whole\",\"cash\",\"smartphone\",\"php\",\"developed\",\"ssc\",\"hot\",\"attractive\",\"tool\",\"physical\",\"ecommerce\",\"sbi\",\"morning\",\"animal\",\"multiple\",\"loan\",\"acid\",\"fresher\",\"spanish\",\"moving\",\"decision\",\"county\",\"determined\",\"becoming\",\"seo\",\"summer\",\"manage\",\"server\",\"competitive\",\"milk\",\"importance\",\"banks\",\"cheap\",\"powerful\",\"issues\",\"penis\",\"according\",\"analysis\",\"bike\",\"position\",\"western\",\"advanced\",\"campus\",\"highest\",\"front\",\"court\",\"status\",\"gravity\",\"positions\",\"comes\",\"steps\",\"complete\",\"electronics\",\"won\",\"hurt\",\"certificate\",\"temperature\",\"player\",\"someones\",\"communication\",\"million\",\"talking\",\"preparing\",\"finance\",\"cancer\",\"9\",\"harry\",\"accept\",\"2014\",\"plus\",\"born\",\"tcs\",\"license\",\"bring\",\"teach\",\"practice\",\"trading\",\"m\",\"might\",\"opportunities\",\"global\",\"wish\",\"outside\",\"attack\",\"procedure\",\"needed\",\"update\",\"coffee\",\"provider\",\"rather\",\"16\",\"allow\",\"tamil\",\"mix\",\"connect\",\"room\",\"watching\",\"deep\",\"york\",\"image\",\"birth\",\"sign\",\"birthday\",\"playing\",\"wars\",\"grads\",\"hire\",\"phones\",\"cbse\",\"details\",\"clear\",\"cricket\",\"dangerous\",\"track\",\"corporate\",\"voice\",\"upsc\",\"content\",\"okay\",\"san\",\"heart\",\"far\",\"heard\",\"prove\",\"positive\",\"moment\",\"sales\",\"opinion\",\"engineers\",\"block\",\"diet\",\"coding\",\"core\",\"baby\",\"father\",\"little\",\"large\",\"blocked\",\"distance\",\"land\",\"simple\",\"husband\",\"told\",\"traffic\",\"prevent\",\"pictures\",\"planning\",\"fear\",\"classes\",\"towards\",\"technical\",\"building\",\"trying\",\"photo\",\"early\",\"uses\",\"sydney\",\"startups\",\"act\",\"id\",\"describe\",\"12th\",\"may\",\"formula\",\"gets\",\"present\",\"wont\",\"cut\",\"treat\",\"mathematics\",\"visiting\",\"eye\",\"policy\",\"close\",\"cse\",\"suitable\",\"version\",\"tools\",\"head\",\"minimum\",\"chennai\",\"easily\",\"method\",\"intelligence\",\"gre\",\"mother\",\"doctor\",\"macbook\",\"deleted\",\"gas\",\"suggest\",\"cards\",\"files\",\"loss\",\"art\",\"easiest\",\"late\",\"among\",\"together\",\"depression\",\"higher\",\"alone\",\"economics\",\"dead\",\"growth\",\"insurance\",\"gold\",\"necessary\",\"neet\",\"blog\",\"example\",\"memory\",\"crack\",\"consider\",\"works\",\"currency\",\"recruit\",\"pursue\",\"strategy\",\"young\",\"cs\",\"projects\",\"50\",\"manager\",\"abroad\",\"schools\",\"illegal\",\"inside\",\"stories\",\"hand\",\"t\",\"greatest\",\"personality\",\"galaxy\",\"device\",\"views\",\"user\",\"chemistry\",\"cars\",\"iq\",\"prefer\",\"picture\",\"nuclear\",\"middle\",\"applications\",\"gmail\",\"laws\",\"final\",\"capital\",\"kids\",\"society\",\"fake\",\"bill\",\"save\",\"though\",\"likely\",\"determine\",\"shows\",\"character\",\"snapchat\",\"youre\",\"eyes\",\"islam\",\"marry\",\"brand\",\"yet\",\"impact\",\"speak\",\"within\",\"rich\",\"resources\",\"net\",\"non\",\"pressure\",\"changed\",\"allowed\",\"obama\",\"cold\",\"running\",\"feeling\",\"jio\",\"football\",\"gift\",\"written\",\"buying\",\"mac\",\"spend\",\"prime\",\"blue\",\"train\",\"studies\",\"negative\",\"thinking\",\"solution\",\"sun\",\"least\",\"following\",\"install\",\"else\",\"muslims\",\"camera\",\"vote\",\"linux\",\"expect\",\"german\",\"recover\",\"starting\",\"crush\",\"coming\",\"muslim\",\"modern\",\"battery\",\"provide\",\"access\",\"presidential\",\"interest\",\"dating\",\"pro\",\"likes\",\"french\",\"singapore\",\"useful\",\"already\",\"professional\",\"percentage\",\"drink\",\"created\",\"board\",\"passport\",\"structure\",\"case\",\"height\",\"microsoft\",\"break\",\"screen\",\"names\",\"chance\",\"special\",\"30\",\"skin\",\"natural\",\"color\",\"interested\",\"amount\",\"pain\",\"healthy\",\"hack\",\"messages\",\"ias\",\"gay\",\"disadvantages\",\"pass\",\"moon\",\"systems\",\"hindi\",\"financial\",\"taken\",\"yes\",\"sim\",\"pregnant\",\"faster\",\"animals\",\"internship\",\"let\",\"photos\",\"balance\",\"sound\",\"due\",\"knowledge\",\"charge\",\"message\",\"officer\",\"solar\",\"military\",\"meet\",\"option\",\"reading\",\"across\",\"overcome\",\"everyone\",\"everything\",\"wife\",\"reduce\",\"chances\",\"samsung\",\"income\",\"bollywood\",\"season\",\"europe\",\"boy\",\"currently\",\"ex\",\"smart\",\"california\",\"engine\",\"paid\",\"army\",\"contact\",\"address\",\"wants\",\"ones\",\"gain\",\"reasons\",\"avoid\",\"please\",\"note\",\"known\",\"pune\",\"film\",\"national\",\"once\",\"users\",\"porn\",\"scope\",\"twitter\",\"drug\",\"rank\",\"japan\",\"fight\",\"transfer\",\"political\",\"green\",\"news\",\"self\",\"uber\",\"basic\",\"british\",\"religion\",\"hyderabad\",\"topics\",\"explain\",\"phd\",\"eating\",\"letter\",\"calculate\",\"ive\",\"tech\",\"personal\",\"japanese\",\"check\",\"hotel\",\"wifi\",\"beautiful\",\"difficult\",\"paper\",\"languages\",\"investment\",\"develop\",\"north\",\"electrical\",\"ios\",\"alcohol\",\"exactly\",\"profile\",\"past\",\"exams\",\"ca\",\"convert\",\"vs\",\"understand\",\"care\",\"dream\",\"try\",\"americans\",\"lost\",\"chemical\",\"source\",\"b\",\"admission\",\"easy\",\"must\",\"three\",\"effect\",\"view\",\"options\",\"page\",\"away\",\"red\",\"said\",\"line\",\"short\",\"happy\",\"security\",\"dark\",\"preparation\",\"second\",\"fat\",\"matter\",\"few\",\"since\",\"role\",\"pc\",\"office\",\"team\",\"delete\",\"cell\",\"election\",\"economy\",\"term\",\"dogs\",\"text\",\"female\",\"effective\",\"brain\",\"share\",\"digital\",\"btech\",\"russia\",\"\\u201c\",\"party\",\"numbers\",\"20\",\"store\",\"male\",\"mass\",\"turn\",\"left\",\"married\",\"rs\",\"taking\",\"those\",\"password\",\"follow\",\"advice\",\"isnt\",\"15\",\"types\",\"network\",\"\\u201d\",\"week\",\"purpose\",\"related\",\"fix\",\"started\",\"courses\",\"masters\",\"grow\",\"8\",\"fast\",\"leave\",\"100\",\"often\",\"found\",\"pros\",\"marriage\",\"cons\",\"quality\",\"words\",\"kill\",\"price\",\"near\",\"modi\",\"enough\",\"search\",\"python\",\"x\",\"blood\",\"math\",\"yourself\",\"drive\",\"size\",\"star\",\"graduate\",\"majors\",\"500\",\"model\",\"studying\",\"general\",\"oil\",\"colleges\",\"area\",\"developer\",\"germany\",\"industry\",\"full\",\"training\",\"says\",\"period\",\"videos\",\"universe\",\"fall\",\"daily\",\"information\",\"foreign\",\"credit\",\"force\",\"12\",\"youve\",\"south\",\"offer\",\"set\",\"add\",\"send\",\"australia\",\"center\",\"1000\",\"famous\",\"2015\",\"lot\",\"function\",\"tax\",\"correct\",\"solve\",\"advantages\",\"coaching\",\"institute\",\"effects\",\"guys\",\"again\",\"group\",\"hours\",\"side\",\"sentence\",\"low\",\"similar\",\"plan\",\"children\",\"answers\",\"talk\",\"marks\",\"ideas\",\"theory\",\"death\",\"compared\",\"night\",\"remove\",\"dog\",\"anything\",\"single\",\"successful\",\"gate\",\"indians\",\"put\",\"problems\",\"move\",\"writing\",\"point\",\"invest\",\"asked\",\"biggest\",\"others\",\"stock\",\"notes\",\"story\",\"machine\",\"private\",\"sell\",\"seen\",\"required\",\"field\",\"file\",\"rate\",\"humans\",\"application\",\"face\",\"sites\",\"mind\",\"facts\",\"mumbai\",\"post\",\"stay\",\"child\",\"terms\",\"products\",\"control\",\"legal\",\"police\",\"didnt\",\"level\",\"worst\",\"hate\",\"visit\",\"called\",\"amazon\",\"causes\",\"health\",\"form\",\"physics\",\"iit\",\"skills\",\"times\",\"medical\",\"based\",\"list\",\"websites\",\"die\",\"part\",\"less\",\"benefits\",\"apple\",\"instead\",\"these\",\"boyfriend\",\"sleep\",\"canada\",\"reason\",\"education\",\"cause\",\"jee\",\"value\",\"today\",\"media\",\"public\",\"happened\",\"product\",\"research\",\"main\",\"behind\",\"international\",\"project\",\"uk\",\"differ\",\"7\",\"places\",\"wear\",\"order\",\"date\",\"etc\",\"small\",\"songs\",\"apps\",\"email\",\"given\",\"wrong\",\"site\",\"normal\",\"culture\",\"also\",\"civil\",\"city\",\"available\",\"house\",\"exist\",\"startup\",\"services\",\"ms\",\"both\",\"down\",\"2017\",\"run\",\"cat\",\"well\",\"space\",\"join\",\"deal\",\"games\",\"visa\",\"rid\",\"air\",\"speed\",\"popular\",\"problem\",\"support\",\"current\",\"pakistan\",\"choose\",\"build\",\"idea\",\"america\",\"whatsapp\",\"affect\",\"law\",\"technology\",\"call\",\"6\",\"universities\",\"family\",\"marketing\",\"major\",\"actually\",\"favorite\",\"light\",\"bangalore\",\"woman\",\"because\",\"type\",\"program\",\"looking\",\"living\",\"open\",\"believe\",\"month\",\"able\",\"management\",\"travel\",\"degree\",\"show\",\"interesting\",\"score\",\"months\",\"series\",\"chinese\",\"development\",\"end\",\"code\",\"design\",\"per\",\"employees\",\"review\",\"clinton\",\"common\",\"kind\",\"internet\",\"song\",\"download\",\"course\",\"parents\",\"jobs\",\"such\",\"increase\",\"java\",\"god\",\"another\",\"united\",\"girlfriend\",\"mechanical\",\"always\",\"next\",\"never\",\"around\",\"tips\",\"mba\",\"myself\",\"hillary\",\"apply\",\"answer\",\"something\",\"considered\",\"making\",\"differences\",\"market\",\"compare\",\"great\",\"keep\",\"test\",\"s\",\"win\",\"against\",\"states\",\"earn\",\"youtube\",\"worth\",\"delhi\",\"energy\",\"laptop\",\"american\",\"lose\",\"each\",\"hard\",\"makes\",\"age\",\"ask\",\"safe\",\"body\",\"power\",\"salary\",\"4\",\"watch\",\"white\",\"windows\",\"instagram\",\"history\",\"pay\",\"every\",\"last\",\"create\",\"relationship\",\"music\",\"too\",\"meaning\",\"state\",\"average\",\"earth\",\"got\",\"process\",\"class\",\"tv\",\"eat\",\"done\",\"happens\",\"days\",\"big\",\"off\",\"improve\",\"future\",\"place\",\"man\",\"human\",\"government\",\"play\",\"countries\",\"food\",\"service\",\"students\",\"weight\",\"game\",\"engineer\",\"write\",\"very\",\"interview\",\"web\",\"tell\",\"social\",\"girls\",\"video\",\"look\",\"having\",\"guy\",\"home\",\"hair\",\"usa\",\"doesnt\",\"word\",\"bank\",\"friend\",\"true\",\"experience\",\"career\",\"president\",\"question\",\"own\",\"china\",\"come\",\"under\",\"working\",\"him\",\"doing\",\"donald\",\"friends\",\"right\",\"5\",\"cost\",\"mobile\",\"even\",\"movies\",\"then\",\"c\",\"\\u2019\",\"exam\",\"men\",\"learning\",\"card\",\"war\",\"read\",\"programming\",\"black\",\"anyone\",\"high\",\"10\",\"companies\",\"car\",\"getting\",\"give\",\"important\",\"questions\",\"cant\",\"iphone\",\"website\",\"top\",\"water\",\"prepare\",\"during\",\"real\",\"say\",\"system\",\"name\",\"through\",\"two\",\"1\",\"our\",\"study\",\"3\",\"university\",\"made\",\"back\",\"happen\",\"stop\",\"student\",\"sex\",\"bad\",\"language\",\"going\",\"same\",\"before\",\"software\",\"school\",\"live\",\"country\",\"android\",\"science\",\"help\",\"she\",\"see\",\"thing\",\"women\",\"over\",\"data\",\"examples\",\"computer\",\"had\",\"ways\",\"change\",\"while\",\"book\",\"english\",\"account\",\"still\",\"movie\",\"books\",\"2016\",\"facebook\",\"free\",\"number\",\"college\",\"app\",\"2\",\"just\",\"now\",\"no\",\"trump\",\"company\",\"only\",\"old\",\"been\",\"google\",\"phone\",\"long\",\"different\",\"girl\",\"his\",\"her\",\"years\",\"really\",\"them\",\"using\",\"business\",\"need\",\"being\",\"buy\",\"day\",\"person\",\"things\",\"possible\",\"could\",\"were\",\"its\",\"love\",\"engineering\",\"im\",\"used\",\"online\",\"go\",\"year\",\"he\",\"into\",\"feel\",\"dont\",\"first\",\"up\"]]]}}},\"view\":{\"type\":\"object\",\"name\":\"CDSView\",\"id\":\"p1045\",\"attributes\":{\"filter\":{\"type\":\"object\",\"name\":\"AllIndices\",\"id\":\"p1046\"}}},\"glyph\":{\"type\":\"object\",\"name\":\"Scatter\",\"id\":\"p1041\",\"attributes\":{\"x\":{\"type\":\"field\",\"field\":\"x\"},\"y\":{\"type\":\"field\",\"field\":\"y\"},\"size\":{\"type\":\"value\",\"value\":10},\"line_color\":{\"type\":\"field\",\"field\":\"color\"},\"line_alpha\":{\"type\":\"value\",\"value\":0.25},\"fill_color\":{\"type\":\"field\",\"field\":\"color\"},\"fill_alpha\":{\"type\":\"value\",\"value\":0.25},\"hatch_color\":{\"type\":\"field\",\"field\":\"color\"},\"hatch_alpha\":{\"type\":\"value\",\"value\":0.25}}},\"nonselection_glyph\":{\"type\":\"object\",\"name\":\"Scatter\",\"id\":\"p1042\",\"attributes\":{\"x\":{\"type\":\"field\",\"field\":\"x\"},\"y\":{\"type\":\"field\",\"field\":\"y\"},\"size\":{\"type\":\"value\",\"value\":10},\"line_color\":{\"type\":\"field\",\"field\":\"color\"},\"line_alpha\":{\"type\":\"value\",\"value\":0.1},\"fill_color\":{\"type\":\"field\",\"field\":\"color\"},\"fill_alpha\":{\"type\":\"value\",\"value\":0.1},\"hatch_color\":{\"type\":\"field\",\"field\":\"color\"},\"hatch_alpha\":{\"type\":\"value\",\"value\":0.1}}},\"muted_glyph\":{\"type\":\"object\",\"name\":\"Scatter\",\"id\":\"p1043\",\"attributes\":{\"x\":{\"type\":\"field\",\"field\":\"x\"},\"y\":{\"type\":\"field\",\"field\":\"y\"},\"size\":{\"type\":\"value\",\"value\":10},\"line_color\":{\"type\":\"field\",\"field\":\"color\"},\"line_alpha\":{\"type\":\"value\",\"value\":0.2},\"fill_color\":{\"type\":\"field\",\"field\":\"color\"},\"fill_alpha\":{\"type\":\"value\",\"value\":0.2},\"hatch_color\":{\"type\":\"field\",\"field\":\"color\"},\"hatch_alpha\":{\"type\":\"value\",\"value\":0.2}}}}}],\"toolbar\":{\"type\":\"object\",\"name\":\"Toolbar\",\"id\":\"p1012\",\"attributes\":{\"tools\":[{\"type\":\"object\",\"name\":\"PanTool\",\"id\":\"p1025\"},{\"type\":\"object\",\"name\":\"WheelZoomTool\",\"id\":\"p1026\",\"attributes\":{\"renderers\":\"auto\"}},{\"type\":\"object\",\"name\":\"BoxZoomTool\",\"id\":\"p1027\",\"attributes\":{\"overlay\":{\"type\":\"object\",\"name\":\"BoxAnnotation\",\"id\":\"p1028\",\"attributes\":{\"syncable\":false,\"line_color\":\"black\",\"line_alpha\":1.0,\"line_width\":2,\"line_dash\":[4,4],\"fill_color\":\"lightgrey\",\"fill_alpha\":0.5,\"level\":\"overlay\",\"visible\":false,\"left\":{\"type\":\"number\",\"value\":\"nan\"},\"right\":{\"type\":\"number\",\"value\":\"nan\"},\"top\":{\"type\":\"number\",\"value\":\"nan\"},\"bottom\":{\"type\":\"number\",\"value\":\"nan\"},\"left_units\":\"canvas\",\"right_units\":\"canvas\",\"top_units\":\"canvas\",\"bottom_units\":\"canvas\",\"handles\":{\"type\":\"object\",\"name\":\"BoxInteractionHandles\",\"id\":\"p1034\",\"attributes\":{\"all\":{\"type\":\"object\",\"name\":\"AreaVisuals\",\"id\":\"p1033\",\"attributes\":{\"fill_color\":\"white\",\"hover_fill_color\":\"lightgray\"}}}}}}}},{\"type\":\"object\",\"name\":\"SaveTool\",\"id\":\"p1035\"},{\"type\":\"object\",\"name\":\"ResetTool\",\"id\":\"p1036\"},{\"type\":\"object\",\"name\":\"HelpTool\",\"id\":\"p1037\"},{\"type\":\"object\",\"name\":\"HoverTool\",\"id\":\"p1047\",\"attributes\":{\"renderers\":\"auto\",\"tooltips\":[[\"token\",\"@token\"]]}}],\"active_scroll\":{\"id\":\"p1026\"}}},\"left\":[{\"type\":\"object\",\"name\":\"LinearAxis\",\"id\":\"p1020\",\"attributes\":{\"ticker\":{\"type\":\"object\",\"name\":\"BasicTicker\",\"id\":\"p1021\",\"attributes\":{\"mantissas\":[1,2,5]}},\"formatter\":{\"type\":\"object\",\"name\":\"BasicTickFormatter\",\"id\":\"p1022\"},\"major_label_policy\":{\"type\":\"object\",\"name\":\"AllLabels\",\"id\":\"p1023\"}}}],\"below\":[{\"type\":\"object\",\"name\":\"LinearAxis\",\"id\":\"p1015\",\"attributes\":{\"ticker\":{\"type\":\"object\",\"name\":\"BasicTicker\",\"id\":\"p1016\",\"attributes\":{\"mantissas\":[1,2,5]}},\"formatter\":{\"type\":\"object\",\"name\":\"BasicTickFormatter\",\"id\":\"p1017\"},\"major_label_policy\":{\"type\":\"object\",\"name\":\"AllLabels\",\"id\":\"p1018\"}}}],\"center\":[{\"type\":\"object\",\"name\":\"Grid\",\"id\":\"p1019\",\"attributes\":{\"axis\":{\"id\":\"p1015\"}}},{\"type\":\"object\",\"name\":\"Grid\",\"id\":\"p1024\",\"attributes\":{\"dimension\":1,\"axis\":{\"id\":\"p1020\"}}}]}}]}};\n",
              "  const render_items = [{\"docid\":\"94beaa74-13c5-4457-8e0a-a20e41b132a2\",\"roots\":{\"p1004\":\"c315b906-b71c-4abf-8b97-e12d5e77f4aa\"},\"root_ids\":[\"p1004\"]}];\n",
              "  void root.Bokeh.embed.embed_items_notebook(docs_json, render_items);\n",
              "  }\n",
              "  if (root.Bokeh !== undefined) {\n",
              "    embed_document(root);\n",
              "  } else {\n",
              "    let attempts = 0;\n",
              "    const timer = setInterval(function(root) {\n",
              "      if (root.Bokeh !== undefined) {\n",
              "        clearInterval(timer);\n",
              "        embed_document(root);\n",
              "      } else {\n",
              "        attempts++;\n",
              "        if (attempts > 100) {\n",
              "          clearInterval(timer);\n",
              "          console.log(\"Bokeh: ERROR: Unable to run BokehJS code because BokehJS library is missing\");\n",
              "        }\n",
              "      }\n",
              "    }, 10, root)\n",
              "  }\n",
              "})(window);"
            ],
            "application/vnd.bokehjs_exec.v0+json": ""
          },
          "metadata": {
            "application/vnd.bokehjs_exec.v0+json": {
              "id": "p1004"
            }
          }
        },
        {
          "output_type": "execute_result",
          "data": {
            "text/plain": [
              "figure(id='p1004', ...)"
            ],
            "text/html": [
              "<div style=\"display: table;\"><div style=\"display: table-row;\"><div style=\"display: table-cell;\"><b title=\"bokeh.plotting._figure.figure\">figure</b>(</div><div style=\"display: table-cell;\">id&nbsp;=&nbsp;'p1004', <span id=\"p1051\" style=\"cursor: pointer;\">&hellip;)</span></div></div><div class=\"p1050\" style=\"display: none;\"><div style=\"display: table-cell;\"></div><div style=\"display: table-cell;\">above&nbsp;=&nbsp;[],</div></div><div class=\"p1050\" style=\"display: none;\"><div style=\"display: table-cell;\"></div><div style=\"display: table-cell;\">align&nbsp;=&nbsp;'auto',</div></div><div class=\"p1050\" style=\"display: none;\"><div style=\"display: table-cell;\"></div><div style=\"display: table-cell;\">aspect_ratio&nbsp;=&nbsp;None,</div></div><div class=\"p1050\" style=\"display: none;\"><div style=\"display: table-cell;\"></div><div style=\"display: table-cell;\">aspect_scale&nbsp;=&nbsp;1,</div></div><div class=\"p1050\" style=\"display: none;\"><div style=\"display: table-cell;\"></div><div style=\"display: table-cell;\">attribution&nbsp;=&nbsp;[],</div></div><div class=\"p1050\" style=\"display: none;\"><div style=\"display: table-cell;\"></div><div style=\"display: table-cell;\">background_fill_alpha&nbsp;=&nbsp;1.0,</div></div><div class=\"p1050\" style=\"display: none;\"><div style=\"display: table-cell;\"></div><div style=\"display: table-cell;\">background_fill_color&nbsp;=&nbsp;'#ffffff',</div></div><div class=\"p1050\" style=\"display: none;\"><div style=\"display: table-cell;\"></div><div style=\"display: table-cell;\">below&nbsp;=&nbsp;[LinearAxis(id='p1015', ...)],</div></div><div class=\"p1050\" style=\"display: none;\"><div style=\"display: table-cell;\"></div><div style=\"display: table-cell;\">border_fill_alpha&nbsp;=&nbsp;1.0,</div></div><div class=\"p1050\" style=\"display: none;\"><div style=\"display: table-cell;\"></div><div style=\"display: table-cell;\">border_fill_color&nbsp;=&nbsp;'#ffffff',</div></div><div class=\"p1050\" style=\"display: none;\"><div style=\"display: table-cell;\"></div><div style=\"display: table-cell;\">center&nbsp;=&nbsp;[Grid(id='p1019', ...), Grid(id='p1024', ...)],</div></div><div class=\"p1050\" style=\"display: none;\"><div style=\"display: table-cell;\"></div><div style=\"display: table-cell;\">context_menu&nbsp;=&nbsp;None,</div></div><div class=\"p1050\" style=\"display: none;\"><div style=\"display: table-cell;\"></div><div style=\"display: table-cell;\">css_classes&nbsp;=&nbsp;[],</div></div><div class=\"p1050\" style=\"display: none;\"><div style=\"display: table-cell;\"></div><div style=\"display: table-cell;\">css_variables&nbsp;=&nbsp;{},</div></div><div class=\"p1050\" style=\"display: none;\"><div style=\"display: table-cell;\"></div><div style=\"display: table-cell;\">disabled&nbsp;=&nbsp;False,</div></div><div class=\"p1050\" style=\"display: none;\"><div style=\"display: table-cell;\"></div><div style=\"display: table-cell;\">elements&nbsp;=&nbsp;[],</div></div><div class=\"p1050\" style=\"display: none;\"><div style=\"display: table-cell;\"></div><div style=\"display: table-cell;\">extra_x_ranges&nbsp;=&nbsp;{},</div></div><div class=\"p1050\" style=\"display: none;\"><div style=\"display: table-cell;\"></div><div style=\"display: table-cell;\">extra_x_scales&nbsp;=&nbsp;{},</div></div><div class=\"p1050\" style=\"display: none;\"><div style=\"display: table-cell;\"></div><div style=\"display: table-cell;\">extra_y_ranges&nbsp;=&nbsp;{},</div></div><div class=\"p1050\" style=\"display: none;\"><div style=\"display: table-cell;\"></div><div style=\"display: table-cell;\">extra_y_scales&nbsp;=&nbsp;{},</div></div><div class=\"p1050\" style=\"display: none;\"><div style=\"display: table-cell;\"></div><div style=\"display: table-cell;\">flow_mode&nbsp;=&nbsp;'block',</div></div><div class=\"p1050\" style=\"display: none;\"><div style=\"display: table-cell;\"></div><div style=\"display: table-cell;\">frame_align&nbsp;=&nbsp;True,</div></div><div class=\"p1050\" style=\"display: none;\"><div style=\"display: table-cell;\"></div><div style=\"display: table-cell;\">frame_height&nbsp;=&nbsp;None,</div></div><div class=\"p1050\" style=\"display: none;\"><div style=\"display: table-cell;\"></div><div style=\"display: table-cell;\">frame_width&nbsp;=&nbsp;None,</div></div><div class=\"p1050\" style=\"display: none;\"><div style=\"display: table-cell;\"></div><div style=\"display: table-cell;\">height&nbsp;=&nbsp;400,</div></div><div class=\"p1050\" style=\"display: none;\"><div style=\"display: table-cell;\"></div><div style=\"display: table-cell;\">height_policy&nbsp;=&nbsp;'auto',</div></div><div class=\"p1050\" style=\"display: none;\"><div style=\"display: table-cell;\"></div><div style=\"display: table-cell;\">hidpi&nbsp;=&nbsp;True,</div></div><div class=\"p1050\" style=\"display: none;\"><div style=\"display: table-cell;\"></div><div style=\"display: table-cell;\">hold_render&nbsp;=&nbsp;False,</div></div><div class=\"p1050\" style=\"display: none;\"><div style=\"display: table-cell;\"></div><div style=\"display: table-cell;\">js_event_callbacks&nbsp;=&nbsp;{},</div></div><div class=\"p1050\" style=\"display: none;\"><div style=\"display: table-cell;\"></div><div style=\"display: table-cell;\">js_property_callbacks&nbsp;=&nbsp;{},</div></div><div class=\"p1050\" style=\"display: none;\"><div style=\"display: table-cell;\"></div><div style=\"display: table-cell;\">left&nbsp;=&nbsp;[LinearAxis(id='p1020', ...)],</div></div><div class=\"p1050\" style=\"display: none;\"><div style=\"display: table-cell;\"></div><div style=\"display: table-cell;\">lod_factor&nbsp;=&nbsp;10,</div></div><div class=\"p1050\" style=\"display: none;\"><div style=\"display: table-cell;\"></div><div style=\"display: table-cell;\">lod_interval&nbsp;=&nbsp;300,</div></div><div class=\"p1050\" style=\"display: none;\"><div style=\"display: table-cell;\"></div><div style=\"display: table-cell;\">lod_threshold&nbsp;=&nbsp;2000,</div></div><div class=\"p1050\" style=\"display: none;\"><div style=\"display: table-cell;\"></div><div style=\"display: table-cell;\">lod_timeout&nbsp;=&nbsp;500,</div></div><div class=\"p1050\" style=\"display: none;\"><div style=\"display: table-cell;\"></div><div style=\"display: table-cell;\">margin&nbsp;=&nbsp;None,</div></div><div class=\"p1050\" style=\"display: none;\"><div style=\"display: table-cell;\"></div><div style=\"display: table-cell;\">match_aspect&nbsp;=&nbsp;False,</div></div><div class=\"p1050\" style=\"display: none;\"><div style=\"display: table-cell;\"></div><div style=\"display: table-cell;\">max_height&nbsp;=&nbsp;None,</div></div><div class=\"p1050\" style=\"display: none;\"><div style=\"display: table-cell;\"></div><div style=\"display: table-cell;\">max_width&nbsp;=&nbsp;None,</div></div><div class=\"p1050\" style=\"display: none;\"><div style=\"display: table-cell;\"></div><div style=\"display: table-cell;\">min_border&nbsp;=&nbsp;5,</div></div><div class=\"p1050\" style=\"display: none;\"><div style=\"display: table-cell;\"></div><div style=\"display: table-cell;\">min_border_bottom&nbsp;=&nbsp;None,</div></div><div class=\"p1050\" style=\"display: none;\"><div style=\"display: table-cell;\"></div><div style=\"display: table-cell;\">min_border_left&nbsp;=&nbsp;None,</div></div><div class=\"p1050\" style=\"display: none;\"><div style=\"display: table-cell;\"></div><div style=\"display: table-cell;\">min_border_right&nbsp;=&nbsp;None,</div></div><div class=\"p1050\" style=\"display: none;\"><div style=\"display: table-cell;\"></div><div style=\"display: table-cell;\">min_border_top&nbsp;=&nbsp;None,</div></div><div class=\"p1050\" style=\"display: none;\"><div style=\"display: table-cell;\"></div><div style=\"display: table-cell;\">min_height&nbsp;=&nbsp;None,</div></div><div class=\"p1050\" style=\"display: none;\"><div style=\"display: table-cell;\"></div><div style=\"display: table-cell;\">min_width&nbsp;=&nbsp;None,</div></div><div class=\"p1050\" style=\"display: none;\"><div style=\"display: table-cell;\"></div><div style=\"display: table-cell;\">name&nbsp;=&nbsp;None,</div></div><div class=\"p1050\" style=\"display: none;\"><div style=\"display: table-cell;\"></div><div style=\"display: table-cell;\">outline_line_alpha&nbsp;=&nbsp;1.0,</div></div><div class=\"p1050\" style=\"display: none;\"><div style=\"display: table-cell;\"></div><div style=\"display: table-cell;\">outline_line_cap&nbsp;=&nbsp;'butt',</div></div><div class=\"p1050\" style=\"display: none;\"><div style=\"display: table-cell;\"></div><div style=\"display: table-cell;\">outline_line_color&nbsp;=&nbsp;'#e5e5e5',</div></div><div class=\"p1050\" style=\"display: none;\"><div style=\"display: table-cell;\"></div><div style=\"display: table-cell;\">outline_line_dash&nbsp;=&nbsp;[],</div></div><div class=\"p1050\" style=\"display: none;\"><div style=\"display: table-cell;\"></div><div style=\"display: table-cell;\">outline_line_dash_offset&nbsp;=&nbsp;0,</div></div><div class=\"p1050\" style=\"display: none;\"><div style=\"display: table-cell;\"></div><div style=\"display: table-cell;\">outline_line_join&nbsp;=&nbsp;'bevel',</div></div><div class=\"p1050\" style=\"display: none;\"><div style=\"display: table-cell;\"></div><div style=\"display: table-cell;\">outline_line_width&nbsp;=&nbsp;1,</div></div><div class=\"p1050\" style=\"display: none;\"><div style=\"display: table-cell;\"></div><div style=\"display: table-cell;\">output_backend&nbsp;=&nbsp;'canvas',</div></div><div class=\"p1050\" style=\"display: none;\"><div style=\"display: table-cell;\"></div><div style=\"display: table-cell;\">renderers&nbsp;=&nbsp;[GlyphRenderer(id='p1044', ...)],</div></div><div class=\"p1050\" style=\"display: none;\"><div style=\"display: table-cell;\"></div><div style=\"display: table-cell;\">reset_policy&nbsp;=&nbsp;'standard',</div></div><div class=\"p1050\" style=\"display: none;\"><div style=\"display: table-cell;\"></div><div style=\"display: table-cell;\">resizable&nbsp;=&nbsp;False,</div></div><div class=\"p1050\" style=\"display: none;\"><div style=\"display: table-cell;\"></div><div style=\"display: table-cell;\">right&nbsp;=&nbsp;[],</div></div><div class=\"p1050\" style=\"display: none;\"><div style=\"display: table-cell;\"></div><div style=\"display: table-cell;\">sizing_mode&nbsp;=&nbsp;None,</div></div><div class=\"p1050\" style=\"display: none;\"><div style=\"display: table-cell;\"></div><div style=\"display: table-cell;\">styles&nbsp;=&nbsp;{},</div></div><div class=\"p1050\" style=\"display: none;\"><div style=\"display: table-cell;\"></div><div style=\"display: table-cell;\">stylesheets&nbsp;=&nbsp;[],</div></div><div class=\"p1050\" style=\"display: none;\"><div style=\"display: table-cell;\"></div><div style=\"display: table-cell;\">subscribed_events&nbsp;=&nbsp;PropertyValueSet(),</div></div><div class=\"p1050\" style=\"display: none;\"><div style=\"display: table-cell;\"></div><div style=\"display: table-cell;\">syncable&nbsp;=&nbsp;True,</div></div><div class=\"p1050\" style=\"display: none;\"><div style=\"display: table-cell;\"></div><div style=\"display: table-cell;\">tags&nbsp;=&nbsp;[],</div></div><div class=\"p1050\" style=\"display: none;\"><div style=\"display: table-cell;\"></div><div style=\"display: table-cell;\">title&nbsp;=&nbsp;Title(id='p1011', ...),</div></div><div class=\"p1050\" style=\"display: none;\"><div style=\"display: table-cell;\"></div><div style=\"display: table-cell;\">title_location&nbsp;=&nbsp;'above',</div></div><div class=\"p1050\" style=\"display: none;\"><div style=\"display: table-cell;\"></div><div style=\"display: table-cell;\">toolbar&nbsp;=&nbsp;Toolbar(id='p1012', ...),</div></div><div class=\"p1050\" style=\"display: none;\"><div style=\"display: table-cell;\"></div><div style=\"display: table-cell;\">toolbar_inner&nbsp;=&nbsp;False,</div></div><div class=\"p1050\" style=\"display: none;\"><div style=\"display: table-cell;\"></div><div style=\"display: table-cell;\">toolbar_location&nbsp;=&nbsp;'right',</div></div><div class=\"p1050\" style=\"display: none;\"><div style=\"display: table-cell;\"></div><div style=\"display: table-cell;\">toolbar_sticky&nbsp;=&nbsp;True,</div></div><div class=\"p1050\" style=\"display: none;\"><div style=\"display: table-cell;\"></div><div style=\"display: table-cell;\">visible&nbsp;=&nbsp;True,</div></div><div class=\"p1050\" style=\"display: none;\"><div style=\"display: table-cell;\"></div><div style=\"display: table-cell;\">width&nbsp;=&nbsp;600,</div></div><div class=\"p1050\" style=\"display: none;\"><div style=\"display: table-cell;\"></div><div style=\"display: table-cell;\">width_policy&nbsp;=&nbsp;'auto',</div></div><div class=\"p1050\" style=\"display: none;\"><div style=\"display: table-cell;\"></div><div style=\"display: table-cell;\">x_range&nbsp;=&nbsp;DataRange1d(id='p1005', ...),</div></div><div class=\"p1050\" style=\"display: none;\"><div style=\"display: table-cell;\"></div><div style=\"display: table-cell;\">x_scale&nbsp;=&nbsp;LinearScale(id='p1013', ...),</div></div><div class=\"p1050\" style=\"display: none;\"><div style=\"display: table-cell;\"></div><div style=\"display: table-cell;\">y_range&nbsp;=&nbsp;DataRange1d(id='p1006', ...),</div></div><div class=\"p1050\" style=\"display: none;\"><div style=\"display: table-cell;\"></div><div style=\"display: table-cell;\">y_scale&nbsp;=&nbsp;LinearScale(id='p1014', ...))</div></div></div>\n",
              "<script>\n",
              "(function() {\n",
              "  let expanded = false;\n",
              "  const ellipsis = document.getElementById(\"p1051\");\n",
              "  ellipsis.addEventListener(\"click\", function() {\n",
              "    const rows = document.getElementsByClassName(\"p1050\");\n",
              "    for (let i = 0; i < rows.length; i++) {\n",
              "      const el = rows[i];\n",
              "      el.style.display = expanded ? \"none\" : \"table-row\";\n",
              "    }\n",
              "    ellipsis.innerHTML = expanded ? \"&hellip;)\" : \"&lsaquo;&lsaquo;&lsaquo;\";\n",
              "    expanded = !expanded;\n",
              "  });\n",
              "})();\n",
              "</script>\n"
            ]
          },
          "metadata": {},
          "execution_count": 39
        }
      ],
      "source": [
        "draw_vectors(embedding[:, 0], embedding[:, 1], token=top_words)"
      ]
    },
    {
      "cell_type": "markdown",
      "metadata": {
        "id": "CRI7zasdYCte"
      },
      "source": [
        "Для сдачи задания необходимо загрузить функции `subsample_frequent_words` и `get_negative_sampling_prob`, а также сгенерировать файл для посылки ниже и приложить в соответствующую задачу. Успехов!"
      ]
    },
    {
      "cell_type": "code",
      "execution_count": 40,
      "metadata": {
        "id": "RIVCcs0xYCte",
        "outputId": "31603eae-21e7-4090-f471-d0844ac2f0b4",
        "colab": {
          "base_uri": "https://localhost:8080/"
        }
      },
      "outputs": [
        {
          "output_type": "stream",
          "name": "stdout",
          "text": [
            "File saved to `submission_dict.json`\n"
          ]
        }
      ],
      "source": [
        "# do not change the code in the block below\n",
        "# __________start of block__________\n",
        "import os\n",
        "import json\n",
        "\n",
        "assert os.path.exists(\n",
        "    \"words_subset.txt\"\n",
        "), \"Please, download `words_subset.txt` and place it in the working directory\"\n",
        "\n",
        "with open(\"words_subset.txt\") as iofile:\n",
        "    selected_words = iofile.read().split(\"\\n\")\n",
        "\n",
        "\n",
        "def get_matrix_for_selected_words(selected_words, embedding_matrix, word_to_index):\n",
        "    word_vectors = []\n",
        "    for word in selected_words:\n",
        "        index = word_to_index.get(word, None)\n",
        "        vector = [0.0] * embedding_matrix.shape[1]\n",
        "        if index is not None:\n",
        "            vector = embedding_matrix[index].numpy().tolist()\n",
        "        word_vectors.append(vector)\n",
        "    return word_vectors\n",
        "\n",
        "\n",
        "word_vectors = get_matrix_for_selected_words(\n",
        "    selected_words, embedding_matrix_context, word_to_index\n",
        ")\n",
        "\n",
        "with open(\"submission_dict.json\", \"w\") as iofile:\n",
        "    json.dump(word_vectors, iofile)\n",
        "print(\"File saved to `submission_dict.json`\")\n",
        "# __________end of block__________"
      ]
    },
    {
      "cell_type": "code",
      "source": [],
      "metadata": {
        "id": "EvFuHAwvwz4H"
      },
      "execution_count": null,
      "outputs": []
    }
  ],
  "metadata": {
    "colab": {
      "provenance": []
    },
    "kernelspec": {
      "display_name": "py3_research",
      "language": "python",
      "name": "python3"
    },
    "language_info": {
      "codemirror_mode": {
        "name": "ipython",
        "version": 3
      },
      "file_extension": ".py",
      "mimetype": "text/x-python",
      "name": "python",
      "nbconvert_exporter": "python",
      "pygments_lexer": "ipython3",
      "version": "3.11.2"
    },
    "widgets": {
      "application/vnd.jupyter.widget-state+json": {
        "ff58125a9ee549a98d9312a0aa8d96bf": {
          "model_module": "@jupyter-widgets/controls",
          "model_name": "HBoxModel",
          "model_module_version": "1.5.0",
          "state": {
            "_dom_classes": [],
            "_model_module": "@jupyter-widgets/controls",
            "_model_module_version": "1.5.0",
            "_model_name": "HBoxModel",
            "_view_count": null,
            "_view_module": "@jupyter-widgets/controls",
            "_view_module_version": "1.5.0",
            "_view_name": "HBoxView",
            "box_style": "",
            "children": [
              "IPY_MODEL_3e5c21ea8177474898edf1fcde7a6656",
              "IPY_MODEL_761782012549443597d80ffd51fd2be0",
              "IPY_MODEL_5d3b4f8164394d88acdb7c2465caadaf"
            ],
            "layout": "IPY_MODEL_f697d6c770644ad099cd6e8c24d1bcea"
          }
        },
        "3e5c21ea8177474898edf1fcde7a6656": {
          "model_module": "@jupyter-widgets/controls",
          "model_name": "HTMLModel",
          "model_module_version": "1.5.0",
          "state": {
            "_dom_classes": [],
            "_model_module": "@jupyter-widgets/controls",
            "_model_module_version": "1.5.0",
            "_model_name": "HTMLModel",
            "_view_count": null,
            "_view_module": "@jupyter-widgets/controls",
            "_view_module_version": "1.5.0",
            "_view_name": "HTMLView",
            "description": "",
            "description_tooltip": null,
            "layout": "IPY_MODEL_2783e03621934785a7daf346a949634f",
            "placeholder": "​",
            "style": "IPY_MODEL_4c58496981e94a4c987be465a819a29d",
            "value": "100%"
          }
        },
        "761782012549443597d80ffd51fd2be0": {
          "model_module": "@jupyter-widgets/controls",
          "model_name": "FloatProgressModel",
          "model_module_version": "1.5.0",
          "state": {
            "_dom_classes": [],
            "_model_module": "@jupyter-widgets/controls",
            "_model_module_version": "1.5.0",
            "_model_name": "FloatProgressModel",
            "_view_count": null,
            "_view_module": "@jupyter-widgets/controls",
            "_view_module_version": "1.5.0",
            "_view_name": "ProgressView",
            "bar_style": "success",
            "description": "",
            "description_tooltip": null,
            "layout": "IPY_MODEL_43742733e0774202a276ef95948ec7ed",
            "max": 2500,
            "min": 0,
            "orientation": "horizontal",
            "style": "IPY_MODEL_6ac2ed33fa2e4957a52eaaa0a4601fc3",
            "value": 2500
          }
        },
        "5d3b4f8164394d88acdb7c2465caadaf": {
          "model_module": "@jupyter-widgets/controls",
          "model_name": "HTMLModel",
          "model_module_version": "1.5.0",
          "state": {
            "_dom_classes": [],
            "_model_module": "@jupyter-widgets/controls",
            "_model_module_version": "1.5.0",
            "_model_name": "HTMLModel",
            "_view_count": null,
            "_view_module": "@jupyter-widgets/controls",
            "_view_module_version": "1.5.0",
            "_view_name": "HTMLView",
            "description": "",
            "description_tooltip": null,
            "layout": "IPY_MODEL_c2f246f2848f4ac08cc7aeebd993a868",
            "placeholder": "​",
            "style": "IPY_MODEL_5d8c135da83444d1a2727853f65c9031",
            "value": " 2500/2500 [56:03&lt;00:00,  1.32s/it]"
          }
        },
        "f697d6c770644ad099cd6e8c24d1bcea": {
          "model_module": "@jupyter-widgets/base",
          "model_name": "LayoutModel",
          "model_module_version": "1.2.0",
          "state": {
            "_model_module": "@jupyter-widgets/base",
            "_model_module_version": "1.2.0",
            "_model_name": "LayoutModel",
            "_view_count": null,
            "_view_module": "@jupyter-widgets/base",
            "_view_module_version": "1.2.0",
            "_view_name": "LayoutView",
            "align_content": null,
            "align_items": null,
            "align_self": null,
            "border": null,
            "bottom": null,
            "display": null,
            "flex": null,
            "flex_flow": null,
            "grid_area": null,
            "grid_auto_columns": null,
            "grid_auto_flow": null,
            "grid_auto_rows": null,
            "grid_column": null,
            "grid_gap": null,
            "grid_row": null,
            "grid_template_areas": null,
            "grid_template_columns": null,
            "grid_template_rows": null,
            "height": null,
            "justify_content": null,
            "justify_items": null,
            "left": null,
            "margin": null,
            "max_height": null,
            "max_width": null,
            "min_height": null,
            "min_width": null,
            "object_fit": null,
            "object_position": null,
            "order": null,
            "overflow": null,
            "overflow_x": null,
            "overflow_y": null,
            "padding": null,
            "right": null,
            "top": null,
            "visibility": null,
            "width": null
          }
        },
        "2783e03621934785a7daf346a949634f": {
          "model_module": "@jupyter-widgets/base",
          "model_name": "LayoutModel",
          "model_module_version": "1.2.0",
          "state": {
            "_model_module": "@jupyter-widgets/base",
            "_model_module_version": "1.2.0",
            "_model_name": "LayoutModel",
            "_view_count": null,
            "_view_module": "@jupyter-widgets/base",
            "_view_module_version": "1.2.0",
            "_view_name": "LayoutView",
            "align_content": null,
            "align_items": null,
            "align_self": null,
            "border": null,
            "bottom": null,
            "display": null,
            "flex": null,
            "flex_flow": null,
            "grid_area": null,
            "grid_auto_columns": null,
            "grid_auto_flow": null,
            "grid_auto_rows": null,
            "grid_column": null,
            "grid_gap": null,
            "grid_row": null,
            "grid_template_areas": null,
            "grid_template_columns": null,
            "grid_template_rows": null,
            "height": null,
            "justify_content": null,
            "justify_items": null,
            "left": null,
            "margin": null,
            "max_height": null,
            "max_width": null,
            "min_height": null,
            "min_width": null,
            "object_fit": null,
            "object_position": null,
            "order": null,
            "overflow": null,
            "overflow_x": null,
            "overflow_y": null,
            "padding": null,
            "right": null,
            "top": null,
            "visibility": null,
            "width": null
          }
        },
        "4c58496981e94a4c987be465a819a29d": {
          "model_module": "@jupyter-widgets/controls",
          "model_name": "DescriptionStyleModel",
          "model_module_version": "1.5.0",
          "state": {
            "_model_module": "@jupyter-widgets/controls",
            "_model_module_version": "1.5.0",
            "_model_name": "DescriptionStyleModel",
            "_view_count": null,
            "_view_module": "@jupyter-widgets/base",
            "_view_module_version": "1.2.0",
            "_view_name": "StyleView",
            "description_width": ""
          }
        },
        "43742733e0774202a276ef95948ec7ed": {
          "model_module": "@jupyter-widgets/base",
          "model_name": "LayoutModel",
          "model_module_version": "1.2.0",
          "state": {
            "_model_module": "@jupyter-widgets/base",
            "_model_module_version": "1.2.0",
            "_model_name": "LayoutModel",
            "_view_count": null,
            "_view_module": "@jupyter-widgets/base",
            "_view_module_version": "1.2.0",
            "_view_name": "LayoutView",
            "align_content": null,
            "align_items": null,
            "align_self": null,
            "border": null,
            "bottom": null,
            "display": null,
            "flex": null,
            "flex_flow": null,
            "grid_area": null,
            "grid_auto_columns": null,
            "grid_auto_flow": null,
            "grid_auto_rows": null,
            "grid_column": null,
            "grid_gap": null,
            "grid_row": null,
            "grid_template_areas": null,
            "grid_template_columns": null,
            "grid_template_rows": null,
            "height": null,
            "justify_content": null,
            "justify_items": null,
            "left": null,
            "margin": null,
            "max_height": null,
            "max_width": null,
            "min_height": null,
            "min_width": null,
            "object_fit": null,
            "object_position": null,
            "order": null,
            "overflow": null,
            "overflow_x": null,
            "overflow_y": null,
            "padding": null,
            "right": null,
            "top": null,
            "visibility": null,
            "width": null
          }
        },
        "6ac2ed33fa2e4957a52eaaa0a4601fc3": {
          "model_module": "@jupyter-widgets/controls",
          "model_name": "ProgressStyleModel",
          "model_module_version": "1.5.0",
          "state": {
            "_model_module": "@jupyter-widgets/controls",
            "_model_module_version": "1.5.0",
            "_model_name": "ProgressStyleModel",
            "_view_count": null,
            "_view_module": "@jupyter-widgets/base",
            "_view_module_version": "1.2.0",
            "_view_name": "StyleView",
            "bar_color": null,
            "description_width": ""
          }
        },
        "c2f246f2848f4ac08cc7aeebd993a868": {
          "model_module": "@jupyter-widgets/base",
          "model_name": "LayoutModel",
          "model_module_version": "1.2.0",
          "state": {
            "_model_module": "@jupyter-widgets/base",
            "_model_module_version": "1.2.0",
            "_model_name": "LayoutModel",
            "_view_count": null,
            "_view_module": "@jupyter-widgets/base",
            "_view_module_version": "1.2.0",
            "_view_name": "LayoutView",
            "align_content": null,
            "align_items": null,
            "align_self": null,
            "border": null,
            "bottom": null,
            "display": null,
            "flex": null,
            "flex_flow": null,
            "grid_area": null,
            "grid_auto_columns": null,
            "grid_auto_flow": null,
            "grid_auto_rows": null,
            "grid_column": null,
            "grid_gap": null,
            "grid_row": null,
            "grid_template_areas": null,
            "grid_template_columns": null,
            "grid_template_rows": null,
            "height": null,
            "justify_content": null,
            "justify_items": null,
            "left": null,
            "margin": null,
            "max_height": null,
            "max_width": null,
            "min_height": null,
            "min_width": null,
            "object_fit": null,
            "object_position": null,
            "order": null,
            "overflow": null,
            "overflow_x": null,
            "overflow_y": null,
            "padding": null,
            "right": null,
            "top": null,
            "visibility": null,
            "width": null
          }
        },
        "5d8c135da83444d1a2727853f65c9031": {
          "model_module": "@jupyter-widgets/controls",
          "model_name": "DescriptionStyleModel",
          "model_module_version": "1.5.0",
          "state": {
            "_model_module": "@jupyter-widgets/controls",
            "_model_module_version": "1.5.0",
            "_model_name": "DescriptionStyleModel",
            "_view_count": null,
            "_view_module": "@jupyter-widgets/base",
            "_view_module_version": "1.2.0",
            "_view_name": "StyleView",
            "description_width": ""
          }
        }
      }
    }
  },
  "nbformat": 4,
  "nbformat_minor": 0
}