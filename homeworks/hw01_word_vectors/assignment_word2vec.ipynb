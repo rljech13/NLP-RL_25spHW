{
  "cells": [
    {
      "cell_type": "markdown",
      "metadata": {
        "id": "nTSf4ro-qU0d"
      },
      "source": [
        "## Бонусное задание: word2vec на PyTorch\n",
        "\n",
        "Как вы уже могли заметить, идея, лежащая в основе [word2vec](https://arxiv.org/pdf/1310.4546), достаточно общая. В данном задании вы реализуете его самостоятельно.\n",
        "\n",
        "Дисклеймер: не стоит удивляться тому, что реализация от `gensim` (или аналоги) обучается быстрее и работает точнее. Она использует множество доработок и ускорений, а также достаточно эффективный код. Ваша задача добиться промежуточных результатов за разумное время.\n",
        "\n",
        "P.s. Как ни странно, GPU в этом задании нам не потребуется."
      ]
    },
    {
      "cell_type": "markdown",
      "metadata": {
        "id": "2yVPLpiFlOvJ"
      },
      "source": [
        "__Requirements:__ if you're running locally, in the selected environment run the following command:\n",
        "\n",
        "```pip install --upgrade nltk bokeh umap-learn```\n"
      ]
    },
    {
      "cell_type": "code",
      "execution_count": 25,
      "metadata": {
        "id": "Oipe2DU8qfm7"
      },
      "outputs": [],
      "source": [
        "#!pip install --upgrade nltk bokeh umap-learn"
      ]
    },
    {
      "cell_type": "code",
      "execution_count": 26,
      "metadata": {
        "id": "pqPU4Lu2qU0h"
      },
      "outputs": [],
      "source": [
        "import itertools\n",
        "import random\n",
        "import string\n",
        "from collections import Counter\n",
        "from itertools import chain\n",
        "\n",
        "import matplotlib.pyplot as plt\n",
        "import numpy as np\n",
        "import torch\n",
        "import torch.autograd as autograd\n",
        "import torch.nn as nn\n",
        "import torch.nn.functional as F\n",
        "import torch.optim as optim\n",
        "import umap\n",
        "from IPython.display import clear_output\n",
        "from matplotlib import pyplot as plt\n",
        "from nltk.tokenize import WordPunctTokenizer\n",
        "from torch.optim.lr_scheduler import ReduceLROnPlateau, StepLR\n",
        "from tqdm.auto import tqdm as tqdma"
      ]
    },
    {
      "cell_type": "code",
      "execution_count": 27,
      "metadata": {
        "colab": {
          "base_uri": "https://localhost:8080/"
        },
        "id": "8Fbx57z3qU0i",
        "outputId": "d12a7593-bd53-485e-f876-a6b495619e22"
      },
      "outputs": [
        {
          "output_type": "stream",
          "name": "stdout",
          "text": [
            "File ‘./quora.txt’ already there; not retrieving.\n"
          ]
        }
      ],
      "source": [
        "# download the data:\n",
        "!wget https://www.dropbox.com/s/obaitrix9jyu84r/quora.txt?dl=1 -O ./quora.txt -nc\n",
        "# alternative download link: https://yadi.sk/i/BPQrUu1NaTduEw"
      ]
    },
    {
      "cell_type": "code",
      "execution_count": 28,
      "metadata": {
        "colab": {
          "base_uri": "https://localhost:8080/",
          "height": 35
        },
        "id": "8EYy5dQpqU0i",
        "outputId": "10438bc9-9f7f-41ca-f684-79eea93a74fe",
        "scrolled": false
      },
      "outputs": [
        {
          "output_type": "execute_result",
          "data": {
            "text/plain": [
              "\"What TV shows or books help you read people's body language?\\n\""
            ],
            "application/vnd.google.colaboratory.intrinsic+json": {
              "type": "string"
            }
          },
          "metadata": {},
          "execution_count": 28
        }
      ],
      "source": [
        "data = list(open(\"./quora.txt\", encoding=\"utf-8\"))\n",
        "data[50]"
      ]
    },
    {
      "cell_type": "markdown",
      "metadata": {
        "id": "feBEGI2eqU0j"
      },
      "source": [
        "Токенизация – первый шаг.\n",
        "Тексты, с которыми мы работаем, включают в себя пунктуацию, смайлики и прочие нестандартные токены, так что простой `str.split` не подойдет.\n",
        "\n",
        "Обратимся к `nltk` - библиотеку, нашла широкое применеие в области NLP."
      ]
    },
    {
      "cell_type": "code",
      "execution_count": 29,
      "metadata": {
        "colab": {
          "base_uri": "https://localhost:8080/"
        },
        "id": "7mWTvm50qU0j",
        "outputId": "a300db3c-7ea1-4493-de60-bc60079137b4"
      },
      "outputs": [
        {
          "output_type": "stream",
          "name": "stdout",
          "text": [
            "['What', 'TV', 'shows', 'or', 'books', 'help', 'you', 'read', 'people', \"'\", 's', 'body', 'language', '?']\n"
          ]
        }
      ],
      "source": [
        "tokenizer = WordPunctTokenizer()\n",
        "\n",
        "print(tokenizer.tokenize(data[50]))"
      ]
    },
    {
      "cell_type": "code",
      "execution_count": 30,
      "metadata": {
        "id": "HzC05EHWqU0j"
      },
      "outputs": [],
      "source": [
        "data_tok = [\n",
        "    tokenizer.tokenize(\n",
        "        line.translate(str.maketrans(\"\", \"\", string.punctuation)).lower()\n",
        "    )\n",
        "    for line in data\n",
        "]\n",
        "data_tok = [x for x in data_tok if len(x) >= 3]"
      ]
    },
    {
      "cell_type": "markdown",
      "metadata": {
        "id": "6azRAgHIqU0k"
      },
      "source": [
        "Несколько проверок:"
      ]
    },
    {
      "cell_type": "code",
      "execution_count": 31,
      "metadata": {
        "id": "Cp8UpxdWqU0k"
      },
      "outputs": [],
      "source": [
        "assert all(\n",
        "    isinstance(row, (list, tuple)) for row in data_tok\n",
        "), \"please convert each line into a list of tokens (strings)\"\n",
        "assert all(\n",
        "    all(isinstance(tok, str) for tok in row) for row in data_tok\n",
        "), \"please convert each line into a list of tokens (strings)\"\n",
        "is_latin = lambda tok: all(\"a\" <= x.lower() <= \"z\" for x in tok)\n",
        "assert all(\n",
        "    map(lambda l: not is_latin(l) or l.islower(), map(\" \".join, data_tok))\n",
        "), \"please make sure to lowercase the data\""
      ]
    },
    {
      "cell_type": "markdown",
      "metadata": {
        "id": "37e7-MIhqU0x"
      },
      "source": [
        "Ниже заданы константы ширины окна контекста и проведена предобработка для построения skip-gram модели."
      ]
    },
    {
      "cell_type": "code",
      "execution_count": 32,
      "metadata": {
        "id": "fugc1IomqU0x"
      },
      "outputs": [],
      "source": [
        "min_count = 5\n",
        "window_radius = 5"
      ]
    },
    {
      "cell_type": "code",
      "execution_count": 33,
      "metadata": {
        "id": "YZTCU8K5lOvK"
      },
      "outputs": [],
      "source": [
        "vocabulary_with_counter = Counter(chain.from_iterable(data_tok))\n",
        "\n",
        "word_count_dict = dict()\n",
        "for word, counter in vocabulary_with_counter.items():\n",
        "    if counter >= min_count:\n",
        "        word_count_dict[word] = counter\n",
        "\n",
        "vocabulary = set(word_count_dict.keys())\n",
        "del vocabulary_with_counter"
      ]
    },
    {
      "cell_type": "code",
      "execution_count": 34,
      "metadata": {
        "id": "nZ-j9fgAlOvK"
      },
      "outputs": [],
      "source": [
        "word_to_index = {word: index for index, word in enumerate(vocabulary)}\n",
        "index_to_word = {index: word for word, index in word_to_index.items()}"
      ]
    },
    {
      "cell_type": "markdown",
      "metadata": {
        "id": "4Y8rlBfqqU0x"
      },
      "source": [
        "Пары `(слово, контекст)` на основе доступного датасета сгенерированы ниже."
      ]
    },
    {
      "cell_type": "code",
      "execution_count": 35,
      "metadata": {
        "id": "h2-aqyyaqU0x",
        "outputId": "ad89352f-4b14-4121-a8f6-0e6778a4ee5e",
        "colab": {
          "base_uri": "https://localhost:8080/"
        }
      },
      "outputs": [
        {
          "output_type": "stream",
          "name": "stdout",
          "text": [
            "Generated 40220313 pairs of target and context words.\n"
          ]
        }
      ],
      "source": [
        "context_pairs = []\n",
        "\n",
        "for text in data_tok:\n",
        "    for i, central_word in enumerate(text):\n",
        "        context_indices = range(\n",
        "            max(0, i - window_radius), min(i + window_radius, len(text))\n",
        "        )\n",
        "        for j in context_indices:\n",
        "            if j == i:\n",
        "                continue\n",
        "            context_word = text[j]\n",
        "            if central_word in vocabulary and context_word in vocabulary:\n",
        "                context_pairs.append(\n",
        "                    (word_to_index[central_word], word_to_index[context_word])\n",
        "                )\n",
        "\n",
        "print(f\"Generated {len(context_pairs)} pairs of target and context words.\")"
      ]
    },
    {
      "cell_type": "markdown",
      "metadata": {
        "id": "50czzfNflOvL"
      },
      "source": [
        "#### Подзадача №1: subsampling\n",
        "Для того, чтобы сгладить разницу в частоте встречаемсости слов, необходимо реализовать механизм subsampling'а.\n",
        "Для этого вам необходимо реализовать функцию ниже.\n",
        "\n",
        "Вероятность **исключить** слово из обучения (на фиксированном шаге) вычисляется как\n",
        "$$\n",
        "P_\\text{drop}(w_i)=1 - \\sqrt{\\frac{t}{f(w_i)}},\n",
        "$$\n",
        "где $f(w_i)$ – нормированная частота встречаемости слова, а $t$ – заданный порог (threshold)."
      ]
    },
    {
      "cell_type": "code",
      "execution_count": 36,
      "metadata": {
        "id": "Fl43apz-lOvL"
      },
      "outputs": [],
      "source": [
        "def subsample_frequent_words(word_count_dict, threshold=1e-5):\n",
        "    \"\"\"\n",
        "    Calculates the subsampling probabilities for words based on their frequencies.\n",
        "\n",
        "    This function is used to determine the probability of keeping a word in the dataset\n",
        "    when subsampling frequent words. The method used is inspired by the subsampling approach\n",
        "    in Word2Vec, where each word's frequency affects its probability of being kept.\n",
        "\n",
        "    Parameters:\n",
        "    - word_count_dict (dict): A dictionary where keys are words and values are the counts of those words.\n",
        "    - threshold (float, optional): A threshold parameter used to adjust the frequency of word subsampling.\n",
        "                                   Defaults to 1e-5.\n",
        "\n",
        "    Returns:\n",
        "    - dict: A dictionary where keys are words and values are the probabilities of keeping each word.\n",
        "    \"\"\"\n",
        "\n",
        "    total_count = sum(word_count_dict.values())\n",
        "    keep_prob_dict = {}\n",
        "\n",
        "    for word, count in word_count_dict.items():\n",
        "        frequency = count / total_count\n",
        "        # вероятность оставить слово\n",
        "        keep_prob = min(1.0, (threshold / frequency) ** 0.5)\n",
        "        keep_prob_dict[word] = keep_prob\n",
        "\n",
        "    return keep_prob_dict"
      ]
    },
    {
      "cell_type": "markdown",
      "metadata": {
        "id": "RvOXCPbSlOvL"
      },
      "source": [
        "#### Подзадача №2: negative sampling\n",
        "Для более эффективного обучения необходимо не только предсказывать высокие вероятности для слов из контекста, но и предсказывать низкие для слов, не встреченных в контексте. Для этого вам необходимо вычислить вероятност использовать слово в качестве negative sample, реализовав функцию ниже.\n",
        "\n",
        "В оригинальной статье предлагается оценивать вероятность слов выступать в качестве negative sample согласно распределению $P_n(w)$\n",
        "$$\n",
        "P_n(w) = \\frac{U(w)^{3/4}}{Z},\n",
        "$$\n",
        "\n",
        "где $U(w)$ распределение слов по частоте (или, как его еще называют, по униграммам), а $Z$ – нормировочная константа, чтобы общая мера была равна $1$."
      ]
    },
    {
      "cell_type": "code",
      "execution_count": 37,
      "metadata": {
        "id": "oZXHLPCOlOvL"
      },
      "outputs": [],
      "source": [
        "def get_negative_sampling_prob(word_count_dict):\n",
        "    \"\"\"\n",
        "    Calculates the negative sampling probabilities for words based on their frequencies.\n",
        "\n",
        "    This function adjusts the frequency of each word raised to the power of 0.75, which is\n",
        "    commonly used in algorithms like Word2Vec to moderate the influence of very frequent words.\n",
        "    It then normalizes these adjusted frequencies to ensure they sum to 1, forming a probability\n",
        "    distribution used for negative sampling.\n",
        "\n",
        "    Parameters:\n",
        "    - word_count_dict (dict): A dictionary where keys are words and values are the counts of those words.\n",
        "\n",
        "    Returns:\n",
        "    - dict: A dictionary where keys are words and values are the probabilities of selecting each word\n",
        "            for negative sampling.\n",
        "    \"\"\"\n",
        "\n",
        "    # Поднимаем частоты в степень 0.75\n",
        "    adjusted_freqs = {word: count ** 0.75 for word, count in word_count_dict.items()}\n",
        "    total = sum(adjusted_freqs.values())\n",
        "\n",
        "    negative_sampling_prob_dict = {\n",
        "        word: freq / total for word, freq in adjusted_freqs.items()\n",
        "    }\n",
        "\n",
        "    return negative_sampling_prob_dict"
      ]
    },
    {
      "cell_type": "markdown",
      "metadata": {
        "id": "gFQZkZpMlOvL"
      },
      "source": [
        "Для удобства, преобразуем полученные словари в массивы (т.к. все слова все равно уже пронумерованы)."
      ]
    },
    {
      "cell_type": "code",
      "execution_count": 38,
      "metadata": {
        "id": "_Mm0ocoPlOvL"
      },
      "outputs": [],
      "source": [
        "keep_prob_dict = subsample_frequent_words(word_count_dict)\n",
        "assert keep_prob_dict.keys() == word_count_dict.keys()"
      ]
    },
    {
      "cell_type": "code",
      "execution_count": 39,
      "metadata": {
        "id": "L1rjNyR0lOvL"
      },
      "outputs": [],
      "source": [
        "negative_sampling_prob_dict = get_negative_sampling_prob(word_count_dict)\n",
        "assert negative_sampling_prob_dict.keys() == negative_sampling_prob_dict.keys()\n",
        "assert np.allclose(sum(negative_sampling_prob_dict.values()), 1)"
      ]
    },
    {
      "cell_type": "code",
      "execution_count": 40,
      "metadata": {
        "id": "rWHFsswSlOvL"
      },
      "outputs": [],
      "source": [
        "keep_prob_array = np.array(\n",
        "    [keep_prob_dict[index_to_word[idx]] for idx in range(len(word_to_index))]\n",
        ")\n",
        "negative_sampling_prob_array = np.array(\n",
        "    [\n",
        "        negative_sampling_prob_dict[index_to_word[idx]]\n",
        "        for idx in range(len(word_to_index))\n",
        "    ]\n",
        ")"
      ]
    },
    {
      "cell_type": "markdown",
      "metadata": {
        "id": "ZsF8fq-HlOvL"
      },
      "source": [
        "Если все прошло успешно, функция ниже поможет вам с генерацией подвыборок (батчей)."
      ]
    },
    {
      "cell_type": "code",
      "execution_count": 41,
      "metadata": {
        "id": "FiY1UYrQlOvL"
      },
      "outputs": [],
      "source": [
        "def generate_batch_with_neg_samples(\n",
        "    context_pairs,\n",
        "\n",
        "    batch_size,\n",
        "    keep_prob_array,\n",
        "    word_to_index,\n",
        "    num_negatives,\n",
        "    negative_sampling_prob_array,\n",
        "):\n",
        "    batch = []\n",
        "    neg_samples = []\n",
        "\n",
        "    while len(batch) < batch_size:\n",
        "        center, context = random.choice(context_pairs)\n",
        "        if random.random() < keep_prob_array[center]:\n",
        "            batch.append((center, context))\n",
        "            neg_sample = np.random.choice(\n",
        "                range(len(negative_sampling_prob_array)),\n",
        "                size=num_negatives,\n",
        "                p=negative_sampling_prob_array,\n",
        "            )\n",
        "            neg_samples.append(neg_sample)\n",
        "    batch = np.array(batch)\n",
        "    neg_samples = np.vstack(neg_samples)\n",
        "    return batch, neg_samples"
      ]
    },
    {
      "cell_type": "code",
      "execution_count": 42,
      "metadata": {
        "id": "qFIuaBYBlOvL"
      },
      "outputs": [],
      "source": [
        "batch_size = 4\n",
        "num_negatives = 15\n",
        "batch, neg_samples = generate_batch_with_neg_samples(\n",
        "    context_pairs,\n",
        "    batch_size,\n",
        "    keep_prob_array,\n",
        "    word_to_index,\n",
        "    num_negatives,\n",
        "    negative_sampling_prob_array,\n",
        ")"
      ]
    },
    {
      "cell_type": "markdown",
      "metadata": {
        "id": "1xZKkdzglOvL"
      },
      "source": [
        "Наконец, время реализовать модель. Обращаем ваше внимание, использование линейных слоев (`nn.Linear`) далеко не всегда оправданно!\n",
        "\n",
        "Напомним, что в случае negative sampling решается задача максимизации следующего функционала:\n",
        "\n",
        "$$\n",
        "\\mathcal{L} = \\log \\sigma({\\mathbf{v}'_{w_O}}^\\top \\mathbf{v}_{w_I}) + \\sum_{i=1}^{k} \\mathbb{E}_{w_i \\sim P_n(w)} \\left[ \\log \\sigma({-\\mathbf{v}'_{w_i}}^\\top \\mathbf{v}_{w_I}) \\right],\n",
        "$$\n",
        "\n",
        "где:\n",
        "- $\\mathbf{v}_{w_I}$ – вектор центрального слова $w_I$,\n",
        "- $\\mathbf{v}'_{w_O}$ – вектор слова из контекста $w_O$,\n",
        "- $k$ – число negative samplesЮ,\n",
        "- $P_n(w)$ – распределение negative samples, заданное выше,\n",
        "- $\\sigma$ – сигмоида."
      ]
    },
    {
      "cell_type": "code",
      "execution_count": 43,
      "metadata": {
        "id": "ZtNqSMRolOvL"
      },
      "outputs": [],
      "source": [
        "class SkipGramModelWithNegSampling(nn.Module):\n",
        "    def __init__(self, vocab_size, embedding_dim):\n",
        "        super().__init__()\n",
        "        self.center_embeddings = nn.Embedding(vocab_size, embedding_dim)\n",
        "        self.context_embeddings = nn.Embedding(vocab_size, embedding_dim)\n",
        "\n",
        "        # Инициализация, как в оригинальной статье\n",
        "        initrange = 0.5 / embedding_dim\n",
        "        self.center_embeddings.weight.data.uniform_(-initrange, initrange)\n",
        "        self.context_embeddings.weight.data.uniform_(0, 0)\n",
        "\n",
        "    def forward(self, center_words, pos_context_words, neg_context_words):\n",
        "        # center_words: [B]\n",
        "        # pos_context_words: [B]\n",
        "        # neg_context_words: [B, K]\n",
        "\n",
        "        # Получаем эмбеддинги\n",
        "        center_vecs = self.center_embeddings(center_words)           # [B, D]\n",
        "        pos_context_vecs = self.context_embeddings(pos_context_words)  # [B, D]\n",
        "        neg_context_vecs = self.context_embeddings(neg_context_words)  # [B, K, D]\n",
        "\n",
        "        # Скалярное произведение положительных пар: [B]\n",
        "        pos_scores = torch.sum(center_vecs * pos_context_vecs, dim=1)\n",
        "\n",
        "        # Скалярное произведение отрицательных пар: bmm([B, K, D], [B, D, 1]) → [B, K]\n",
        "        neg_scores = torch.bmm(neg_context_vecs, center_vecs.unsqueeze(2)).squeeze(2)\n",
        "\n",
        "        return pos_scores, neg_scores"
      ]
    },
    {
      "cell_type": "code",
      "execution_count": 44,
      "metadata": {
        "id": "pKDnxRchlOvL"
      },
      "outputs": [],
      "source": [
        "device = torch.device(\"cpu\")"
      ]
    },
    {
      "cell_type": "code",
      "execution_count": 58,
      "metadata": {
        "id": "7BeHKnNPlOvL"
      },
      "outputs": [],
      "source": [
        "vocab_size = len(word_to_index)\n",
        "embedding_dim = 64\n",
        "num_negatives = 5\n",
        "\n",
        "model = SkipGramModelWithNegSampling(vocab_size, embedding_dim).to(device)\n",
        "optimizer = optim.Adam(model.parameters(), lr=0.01)\n",
        "lr_scheduler = ReduceLROnPlateau(optimizer, factor=0.5, patience=50)\n",
        "criterion = nn.BCEWithLogitsLoss()"
      ]
    },
    {
      "cell_type": "code",
      "execution_count": 59,
      "metadata": {
        "id": "4fxLNc3slOvM"
      },
      "outputs": [],
      "source": [
        "params_counter = 0\n",
        "for weights in model.parameters():\n",
        "    params_counter += weights.shape.numel()\n",
        "assert params_counter == len(word_to_index) * embedding_dim * 2"
      ]
    },
    {
      "cell_type": "code",
      "execution_count": 60,
      "metadata": {
        "id": "jdUsfXmqlOvM"
      },
      "outputs": [],
      "source": [
        "def train_skipgram_with_neg_sampling(\n",
        "    model,\n",
        "    context_pairs,\n",
        "    keep_prob_array,\n",
        "    word_to_index,\n",
        "    batch_size,\n",
        "    num_negatives,\n",
        "    negative_sampling_prob_array,\n",
        "    steps,\n",
        "    optimizer=optimizer,\n",
        "    lr_scheduler=lr_scheduler,\n",
        "    device=device,\n",
        "):\n",
        "    pos_labels = torch.ones(batch_size).to(device)\n",
        "    neg_labels = torch.zeros(batch_size, num_negatives).to(device)\n",
        "    loss_history = []\n",
        "    for step in tqdma(range(steps)):\n",
        "        batch, neg_samples = generate_batch_with_neg_samples(\n",
        "            context_pairs,\n",
        "            batch_size,\n",
        "            keep_prob_array,\n",
        "            word_to_index,\n",
        "            num_negatives,\n",
        "            negative_sampling_prob_array,\n",
        "        )\n",
        "        center_words = torch.tensor([pair[0] for pair in batch], dtype=torch.long).to(\n",
        "            device\n",
        "        )\n",
        "        pos_context_words = torch.tensor(\n",
        "            [pair[1] for pair in batch], dtype=torch.long\n",
        "        ).to(device)\n",
        "        neg_context_words = torch.tensor(neg_samples, dtype=torch.long).to(device)\n",
        "\n",
        "        optimizer.zero_grad()\n",
        "        pos_scores, neg_scores = model(\n",
        "            center_words, pos_context_words, neg_context_words\n",
        "        )\n",
        "\n",
        "        loss_pos = criterion(pos_scores, pos_labels)\n",
        "        loss_neg = criterion(neg_scores, neg_labels)\n",
        "\n",
        "        loss = loss_pos + loss_neg\n",
        "        loss.backward()\n",
        "        optimizer.step()\n",
        "\n",
        "        loss_history.append(loss.item())\n",
        "        lr_scheduler.step(loss_history[-1])\n",
        "\n",
        "        if step % 100 == 0:\n",
        "            print(\n",
        "                f\"Step {step}, Loss: {np.mean(loss_history[-100:])}, learning rate: {lr_scheduler._last_lr}\"\n",
        "            )"
      ]
    },
    {
      "cell_type": "code",
      "execution_count": 61,
      "metadata": {
        "id": "hhPN2MnalOvM",
        "outputId": "386a07c8-e6ff-45f0-fcc6-8aecd321c238",
        "colab": {
          "base_uri": "https://localhost:8080/",
          "height": 674,
          "referenced_widgets": [
            "d248075d40724ae2ade22b3b71ac7d2e",
            "9eab0bf575ee453ba5ead647bfa7544b",
            "38b7d3c21cce49929e3e6226702755e4",
            "05877ba5690543259cd03d96f23252a1",
            "d81ee40484964dfeb23c0d24c9f1553a",
            "213d1f53595648adb755b8e632905335",
            "c2b812593a424309a723ff548865134f",
            "781d6fd9118f49c5a0978cb690d47d6b",
            "2ebd07246a804a08b11f1ce9a9947e32",
            "1cff444a950f43be826845dd4e41b155",
            "04508f1da26343f2bcfaf0e2823bda45"
          ]
        }
      },
      "outputs": [
        {
          "output_type": "display_data",
          "data": {
            "text/plain": [
              "  0%|          | 0/3500 [00:00<?, ?it/s]"
            ],
            "application/vnd.jupyter.widget-view+json": {
              "version_major": 2,
              "version_minor": 0,
              "model_id": "d248075d40724ae2ade22b3b71ac7d2e"
            }
          },
          "metadata": {}
        },
        {
          "output_type": "stream",
          "name": "stdout",
          "text": [
            "Step 0, Loss: 1.3862944841384888, learning rate: [0.01]\n",
            "Step 100, Loss: 1.3615338540077209, learning rate: [0.01]\n",
            "Step 200, Loss: 1.3122053837776184, learning rate: [0.01]\n",
            "Step 300, Loss: 1.2875429034233092, learning rate: [0.01]\n",
            "Step 400, Loss: 1.2720664250850677, learning rate: [0.005]\n",
            "Step 500, Loss: 1.2539414727687836, learning rate: [0.0025]\n",
            "Step 600, Loss: 1.2401778161525727, learning rate: [0.0025]\n",
            "Step 700, Loss: 1.23109197974205, learning rate: [0.000625]\n",
            "Step 800, Loss: 1.2278739643096923, learning rate: [0.0003125]\n",
            "Step 900, Loss: 1.2250477027893067, learning rate: [0.00015625]\n",
            "Step 1000, Loss: 1.224420816898346, learning rate: [3.90625e-05]\n",
            "Step 1100, Loss: 1.225908054113388, learning rate: [9.765625e-06]\n",
            "Step 1200, Loss: 1.2275600922107697, learning rate: [2.44140625e-06]\n",
            "Step 1300, Loss: 1.2242687046527863, learning rate: [6.103515625e-07]\n",
            "Step 1400, Loss: 1.2265824377536774, learning rate: [1.52587890625e-07]\n",
            "Step 1500, Loss: 1.2258533835411072, learning rate: [3.814697265625e-08]\n",
            "Step 1600, Loss: 1.2240366864204406, learning rate: [1.9073486328125e-08]\n",
            "Step 1700, Loss: 1.224397919178009, learning rate: [1.9073486328125e-08]\n",
            "Step 1800, Loss: 1.2270479369163514, learning rate: [1.9073486328125e-08]\n",
            "Step 1900, Loss: 1.2267012977600098, learning rate: [1.9073486328125e-08]\n",
            "Step 2000, Loss: 1.2233190214633942, learning rate: [1.9073486328125e-08]\n",
            "Step 2100, Loss: 1.225066876411438, learning rate: [1.9073486328125e-08]\n",
            "Step 2200, Loss: 1.2245194935798644, learning rate: [1.9073486328125e-08]\n",
            "Step 2300, Loss: 1.2257119965553285, learning rate: [1.9073486328125e-08]\n",
            "Step 2400, Loss: 1.2264314103126526, learning rate: [1.9073486328125e-08]\n",
            "Step 2500, Loss: 1.2240225303173065, learning rate: [1.9073486328125e-08]\n",
            "Step 2600, Loss: 1.2256585836410523, learning rate: [1.9073486328125e-08]\n",
            "Step 2700, Loss: 1.2238761639595033, learning rate: [1.9073486328125e-08]\n",
            "Step 2800, Loss: 1.224281188249588, learning rate: [1.9073486328125e-08]\n",
            "Step 2900, Loss: 1.2251770794391632, learning rate: [1.9073486328125e-08]\n",
            "Step 3000, Loss: 1.223143059015274, learning rate: [1.9073486328125e-08]\n",
            "Step 3100, Loss: 1.226949154138565, learning rate: [1.9073486328125e-08]\n",
            "Step 3200, Loss: 1.2262188398838043, learning rate: [1.9073486328125e-08]\n",
            "Step 3300, Loss: 1.2262215769290925, learning rate: [1.9073486328125e-08]\n",
            "Step 3400, Loss: 1.225118168592453, learning rate: [1.9073486328125e-08]\n"
          ]
        }
      ],
      "source": [
        "steps = 3500\n",
        "batch_size = 1024\n",
        "train_skipgram_with_neg_sampling(\n",
        "    model,\n",
        "    context_pairs,\n",
        "    keep_prob_array,\n",
        "    word_to_index,\n",
        "    batch_size,\n",
        "    num_negatives,\n",
        "    negative_sampling_prob_array,\n",
        "    steps,\n",
        ")"
      ]
    },
    {
      "cell_type": "code",
      "source": [
        "embedding_matrix_center = model.center_embeddings.weight.detach()\n",
        "embedding_matrix_context = model.context_embeddings.weight.detach()"
      ],
      "metadata": {
        "id": "HK-9Tbjb2oj_"
      },
      "execution_count": 53,
      "outputs": []
    },
    {
      "cell_type": "code",
      "source": [
        "similarity_1 = F.cosine_similarity(\n",
        "    get_word_vector(\"windows\", embedding_matrix_context)[None, :],\n",
        "    get_word_vector(\"laptop\", embedding_matrix_context)[None, :],\n",
        ")\n",
        "similarity_2 = F.cosine_similarity(\n",
        "    get_word_vector(\"macbook\", embedding_matrix_context)[None, :],\n",
        "    get_word_vector(\"windows\", embedding_matrix_context)[None, :],\n",
        ")\n",
        "print(\"windows-laptop:\", similarity_1.item())\n",
        "print(\"macbook-windows:\", similarity_2.item())"
      ],
      "metadata": {
        "id": "20Re2KkF2rmp",
        "outputId": "67129fbe-db0e-466b-b9ac-31a80689eb4d",
        "colab": {
          "base_uri": "https://localhost:8080/"
        }
      },
      "execution_count": 56,
      "outputs": [
        {
          "output_type": "stream",
          "name": "stdout",
          "text": [
            "windows-laptop: 0.08522570133209229\n",
            "macbook-windows: 0.2710125744342804\n"
          ]
        }
      ]
    },
    {
      "cell_type": "code",
      "source": [
        "def find_nearest(word, embedding_matrix, word_to_index=word_to_index, k=10):\n",
        "    word_vector = get_word_vector(word, embedding_matrix)[None, :]  # [1, D]\n",
        "    dists = F.cosine_similarity(embedding_matrix, word_vector)      # [V]\n",
        "    top_k = torch.topk(dists, k + 1).indices[1:]  # exclude the word itself\n",
        "    return [(index_to_word[i.item()], dists[i].item()) for i in top_k]\n",
        "\n",
        "find_nearest(\"python\", embedding_matrix_context)"
      ],
      "metadata": {
        "id": "QIpx8qj82s36",
        "outputId": "9acb6b8d-936e-4b8d-e294-29031d421840",
        "colab": {
          "base_uri": "https://localhost:8080/"
        }
      },
      "execution_count": 74,
      "outputs": [
        {
          "output_type": "execute_result",
          "data": {
            "text/plain": [
              "[('610', 0.5882232785224915),\n",
              " ('cafe', 0.5804880857467651),\n",
              " ('learn', 0.5804839134216309),\n",
              " ('productive', 0.5650321245193481),\n",
              " ('hose', 0.5578320026397705),\n",
              " ('easiest', 0.552946925163269),\n",
              " ('webs', 0.5433586835861206),\n",
              " ('learning', 0.5385255813598633),\n",
              " ('runs', 0.5382018089294434),\n",
              " ('building', 0.5354070663452148)]"
            ]
          },
          "metadata": {},
          "execution_count": 74
        }
      ]
    },
    {
      "cell_type": "markdown",
      "metadata": {
        "id": "rytIhA7UlOvM"
      },
      "source": [
        "Наконец, используйте полученную матрицу весов в качестве матрицы в векторными представлениями слов. Рекомендуем использовать для сдачи матрицу, которая отвечала за слова из контекста (т.е. декодера)."
      ]
    },
    {
      "cell_type": "code",
      "execution_count": 62,
      "metadata": {
        "id": "oGB2U27OlOvM"
      },
      "outputs": [],
      "source": [
        "_model_parameters = model.parameters()\n",
        "embedding_matrix_center = next(\n",
        "    _model_parameters\n",
        ").detach()  # Assuming that first matrix was for central word\n",
        "embedding_matrix_context = next(\n",
        "    _model_parameters\n",
        ").detach()  # Assuming that second matrix was for context word"
      ]
    },
    {
      "cell_type": "code",
      "execution_count": 63,
      "metadata": {
        "id": "3qYAubQTlOvM"
      },
      "outputs": [],
      "source": [
        "def get_word_vector(word, embedding_matrix, word_to_index=word_to_index):\n",
        "    return embedding_matrix[word_to_index[word]]"
      ]
    },
    {
      "cell_type": "markdown",
      "metadata": {
        "id": "XDJZdCJKlOvM"
      },
      "source": [
        "Простые проверки:"
      ]
    },
    {
      "cell_type": "code",
      "execution_count": 64,
      "metadata": {
        "id": "-TKsJERZlOvQ",
        "outputId": "9b17733e-8bf2-4caa-d397-7fcfcaa6620a",
        "colab": {
          "base_uri": "https://localhost:8080/",
          "height": 180
        }
      },
      "outputs": [
        {
          "output_type": "error",
          "ename": "AssertionError",
          "evalue": "",
          "traceback": [
            "\u001b[0;31m---------------------------------------------------------------------------\u001b[0m",
            "\u001b[0;31mAssertionError\u001b[0m                            Traceback (most recent call last)",
            "\u001b[0;32m<ipython-input-64-16bed20f46b1>\u001b[0m in \u001b[0;36m<cell line: 0>\u001b[0;34m()\u001b[0m\n\u001b[1;32m      7\u001b[0m     \u001b[0mget_word_vector\u001b[0m\u001b[0;34m(\u001b[0m\u001b[0;34m\"dell\"\u001b[0m\u001b[0;34m,\u001b[0m \u001b[0membedding_matrix_context\u001b[0m\u001b[0;34m)\u001b[0m\u001b[0;34m[\u001b[0m\u001b[0;32mNone\u001b[0m\u001b[0;34m,\u001b[0m \u001b[0;34m:\u001b[0m\u001b[0;34m]\u001b[0m\u001b[0;34m,\u001b[0m\u001b[0;34m\u001b[0m\u001b[0;34m\u001b[0m\u001b[0m\n\u001b[1;32m      8\u001b[0m )\n\u001b[0;32m----> 9\u001b[0;31m \u001b[0;32massert\u001b[0m \u001b[0msimilarity_1\u001b[0m \u001b[0;34m>\u001b[0m \u001b[0msimilarity_2\u001b[0m\u001b[0;34m\u001b[0m\u001b[0;34m\u001b[0m\u001b[0m\n\u001b[0m",
            "\u001b[0;31mAssertionError\u001b[0m: "
          ]
        }
      ],
      "source": [
        "similarity_1 = F.cosine_similarity(\n",
        "    get_word_vector(\"iphone\", embedding_matrix_context)[None, :],\n",
        "    get_word_vector(\"apple\", embedding_matrix_context)[None, :],\n",
        ")\n",
        "similarity_2 = F.cosine_similarity(\n",
        "    get_word_vector(\"iphone\", embedding_matrix_context)[None, :],\n",
        "    get_word_vector(\"dell\", embedding_matrix_context)[None, :],\n",
        ")\n",
        "assert similarity_1 > similarity_2"
      ]
    },
    {
      "cell_type": "code",
      "execution_count": 65,
      "metadata": {
        "id": "7EgJN6zalOvQ"
      },
      "outputs": [],
      "source": [
        "similarity_1 = F.cosine_similarity(\n",
        "    get_word_vector(\"windows\", embedding_matrix_context)[None, :],\n",
        "    get_word_vector(\"laptop\", embedding_matrix_context)[None, :],\n",
        ")\n",
        "similarity_2 = F.cosine_similarity(\n",
        "    get_word_vector(\"windows\", embedding_matrix_context)[None, :],\n",
        "    get_word_vector(\"macbook\", embedding_matrix_context)[None, :],\n",
        ")\n",
        "assert similarity_1 > similarity_2"
      ]
    },
    {
      "cell_type": "markdown",
      "metadata": {
        "id": "5pIjGo5YlOvQ"
      },
      "source": [
        "Наконец, взглянем на ближайшие по косинусной мере слова. Функция реализована ниже."
      ]
    },
    {
      "cell_type": "code",
      "execution_count": 66,
      "metadata": {
        "id": "dA0V6rOYtsLk"
      },
      "outputs": [],
      "source": [
        "def find_nearest(word, embedding_matrix, word_to_index=word_to_index, k=10):\n",
        "    word_vector = get_word_vector(word, embedding_matrix)[None, :]\n",
        "    dists = F.cosine_similarity(embedding_matrix, word_vector)\n",
        "    index_sorted = torch.argsort(dists)\n",
        "    top_k = index_sorted[-k:]\n",
        "    return [(index_to_word[x], dists[x].item()) for x in top_k.numpy()]"
      ]
    },
    {
      "cell_type": "code",
      "execution_count": 67,
      "metadata": {
        "id": "0NHiSpuqlOvQ",
        "outputId": "5847d10a-8a0a-4e87-c8dd-76ec09a5fd92",
        "colab": {
          "base_uri": "https://localhost:8080/"
        }
      },
      "outputs": [
        {
          "output_type": "execute_result",
          "data": {
            "text/plain": [
              "[('runs', 0.5382018089294434),\n",
              " ('learning', 0.5385255813598633),\n",
              " ('webs', 0.5433586835861206),\n",
              " ('easiest', 0.552946925163269),\n",
              " ('hose', 0.5578320026397705),\n",
              " ('productive', 0.5650321245193481),\n",
              " ('learn', 0.5804839134216309),\n",
              " ('cafe', 0.5804880857467651),\n",
              " ('610', 0.5882232785224915),\n",
              " ('python', 0.9999999403953552)]"
            ]
          },
          "metadata": {},
          "execution_count": 67
        }
      ],
      "source": [
        "find_nearest(\"python\", embedding_matrix_context, k=10)"
      ]
    },
    {
      "cell_type": "markdown",
      "metadata": {
        "id": "_kGLyKBnlOvQ"
      },
      "source": [
        "Также вы можете визуально проверить, как представлены в латентном пространстве часто встречающиеся слова."
      ]
    },
    {
      "cell_type": "code",
      "execution_count": 68,
      "metadata": {
        "id": "TD1cAfNFlOvQ"
      },
      "outputs": [],
      "source": [
        "top_k = 5000\n",
        "_top_words = sorted([x for x in word_count_dict.items()], key=lambda x: x[1])[\n",
        "    -top_k - 100 : -100\n",
        "]  # ignoring 100 most frequent words\n",
        "top_words = [x[0] for x in _top_words]\n",
        "del _top_words"
      ]
    },
    {
      "cell_type": "code",
      "execution_count": 69,
      "metadata": {
        "id": "PxeFBf9TlOvQ"
      },
      "outputs": [],
      "source": [
        "word_embeddings = torch.cat(\n",
        "    [embedding_matrix_context[word_to_index[x]][None, :] for x in top_words], dim=0\n",
        ").numpy()"
      ]
    },
    {
      "cell_type": "code",
      "execution_count": 70,
      "metadata": {
        "id": "b0XhjphClOvQ"
      },
      "outputs": [],
      "source": [
        "import bokeh.models as bm\n",
        "import bokeh.plotting as pl\n",
        "from bokeh.io import output_notebook\n",
        "\n",
        "output_notebook()\n",
        "\n",
        "\n",
        "def draw_vectors(\n",
        "    x,\n",
        "    y,\n",
        "    radius=10,\n",
        "    alpha=0.25,\n",
        "    color=\"blue\",\n",
        "    width=600,\n",
        "    height=400,\n",
        "    show=True,\n",
        "    **kwargs,\n",
        "):\n",
        "    \"\"\"draws an interactive plot for data points with auxilirary info on hover\"\"\"\n",
        "    if isinstance(color, str):\n",
        "        color = [color] * len(x)\n",
        "    data_source = bm.ColumnDataSource({\"x\": x, \"y\": y, \"color\": color, **kwargs})\n",
        "\n",
        "    fig = pl.figure(active_scroll=\"wheel_zoom\", width=width, height=height)\n",
        "    fig.scatter(\"x\", \"y\", size=radius, color=\"color\", alpha=alpha, source=data_source)\n",
        "\n",
        "    fig.add_tools(bm.HoverTool(tooltips=[(key, \"@\" + key) for key in kwargs.keys()]))\n",
        "    if show:\n",
        "        pl.show(fig)\n",
        "    return fig"
      ]
    },
    {
      "cell_type": "code",
      "execution_count": 71,
      "metadata": {
        "id": "Ollqai_slOvQ",
        "outputId": "916973ea-f3e9-4ee1-c533-6ff41f9effe5",
        "colab": {
          "base_uri": "https://localhost:8080/"
        }
      },
      "outputs": [
        {
          "output_type": "stream",
          "name": "stderr",
          "text": [
            "/usr/local/lib/python3.11/dist-packages/sklearn/utils/deprecation.py:151: FutureWarning: 'force_all_finite' was renamed to 'ensure_all_finite' in 1.6 and will be removed in 1.8.\n",
            "  warnings.warn(\n"
          ]
        }
      ],
      "source": [
        "embedding = umap.UMAP(n_neighbors=5).fit_transform(word_embeddings)"
      ]
    },
    {
      "cell_type": "code",
      "execution_count": 72,
      "metadata": {
        "id": "vtA0BhailOvQ",
        "outputId": "d3f79e79-e84c-4ac4-932e-fdf56fdb9ea9",
        "colab": {
          "base_uri": "https://localhost:8080/",
          "height": 34
        }
      },
      "outputs": [
        {
          "output_type": "display_data",
          "data": {
            "application/javascript": [
              "'use strict';\n",
              "(function(root) {\n",
              "  function now() {\n",
              "    return new Date();\n",
              "  }\n",
              "\n",
              "  const force = true;\n",
              "\n",
              "  if (typeof root._bokeh_onload_callbacks === \"undefined\" || force === true) {\n",
              "    root._bokeh_onload_callbacks = [];\n",
              "    root._bokeh_is_loading = undefined;\n",
              "  }\n",
              "\n",
              "const JS_MIME_TYPE = 'application/javascript';\n",
              "  const HTML_MIME_TYPE = 'text/html';\n",
              "  const EXEC_MIME_TYPE = 'application/vnd.bokehjs_exec.v0+json';\n",
              "  const CLASS_NAME = 'output_bokeh rendered_html';\n",
              "\n",
              "  /**\n",
              "   * Render data to the DOM node\n",
              "   */\n",
              "  function render(props, node) {\n",
              "    const script = document.createElement(\"script\");\n",
              "    node.appendChild(script);\n",
              "  }\n",
              "\n",
              "  /**\n",
              "   * Handle when an output is cleared or removed\n",
              "   */\n",
              "  function handleClearOutput(event, handle) {\n",
              "    function drop(id) {\n",
              "      const view = Bokeh.index.get_by_id(id)\n",
              "      if (view != null) {\n",
              "        view.model.document.clear()\n",
              "        Bokeh.index.delete(view)\n",
              "      }\n",
              "    }\n",
              "\n",
              "    const cell = handle.cell;\n",
              "\n",
              "    const id = cell.output_area._bokeh_element_id;\n",
              "    const server_id = cell.output_area._bokeh_server_id;\n",
              "\n",
              "    // Clean up Bokeh references\n",
              "    if (id != null) {\n",
              "      drop(id)\n",
              "    }\n",
              "\n",
              "    if (server_id !== undefined) {\n",
              "      // Clean up Bokeh references\n",
              "      const cmd_clean = \"from bokeh.io.state import curstate; print(curstate().uuid_to_server['\" + server_id + \"'].get_sessions()[0].document.roots[0]._id)\";\n",
              "      cell.notebook.kernel.execute(cmd_clean, {\n",
              "        iopub: {\n",
              "          output: function(msg) {\n",
              "            const id = msg.content.text.trim()\n",
              "            drop(id)\n",
              "          }\n",
              "        }\n",
              "      });\n",
              "      // Destroy server and session\n",
              "      const cmd_destroy = \"import bokeh.io.notebook as ion; ion.destroy_server('\" + server_id + \"')\";\n",
              "      cell.notebook.kernel.execute(cmd_destroy);\n",
              "    }\n",
              "  }\n",
              "\n",
              "  /**\n",
              "   * Handle when a new output is added\n",
              "   */\n",
              "  function handleAddOutput(event, handle) {\n",
              "    const output_area = handle.output_area;\n",
              "    const output = handle.output;\n",
              "\n",
              "    // limit handleAddOutput to display_data with EXEC_MIME_TYPE content only\n",
              "    if ((output.output_type != \"display_data\") || (!Object.prototype.hasOwnProperty.call(output.data, EXEC_MIME_TYPE))) {\n",
              "      return\n",
              "    }\n",
              "\n",
              "    const toinsert = output_area.element.find(\".\" + CLASS_NAME.split(' ')[0]);\n",
              "\n",
              "    if (output.metadata[EXEC_MIME_TYPE][\"id\"] !== undefined) {\n",
              "      toinsert[toinsert.length - 1].firstChild.textContent = output.data[JS_MIME_TYPE];\n",
              "      // store reference to embed id on output_area\n",
              "      output_area._bokeh_element_id = output.metadata[EXEC_MIME_TYPE][\"id\"];\n",
              "    }\n",
              "    if (output.metadata[EXEC_MIME_TYPE][\"server_id\"] !== undefined) {\n",
              "      const bk_div = document.createElement(\"div\");\n",
              "      bk_div.innerHTML = output.data[HTML_MIME_TYPE];\n",
              "      const script_attrs = bk_div.children[0].attributes;\n",
              "      for (let i = 0; i < script_attrs.length; i++) {\n",
              "        toinsert[toinsert.length - 1].firstChild.setAttribute(script_attrs[i].name, script_attrs[i].value);\n",
              "        toinsert[toinsert.length - 1].firstChild.textContent = bk_div.children[0].textContent\n",
              "      }\n",
              "      // store reference to server id on output_area\n",
              "      output_area._bokeh_server_id = output.metadata[EXEC_MIME_TYPE][\"server_id\"];\n",
              "    }\n",
              "  }\n",
              "\n",
              "  function register_renderer(events, OutputArea) {\n",
              "\n",
              "    function append_mime(data, metadata, element) {\n",
              "      // create a DOM node to render to\n",
              "      const toinsert = this.create_output_subarea(\n",
              "        metadata,\n",
              "        CLASS_NAME,\n",
              "        EXEC_MIME_TYPE\n",
              "      );\n",
              "      this.keyboard_manager.register_events(toinsert);\n",
              "      // Render to node\n",
              "      const props = {data: data, metadata: metadata[EXEC_MIME_TYPE]};\n",
              "      render(props, toinsert[toinsert.length - 1]);\n",
              "      element.append(toinsert);\n",
              "      return toinsert\n",
              "    }\n",
              "\n",
              "    /* Handle when an output is cleared or removed */\n",
              "    events.on('clear_output.CodeCell', handleClearOutput);\n",
              "    events.on('delete.Cell', handleClearOutput);\n",
              "\n",
              "    /* Handle when a new output is added */\n",
              "    events.on('output_added.OutputArea', handleAddOutput);\n",
              "\n",
              "    /**\n",
              "     * Register the mime type and append_mime function with output_area\n",
              "     */\n",
              "    OutputArea.prototype.register_mime_type(EXEC_MIME_TYPE, append_mime, {\n",
              "      /* Is output safe? */\n",
              "      safe: true,\n",
              "      /* Index of renderer in `output_area.display_order` */\n",
              "      index: 0\n",
              "    });\n",
              "  }\n",
              "\n",
              "  // register the mime type if in Jupyter Notebook environment and previously unregistered\n",
              "  if (root.Jupyter !== undefined) {\n",
              "    const events = require('base/js/events');\n",
              "    const OutputArea = require('notebook/js/outputarea').OutputArea;\n",
              "\n",
              "    if (OutputArea.prototype.mime_types().indexOf(EXEC_MIME_TYPE) == -1) {\n",
              "      register_renderer(events, OutputArea);\n",
              "    }\n",
              "  }\n",
              "  if (typeof (root._bokeh_timeout) === \"undefined\" || force === true) {\n",
              "    root._bokeh_timeout = Date.now() + 5000;\n",
              "    root._bokeh_failed_load = false;\n",
              "  }\n",
              "\n",
              "  const NB_LOAD_WARNING = {'data': {'text/html':\n",
              "     \"<div style='background-color: #fdd'>\\n\"+\n",
              "     \"<p>\\n\"+\n",
              "     \"BokehJS does not appear to have successfully loaded. If loading BokehJS from CDN, this \\n\"+\n",
              "     \"may be due to a slow or bad network connection. Possible fixes:\\n\"+\n",
              "     \"</p>\\n\"+\n",
              "     \"<ul>\\n\"+\n",
              "     \"<li>re-rerun `output_notebook()` to attempt to load from CDN again, or</li>\\n\"+\n",
              "     \"<li>use INLINE resources instead, as so:</li>\\n\"+\n",
              "     \"</ul>\\n\"+\n",
              "     \"<code>\\n\"+\n",
              "     \"from bokeh.resources import INLINE\\n\"+\n",
              "     \"output_notebook(resources=INLINE)\\n\"+\n",
              "     \"</code>\\n\"+\n",
              "     \"</div>\"}};\n",
              "\n",
              "  function display_loaded(error = null) {\n",
              "    const el = document.getElementById(null);\n",
              "    if (el != null) {\n",
              "      const html = (() => {\n",
              "        if (typeof root.Bokeh === \"undefined\") {\n",
              "          if (error == null) {\n",
              "            return \"BokehJS is loading ...\";\n",
              "          } else {\n",
              "            return \"BokehJS failed to load.\";\n",
              "          }\n",
              "        } else {\n",
              "          const prefix = `BokehJS ${root.Bokeh.version}`;\n",
              "          if (error == null) {\n",
              "            return `${prefix} successfully loaded.`;\n",
              "          } else {\n",
              "            return `${prefix} <b>encountered errors</b> while loading and may not function as expected.`;\n",
              "          }\n",
              "        }\n",
              "      })();\n",
              "      el.innerHTML = html;\n",
              "\n",
              "      if (error != null) {\n",
              "        const wrapper = document.createElement(\"div\");\n",
              "        wrapper.style.overflow = \"auto\";\n",
              "        wrapper.style.height = \"5em\";\n",
              "        wrapper.style.resize = \"vertical\";\n",
              "        const content = document.createElement(\"div\");\n",
              "        content.style.fontFamily = \"monospace\";\n",
              "        content.style.whiteSpace = \"pre-wrap\";\n",
              "        content.style.backgroundColor = \"rgb(255, 221, 221)\";\n",
              "        content.textContent = error.stack ?? error.toString();\n",
              "        wrapper.append(content);\n",
              "        el.append(wrapper);\n",
              "      }\n",
              "    } else if (Date.now() < root._bokeh_timeout) {\n",
              "      setTimeout(() => display_loaded(error), 100);\n",
              "    }\n",
              "  }\n",
              "\n",
              "  function run_callbacks() {\n",
              "    try {\n",
              "      root._bokeh_onload_callbacks.forEach(function(callback) {\n",
              "        if (callback != null)\n",
              "          callback();\n",
              "      });\n",
              "    } finally {\n",
              "      delete root._bokeh_onload_callbacks\n",
              "    }\n",
              "    console.debug(\"Bokeh: all callbacks have finished\");\n",
              "  }\n",
              "\n",
              "  function load_libs(css_urls, js_urls, callback) {\n",
              "    if (css_urls == null) css_urls = [];\n",
              "    if (js_urls == null) js_urls = [];\n",
              "\n",
              "    root._bokeh_onload_callbacks.push(callback);\n",
              "    if (root._bokeh_is_loading > 0) {\n",
              "      console.debug(\"Bokeh: BokehJS is being loaded, scheduling callback at\", now());\n",
              "      return null;\n",
              "    }\n",
              "    if (js_urls == null || js_urls.length === 0) {\n",
              "      run_callbacks();\n",
              "      return null;\n",
              "    }\n",
              "    console.debug(\"Bokeh: BokehJS not loaded, scheduling load and callback at\", now());\n",
              "    root._bokeh_is_loading = css_urls.length + js_urls.length;\n",
              "\n",
              "    function on_load() {\n",
              "      root._bokeh_is_loading--;\n",
              "      if (root._bokeh_is_loading === 0) {\n",
              "        console.debug(\"Bokeh: all BokehJS libraries/stylesheets loaded\");\n",
              "        run_callbacks()\n",
              "      }\n",
              "    }\n",
              "\n",
              "    function on_error(url) {\n",
              "      console.error(\"failed to load \" + url);\n",
              "    }\n",
              "\n",
              "    for (let i = 0; i < css_urls.length; i++) {\n",
              "      const url = css_urls[i];\n",
              "      const element = document.createElement(\"link\");\n",
              "      element.onload = on_load;\n",
              "      element.onerror = on_error.bind(null, url);\n",
              "      element.rel = \"stylesheet\";\n",
              "      element.type = \"text/css\";\n",
              "      element.href = url;\n",
              "      console.debug(\"Bokeh: injecting link tag for BokehJS stylesheet: \", url);\n",
              "      document.body.appendChild(element);\n",
              "    }\n",
              "\n",
              "    for (let i = 0; i < js_urls.length; i++) {\n",
              "      const url = js_urls[i];\n",
              "      const element = document.createElement('script');\n",
              "      element.onload = on_load;\n",
              "      element.onerror = on_error.bind(null, url);\n",
              "      element.async = false;\n",
              "      element.src = url;\n",
              "      console.debug(\"Bokeh: injecting script tag for BokehJS library: \", url);\n",
              "      document.head.appendChild(element);\n",
              "    }\n",
              "  };\n",
              "\n",
              "  function inject_raw_css(css) {\n",
              "    const element = document.createElement(\"style\");\n",
              "    element.appendChild(document.createTextNode(css));\n",
              "    document.body.appendChild(element);\n",
              "  }\n",
              "\n",
              "  const js_urls = [\"https://cdn.bokeh.org/bokeh/release/bokeh-3.6.3.min.js\", \"https://cdn.bokeh.org/bokeh/release/bokeh-gl-3.6.3.min.js\", \"https://cdn.bokeh.org/bokeh/release/bokeh-widgets-3.6.3.min.js\", \"https://cdn.bokeh.org/bokeh/release/bokeh-tables-3.6.3.min.js\", \"https://cdn.bokeh.org/bokeh/release/bokeh-mathjax-3.6.3.min.js\"];\n",
              "  const css_urls = [];\n",
              "\n",
              "  const inline_js = [    function(Bokeh) {\n",
              "      Bokeh.set_log_level(\"info\");\n",
              "    },\n",
              "function(Bokeh) {\n",
              "    }\n",
              "  ];\n",
              "\n",
              "  function run_inline_js() {\n",
              "    if (root.Bokeh !== undefined || force === true) {\n",
              "      try {\n",
              "            for (let i = 0; i < inline_js.length; i++) {\n",
              "      inline_js[i].call(root, root.Bokeh);\n",
              "    }\n",
              "\n",
              "      } catch (error) {throw error;\n",
              "      }} else if (Date.now() < root._bokeh_timeout) {\n",
              "      setTimeout(run_inline_js, 100);\n",
              "    } else if (!root._bokeh_failed_load) {\n",
              "      console.log(\"Bokeh: BokehJS failed to load within specified timeout.\");\n",
              "      root._bokeh_failed_load = true;\n",
              "    } else if (force !== true) {\n",
              "      const cell = $(document.getElementById(null)).parents('.cell').data().cell;\n",
              "      cell.output_area.append_execute_result(NB_LOAD_WARNING)\n",
              "    }\n",
              "  }\n",
              "\n",
              "  if (root._bokeh_is_loading === 0) {\n",
              "    console.debug(\"Bokeh: BokehJS loaded, going straight to plotting\");\n",
              "    run_inline_js();\n",
              "  } else {\n",
              "    load_libs(css_urls, js_urls, function() {\n",
              "      console.debug(\"Bokeh: BokehJS plotting callback run at\", now());\n",
              "      run_inline_js();\n",
              "    });\n",
              "  }\n",
              "}(window));"
            ],
            "application/vnd.bokehjs_load.v0+json": "'use strict';\n(function(root) {\n  function now() {\n    return new Date();\n  }\n\n  const force = true;\n\n  if (typeof root._bokeh_onload_callbacks === \"undefined\" || force === true) {\n    root._bokeh_onload_callbacks = [];\n    root._bokeh_is_loading = undefined;\n  }\n\n\n  if (typeof (root._bokeh_timeout) === \"undefined\" || force === true) {\n    root._bokeh_timeout = Date.now() + 5000;\n    root._bokeh_failed_load = false;\n  }\n\n  const NB_LOAD_WARNING = {'data': {'text/html':\n     \"<div style='background-color: #fdd'>\\n\"+\n     \"<p>\\n\"+\n     \"BokehJS does not appear to have successfully loaded. If loading BokehJS from CDN, this \\n\"+\n     \"may be due to a slow or bad network connection. Possible fixes:\\n\"+\n     \"</p>\\n\"+\n     \"<ul>\\n\"+\n     \"<li>re-rerun `output_notebook()` to attempt to load from CDN again, or</li>\\n\"+\n     \"<li>use INLINE resources instead, as so:</li>\\n\"+\n     \"</ul>\\n\"+\n     \"<code>\\n\"+\n     \"from bokeh.resources import INLINE\\n\"+\n     \"output_notebook(resources=INLINE)\\n\"+\n     \"</code>\\n\"+\n     \"</div>\"}};\n\n  function display_loaded(error = null) {\n    const el = document.getElementById(null);\n    if (el != null) {\n      const html = (() => {\n        if (typeof root.Bokeh === \"undefined\") {\n          if (error == null) {\n            return \"BokehJS is loading ...\";\n          } else {\n            return \"BokehJS failed to load.\";\n          }\n        } else {\n          const prefix = `BokehJS ${root.Bokeh.version}`;\n          if (error == null) {\n            return `${prefix} successfully loaded.`;\n          } else {\n            return `${prefix} <b>encountered errors</b> while loading and may not function as expected.`;\n          }\n        }\n      })();\n      el.innerHTML = html;\n\n      if (error != null) {\n        const wrapper = document.createElement(\"div\");\n        wrapper.style.overflow = \"auto\";\n        wrapper.style.height = \"5em\";\n        wrapper.style.resize = \"vertical\";\n        const content = document.createElement(\"div\");\n        content.style.fontFamily = \"monospace\";\n        content.style.whiteSpace = \"pre-wrap\";\n        content.style.backgroundColor = \"rgb(255, 221, 221)\";\n        content.textContent = error.stack ?? error.toString();\n        wrapper.append(content);\n        el.append(wrapper);\n      }\n    } else if (Date.now() < root._bokeh_timeout) {\n      setTimeout(() => display_loaded(error), 100);\n    }\n  }\n\n  function run_callbacks() {\n    try {\n      root._bokeh_onload_callbacks.forEach(function(callback) {\n        if (callback != null)\n          callback();\n      });\n    } finally {\n      delete root._bokeh_onload_callbacks\n    }\n    console.debug(\"Bokeh: all callbacks have finished\");\n  }\n\n  function load_libs(css_urls, js_urls, callback) {\n    if (css_urls == null) css_urls = [];\n    if (js_urls == null) js_urls = [];\n\n    root._bokeh_onload_callbacks.push(callback);\n    if (root._bokeh_is_loading > 0) {\n      console.debug(\"Bokeh: BokehJS is being loaded, scheduling callback at\", now());\n      return null;\n    }\n    if (js_urls == null || js_urls.length === 0) {\n      run_callbacks();\n      return null;\n    }\n    console.debug(\"Bokeh: BokehJS not loaded, scheduling load and callback at\", now());\n    root._bokeh_is_loading = css_urls.length + js_urls.length;\n\n    function on_load() {\n      root._bokeh_is_loading--;\n      if (root._bokeh_is_loading === 0) {\n        console.debug(\"Bokeh: all BokehJS libraries/stylesheets loaded\");\n        run_callbacks()\n      }\n    }\n\n    function on_error(url) {\n      console.error(\"failed to load \" + url);\n    }\n\n    for (let i = 0; i < css_urls.length; i++) {\n      const url = css_urls[i];\n      const element = document.createElement(\"link\");\n      element.onload = on_load;\n      element.onerror = on_error.bind(null, url);\n      element.rel = \"stylesheet\";\n      element.type = \"text/css\";\n      element.href = url;\n      console.debug(\"Bokeh: injecting link tag for BokehJS stylesheet: \", url);\n      document.body.appendChild(element);\n    }\n\n    for (let i = 0; i < js_urls.length; i++) {\n      const url = js_urls[i];\n      const element = document.createElement('script');\n      element.onload = on_load;\n      element.onerror = on_error.bind(null, url);\n      element.async = false;\n      element.src = url;\n      console.debug(\"Bokeh: injecting script tag for BokehJS library: \", url);\n      document.head.appendChild(element);\n    }\n  };\n\n  function inject_raw_css(css) {\n    const element = document.createElement(\"style\");\n    element.appendChild(document.createTextNode(css));\n    document.body.appendChild(element);\n  }\n\n  const js_urls = [\"https://cdn.bokeh.org/bokeh/release/bokeh-3.6.3.min.js\", \"https://cdn.bokeh.org/bokeh/release/bokeh-gl-3.6.3.min.js\", \"https://cdn.bokeh.org/bokeh/release/bokeh-widgets-3.6.3.min.js\", \"https://cdn.bokeh.org/bokeh/release/bokeh-tables-3.6.3.min.js\", \"https://cdn.bokeh.org/bokeh/release/bokeh-mathjax-3.6.3.min.js\"];\n  const css_urls = [];\n\n  const inline_js = [    function(Bokeh) {\n      Bokeh.set_log_level(\"info\");\n    },\nfunction(Bokeh) {\n    }\n  ];\n\n  function run_inline_js() {\n    if (root.Bokeh !== undefined || force === true) {\n      try {\n            for (let i = 0; i < inline_js.length; i++) {\n      inline_js[i].call(root, root.Bokeh);\n    }\n\n      } catch (error) {throw error;\n      }} else if (Date.now() < root._bokeh_timeout) {\n      setTimeout(run_inline_js, 100);\n    } else if (!root._bokeh_failed_load) {\n      console.log(\"Bokeh: BokehJS failed to load within specified timeout.\");\n      root._bokeh_failed_load = true;\n    } else if (force !== true) {\n      const cell = $(document.getElementById(null)).parents('.cell').data().cell;\n      cell.output_area.append_execute_result(NB_LOAD_WARNING)\n    }\n  }\n\n  if (root._bokeh_is_loading === 0) {\n    console.debug(\"Bokeh: BokehJS loaded, going straight to plotting\");\n    run_inline_js();\n  } else {\n    load_libs(css_urls, js_urls, function() {\n      console.debug(\"Bokeh: BokehJS plotting callback run at\", now());\n      run_inline_js();\n    });\n  }\n}(window));"
          },
          "metadata": {}
        },
        {
          "output_type": "display_data",
          "data": {
            "text/html": [
              "\n",
              "  <div id=\"d76847d6-2121-464f-b0ba-f0d27fedecef\" data-root-id=\"p1004\" style=\"display: contents;\"></div>\n"
            ]
          },
          "metadata": {}
        },
        {
          "output_type": "display_data",
          "data": {
            "application/javascript": [
              "(function(root) {\n",
              "  function embed_document(root) {\n",
              "  const docs_json = {\"8aac60e2-8879-43f9-a1ad-706aa80c7211\":{\"version\":\"3.6.3\",\"title\":\"Bokeh Application\",\"roots\":[{\"type\":\"object\",\"name\":\"Figure\",\"id\":\"p1004\",\"attributes\":{\"height\":400,\"x_range\":{\"type\":\"object\",\"name\":\"DataRange1d\",\"id\":\"p1005\"},\"y_range\":{\"type\":\"object\",\"name\":\"DataRange1d\",\"id\":\"p1006\"},\"x_scale\":{\"type\":\"object\",\"name\":\"LinearScale\",\"id\":\"p1013\"},\"y_scale\":{\"type\":\"object\",\"name\":\"LinearScale\",\"id\":\"p1014\"},\"title\":{\"type\":\"object\",\"name\":\"Title\",\"id\":\"p1011\"},\"renderers\":[{\"type\":\"object\",\"name\":\"GlyphRenderer\",\"id\":\"p1044\",\"attributes\":{\"data_source\":{\"type\":\"object\",\"name\":\"ColumnDataSource\",\"id\":\"p1001\",\"attributes\":{\"selected\":{\"type\":\"object\",\"name\":\"Selection\",\"id\":\"p1002\",\"attributes\":{\"indices\":[],\"line_indices\":[]}},\"selection_policy\":{\"type\":\"object\",\"name\":\"UnionRenderers\",\"id\":\"p1003\"},\"data\":{\"type\":\"map\",\"entries\":[[\"x\",{\"type\":\"ndarray\",\"array\":{\"type\":\"bytes\",\"data\":\"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\"},\"shape\":[5000],\"dtype\":\"float32\",\"order\":\"little\"}],[\"y\",{\"type\":\"ndarray\",\"array\":{\"type\":\"bytes\",\"data\":\"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\"},\"shape\":[5000],\"dtype\":\"float32\",\"order\":\"little\"}],[\"color\",[\"blue\",\"blue\",\"blue\",\"blue\",\"blue\",\"blue\",\"blue\",\"blue\",\"blue\",\"blue\",\"blue\",\"blue\",\"blue\",\"blue\",\"blue\",\"blue\",\"blue\",\"blue\",\"blue\",\"blue\",\"blue\",\"blue\",\"blue\",\"blue\",\"blue\",\"blue\",\"blue\",\"blue\",\"blue\",\"blue\",\"blue\",\"blue\",\"blue\",\"blue\",\"blue\",\"blue\",\"blue\",\"blue\",\"blue\",\"blue\",\"blue\",\"blue\",\"blue\",\"blue\",\"blue\",\"blue\",\"blue\",\"blue\",\"blue\",\"blue\",\"blue\",\"blue\",\"blue\",\"blue\",\"blue\",\"blue\",\"blue\",\"blue\",\"blue\",\"blue\",\"blue\",\"blue\",\"blue\",\"blue\",\"blue\",\"blue\",\"blue\",\"blue\",\"blue\",\"blue\",\"blue\",\"blue\",\"blue\",\"blue\",\"blue\",\"blue\",\"blue\",\"blue\",\"blue\",\"blue\",\"blue\",\"blue\",\"blue\",\"blue\",\"blue\",\"blue\",\"blue\",\"blue\",\"blue\",\"blue\",\"blue\",\"blue\",\"blue\",\"blue\",\"blue\",\"blue\",\"blue\",\"blue\",\"blue\",\"blue\",\"blue\",\"blue\",\"blue\",\"blue\",\"blue\",\"blue\",\"blue\",\"blue\",\"blue\",\"blue\",\"blue\",\"blue\",\"blue\",\"blue\",\"blue\",\"blue\",\"blue\",\"blue\",\"blue\",\"blue\",\"blue\",\"blue\",\"blue\",\"blue\",\"blue\",\"blue\",\"blue\",\"blue\",\"blue\",\"blue\",\"blue\",\"blue\",\"blue\",\"blue\",\"blue\",\"blue\",\"blue\",\"blue\",\"blue\",\"blue\",\"blue\",\"blue\",\"blue\",\"blue\",\"blue\",\"blue\",\"blue\",\"blue\",\"blue\",\"blue\",\"blue\",\"blue\",\"blue\",\"blue\",\"blue\",\"blue\",\"blue\",\"blue\",\"blue\",\"blue\",\"blue\",\"blue\",\"blue\",\"blue\",\"blue\",\"blue\",\"blue\",\"blue\",\"blue\",\"blue\",\"blue\",\"blue\",\"blue\",\"blue\",\"blue\",\"blue\",\"blue\",\"blue\",\"blue\",\"blue\",\"blue\",\"blue\",\"blue\",\"blue\",\"blue\",\"blue\",\"blue\",\"blue\",\"blue\",\"blue\",\"blue\",\"blue\",\"blue\",\"blue\",\"blue\",\"blue\",\"blue\",\"blue\",\"blue\",\"blue\",\"blue\",\"blue\",\"blue\",\"blue\",\"blue\",\"blue\",\"blue\",\"blue\",\"blue\",\"blue\",\"blue\",\"blue\",\"blue\",\"blue\",\"blue\",\"blue\",\"blue\",\"blue\",\"blue\",\"blue\",\"blue\",\"blue\",\"blue\",\"blue\",\"blue\",\"blue\",\"blue\",\"blue\",\"blue\",\"blue\",\"blue\",\"blue\",\"blue\",\"blue\",\"blue\",\"blue\",\"blue\",\"blue\",\"blue\",\"blue\",\"blue\",\"blue\",\"blue\",\"blue\",\"blue\",\"blue\",\"blue\",\"blue\",\"blue\",\"blue\",\"blue\",\"blue\",\"blue\",\"blue\",\"blue\",\"blue\",\"blue\",\"blue\",\"blue\",\"blue\",\"blue\",\"blue\",\"blue\",\"blue\",\"blue\",\"blue\",\"blue\",\"blue\",\"blue\",\"blue\",\"blue\",\"blue\",\"blue\",\"blue\",\"blue\",\"blue\",\"blue\",\"blue\",\"blue\",\"blue\",\"blue\",\"blue\",\"blue\",\"blue\",\"blue\",\"blue\",\"blue\",\"blue\",\"blue\",\"blue\",\"blue\",\"blue\",\"blue\",\"blue\",\"blue\",\"blue\",\"blue\",\"blue\",\"blue\",\"blue\",\"blue\",\"blue\",\"blue\",\"blue\",\"blue\",\"blue\",\"blue\",\"blue\",\"blue\",\"blue\",\"blue\",\"blue\",\"blue\",\"blue\",\"blue\",\"blue\",\"blue\",\"blue\",\"blue\",\"blue\",\"blue\",\"blue\",\"blue\",\"blue\",\"blue\",\"blue\",\"blue\",\"blue\",\"blue\",\"blue\",\"blue\",\"blue\",\"blue\",\"blue\",\"blue\",\"blue\",\"blue\",\"blue\",\"blue\",\"blue\",\"blue\",\"blue\",\"blue\",\"blue\",\"blue\",\"blue\",\"blue\",\"blue\",\"blue\",\"blue\",\"blue\",\"blue\",\"blue\",\"blue\",\"blue\",\"blue\",\"blue\",\"blue\",\"blue\",\"blue\",\"blue\",\"blue\",\"blue\",\"blue\",\"blue\",\"blue\",\"blue\",\"blue\",\"blue\",\"blue\",\"blue\",\"blue\",\"blue\",\"blue\",\"blue\",\"blue\",\"blue\",\"blue\",\"blue\",\"blue\",\"blue\",\"blue\",\"blue\",\"blue\",\"blue\",\"blue\",\"blue\",\"blue\",\"blue\",\"blue\",\"blue\",\"blue\",\"blue\",\"blue\",\"blue\",\"blue\",\"blue\",\"blue\",\"blue\",\"blue\",\"blue\",\"blue\",\"blue\",\"blue\",\"blue\",\"blue\",\"blue\",\"blue\",\"blue\",\"blue\",\"blue\",\"blue\",\"blue\",\"blue\",\"blue\",\"blue\",\"blue\",\"blue\",\"blue\",\"blue\",\"blue\",\"blue\",\"blue\",\"blue\",\"blue\",\"blue\",\"blue\",\"blue\",\"blue\",\"blue\",\"blue\",\"blue\",\"blue\",\"blue\",\"blue\",\"blue\",\"blue\",\"blue\",\"blue\",\"blue\",\"blue\",\"blue\",\"blue\",\"blue\",\"blue\",\"blue\",\"blue\",\"blue\",\"blue\",\"blue\",\"blue\",\"blue\",\"blue\",\"blue\",\"blue\",\"blue\",\"blue\",\"blue\",\"blue\",\"blue\",\"blue\",\"blue\",\"blue\",\"blue\",\"blue\",\"blue\",\"blue\",\"blue\",\"blue\",\"blue\",\"blue\",\"blue\",\"blue\",\"blue\",\"blue\",\"blue\",\"blue\",\"blue\",\"blue\",\"blue\",\"blue\",\"blue\",\"blue\",\"blue\",\"blue\",\"blue\",\"blue\",\"blue\",\"blue\",\"blue\",\"blue\",\"blue\",\"blue\",\"blue\",\"blue\",\"blue\",\"blue\",\"blue\",\"blue\",\"blue\",\"blue\",\"blue\",\"blue\",\"blue\",\"blue\",\"blue\",\"blue\",\"blue\",\"blue\",\"blue\",\"blue\",\"blue\",\"blue\",\"blue\",\"blue\",\"blue\",\"blue\",\"blue\",\"blue\",\"blue\",\"blue\",\"blue\",\"blue\",\"blue\",\"blue\",\"blue\",\"blue\",\"blue\",\"blue\",\"blue\",\"blue\",\"blue\",\"blue\",\"blue\",\"blue\",\"blue\",\"blue\",\"blue\",\"blue\",\"blue\",\"blue\",\"blue\",\"blue\",\"blue\",\"blue\",\"blue\",\"blue\",\"blue\",\"blue\",\"blue\",\"blue\",\"blue\",\"blue\",\"blue\",\"blue\",\"blue\",\"blue\",\"blue\",\"blue\",\"blue\",\"blue\",\"blue\",\"blue\",\"blue\",\"blue\",\"blue\",\"blue\",\"blue\",\"blue\",\"blue\",\"blue\",\"blue\",\"blue\",\"blue\",\"blue\",\"blue\",\"blue\",\"blue\",\"blue\",\"blue\",\"blue\",\"blue\",\"blue\",\"blue\",\"blue\",\"blue\",\"blue\",\"blue\",\"blue\",\"blue\",\"blue\",\"blue\",\"blue\",\"blue\",\"blue\",\"blue\",\"blue\",\"blue\",\"blue\",\"blue\",\"blue\",\"blue\",\"blue\",\"blue\",\"blue\",\"blue\",\"blue\",\"blue\",\"blue\",\"blue\",\"blue\",\"blue\",\"blue\",\"blue\",\"blue\",\"blue\",\"blue\",\"blue\",\"blue\",\"blue\",\"blue\",\"blue\",\"blue\",\"blue\",\"blue\",\"blue\",\"blue\",\"blue\",\"blue\",\"blue\",\"blue\",\"blue\",\"blue\",\"blue\",\"blue\",\"blue\",\"blue\",\"blue\",\"blue\",\"blue\",\"blue\",\"blue\",\"blue\",\"blue\",\"blue\",\"blue\",\"blue\",\"blue\",\"blue\",\"blue\",\"blue\",\"blue\",\"blue\",\"blue\",\"blue\",\"blue\",\"blue\",\"blue\",\"blue\",\"blue\",\"blue\",\"blue\",\"blue\",\"blue\",\"blue\",\"blue\",\"blue\",\"blue\",\"blue\",\"blue\",\"blue\",\"blue\",\"blue\",\"blue\",\"blue\",\"blue\",\"blue\",\"blue\",\"blue\",\"blue\",\"blue\",\"blue\",\"blue\",\"blue\",\"blue\",\"blue\",\"blue\",\"blue\",\"blue\",\"blue\",\"blue\",\"blue\",\"blue\",\"blue\",\"blue\",\"blue\",\"blue\",\"blue\",\"blue\",\"blue\",\"blue\",\"blue\",\"blue\",\"blue\",\"blue\",\"blue\",\"blue\",\"blue\",\"blue\",\"blue\",\"blue\",\"blue\",\"blue\",\"blue\",\"blue\",\"blue\",\"blue\",\"blue\",\"blue\",\"blue\",\"blue\",\"blue\",\"blue\",\"blue\",\"blue\",\"blue\",\"blue\",\"blue\",\"blue\",\"blue\",\"blue\",\"blue\",\"blue\",\"blue\",\"blue\",\"blue\",\"blue\",\"blue\",\"blue\",\"blue\",\"blue\",\"blue\",\"blue\",\"blue\",\"blue\",\"blue\",\"blue\",\"blue\",\"blue\",\"blue\",\"blue\",\"blue\",\"blue\",\"blue\",\"blue\",\"blue\",\"blue\",\"blue\",\"blue\",\"blue\",\"blue\",\"blue\",\"blue\",\"blue\",\"blue\",\"blue\",\"blue\",\"blue\",\"blue\",\"blue\",\"blue\",\"blue\",\"blue\",\"blue\",\"blue\",\"blue\",\"blue\",\"blue\",\"blue\",\"blue\",\"blue\",\"blue\",\"blue\",\"blue\",\"blue\",\"blue\",\"blue\",\"blue\",\"blue\",\"blue\",\"blue\",\"blue\",\"blue\",\"blue\",\"blue\",\"blue\",\"blue\",\"blue\",\"blue\",\"blue\",\"blue\",\"blue\",\"blue\",\"blue\",\"blue\",\"blue\",\"blue\",\"blue\",\"blue\",\"blue\",\"blue\",\"blue\",\"blue\",\"blue\",\"blue\",\"blue\",\"blue\",\"blue\",\"blue\",\"blue\",\"blue\",\"blue\",\"blue\",\"blue\",\"blue\",\"blue\",\"blue\",\"blue\",\"blue\",\"blue\",\"blue\",\"blue\",\"blue\",\"blue\",\"blue\",\"blue\",\"blue\",\"blue\",\"blue\",\"blue\",\"blue\",\"blue\",\"blue\",\"blue\",\"blue\",\"blue\",\"blue\",\"blue\",\"blue\",\"blue\",\"blue\",\"blue\",\"blue\",\"blue\",\"blue\",\"blue\",\"blue\",\"blue\",\"blue\",\"blue\",\"blue\",\"blue\",\"blue\",\"blue\",\"blue\",\"blue\",\"blue\",\"blue\",\"blue\",\"blue\",\"blue\",\"blue\",\"blue\",\"blue\",\"blue\",\"blue\",\"blue\",\"blue\",\"blue\",\"blue\",\"blue\",\"blue\",\"blue\",\"blue\",\"blue\",\"blue\",\"blue\",\"blue\",\"blue\",\"blue\",\"blue\",\"blue\",\"blue\",\"blue\",\"blue\",\"blue\",\"blue\",\"blue\",\"blue\",\"blue\",\"blue\",\"blue\",\"blue\",\"blue\",\"blue\",\"blue\",\"blue\",\"blue\",\"blue\",\"blue\",\"blue\",\"blue\",\"blue\",\"blue\",\"blue\",\"blue\",\"blue\",\"blue\",\"blue\",\"blue\",\"blue\",\"blue\",\"blue\",\"blue\",\"blue\",\"blue\",\"blue\",\"blue\",\"blue\",\"blue\",\"blue\",\"blue\",\"blue\",\"blue\",\"blue\",\"blue\",\"blue\",\"blue\",\"blue\",\"blue\",\"blue\",\"blue\",\"blue\",\"blue\",\"blue\",\"blue\",\"blue\",\"blue\",\"blue\",\"blue\",\"blue\",\"blue\",\"blue\",\"blue\",\"blue\",\"blue\",\"blue\",\"blue\",\"blue\",\"blue\",\"blue\",\"blue\",\"blue\",\"blue\",\"blue\",\"blue\",\"blue\",\"blue\",\"blue\",\"blue\",\"blue\",\"blue\",\"blue\",\"blue\",\"blue\",\"blue\",\"blue\",\"blue\",\"blue\",\"blue\",\"blue\",\"blue\",\"blue\",\"blue\",\"blue\",\"blue\",\"blue\",\"blue\",\"blue\",\"blue\",\"blue\",\"blue\",\"blue\",\"blue\",\"blue\",\"blue\",\"blue\",\"blue\",\"blue\",\"blue\",\"blue\",\"blue\",\"blue\",\"blue\",\"blue\",\"blue\",\"blue\",\"blue\",\"blue\",\"blue\",\"blue\",\"blue\",\"blue\",\"blue\",\"blue\",\"blue\",\"blue\",\"blue\",\"blue\",\"blue\",\"blue\",\"blue\",\"blue\",\"blue\",\"blue\",\"blue\",\"blue\",\"blue\",\"blue\",\"blue\",\"blue\",\"blue\",\"blue\",\"blue\",\"blue\",\"blue\",\"blue\",\"blue\",\"blue\",\"blue\",\"blue\",\"blue\",\"blue\",\"blue\",\"blue\",\"blue\",\"blue\",\"blue\",\"blue\",\"blue\",\"blue\",\"blue\",\"blue\",\"blue\",\"blue\",\"blue\",\"blue\",\"blue\",\"blue\",\"blue\",\"blue\",\"blue\",\"blue\",\"blue\",\"blue\",\"blue\",\"blue\",\"blue\",\"blue\",\"blue\",\"blue\",\"blue\",\"blue\",\"blue\",\"blue\",\"blue\",\"blue\",\"blue\",\"blue\",\"blue\",\"blue\",\"blue\",\"blue\",\"blue\",\"blue\",\"blue\",\"blue\",\"blue\",\"blue\",\"blue\",\"blue\",\"blue\",\"blue\",\"blue\",\"blue\",\"blue\",\"blue\",\"blue\",\"blue\",\"blue\",\"blue\",\"blue\",\"blue\",\"blue\",\"blue\",\"blue\",\"blue\",\"blue\",\"blue\",\"blue\",\"blue\",\"blue\",\"blue\",\"blue\",\"blue\",\"blue\",\"blue\",\"blue\",\"blue\",\"blue\",\"blue\",\"blue\",\"blue\",\"blue\",\"blue\",\"blue\",\"blue\",\"blue\",\"blue\",\"blue\",\"blue\",\"blue\",\"blue\",\"blue\",\"blue\",\"blue\",\"blue\",\"blue\",\"blue\",\"blue\",\"blue\",\"blue\",\"blue\",\"blue\",\"blue\",\"blue\",\"blue\",\"blue\",\"blue\",\"blue\",\"blue\",\"blue\",\"blue\",\"blue\",\"blue\",\"blue\",\"blue\",\"blue\",\"blue\",\"blue\",\"blue\",\"blue\",\"blue\",\"blue\",\"blue\",\"blue\",\"blue\",\"blue\",\"blue\",\"blue\",\"blue\",\"blue\",\"blue\",\"blue\",\"blue\",\"blue\",\"blue\",\"blue\",\"blue\",\"blue\",\"blue\",\"blue\",\"blue\",\"blue\",\"blue\",\"blue\",\"blue\",\"blue\",\"blue\",\"blue\",\"blue\",\"blue\",\"blue\",\"blue\",\"blue\",\"blue\",\"blue\",\"blue\",\"blue\",\"blue\",\"blue\",\"blue\",\"blue\",\"blue\",\"blue\",\"blue\",\"blue\",\"blue\",\"blue\",\"blue\",\"blue\",\"blue\",\"blue\",\"blue\",\"blue\",\"blue\",\"blue\",\"blue\",\"blue\",\"blue\",\"blue\",\"blue\",\"blue\",\"blue\",\"blue\",\"blue\",\"blue\",\"blue\",\"blue\",\"blue\",\"blue\",\"blue\",\"blue\",\"blue\",\"blue\",\"blue\",\"blue\",\"blue\",\"blue\",\"blue\",\"blue\",\"blue\",\"blue\",\"blue\",\"blue\",\"blue\",\"blue\",\"blue\",\"blue\",\"blue\",\"blue\",\"blue\",\"blue\",\"blue\",\"blue\",\"blue\",\"blue\",\"blue\",\"blue\",\"blue\",\"blue\",\"blue\",\"blue\",\"blue\",\"blue\",\"blue\",\"blue\",\"blue\",\"blue\",\"blue\",\"blue\",\"blue\",\"blue\",\"blue\",\"blue\",\"blue\",\"blue\",\"blue\",\"blue\",\"blue\",\"blue\",\"blue\",\"blue\",\"blue\",\"blue\",\"blue\",\"blue\",\"blue\",\"blue\",\"blue\",\"blue\",\"blue\",\"blue\",\"blue\",\"blue\",\"blue\",\"blue\",\"blue\",\"blue\",\"blue\",\"blue\",\"blue\",\"blue\",\"blue\",\"blue\",\"blue\",\"blue\",\"blue\",\"blue\",\"blue\",\"blue\",\"blue\",\"blue\",\"blue\",\"blue\",\"blue\",\"blue\",\"blue\",\"blue\",\"blue\",\"blue\",\"blue\",\"blue\",\"blue\",\"blue\",\"blue\",\"blue\",\"blue\",\"blue\",\"blue\",\"blue\",\"blue\",\"blue\",\"blue\",\"blue\",\"blue\",\"blue\",\"blue\",\"blue\",\"blue\",\"blue\",\"blue\",\"blue\",\"blue\",\"blue\",\"blue\",\"blue\",\"blue\",\"blue\",\"blue\",\"blue\",\"blue\",\"blue\",\"blue\",\"blue\",\"blue\",\"blue\",\"blue\",\"blue\",\"blue\",\"blue\",\"blue\",\"blue\",\"blue\",\"blue\",\"blue\",\"blue\",\"blue\",\"blue\",\"blue\",\"blue\",\"blue\",\"blue\",\"blue\",\"blue\",\"blue\",\"blue\",\"blue\",\"blue\",\"blue\",\"blue\",\"blue\",\"blue\",\"blue\",\"blue\",\"blue\",\"blue\",\"blue\",\"blue\",\"blue\",\"blue\",\"blue\",\"blue\",\"blue\",\"blue\",\"blue\",\"blue\",\"blue\",\"blue\",\"blue\",\"blue\",\"blue\",\"blue\",\"blue\",\"blue\",\"blue\",\"blue\",\"blue\",\"blue\",\"blue\",\"blue\",\"blue\",\"blue\",\"blue\",\"blue\",\"blue\",\"blue\",\"blue\",\"blue\",\"blue\",\"blue\",\"blue\",\"blue\",\"blue\",\"blue\",\"blue\",\"blue\",\"blue\",\"blue\",\"blue\",\"blue\",\"blue\",\"blue\",\"blue\",\"blue\",\"blue\",\"blue\",\"blue\",\"blue\",\"blue\",\"blue\",\"blue\",\"blue\",\"blue\",\"blue\",\"blue\",\"blue\",\"blue\",\"blue\",\"blue\",\"blue\",\"blue\",\"blue\",\"blue\",\"blue\",\"blue\",\"blue\",\"blue\",\"blue\",\"blue\",\"blue\",\"blue\",\"blue\",\"blue\",\"blue\",\"blue\",\"blue\",\"blue\",\"blue\",\"blue\",\"blue\",\"blue\",\"blue\",\"blue\",\"blue\",\"blue\",\"blue\",\"blue\",\"blue\",\"blue\",\"blue\",\"blue\",\"blue\",\"blue\",\"blue\",\"blue\",\"blue\",\"blue\",\"blue\",\"blue\",\"blue\",\"blue\",\"blue\",\"blue\",\"blue\",\"blue\",\"blue\",\"blue\",\"blue\",\"blue\",\"blue\",\"blue\",\"blue\",\"blue\",\"blue\",\"blue\",\"blue\",\"blue\",\"blue\",\"blue\",\"blue\",\"blue\",\"blue\",\"blue\",\"blue\",\"blue\",\"blue\",\"blue\",\"blue\",\"blue\",\"blue\",\"blue\",\"blue\",\"blue\",\"blue\",\"blue\",\"blue\",\"blue\",\"blue\",\"blue\",\"blue\",\"blue\",\"blue\",\"blue\",\"blue\",\"blue\",\"blue\",\"blue\",\"blue\",\"blue\",\"blue\",\"blue\",\"blue\",\"blue\",\"blue\",\"blue\",\"blue\",\"blue\",\"blue\",\"blue\",\"blue\",\"blue\",\"blue\",\"blue\",\"blue\",\"blue\",\"blue\",\"blue\",\"blue\",\"blue\",\"blue\",\"blue\",\"blue\",\"blue\",\"blue\",\"blue\",\"blue\",\"blue\",\"blue\",\"blue\",\"blue\",\"blue\",\"blue\",\"blue\",\"blue\",\"blue\",\"blue\",\"blue\",\"blue\",\"blue\",\"blue\",\"blue\",\"blue\",\"blue\",\"blue\",\"blue\",\"blue\",\"blue\",\"blue\",\"blue\",\"blue\",\"blue\",\"blue\",\"blue\",\"blue\",\"blue\",\"blue\",\"blue\",\"blue\",\"blue\",\"blue\",\"blue\",\"blue\",\"blue\",\"blue\",\"blue\",\"blue\",\"blue\",\"blue\",\"blue\",\"blue\",\"blue\",\"blue\",\"blue\",\"blue\",\"blue\",\"blue\",\"blue\",\"blue\",\"blue\",\"blue\",\"blue\",\"blue\",\"blue\",\"blue\",\"blue\",\"blue\",\"blue\",\"blue\",\"blue\",\"blue\",\"blue\",\"blue\",\"blue\",\"blue\",\"blue\",\"blue\",\"blue\",\"blue\",\"blue\",\"blue\",\"blue\",\"blue\",\"blue\",\"blue\",\"blue\",\"blue\",\"blue\",\"blue\",\"blue\",\"blue\",\"blue\",\"blue\",\"blue\",\"blue\",\"blue\",\"blue\",\"blue\",\"blue\",\"blue\",\"blue\",\"blue\",\"blue\",\"blue\",\"blue\",\"blue\",\"blue\",\"blue\",\"blue\",\"blue\",\"blue\",\"blue\",\"blue\",\"blue\",\"blue\",\"blue\",\"blue\",\"blue\",\"blue\",\"blue\",\"blue\",\"blue\",\"blue\",\"blue\",\"blue\",\"blue\",\"blue\",\"blue\",\"blue\",\"blue\",\"blue\",\"blue\",\"blue\",\"blue\",\"blue\",\"blue\",\"blue\",\"blue\",\"blue\",\"blue\",\"blue\",\"blue\",\"blue\",\"blue\",\"blue\",\"blue\",\"blue\",\"blue\",\"blue\",\"blue\",\"blue\",\"blue\",\"blue\",\"blue\",\"blue\",\"blue\",\"blue\",\"blue\",\"blue\",\"blue\",\"blue\",\"blue\",\"blue\",\"blue\",\"blue\",\"blue\",\"blue\",\"blue\",\"blue\",\"blue\",\"blue\",\"blue\",\"blue\",\"blue\",\"blue\",\"blue\",\"blue\",\"blue\",\"blue\",\"blue\",\"blue\",\"blue\",\"blue\",\"blue\",\"blue\",\"blue\",\"blue\",\"blue\",\"blue\",\"blue\",\"blue\",\"blue\",\"blue\",\"blue\",\"blue\",\"blue\",\"blue\",\"blue\",\"blue\",\"blue\",\"blue\",\"blue\",\"blue\",\"blue\",\"blue\",\"blue\",\"blue\",\"blue\",\"blue\",\"blue\",\"blue\",\"blue\",\"blue\",\"blue\",\"blue\",\"blue\",\"blue\",\"blue\",\"blue\",\"blue\",\"blue\",\"blue\",\"blue\",\"blue\",\"blue\",\"blue\",\"blue\",\"blue\",\"blue\",\"blue\",\"blue\",\"blue\",\"blue\",\"blue\",\"blue\",\"blue\",\"blue\",\"blue\",\"blue\",\"blue\",\"blue\",\"blue\",\"blue\",\"blue\",\"blue\",\"blue\",\"blue\",\"blue\",\"blue\",\"blue\",\"blue\",\"blue\",\"blue\",\"blue\",\"blue\",\"blue\",\"blue\",\"blue\",\"blue\",\"blue\",\"blue\",\"blue\",\"blue\",\"blue\",\"blue\",\"blue\",\"blue\",\"blue\",\"blue\",\"blue\",\"blue\",\"blue\",\"blue\",\"blue\",\"blue\",\"blue\",\"blue\",\"blue\",\"blue\",\"blue\",\"blue\",\"blue\",\"blue\",\"blue\",\"blue\",\"blue\",\"blue\",\"blue\",\"blue\",\"blue\",\"blue\",\"blue\",\"blue\",\"blue\",\"blue\",\"blue\",\"blue\",\"blue\",\"blue\",\"blue\",\"blue\",\"blue\",\"blue\",\"blue\",\"blue\",\"blue\",\"blue\",\"blue\",\"blue\",\"blue\",\"blue\",\"blue\",\"blue\",\"blue\",\"blue\",\"blue\",\"blue\",\"blue\",\"blue\",\"blue\",\"blue\",\"blue\",\"blue\",\"blue\",\"blue\",\"blue\",\"blue\",\"blue\",\"blue\",\"blue\",\"blue\",\"blue\",\"blue\",\"blue\",\"blue\",\"blue\",\"blue\",\"blue\",\"blue\",\"blue\",\"blue\",\"blue\",\"blue\",\"blue\",\"blue\",\"blue\",\"blue\",\"blue\",\"blue\",\"blue\",\"blue\",\"blue\",\"blue\",\"blue\",\"blue\",\"blue\",\"blue\",\"blue\",\"blue\",\"blue\",\"blue\",\"blue\",\"blue\",\"blue\",\"blue\",\"blue\",\"blue\",\"blue\",\"blue\",\"blue\",\"blue\",\"blue\",\"blue\",\"blue\",\"blue\",\"blue\",\"blue\",\"blue\",\"blue\",\"blue\",\"blue\",\"blue\",\"blue\",\"blue\",\"blue\",\"blue\",\"blue\",\"blue\",\"blue\",\"blue\",\"blue\",\"blue\",\"blue\",\"blue\",\"blue\",\"blue\",\"blue\",\"blue\",\"blue\",\"blue\",\"blue\",\"blue\",\"blue\",\"blue\",\"blue\",\"blue\",\"blue\",\"blue\",\"blue\",\"blue\",\"blue\",\"blue\",\"blue\",\"blue\",\"blue\",\"blue\",\"blue\",\"blue\",\"blue\",\"blue\",\"blue\",\"blue\",\"blue\",\"blue\",\"blue\",\"blue\",\"blue\",\"blue\",\"blue\",\"blue\",\"blue\",\"blue\",\"blue\",\"blue\",\"blue\",\"blue\",\"blue\",\"blue\",\"blue\",\"blue\",\"blue\",\"blue\",\"blue\",\"blue\",\"blue\",\"blue\",\"blue\",\"blue\",\"blue\",\"blue\",\"blue\",\"blue\",\"blue\",\"blue\",\"blue\",\"blue\",\"blue\",\"blue\",\"blue\",\"blue\",\"blue\",\"blue\",\"blue\",\"blue\",\"blue\",\"blue\",\"blue\",\"blue\",\"blue\",\"blue\",\"blue\",\"blue\",\"blue\",\"blue\",\"blue\",\"blue\",\"blue\",\"blue\",\"blue\",\"blue\",\"blue\",\"blue\",\"blue\",\"blue\",\"blue\",\"blue\",\"blue\",\"blue\",\"blue\",\"blue\",\"blue\",\"blue\",\"blue\",\"blue\",\"blue\",\"blue\",\"blue\",\"blue\",\"blue\",\"blue\",\"blue\",\"blue\",\"blue\",\"blue\",\"blue\",\"blue\",\"blue\",\"blue\",\"blue\",\"blue\",\"blue\",\"blue\",\"blue\",\"blue\",\"blue\",\"blue\",\"blue\",\"blue\",\"blue\",\"blue\",\"blue\",\"blue\",\"blue\",\"blue\",\"blue\",\"blue\",\"blue\",\"blue\",\"blue\",\"blue\",\"blue\",\"blue\",\"blue\",\"blue\",\"blue\",\"blue\",\"blue\",\"blue\",\"blue\",\"blue\",\"blue\",\"blue\",\"blue\",\"blue\",\"blue\",\"blue\",\"blue\",\"blue\",\"blue\",\"blue\",\"blue\",\"blue\",\"blue\",\"blue\",\"blue\",\"blue\",\"blue\",\"blue\",\"blue\",\"blue\",\"blue\",\"blue\",\"blue\",\"blue\",\"blue\",\"blue\",\"blue\",\"blue\",\"blue\",\"blue\",\"blue\",\"blue\",\"blue\",\"blue\",\"blue\",\"blue\",\"blue\",\"blue\",\"blue\",\"blue\",\"blue\",\"blue\",\"blue\",\"blue\",\"blue\",\"blue\",\"blue\",\"blue\",\"blue\",\"blue\",\"blue\",\"blue\",\"blue\",\"blue\",\"blue\",\"blue\",\"blue\",\"blue\",\"blue\",\"blue\",\"blue\",\"blue\",\"blue\",\"blue\",\"blue\",\"blue\",\"blue\",\"blue\",\"blue\",\"blue\",\"blue\",\"blue\",\"blue\",\"blue\",\"blue\",\"blue\",\"blue\",\"blue\",\"blue\",\"blue\",\"blue\",\"blue\",\"blue\",\"blue\",\"blue\",\"blue\",\"blue\",\"blue\",\"blue\",\"blue\",\"blue\",\"blue\",\"blue\",\"blue\",\"blue\",\"blue\",\"blue\",\"blue\",\"blue\",\"blue\",\"blue\",\"blue\",\"blue\",\"blue\",\"blue\",\"blue\",\"blue\",\"blue\",\"blue\",\"blue\",\"blue\",\"blue\",\"blue\",\"blue\",\"blue\",\"blue\",\"blue\",\"blue\",\"blue\",\"blue\",\"blue\",\"blue\",\"blue\",\"blue\",\"blue\",\"blue\",\"blue\",\"blue\",\"blue\",\"blue\",\"blue\",\"blue\",\"blue\",\"blue\",\"blue\",\"blue\",\"blue\",\"blue\",\"blue\",\"blue\",\"blue\",\"blue\",\"blue\",\"blue\",\"blue\",\"blue\",\"blue\",\"blue\",\"blue\",\"blue\",\"blue\",\"blue\",\"blue\",\"blue\",\"blue\",\"blue\",\"blue\",\"blue\",\"blue\",\"blue\",\"blue\",\"blue\",\"blue\",\"blue\",\"blue\",\"blue\",\"blue\",\"blue\",\"blue\",\"blue\",\"blue\",\"blue\",\"blue\",\"blue\",\"blue\",\"blue\",\"blue\",\"blue\",\"blue\",\"blue\",\"blue\",\"blue\",\"blue\",\"blue\",\"blue\",\"blue\",\"blue\",\"blue\",\"blue\",\"blue\",\"blue\",\"blue\",\"blue\",\"blue\",\"blue\",\"blue\",\"blue\",\"blue\",\"blue\",\"blue\",\"blue\",\"blue\",\"blue\",\"blue\",\"blue\",\"blue\",\"blue\",\"blue\",\"blue\",\"blue\",\"blue\",\"blue\",\"blue\",\"blue\",\"blue\",\"blue\",\"blue\",\"blue\",\"blue\",\"blue\",\"blue\",\"blue\",\"blue\",\"blue\",\"blue\",\"blue\",\"blue\",\"blue\",\"blue\",\"blue\",\"blue\",\"blue\",\"blue\",\"blue\",\"blue\",\"blue\",\"blue\",\"blue\",\"blue\",\"blue\",\"blue\",\"blue\",\"blue\",\"blue\",\"blue\",\"blue\",\"blue\",\"blue\",\"blue\",\"blue\",\"blue\",\"blue\",\"blue\",\"blue\",\"blue\",\"blue\",\"blue\",\"blue\",\"blue\",\"blue\",\"blue\",\"blue\",\"blue\",\"blue\",\"blue\",\"blue\",\"blue\",\"blue\",\"blue\",\"blue\",\"blue\",\"blue\",\"blue\",\"blue\",\"blue\",\"blue\",\"blue\",\"blue\",\"blue\",\"blue\",\"blue\",\"blue\",\"blue\",\"blue\",\"blue\",\"blue\",\"blue\",\"blue\",\"blue\",\"blue\",\"blue\",\"blue\",\"blue\",\"blue\",\"blue\",\"blue\",\"blue\",\"blue\",\"blue\",\"blue\",\"blue\",\"blue\",\"blue\",\"blue\",\"blue\",\"blue\",\"blue\",\"blue\",\"blue\",\"blue\",\"blue\",\"blue\",\"blue\",\"blue\",\"blue\",\"blue\",\"blue\",\"blue\",\"blue\",\"blue\",\"blue\",\"blue\",\"blue\",\"blue\",\"blue\",\"blue\",\"blue\",\"blue\",\"blue\",\"blue\",\"blue\",\"blue\",\"blue\",\"blue\",\"blue\",\"blue\",\"blue\",\"blue\",\"blue\",\"blue\",\"blue\",\"blue\",\"blue\",\"blue\",\"blue\",\"blue\",\"blue\",\"blue\",\"blue\",\"blue\",\"blue\",\"blue\",\"blue\",\"blue\",\"blue\",\"blue\",\"blue\",\"blue\",\"blue\",\"blue\",\"blue\",\"blue\",\"blue\",\"blue\",\"blue\",\"blue\",\"blue\",\"blue\",\"blue\",\"blue\",\"blue\",\"blue\",\"blue\",\"blue\",\"blue\",\"blue\",\"blue\",\"blue\",\"blue\",\"blue\",\"blue\",\"blue\",\"blue\",\"blue\",\"blue\",\"blue\",\"blue\",\"blue\",\"blue\",\"blue\",\"blue\",\"blue\",\"blue\",\"blue\",\"blue\",\"blue\",\"blue\",\"blue\",\"blue\",\"blue\",\"blue\",\"blue\",\"blue\",\"blue\",\"blue\",\"blue\",\"blue\",\"blue\",\"blue\",\"blue\",\"blue\",\"blue\",\"blue\",\"blue\",\"blue\",\"blue\",\"blue\",\"blue\",\"blue\",\"blue\",\"blue\",\"blue\",\"blue\",\"blue\",\"blue\",\"blue\",\"blue\",\"blue\",\"blue\",\"blue\",\"blue\",\"blue\",\"blue\",\"blue\",\"blue\",\"blue\",\"blue\",\"blue\",\"blue\",\"blue\",\"blue\",\"blue\",\"blue\",\"blue\",\"blue\",\"blue\",\"blue\",\"blue\",\"blue\",\"blue\",\"blue\",\"blue\",\"blue\",\"blue\",\"blue\",\"blue\",\"blue\",\"blue\",\"blue\",\"blue\",\"blue\",\"blue\",\"blue\",\"blue\",\"blue\",\"blue\",\"blue\",\"blue\",\"blue\",\"blue\",\"blue\",\"blue\",\"blue\",\"blue\",\"blue\",\"blue\",\"blue\",\"blue\",\"blue\",\"blue\",\"blue\",\"blue\",\"blue\",\"blue\",\"blue\",\"blue\",\"blue\",\"blue\",\"blue\",\"blue\",\"blue\",\"blue\",\"blue\",\"blue\",\"blue\",\"blue\",\"blue\",\"blue\",\"blue\",\"blue\",\"blue\",\"blue\",\"blue\",\"blue\",\"blue\",\"blue\",\"blue\",\"blue\",\"blue\",\"blue\",\"blue\",\"blue\",\"blue\",\"blue\",\"blue\",\"blue\",\"blue\",\"blue\",\"blue\",\"blue\",\"blue\",\"blue\",\"blue\",\"blue\",\"blue\",\"blue\",\"blue\",\"blue\",\"blue\",\"blue\",\"blue\",\"blue\",\"blue\",\"blue\",\"blue\",\"blue\",\"blue\",\"blue\",\"blue\",\"blue\",\"blue\",\"blue\",\"blue\",\"blue\",\"blue\",\"blue\",\"blue\",\"blue\",\"blue\",\"blue\",\"blue\",\"blue\",\"blue\",\"blue\",\"blue\",\"blue\",\"blue\",\"blue\",\"blue\",\"blue\",\"blue\",\"blue\",\"blue\",\"blue\",\"blue\",\"blue\",\"blue\",\"blue\",\"blue\",\"blue\",\"blue\",\"blue\",\"blue\",\"blue\",\"blue\",\"blue\",\"blue\",\"blue\",\"blue\",\"blue\",\"blue\",\"blue\",\"blue\",\"blue\",\"blue\",\"blue\",\"blue\",\"blue\",\"blue\",\"blue\",\"blue\",\"blue\",\"blue\",\"blue\",\"blue\",\"blue\",\"blue\",\"blue\",\"blue\",\"blue\",\"blue\",\"blue\",\"blue\",\"blue\",\"blue\",\"blue\",\"blue\",\"blue\",\"blue\",\"blue\",\"blue\",\"blue\",\"blue\",\"blue\",\"blue\",\"blue\",\"blue\",\"blue\",\"blue\",\"blue\",\"blue\",\"blue\",\"blue\",\"blue\",\"blue\",\"blue\",\"blue\",\"blue\",\"blue\",\"blue\",\"blue\",\"blue\",\"blue\",\"blue\",\"blue\",\"blue\",\"blue\",\"blue\",\"blue\",\"blue\",\"blue\",\"blue\",\"blue\",\"blue\",\"blue\",\"blue\",\"blue\",\"blue\",\"blue\",\"blue\",\"blue\",\"blue\",\"blue\",\"blue\",\"blue\",\"blue\",\"blue\",\"blue\",\"blue\",\"blue\",\"blue\",\"blue\",\"blue\",\"blue\",\"blue\",\"blue\",\"blue\",\"blue\",\"blue\",\"blue\",\"blue\",\"blue\",\"blue\",\"blue\",\"blue\",\"blue\",\"blue\",\"blue\",\"blue\",\"blue\",\"blue\",\"blue\",\"blue\",\"blue\",\"blue\",\"blue\",\"blue\",\"blue\",\"blue\",\"blue\",\"blue\",\"blue\",\"blue\",\"blue\",\"blue\",\"blue\",\"blue\",\"blue\",\"blue\",\"blue\",\"blue\",\"blue\",\"blue\",\"blue\",\"blue\",\"blue\",\"blue\",\"blue\",\"blue\",\"blue\",\"blue\",\"blue\",\"blue\",\"blue\",\"blue\",\"blue\",\"blue\",\"blue\",\"blue\",\"blue\",\"blue\",\"blue\",\"blue\",\"blue\",\"blue\",\"blue\",\"blue\",\"blue\",\"blue\",\"blue\",\"blue\",\"blue\",\"blue\",\"blue\",\"blue\",\"blue\",\"blue\",\"blue\",\"blue\",\"blue\",\"blue\",\"blue\",\"blue\",\"blue\",\"blue\",\"blue\",\"blue\",\"blue\",\"blue\",\"blue\",\"blue\",\"blue\",\"blue\",\"blue\",\"blue\",\"blue\",\"blue\",\"blue\",\"blue\",\"blue\",\"blue\",\"blue\",\"blue\",\"blue\",\"blue\",\"blue\",\"blue\",\"blue\",\"blue\",\"blue\",\"blue\",\"blue\",\"blue\",\"blue\",\"blue\",\"blue\",\"blue\",\"blue\",\"blue\",\"blue\",\"blue\",\"blue\",\"blue\",\"blue\",\"blue\",\"blue\",\"blue\",\"blue\",\"blue\",\"blue\",\"blue\",\"blue\",\"blue\",\"blue\",\"blue\",\"blue\",\"blue\",\"blue\",\"blue\",\"blue\",\"blue\",\"blue\",\"blue\",\"blue\",\"blue\",\"blue\",\"blue\",\"blue\",\"blue\",\"blue\",\"blue\",\"blue\",\"blue\",\"blue\",\"blue\",\"blue\",\"blue\",\"blue\",\"blue\",\"blue\",\"blue\",\"blue\",\"blue\",\"blue\",\"blue\",\"blue\",\"blue\",\"blue\",\"blue\",\"blue\",\"blue\",\"blue\",\"blue\",\"blue\",\"blue\",\"blue\",\"blue\",\"blue\",\"blue\",\"blue\",\"blue\",\"blue\",\"blue\",\"blue\",\"blue\",\"blue\",\"blue\",\"blue\",\"blue\",\"blue\",\"blue\",\"blue\",\"blue\",\"blue\",\"blue\",\"blue\",\"blue\",\"blue\",\"blue\",\"blue\",\"blue\",\"blue\",\"blue\",\"blue\",\"blue\",\"blue\",\"blue\",\"blue\",\"blue\",\"blue\",\"blue\",\"blue\",\"blue\",\"blue\",\"blue\",\"blue\",\"blue\",\"blue\",\"blue\",\"blue\",\"blue\",\"blue\",\"blue\",\"blue\",\"blue\",\"blue\",\"blue\",\"blue\",\"blue\",\"blue\",\"blue\",\"blue\",\"blue\",\"blue\",\"blue\",\"blue\",\"blue\",\"blue\",\"blue\",\"blue\",\"blue\",\"blue\",\"blue\",\"blue\",\"blue\",\"blue\",\"blue\",\"blue\",\"blue\",\"blue\",\"blue\",\"blue\",\"blue\",\"blue\",\"blue\",\"blue\",\"blue\",\"blue\",\"blue\",\"blue\",\"blue\",\"blue\",\"blue\",\"blue\",\"blue\",\"blue\",\"blue\",\"blue\",\"blue\",\"blue\",\"blue\",\"blue\",\"blue\",\"blue\",\"blue\",\"blue\",\"blue\",\"blue\",\"blue\",\"blue\",\"blue\",\"blue\",\"blue\",\"blue\",\"blue\",\"blue\",\"blue\",\"blue\",\"blue\",\"blue\",\"blue\",\"blue\",\"blue\",\"blue\",\"blue\",\"blue\",\"blue\",\"blue\",\"blue\",\"blue\",\"blue\",\"blue\",\"blue\",\"blue\",\"blue\",\"blue\",\"blue\",\"blue\",\"blue\",\"blue\",\"blue\",\"blue\",\"blue\",\"blue\",\"blue\",\"blue\",\"blue\",\"blue\",\"blue\",\"blue\",\"blue\",\"blue\",\"blue\",\"blue\",\"blue\",\"blue\",\"blue\",\"blue\",\"blue\",\"blue\",\"blue\",\"blue\",\"blue\",\"blue\",\"blue\",\"blue\",\"blue\",\"blue\",\"blue\",\"blue\",\"blue\",\"blue\",\"blue\",\"blue\",\"blue\",\"blue\",\"blue\",\"blue\",\"blue\",\"blue\",\"blue\",\"blue\",\"blue\",\"blue\",\"blue\",\"blue\",\"blue\",\"blue\",\"blue\",\"blue\",\"blue\",\"blue\",\"blue\",\"blue\",\"blue\",\"blue\",\"blue\",\"blue\",\"blue\",\"blue\",\"blue\",\"blue\",\"blue\",\"blue\",\"blue\",\"blue\",\"blue\",\"blue\",\"blue\",\"blue\",\"blue\",\"blue\",\"blue\",\"blue\",\"blue\",\"blue\",\"blue\",\"blue\",\"blue\",\"blue\",\"blue\",\"blue\",\"blue\",\"blue\",\"blue\",\"blue\",\"blue\",\"blue\",\"blue\",\"blue\",\"blue\",\"blue\",\"blue\",\"blue\",\"blue\",\"blue\",\"blue\",\"blue\",\"blue\",\"blue\",\"blue\",\"blue\",\"blue\",\"blue\",\"blue\",\"blue\",\"blue\",\"blue\",\"blue\",\"blue\",\"blue\",\"blue\",\"blue\",\"blue\",\"blue\",\"blue\",\"blue\",\"blue\",\"blue\",\"blue\",\"blue\",\"blue\",\"blue\",\"blue\",\"blue\",\"blue\",\"blue\",\"blue\",\"blue\",\"blue\",\"blue\",\"blue\",\"blue\",\"blue\",\"blue\",\"blue\",\"blue\",\"blue\",\"blue\",\"blue\",\"blue\",\"blue\",\"blue\",\"blue\",\"blue\",\"blue\",\"blue\",\"blue\",\"blue\",\"blue\",\"blue\",\"blue\",\"blue\",\"blue\",\"blue\",\"blue\",\"blue\",\"blue\",\"blue\",\"blue\",\"blue\",\"blue\",\"blue\",\"blue\",\"blue\",\"blue\",\"blue\",\"blue\",\"blue\",\"blue\",\"blue\",\"blue\",\"blue\",\"blue\",\"blue\",\"blue\",\"blue\",\"blue\",\"blue\",\"blue\",\"blue\",\"blue\",\"blue\",\"blue\",\"blue\",\"blue\",\"blue\",\"blue\",\"blue\",\"blue\",\"blue\",\"blue\",\"blue\",\"blue\",\"blue\",\"blue\",\"blue\",\"blue\",\"blue\",\"blue\",\"blue\",\"blue\",\"blue\",\"blue\",\"blue\",\"blue\",\"blue\",\"blue\",\"blue\",\"blue\",\"blue\",\"blue\",\"blue\",\"blue\",\"blue\",\"blue\",\"blue\",\"blue\",\"blue\",\"blue\",\"blue\",\"blue\",\"blue\",\"blue\",\"blue\",\"blue\",\"blue\",\"blue\",\"blue\",\"blue\",\"blue\",\"blue\",\"blue\",\"blue\",\"blue\",\"blue\",\"blue\",\"blue\",\"blue\",\"blue\",\"blue\",\"blue\",\"blue\",\"blue\",\"blue\",\"blue\",\"blue\",\"blue\",\"blue\",\"blue\",\"blue\",\"blue\",\"blue\",\"blue\",\"blue\",\"blue\",\"blue\",\"blue\",\"blue\",\"blue\",\"blue\",\"blue\",\"blue\",\"blue\",\"blue\",\"blue\",\"blue\",\"blue\",\"blue\",\"blue\",\"blue\",\"blue\",\"blue\",\"blue\",\"blue\",\"blue\",\"blue\",\"blue\",\"blue\",\"blue\",\"blue\",\"blue\",\"blue\",\"blue\",\"blue\",\"blue\",\"blue\",\"blue\",\"blue\",\"blue\",\"blue\",\"blue\",\"blue\",\"blue\",\"blue\",\"blue\",\"blue\",\"blue\",\"blue\",\"blue\",\"blue\",\"blue\",\"blue\",\"blue\",\"blue\",\"blue\",\"blue\",\"blue\",\"blue\",\"blue\",\"blue\",\"blue\",\"blue\",\"blue\",\"blue\",\"blue\",\"blue\",\"blue\",\"blue\",\"blue\",\"blue\",\"blue\",\"blue\",\"blue\",\"blue\",\"blue\",\"blue\",\"blue\",\"blue\",\"blue\",\"blue\",\"blue\",\"blue\",\"blue\",\"blue\",\"blue\",\"blue\",\"blue\",\"blue\",\"blue\",\"blue\",\"blue\",\"blue\",\"blue\",\"blue\",\"blue\",\"blue\",\"blue\",\"blue\",\"blue\",\"blue\",\"blue\",\"blue\",\"blue\",\"blue\",\"blue\",\"blue\",\"blue\",\"blue\",\"blue\",\"blue\",\"blue\",\"blue\",\"blue\",\"blue\",\"blue\",\"blue\",\"blue\",\"blue\",\"blue\",\"blue\",\"blue\",\"blue\",\"blue\",\"blue\",\"blue\",\"blue\",\"blue\",\"blue\",\"blue\",\"blue\",\"blue\",\"blue\",\"blue\",\"blue\",\"blue\",\"blue\",\"blue\",\"blue\",\"blue\",\"blue\",\"blue\",\"blue\",\"blue\",\"blue\",\"blue\",\"blue\",\"blue\",\"blue\",\"blue\",\"blue\",\"blue\",\"blue\",\"blue\",\"blue\",\"blue\",\"blue\",\"blue\",\"blue\",\"blue\",\"blue\",\"blue\",\"blue\",\"blue\",\"blue\",\"blue\",\"blue\",\"blue\",\"blue\",\"blue\",\"blue\",\"blue\",\"blue\",\"blue\",\"blue\",\"blue\",\"blue\",\"blue\",\"blue\",\"blue\",\"blue\",\"blue\",\"blue\",\"blue\",\"blue\",\"blue\",\"blue\",\"blue\",\"blue\",\"blue\",\"blue\",\"blue\",\"blue\",\"blue\",\"blue\",\"blue\",\"blue\",\"blue\",\"blue\",\"blue\",\"blue\",\"blue\",\"blue\",\"blue\",\"blue\",\"blue\",\"blue\",\"blue\",\"blue\",\"blue\",\"blue\",\"blue\",\"blue\",\"blue\",\"blue\",\"blue\",\"blue\",\"blue\",\"blue\",\"blue\",\"blue\",\"blue\",\"blue\",\"blue\",\"blue\",\"blue\",\"blue\",\"blue\",\"blue\",\"blue\",\"blue\",\"blue\",\"blue\",\"blue\",\"blue\",\"blue\",\"blue\",\"blue\",\"blue\",\"blue\",\"blue\",\"blue\",\"blue\",\"blue\",\"blue\",\"blue\",\"blue\",\"blue\",\"blue\",\"blue\",\"blue\",\"blue\",\"blue\",\"blue\",\"blue\",\"blue\",\"blue\",\"blue\",\"blue\",\"blue\",\"blue\",\"blue\",\"blue\",\"blue\",\"blue\",\"blue\",\"blue\",\"blue\",\"blue\",\"blue\",\"blue\",\"blue\",\"blue\",\"blue\",\"blue\",\"blue\",\"blue\",\"blue\",\"blue\",\"blue\",\"blue\",\"blue\",\"blue\",\"blue\",\"blue\",\"blue\",\"blue\",\"blue\",\"blue\",\"blue\",\"blue\",\"blue\",\"blue\",\"blue\",\"blue\",\"blue\",\"blue\",\"blue\",\"blue\",\"blue\",\"blue\",\"blue\",\"blue\",\"blue\",\"blue\",\"blue\",\"blue\",\"blue\",\"blue\",\"blue\",\"blue\",\"blue\",\"blue\",\"blue\",\"blue\",\"blue\",\"blue\",\"blue\",\"blue\",\"blue\",\"blue\",\"blue\",\"blue\",\"blue\",\"blue\",\"blue\",\"blue\",\"blue\",\"blue\",\"blue\",\"blue\",\"blue\",\"blue\",\"blue\",\"blue\",\"blue\",\"blue\",\"blue\",\"blue\",\"blue\",\"blue\",\"blue\",\"blue\",\"blue\",\"blue\",\"blue\",\"blue\",\"blue\",\"blue\",\"blue\",\"blue\",\"blue\",\"blue\",\"blue\",\"blue\",\"blue\",\"blue\",\"blue\",\"blue\",\"blue\",\"blue\",\"blue\",\"blue\",\"blue\",\"blue\",\"blue\",\"blue\",\"blue\",\"blue\",\"blue\",\"blue\",\"blue\",\"blue\",\"blue\",\"blue\",\"blue\",\"blue\",\"blue\",\"blue\",\"blue\",\"blue\",\"blue\",\"blue\",\"blue\",\"blue\",\"blue\",\"blue\",\"blue\",\"blue\",\"blue\",\"blue\",\"blue\",\"blue\",\"blue\",\"blue\",\"blue\",\"blue\",\"blue\",\"blue\",\"blue\",\"blue\",\"blue\",\"blue\",\"blue\",\"blue\",\"blue\",\"blue\",\"blue\",\"blue\",\"blue\",\"blue\",\"blue\",\"blue\",\"blue\",\"blue\",\"blue\",\"blue\",\"blue\",\"blue\",\"blue\",\"blue\",\"blue\",\"blue\",\"blue\",\"blue\",\"blue\",\"blue\",\"blue\",\"blue\",\"blue\",\"blue\",\"blue\",\"blue\",\"blue\",\"blue\",\"blue\",\"blue\",\"blue\",\"blue\",\"blue\",\"blue\",\"blue\",\"blue\",\"blue\",\"blue\",\"blue\",\"blue\",\"blue\",\"blue\",\"blue\",\"blue\",\"blue\",\"blue\",\"blue\",\"blue\",\"blue\",\"blue\",\"blue\",\"blue\",\"blue\",\"blue\",\"blue\",\"blue\",\"blue\",\"blue\",\"blue\",\"blue\",\"blue\",\"blue\",\"blue\",\"blue\",\"blue\",\"blue\",\"blue\",\"blue\",\"blue\",\"blue\",\"blue\",\"blue\",\"blue\",\"blue\",\"blue\",\"blue\",\"blue\",\"blue\",\"blue\",\"blue\",\"blue\",\"blue\",\"blue\",\"blue\",\"blue\",\"blue\",\"blue\",\"blue\",\"blue\",\"blue\",\"blue\",\"blue\",\"blue\",\"blue\",\"blue\",\"blue\",\"blue\",\"blue\",\"blue\",\"blue\",\"blue\",\"blue\",\"blue\",\"blue\",\"blue\",\"blue\",\"blue\",\"blue\",\"blue\",\"blue\",\"blue\",\"blue\",\"blue\",\"blue\",\"blue\",\"blue\",\"blue\",\"blue\",\"blue\",\"blue\",\"blue\",\"blue\",\"blue\",\"blue\",\"blue\",\"blue\",\"blue\",\"blue\",\"blue\",\"blue\",\"blue\",\"blue\",\"blue\",\"blue\",\"blue\",\"blue\",\"blue\",\"blue\",\"blue\",\"blue\",\"blue\",\"blue\",\"blue\",\"blue\",\"blue\",\"blue\",\"blue\",\"blue\",\"blue\",\"blue\",\"blue\",\"blue\",\"blue\",\"blue\",\"blue\",\"blue\",\"blue\",\"blue\",\"blue\",\"blue\",\"blue\",\"blue\",\"blue\",\"blue\",\"blue\",\"blue\",\"blue\",\"blue\",\"blue\",\"blue\",\"blue\",\"blue\",\"blue\",\"blue\",\"blue\",\"blue\",\"blue\",\"blue\",\"blue\",\"blue\",\"blue\",\"blue\",\"blue\",\"blue\",\"blue\",\"blue\",\"blue\",\"blue\",\"blue\",\"blue\",\"blue\",\"blue\",\"blue\",\"blue\",\"blue\",\"blue\",\"blue\",\"blue\",\"blue\",\"blue\",\"blue\",\"blue\",\"blue\",\"blue\",\"blue\",\"blue\",\"blue\",\"blue\",\"blue\",\"blue\",\"blue\",\"blue\",\"blue\",\"blue\",\"blue\",\"blue\",\"blue\",\"blue\",\"blue\",\"blue\",\"blue\",\"blue\",\"blue\",\"blue\",\"blue\",\"blue\",\"blue\",\"blue\",\"blue\",\"blue\",\"blue\",\"blue\",\"blue\",\"blue\",\"blue\",\"blue\",\"blue\",\"blue\",\"blue\",\"blue\",\"blue\",\"blue\",\"blue\",\"blue\",\"blue\",\"blue\",\"blue\",\"blue\",\"blue\",\"blue\",\"blue\",\"blue\",\"blue\",\"blue\",\"blue\",\"blue\",\"blue\",\"blue\",\"blue\",\"blue\",\"blue\",\"blue\",\"blue\",\"blue\",\"blue\",\"blue\",\"blue\",\"blue\",\"blue\",\"blue\",\"blue\",\"blue\",\"blue\",\"blue\",\"blue\",\"blue\",\"blue\",\"blue\",\"blue\",\"blue\",\"blue\",\"blue\",\"blue\",\"blue\",\"blue\",\"blue\",\"blue\",\"blue\",\"blue\",\"blue\",\"blue\",\"blue\",\"blue\",\"blue\",\"blue\",\"blue\",\"blue\",\"blue\",\"blue\",\"blue\",\"blue\",\"blue\",\"blue\",\"blue\",\"blue\",\"blue\",\"blue\",\"blue\",\"blue\",\"blue\",\"blue\",\"blue\",\"blue\",\"blue\",\"blue\",\"blue\",\"blue\",\"blue\",\"blue\",\"blue\",\"blue\",\"blue\",\"blue\",\"blue\",\"blue\",\"blue\",\"blue\",\"blue\",\"blue\",\"blue\",\"blue\",\"blue\",\"blue\",\"blue\",\"blue\",\"blue\",\"blue\",\"blue\",\"blue\",\"blue\",\"blue\",\"blue\",\"blue\",\"blue\",\"blue\",\"blue\",\"blue\",\"blue\",\"blue\",\"blue\",\"blue\",\"blue\",\"blue\",\"blue\",\"blue\",\"blue\",\"blue\",\"blue\",\"blue\",\"blue\",\"blue\",\"blue\",\"blue\",\"blue\",\"blue\",\"blue\",\"blue\",\"blue\",\"blue\",\"blue\",\"blue\",\"blue\",\"blue\",\"blue\",\"blue\",\"blue\",\"blue\",\"blue\",\"blue\",\"blue\",\"blue\",\"blue\",\"blue\",\"blue\",\"blue\",\"blue\",\"blue\",\"blue\",\"blue\",\"blue\",\"blue\",\"blue\",\"blue\",\"blue\",\"blue\",\"blue\",\"blue\",\"blue\",\"blue\",\"blue\",\"blue\",\"blue\",\"blue\",\"blue\",\"blue\",\"blue\",\"blue\",\"blue\",\"blue\",\"blue\",\"blue\",\"blue\",\"blue\",\"blue\",\"blue\",\"blue\",\"blue\",\"blue\",\"blue\",\"blue\",\"blue\",\"blue\",\"blue\",\"blue\",\"blue\",\"blue\",\"blue\",\"blue\",\"blue\",\"blue\",\"blue\",\"blue\",\"blue\",\"blue\",\"blue\",\"blue\",\"blue\",\"blue\",\"blue\",\"blue\",\"blue\",\"blue\",\"blue\",\"blue\",\"blue\",\"blue\",\"blue\",\"blue\",\"blue\",\"blue\",\"blue\",\"blue\",\"blue\",\"blue\",\"blue\",\"blue\",\"blue\",\"blue\",\"blue\",\"blue\",\"blue\",\"blue\",\"blue\",\"blue\",\"blue\",\"blue\",\"blue\",\"blue\",\"blue\",\"blue\",\"blue\",\"blue\",\"blue\",\"blue\",\"blue\",\"blue\",\"blue\",\"blue\",\"blue\",\"blue\",\"blue\",\"blue\",\"blue\",\"blue\",\"blue\",\"blue\",\"blue\",\"blue\",\"blue\",\"blue\",\"blue\",\"blue\",\"blue\",\"blue\",\"blue\",\"blue\",\"blue\",\"blue\",\"blue\",\"blue\",\"blue\",\"blue\",\"blue\",\"blue\",\"blue\",\"blue\",\"blue\",\"blue\",\"blue\",\"blue\",\"blue\",\"blue\",\"blue\",\"blue\",\"blue\",\"blue\",\"blue\",\"blue\",\"blue\",\"blue\",\"blue\",\"blue\",\"blue\",\"blue\",\"blue\",\"blue\",\"blue\",\"blue\",\"blue\",\"blue\",\"blue\",\"blue\",\"blue\",\"blue\",\"blue\",\"blue\",\"blue\",\"blue\",\"blue\",\"blue\",\"blue\",\"blue\",\"blue\",\"blue\",\"blue\",\"blue\",\"blue\",\"blue\",\"blue\",\"blue\",\"blue\",\"blue\",\"blue\",\"blue\",\"blue\",\"blue\",\"blue\",\"blue\",\"blue\",\"blue\",\"blue\",\"blue\",\"blue\",\"blue\",\"blue\",\"blue\",\"blue\",\"blue\",\"blue\",\"blue\",\"blue\",\"blue\",\"blue\",\"blue\",\"blue\",\"blue\",\"blue\",\"blue\",\"blue\",\"blue\",\"blue\",\"blue\",\"blue\",\"blue\",\"blue\",\"blue\",\"blue\",\"blue\",\"blue\",\"blue\",\"blue\",\"blue\",\"blue\",\"blue\",\"blue\",\"blue\",\"blue\",\"blue\",\"blue\",\"blue\",\"blue\",\"blue\",\"blue\",\"blue\",\"blue\",\"blue\",\"blue\",\"blue\",\"blue\",\"blue\",\"blue\",\"blue\",\"blue\",\"blue\",\"blue\",\"blue\",\"blue\",\"blue\",\"blue\",\"blue\",\"blue\",\"blue\",\"blue\",\"blue\",\"blue\",\"blue\",\"blue\",\"blue\",\"blue\",\"blue\",\"blue\",\"blue\",\"blue\",\"blue\",\"blue\",\"blue\",\"blue\",\"blue\",\"blue\",\"blue\",\"blue\",\"blue\",\"blue\",\"blue\",\"blue\",\"blue\",\"blue\",\"blue\",\"blue\",\"blue\",\"blue\",\"blue\",\"blue\",\"blue\",\"blue\",\"blue\",\"blue\",\"blue\",\"blue\",\"blue\",\"blue\",\"blue\",\"blue\",\"blue\",\"blue\",\"blue\",\"blue\",\"blue\",\"blue\",\"blue\",\"blue\",\"blue\",\"blue\",\"blue\",\"blue\",\"blue\",\"blue\",\"blue\",\"blue\",\"blue\",\"blue\",\"blue\",\"blue\",\"blue\",\"blue\",\"blue\",\"blue\",\"blue\",\"blue\",\"blue\",\"blue\",\"blue\",\"blue\",\"blue\",\"blue\",\"blue\",\"blue\",\"blue\",\"blue\",\"blue\",\"blue\",\"blue\",\"blue\",\"blue\",\"blue\",\"blue\",\"blue\",\"blue\",\"blue\",\"blue\",\"blue\",\"blue\",\"blue\",\"blue\",\"blue\",\"blue\",\"blue\",\"blue\",\"blue\",\"blue\",\"blue\",\"blue\",\"blue\",\"blue\",\"blue\",\"blue\",\"blue\",\"blue\",\"blue\",\"blue\",\"blue\",\"blue\",\"blue\",\"blue\",\"blue\",\"blue\",\"blue\",\"blue\",\"blue\",\"blue\",\"blue\",\"blue\",\"blue\",\"blue\",\"blue\",\"blue\",\"blue\",\"blue\",\"blue\",\"blue\",\"blue\",\"blue\",\"blue\",\"blue\",\"blue\",\"blue\",\"blue\",\"blue\",\"blue\",\"blue\",\"blue\",\"blue\",\"blue\",\"blue\",\"blue\",\"blue\",\"blue\",\"blue\",\"blue\",\"blue\",\"blue\",\"blue\",\"blue\",\"blue\",\"blue\",\"blue\",\"blue\",\"blue\",\"blue\",\"blue\",\"blue\",\"blue\",\"blue\",\"blue\",\"blue\",\"blue\",\"blue\",\"blue\",\"blue\",\"blue\",\"blue\",\"blue\",\"blue\",\"blue\",\"blue\",\"blue\",\"blue\",\"blue\",\"blue\",\"blue\",\"blue\",\"blue\",\"blue\",\"blue\",\"blue\",\"blue\",\"blue\",\"blue\",\"blue\",\"blue\",\"blue\",\"blue\",\"blue\",\"blue\",\"blue\",\"blue\",\"blue\",\"blue\",\"blue\",\"blue\",\"blue\",\"blue\",\"blue\",\"blue\",\"blue\",\"blue\",\"blue\",\"blue\",\"blue\",\"blue\",\"blue\",\"blue\",\"blue\",\"blue\",\"blue\",\"blue\",\"blue\",\"blue\",\"blue\",\"blue\",\"blue\",\"blue\",\"blue\",\"blue\",\"blue\",\"blue\",\"blue\",\"blue\",\"blue\",\"blue\",\"blue\",\"blue\",\"blue\",\"blue\",\"blue\",\"blue\",\"blue\",\"blue\",\"blue\",\"blue\",\"blue\",\"blue\",\"blue\",\"blue\",\"blue\",\"blue\",\"blue\",\"blue\",\"blue\",\"blue\",\"blue\",\"blue\",\"blue\",\"blue\",\"blue\",\"blue\",\"blue\",\"blue\",\"blue\",\"blue\",\"blue\",\"blue\",\"blue\",\"blue\",\"blue\",\"blue\",\"blue\",\"blue\",\"blue\",\"blue\",\"blue\",\"blue\",\"blue\",\"blue\",\"blue\",\"blue\",\"blue\",\"blue\",\"blue\",\"blue\",\"blue\",\"blue\",\"blue\",\"blue\",\"blue\",\"blue\",\"blue\",\"blue\",\"blue\",\"blue\",\"blue\",\"blue\",\"blue\",\"blue\",\"blue\",\"blue\",\"blue\",\"blue\",\"blue\",\"blue\",\"blue\",\"blue\",\"blue\",\"blue\",\"blue\",\"blue\",\"blue\",\"blue\",\"blue\",\"blue\",\"blue\",\"blue\",\"blue\",\"blue\",\"blue\",\"blue\",\"blue\",\"blue\",\"blue\",\"blue\",\"blue\",\"blue\",\"blue\",\"blue\",\"blue\",\"blue\",\"blue\",\"blue\",\"blue\",\"blue\",\"blue\",\"blue\",\"blue\",\"blue\",\"blue\",\"blue\",\"blue\",\"blue\",\"blue\",\"blue\",\"blue\",\"blue\",\"blue\",\"blue\",\"blue\",\"blue\",\"blue\",\"blue\",\"blue\",\"blue\",\"blue\",\"blue\",\"blue\",\"blue\",\"blue\",\"blue\",\"blue\",\"blue\",\"blue\",\"blue\",\"blue\",\"blue\",\"blue\",\"blue\",\"blue\",\"blue\",\"blue\",\"blue\",\"blue\",\"blue\",\"blue\",\"blue\",\"blue\",\"blue\",\"blue\",\"blue\",\"blue\",\"blue\",\"blue\",\"blue\",\"blue\",\"blue\",\"blue\",\"blue\",\"blue\",\"blue\",\"blue\",\"blue\",\"blue\",\"blue\",\"blue\",\"blue\",\"blue\",\"blue\",\"blue\",\"blue\",\"blue\",\"blue\",\"blue\",\"blue\",\"blue\",\"blue\",\"blue\",\"blue\",\"blue\",\"blue\",\"blue\",\"blue\",\"blue\",\"blue\",\"blue\",\"blue\",\"blue\",\"blue\",\"blue\",\"blue\",\"blue\",\"blue\",\"blue\",\"blue\",\"blue\",\"blue\",\"blue\",\"blue\",\"blue\",\"blue\",\"blue\",\"blue\",\"blue\",\"blue\",\"blue\",\"blue\",\"blue\",\"blue\",\"blue\",\"blue\",\"blue\",\"blue\",\"blue\",\"blue\",\"blue\",\"blue\",\"blue\",\"blue\",\"blue\",\"blue\",\"blue\",\"blue\",\"blue\",\"blue\",\"blue\",\"blue\",\"blue\",\"blue\",\"blue\",\"blue\",\"blue\",\"blue\",\"blue\",\"blue\",\"blue\",\"blue\",\"blue\",\"blue\",\"blue\",\"blue\",\"blue\",\"blue\",\"blue\",\"blue\",\"blue\",\"blue\",\"blue\",\"blue\",\"blue\",\"blue\",\"blue\",\"blue\",\"blue\",\"blue\",\"blue\",\"blue\",\"blue\",\"blue\",\"blue\",\"blue\",\"blue\",\"blue\",\"blue\",\"blue\",\"blue\",\"blue\",\"blue\",\"blue\",\"blue\",\"blue\",\"blue\",\"blue\",\"blue\",\"blue\",\"blue\",\"blue\",\"blue\",\"blue\",\"blue\",\"blue\",\"blue\",\"blue\",\"blue\",\"blue\",\"blue\",\"blue\",\"blue\",\"blue\",\"blue\",\"blue\",\"blue\",\"blue\",\"blue\",\"blue\",\"blue\",\"blue\",\"blue\",\"blue\",\"blue\",\"blue\",\"blue\",\"blue\",\"blue\",\"blue\",\"blue\",\"blue\",\"blue\",\"blue\",\"blue\",\"blue\",\"blue\",\"blue\",\"blue\",\"blue\",\"blue\",\"blue\",\"blue\",\"blue\",\"blue\",\"blue\",\"blue\",\"blue\",\"blue\",\"blue\",\"blue\",\"blue\",\"blue\",\"blue\",\"blue\",\"blue\",\"blue\",\"blue\",\"blue\",\"blue\",\"blue\",\"blue\",\"blue\",\"blue\",\"blue\",\"blue\",\"blue\",\"blue\",\"blue\",\"blue\",\"blue\",\"blue\",\"blue\",\"blue\",\"blue\",\"blue\",\"blue\",\"blue\",\"blue\",\"blue\",\"blue\",\"blue\",\"blue\",\"blue\",\"blue\",\"blue\",\"blue\",\"blue\",\"blue\",\"blue\",\"blue\",\"blue\",\"blue\",\"blue\",\"blue\",\"blue\",\"blue\",\"blue\",\"blue\",\"blue\",\"blue\",\"blue\",\"blue\",\"blue\",\"blue\",\"blue\",\"blue\",\"blue\",\"blue\",\"blue\",\"blue\",\"blue\",\"blue\",\"blue\",\"blue\",\"blue\",\"blue\",\"blue\",\"blue\",\"blue\",\"blue\",\"blue\",\"blue\",\"blue\",\"blue\",\"blue\",\"blue\",\"blue\",\"blue\",\"blue\",\"blue\",\"blue\",\"blue\",\"blue\",\"blue\",\"blue\",\"blue\",\"blue\",\"blue\",\"blue\",\"blue\",\"blue\",\"blue\",\"blue\",\"blue\",\"blue\",\"blue\",\"blue\",\"blue\",\"blue\",\"blue\",\"blue\",\"blue\"]],[\"token\",[\"verified\",\"2gb\",\"illinois\",\"jazz\",\"checking\",\"telescope\",\"seasons\",\"astrologer\",\"contribution\",\"homemade\",\"heroes\",\"warcraft\",\"kumar\",\"tester\",\"politically\",\"conquer\",\"columbia\",\"quiet\",\"repeat\",\"kapil\",\"involve\",\"mckinsey\",\"switched\",\"att\",\"instance\",\"innocent\",\"portuguese\",\"subscribers\",\"cabinet\",\"terror\",\"85\",\"rotation\",\"shirts\",\"drawn\",\"bi\",\"aspergers\",\"inspiration\",\"beats\",\"\\u00a3\",\"approximately\",\"asset\",\"empathy\",\"rooting\",\"ia\",\"dandruff\",\"slab\",\"operator\",\"horrible\",\"dominant\",\"ocd\",\"spacetime\",\"blow\",\"installing\",\"learnt\",\"separation\",\"institution\",\"temples\",\"hons\",\"pound\",\"removing\",\"unemployment\",\"greenlit\",\"audit\",\"supplement\",\"roller\",\"dota\",\"tiny\",\"equally\",\"braces\",\"aggressive\",\"corn\",\"camps\",\"additional\",\"consent\",\"granted\",\"welfare\",\"myths\",\"stations\",\"timeline\",\"psychologist\",\"nagpur\",\"herself\",\"cooper\",\"exgirlfriend\",\"intercourse\",\"flip\",\"hurts\",\"lpa\",\"nerve\",\"tvs\",\"halloween\",\"screenshot\",\"biomedical\",\"covered\",\"milky\",\"onsite\",\"aside\",\"meaningful\",\"stretch\",\"joker\",\"encounter\",\"tone\",\"founders\",\"talked\",\"respectively\",\"downloads\",\"cocaine\",\"toxic\",\"sword\",\"fuck\",\"trainer\",\"partition\",\"boxing\",\"grid\",\"practicing\",\"menu\",\"cms\",\"indore\",\"ate\",\"volunteer\",\"misconceptions\",\"pics\",\"flies\",\"instantly\",\"trans\",\"friday\",\"sociopaths\",\"ctc\",\"hoax\",\"detailed\",\"sizes\",\"rejection\",\"limitations\",\"bharat\",\"kissing\",\"renewable\",\"oriented\",\"countrys\",\"dumps\",\"spiders\",\"technological\",\"advertisement\",\"headache\",\"zodiac\",\"accommodation\",\"venus\",\"calcium\",\"passenger\",\"falls\",\"overnight\",\"pickup\",\"gary\",\"transportation\",\"odds\",\"jupiter\",\"purchasing\",\"fluently\",\"flu\",\"photons\",\"conductor\",\"ohio\",\"balaji\",\"mcdonalds\",\"betting\",\"irrational\",\"sachin\",\"deactivate\",\"estimate\",\"hairs\",\"fluent\",\"errors\",\"remaining\",\"marriages\",\"medieval\",\"charles\",\"spider\",\"oxford\",\"gita\",\"races\",\"liquor\",\"poland\",\"lease\",\"co2\",\"selenium\",\"attempts\",\"crystal\",\"manaphy\",\"knight\",\"collapsed\",\"wheels\",\"behaviour\",\"bitcoins\",\"parliament\",\"himher\",\"handsome\",\"thousands\",\"caring\",\"kings\",\"lucky\",\"workplace\",\"condom\",\"intuitive\",\"chronic\",\"eyesight\",\"simulation\",\"prank\",\"quickest\",\"concert\",\"popularity\",\"connections\",\"disorders\",\"scripting\",\"appearance\",\"js\",\"depth\",\"cheque\",\"longterm\",\"documentaries\",\"dioxide\",\"bright\",\"info\",\"diseases\",\"appeal\",\"snap\",\"smoked\",\"singers\",\"boil\",\"probably\",\"temperatures\",\"appearing\",\"olive\",\"ntse\",\"telecom\",\"brief\",\"discrimination\",\"ethnic\",\"cache\",\"passionate\",\"shoulder\",\"assault\",\"marshmallow\",\"momentum\",\"yr\",\"migrate\",\"retire\",\"cet\",\"canvas\",\"vietnamese\",\"institutions\",\"meter\",\"roots\",\"integer\",\"imported\",\"ants\",\"lyft\",\"piercing\",\"il\",\"poop\",\"organisms\",\"ve\",\"entropy\",\"calm\",\"saddest\",\"toward\",\"myth\",\"sight\",\"filling\",\"hdmi\",\"satisfied\",\"transactions\",\"pharmacy\",\"nursing\",\"correlation\",\"regression\",\"awake\",\"md\",\"nri\",\"recommendations\",\"bin\",\"finland\",\"multi\",\"voted\",\"discovery\",\"edward\",\"touching\",\"immigrant\",\"geometry\",\"indicate\",\"ourselves\",\"texting\",\"seek\",\"expecting\",\"dj\",\"brake\",\"helicopter\",\"blonde\",\"triple\",\"ladies\",\"vivekananda\",\"switching\",\"prostitution\",\"banana\",\"magazines\",\"shippuden\",\"lucknow\",\"2019\",\"failing\",\"elizabeth\",\"irish\",\"ebook\",\"temporary\",\"governor\",\"wasting\",\"weekends\",\"cpt\",\"wax\",\"labor\",\"instruments\",\"instrumentation\",\"hates\",\"hip\",\"arnab\",\"bubble\",\"employers\",\"aadhaar\",\"boyfriends\",\"jake\",\"explained\",\"yesterday\",\"beta\",\"extrovert\",\"andhra\",\"micromax\",\"vertical\",\"lay\",\"nonprofit\",\"dubbed\",\"typing\",\"automotive\",\"thomas\",\"procedures\",\"priority\",\"funded\",\"arabs\",\"siblings\",\"guinea\",\"missile\",\"luck\",\"strategic\",\"defend\",\"module\",\"tuition\",\"acids\",\"controller\",\"committee\",\"housing\",\"integral\",\"peaceful\",\"refugees\",\"prescription\",\"interns\",\"supported\",\"womans\",\"dentist\",\"wives\",\"village\",\"affecting\",\"lte\",\"beaches\",\"austin\",\"substance\",\"engagement\",\"trainee\",\"measures\",\"trailer\",\"purchased\",\"15000\",\"uttar\",\"glue\",\"dtu\",\"medal\",\"photon\",\"engg\",\"violin\",\"column\",\"somehow\",\"rotate\",\"3000\",\"virat\",\"forgotten\",\"fingers\",\"slim\",\"arrest\",\"covalent\",\"ncert\",\"kernel\",\"da\",\"alarm\",\"ngo\",\"4gb\",\"productivity\",\"planned\",\"district\",\"berlin\",\"lists\",\"leads\",\"slang\",\"defence\",\"aspiring\",\"56\",\"enemy\",\"farming\",\"muller\",\"pays\",\"liver\",\"membrane\",\"secretly\",\"plug\",\"gum\",\"eclipse\",\"chewing\",\"labs\",\"zombie\",\"authority\",\"males\",\"argentina\",\"tasks\",\"fell\",\"nails\",\"palestine\",\"tanks\",\"identical\",\"deck\",\"qualification\",\"leadership\",\"kohli\",\"pronunciation\",\"hello\",\"violent\",\"sabha\",\"respiration\",\"transform\",\"warranty\",\"faculty\",\"adolf\",\"expenses\",\"jersey\",\"mercury\",\"whiskey\",\"tackle\",\"tweet\",\"blame\",\"cruise\",\"mahindra\",\"discharge\",\"reduced\",\"vodka\",\"mahatma\",\"bass\",\"compete\",\"stains\",\"pill\",\"swim\",\"ali\",\"gf\",\"ford\",\"prince\",\"sweat\",\"performing\",\"limits\",\"leonardo\",\"cow\",\"resolve\",\"matters\",\"pharmaceutical\",\"ray\",\"remotely\",\"pf\",\"clinical\",\"bpo\",\"homeless\",\"husbands\",\"rising\",\"newtons\",\"outcome\",\"derivative\",\"alpha\",\"grown\",\"capitalism\",\"astronaut\",\"hybrid\",\"palm\",\"teens\",\"hits\",\"airplanes\",\"none\",\"admin\",\"applicable\",\"amcat\",\"spam\",\"neutrality\",\"pixel\",\"festival\",\"faces\",\"molar\",\"snakes\",\"sip\",\"kik\",\"farm\",\"ltd\",\"votes\",\"publishing\",\"comfort\",\"frontend\",\"spin\",\"diagnosed\",\"buildings\",\"\\u00b0\",\"cashless\",\"addictive\",\"extinct\",\"ugc\",\"coke\",\"llb\",\"phrases\",\"struggle\",\"drives\",\"fiber\",\"grocery\",\"achieved\",\"penny\",\"bath\",\"allies\",\"uninstall\",\"ny\",\"appears\",\"effort\",\"satellites\",\"confirmed\",\"loneliness\",\"illuminati\",\"uri\",\"lucid\",\"preferably\",\"neither\",\"\\u221a\",\"pacific\",\"americas\",\"bs\",\"graduated\",\"bills\",\"tube\",\"germans\",\"assume\",\"cleared\",\"mate\",\"divide\",\"versions\",\"fallen\",\"journey\",\"anthem\",\"certificates\",\"looked\",\"sponsor\",\"useless\",\"dependent\",\"invite\",\"guru\",\"keyword\",\"aipmt\",\"clone\",\"kgs\",\"chip\",\"origins\",\"wide\",\"motivational\",\"elite\",\"wanna\",\"unity\",\"cough\",\"connecting\",\"mystery\",\"kim\",\"syrian\",\"voldemort\",\"responsibilities\",\"molecules\",\"boobs\",\"holidays\",\"tutorial\",\"circumstances\",\"fiitjee\",\"islands\",\"bypass\",\"slowly\",\"mixture\",\"aluminum\",\"salesforce\",\"twin\",\"iot\",\"remedy\",\"sheets\",\"pole\",\"hated\",\"females\",\"protected\",\"irs\",\"insecure\",\"entering\",\"neuroscience\",\"offices\",\"delta\",\"suggestion\",\"snapdeal\",\"backstory\",\"periodic\",\"cancelled\",\"mans\",\"complicated\",\"bitsat\",\"pleasure\",\"loop\",\"dropbox\",\"selfish\",\"nude\",\"20000\",\"voter\",\"variables\",\"victory\",\"closest\",\"compensation\",\"extended\",\"locations\",\"cracked\",\"perks\",\"ended\",\"exit\",\"awareness\",\"pakistanis\",\"ebooks\",\"bull\",\"unblock\",\"100000\",\"entrepreneurship\",\"infrastructure\",\"scotland\",\"guest\",\"attacked\",\"hurting\",\"lion\",\"reject\",\"purposes\",\"knife\",\"thai\",\"ipl\",\"knee\",\"accepting\",\"spent\",\"punjabi\",\"tab\",\"quoras\",\"caffeine\",\"athletes\",\"ink\",\"cooked\",\"improving\",\"invaded\",\"allah\",\"thermodynamics\",\"mortgage\",\"firsttime\",\"achievements\",\"issued\",\"breath\",\"award\",\"llc\",\"legends\",\"mood\",\"influenced\",\"proteins\",\"holy\",\"performed\",\"pee\",\"blocks\",\"molecule\",\"interests\",\"imei\",\"requires\",\"cisco\",\"moves\",\"marrying\",\"mca\",\"perfectly\",\"iisc\",\"corporation\",\"shiva\",\"viruses\",\"difficulty\",\"50000\",\"volte\",\"shampoo\",\"secular\",\"transplant\",\"ghz\",\"ahead\",\"crew\",\"interact\",\"depend\",\"hawaii\",\"hiv\",\"evening\",\"vegetable\",\"revenge\",\"suppose\",\"busy\",\"label\",\"rogue\",\"rational\",\"hillstation\",\"brains\",\"urdu\",\"imagine\",\"salaries\",\"survey\",\"g4\",\"butt\",\"manufacturers\",\"saas\",\"residency\",\"recommendation\",\"purple\",\"fault\",\"aadhar\",\"aging\",\"bhopal\",\"conducted\",\"loses\",\"infection\",\"forest\",\"impacts\",\"collection\",\"fridge\",\"diamond\",\"mis\",\"recorded\",\"march\",\"conditioner\",\"signature\",\"listed\",\"branches\",\"manchester\",\"wanting\",\"perception\",\"absolutely\",\"servers\",\"soluble\",\"swami\",\"lumia\",\"directors\",\"52\",\"2008\",\"gaining\",\"stereotypes\",\"homes\",\"vegas\",\"jam\",\"behave\",\"relatively\",\"forum\",\"ib\",\"earphones\",\"facilities\",\"april\",\"finally\",\"tail\",\"capacitor\",\"tiger\",\"deaf\",\"deliver\",\"django\",\"expand\",\"skip\",\"nearly\",\"maybe\",\"task\",\"gateway\",\"strangest\",\"abstract\",\"adding\",\"suck\",\"tim\",\"printed\",\"sigma\",\"immigrate\",\"decline\",\"arrested\",\"95\",\"narcissistic\",\"freelancing\",\"patterns\",\"expired\",\"casual\",\"tablets\",\"patients\",\"lean\",\"pieces\",\"laymans\",\"whatever\",\"polish\",\"lemon\",\"abortion\",\"i3\",\"theorem\",\"h\",\"compulsory\",\"helped\",\"sons\",\"feminism\",\"compiler\",\"tested\",\"enhance\",\"adhd\",\"manhattan\",\"iii\",\"nail\",\"eee\",\"deals\",\"excellent\",\"ipo\",\"folder\",\"sand\",\"continuous\",\"capable\",\"libraries\",\"aggregate\",\"64\",\"bsnl\",\"profiles\",\"spirit\",\"pulled\",\"owns\",\"deloitte\",\"therapist\",\"acts\",\"millions\",\"authors\",\"marathi\",\"dvd\",\"coconut\",\"swiss\",\"interaction\",\"ncr\",\"kannada\",\"smallest\",\"advisable\",\"smartest\",\"sorry\",\"normally\",\"ends\",\"rome\",\"spectrum\",\"cousin\",\"75\",\"suzuki\",\"nights\",\"cap\",\"enable\",\"counselling\",\"proxy\",\"margin\",\"shops\",\"hackers\",\"tatkal\",\"opened\",\"cinema\",\"consumption\",\"coal\",\"silent\",\"choosing\",\"introduction\",\"electromagnetic\",\"hcl\",\"complaint\",\"puppies\",\"vc\",\"symbols\",\"lenses\",\"username\",\"arrow\",\"adopted\",\"affects\",\"sudden\",\"pcm\",\"gel\",\"affair\",\"pinterest\",\"statements\",\"supplements\",\"justified\",\"turns\",\"santa\",\"shoe\",\"trek\",\"headphone\",\"girlfriends\",\"verizon\",\"rocket\",\"conference\",\"ego\",\"srm\",\"afghanistan\",\"nucleus\",\"generated\",\"chinas\",\"ww1\",\"consultancy\",\"socially\",\"allen\",\"berkeley\",\"missed\",\"crying\",\"introduced\",\"ps3\",\"flour\",\"brought\",\"elder\",\"minecraft\",\"9th\",\"freelancer\",\"circles\",\"scars\",\"entertainment\",\"turbine\",\"deeply\",\"rom\",\"evolved\",\"nato\",\"strengths\",\"ide\",\"tweets\",\"scholarships\",\"mentor\",\"collect\",\"hdfc\",\"mandarin\",\"solo\",\"terrible\",\"influential\",\"professionals\",\"65\",\"recognition\",\"nvidia\",\"cia\",\"designs\",\"10k\",\"creation\",\"tom\",\"rated\",\"introverts\",\"boiling\",\"communism\",\"treaty\",\"whereas\",\"thanks\",\"cigarette\",\"bengaluru\",\"oneplus\",\"reserve\",\"advertise\",\"nits\",\"helping\",\"bruce\",\"mp3\",\"severe\",\"proposal\",\"cultures\",\"tap\",\"animated\",\"planes\",\"hall\",\"cognitive\",\"supports\",\"keys\",\"gotten\",\"feedback\",\"recording\",\"proceed\",\"membership\",\"console\",\"overseas\",\"hows\",\"william\",\"billionaires\",\"updated\",\"pre\",\"organizations\",\"messi\",\"unexpected\",\"nitrogen\",\"hungry\",\"nigeria\",\"sync\",\"arduino\",\"gross\",\"outer\",\"searching\",\"workers\",\"outlook\",\"europeans\",\"founder\",\"lectures\",\"legitimate\",\"camp\",\"ordinary\",\"investments\",\"bone\",\"raising\",\"quite\",\"ages\",\"joint\",\"johnson\",\"destination\",\"concerned\",\"belief\",\"refrigerator\",\"implications\",\"manga\",\"mandatory\",\"obamas\",\"lawyers\",\"bedroom\",\"icon\",\"qualifications\",\"qa\",\"bikes\",\"boston\",\"holding\",\"session\",\"appointment\",\"weaknesses\",\"iphones\",\"motorcycle\",\"schizophrenia\",\"5th\",\"intellectual\",\"eaten\",\"attending\",\"medals\",\"adsense\",\"nda\",\"6th\",\"kali\",\"georgia\",\"wechat\",\"earlier\",\"drone\",\"truck\",\"horse\",\"merchant\",\"torque\",\"seed\",\"backend\",\"holmes\",\"graduating\",\"400\",\"bones\",\"sufficient\",\"participate\",\"rifle\",\"shock\",\"downloaded\",\"earthquake\",\"breasts\",\"secretary\",\"insert\",\"damaged\",\"massive\",\"standing\",\"remainder\",\"programme\",\"holocaust\",\"totally\",\"belt\",\"affairs\",\"nokia\",\"mechanism\",\"pin\",\"scan\",\"fought\",\"superpower\",\"poetry\",\"signals\",\"educated\",\"scariest\",\"trains\",\"closer\",\"weapon\",\"icici\",\"serial\",\"bicycle\",\"terminal\",\"finished\",\"stolen\",\"inspiring\",\"cuisine\",\"spark\",\"sounds\",\"pricing\",\"click\",\"underwear\",\"kidney\",\"bengal\",\"invention\",\"discount\",\"chase\",\"evaluate\",\"distributed\",\"themes\",\"amd\",\"stem\",\"st\",\"genre\",\"vegetables\",\"council\",\"bihar\",\"thick\",\"mouse\",\"worry\",\"newly\",\"updates\",\"candy\",\"prepaid\",\"wet\",\"rap\",\"motors\",\"implemented\",\"theoretical\",\"fabric\",\"mexican\",\"portfolio\",\"technique\",\"icse\",\"expansion\",\"evolutionary\",\"justify\",\"trick\",\"attached\",\"lightning\",\"pitch\",\"armed\",\"einstein\",\"conversion\",\"iitjee\",\"declared\",\"admit\",\"acquisition\",\"innovation\",\"runs\",\"wwe\",\"trial\",\"memories\",\"refuse\",\"netherlands\",\"committed\",\"fraud\",\"jailbreak\",\"settle\",\"badly\",\"approved\",\"eligibility\",\"trend\",\"increases\",\"comic\",\"quorans\",\"cellular\",\"matches\",\"receiving\",\"bmw\",\"vlsi\",\"signed\",\"lakes\",\"350\",\"communications\",\"pork\",\"joined\",\"anyway\",\"differentiate\",\"actresses\",\"29\",\"ethics\",\"premier\",\"hearing\",\"vehicles\",\"drama\",\"instant\",\"lips\",\"dates\",\"july\",\"holiday\",\"coach\",\"malayalam\",\"superior\",\"soviet\",\"plate\",\"throw\",\"worship\",\"bars\",\"sharma\",\"mothers\",\"integrated\",\"clubs\",\"bug\",\"melbourne\",\"co\",\"bisexual\",\"regions\",\"lesson\",\"heads\",\"reader\",\"snake\",\"qualify\",\"paul\",\"causing\",\"disappear\",\"era\",\"lets\",\"qualified\",\"spiritual\",\"wolf\",\"requirement\",\"journalism\",\"studied\",\"lowest\",\"vader\",\"coursera\",\"stark\",\"configuration\",\"verbal\",\"undergrad\",\"dimensions\",\"transition\",\"efficiently\",\"interstellar\",\"locked\",\"summary\",\"chandigarh\",\"ghosts\",\"included\",\"operate\",\"dimension\",\"mount\",\"noticed\",\"rating\",\"somewhere\",\"martin\",\"bra\",\"bird\",\"zuckerberg\",\"sensor\",\"audience\",\"dirty\",\"starbucks\",\"permission\",\"residential\",\"wholesale\",\"assets\",\"clearly\",\"km\",\"invade\",\"ipcc\",\"fb\",\"shell\",\"shave\",\"loud\",\"tip\",\"seeds\",\"sets\",\"polar\",\"although\",\"june\",\"judaism\",\"anti\",\"instrument\",\"seven\",\"shooting\",\"j\",\"portal\",\"tower\",\"github\",\"linked\",\"admitted\",\"punishment\",\"mid\",\"micro\",\"cured\",\"lifestyle\",\"nor\",\"upset\",\"challenge\",\"soap\",\"standards\",\"integration\",\"lottery\",\"lab\",\"williams\",\"odd\",\"soil\",\"sensitive\",\"route\",\"tattoos\",\"coin\",\"declare\",\"frame\",\"differential\",\"bowl\",\"softwares\",\"notifications\",\"maintenance\",\"inner\",\"apples\",\"converted\",\"recruiter\",\"bombay\",\"command\",\"posting\",\"controlled\",\"balls\",\"personally\",\"poker\",\"extract\",\"hired\",\"bugs\",\"providers\",\"loans\",\"calculator\",\"attractions\",\"torrents\",\"keywords\",\"profession\",\"blogging\",\"transport\",\"sue\",\"anonymously\",\"compounds\",\"robot\",\"buddhism\",\"sweet\",\"defense\",\"nobody\",\"uc\",\"defined\",\"division\",\"bags\",\"epic\",\"unhealthy\",\"craziest\",\"urban\",\"combination\",\"pair\",\"laugh\",\"cv\",\"usd\",\"launched\",\"usps\",\"visited\",\"nexus\",\"regularly\",\"brothers\",\"broker\",\"concentrate\",\"agreement\",\"nervous\",\"frozen\",\"detail\",\"sir\",\"situations\",\"borderline\",\"angularjs\",\"abusive\",\"tourism\",\"relate\",\"august\",\"communist\",\"accountant\",\"dumb\",\"arab\",\"b2b\",\"du\",\"thermal\",\"asians\",\"threat\",\"karma\",\"passive\",\"homosexuality\",\"putting\",\"quantitative\",\"relativity\",\"sanskrit\",\"opinions\",\"verify\",\"bear\",\"roll\",\"expanding\",\"teenage\",\"jeans\",\"providing\",\"shared\",\"extreme\",\"mi\",\"vr\",\"progress\",\"greece\",\"cpu\",\"ips\",\"merge\",\"reputation\",\"loving\",\"salman\",\"iss\",\"warm\",\"dental\",\"extension\",\"attraction\",\"fictional\",\"journal\",\"login\",\"secondary\",\"recognize\",\"southern\",\"ph\",\"lunch\",\"wallet\",\"ronaldo\",\"larger\",\"actions\",\"fathers\",\"adopt\",\"claims\",\"bottom\",\"therapy\",\"patient\",\"described\",\"virginity\",\"functional\",\"ionic\",\"chartered\",\"discover\",\"55\",\"21st\",\"biased\",\"mad\",\"northern\",\"onto\",\"liberals\",\"premium\",\"neutral\",\"detect\",\"diagram\",\"sperm\",\"ga\",\"bleach\",\"spread\",\"contributions\",\"activate\",\"prior\",\"safest\",\"holder\",\"360\",\"aim\",\"rental\",\"families\",\"everybody\",\"shut\",\"payments\",\"150\",\"cube\",\"vegan\",\"newspaper\",\"beef\",\"houses\",\"preferred\",\"simultaneously\",\"marked\",\"reactions\",\"emergency\",\"protection\",\"cab\",\"forex\",\"norway\",\"immigrants\",\"googles\",\"ssb\",\"wing\",\"yrs\",\"ensure\",\"spy\",\"reasoning\",\"strange\",\"forgive\",\"turkish\",\"tag\",\"ranking\",\"platforms\",\"fox\",\"existed\",\"walmart\",\"lazy\",\"ears\",\"clock\",\"beam\",\"rare\",\"bush\",\"2011\",\"stops\",\"batteries\",\"certified\",\"naked\",\"worldwide\",\"staying\",\"lifetime\",\"ted\",\"lake\",\"wealthy\",\"transit\",\"stephen\",\"rural\",\"versa\",\"pets\",\"commonly\",\"adults\",\"ultimate\",\"genius\",\"vinegar\",\"allows\",\"aid\",\"retirement\",\"airtel\",\"sciences\",\"mountain\",\"drinks\",\"tour\",\"wind\",\"seattle\",\"disabled\",\"bodies\",\"lesbian\",\"governments\",\"kinetic\",\"tumblr\",\"absolute\",\"author\",\"toilet\",\"whey\",\"sleepy\",\"molecular\",\"watches\",\"inventions\",\"rain\",\"34\",\"angular\",\"o\",\"dish\",\"however\",\"agents\",\"abs\",\"switzerland\",\"transformer\",\"clearing\",\"consciousness\",\"broadband\",\"uae\",\"automatic\",\"opposed\",\"geography\",\"astronauts\",\"decisions\",\"cement\",\"induction\",\"luxury\",\"upvotes\",\"politicians\",\"posted\",\"toefl\",\"kitchen\",\"noise\",\"radius\",\"dye\",\"miles\",\"risks\",\"scientifically\",\"mnc\",\"propose\",\"prepared\",\"iiit\",\"mention\",\"equipment\",\"darth\",\"january\",\"surname\",\"raised\",\"attitude\",\"gta\",\"david\",\"hike\",\"awkward\",\"proven\",\"productive\",\"lg\",\"filled\",\"atmosphere\",\"lee\",\"irctc\",\"addicted\",\"dynamic\",\"employment\",\"weekend\",\"replacement\",\"singing\",\"owners\",\"bipolar\",\"tomorrow\",\"poems\",\"default\",\"kvpy\",\"sauce\",\"competitors\",\"russians\",\"sample\",\"crimes\",\"hang\",\"inspired\",\"furniture\",\"throughout\",\"presence\",\"efficiency\",\"leg\",\"biological\",\"pilani\",\"conversations\",\"inspirational\",\"bachelor\",\"centers\",\"withdraw\",\"fundamental\",\"comparison\",\"november\",\"fifa\",\"penalty\",\"algebra\",\"joke\",\"htc\",\"pilots\",\"collapse\",\"texts\",\"vocabulary\",\"moved\",\"sc\",\"smile\",\"october\",\"dot\",\"genetic\",\"architect\",\"url\",\"51\",\"sore\",\"uniform\",\"re\",\"rails\",\"smaller\",\"marine\",\"terrorists\",\"nazi\",\"breast\",\"politician\",\"subtitles\",\"chosen\",\"egypt\",\"thin\",\"packages\",\"editor\",\"bands\",\"mythology\",\"reasonable\",\"permit\",\"acceptable\",\"seriously\",\"iraq\",\"fever\",\"visitor\",\"honest\",\"friction\",\"offering\",\"smarter\",\"ahmedabad\",\"replaced\",\"resolution\",\"burning\",\"bridge\",\"catholic\",\"calendar\",\"resident\",\"policies\",\"forced\",\"leading\",\"arm\",\"deserve\",\"context\",\"coolest\",\"arranged\",\"arizona\",\"comics\",\"harm\",\"democrats\",\"jail\",\"breed\",\"anywhere\",\"psu\",\"christ\",\"violence\",\"agriculture\",\"objective\",\"moments\",\"infinity\",\"supporting\",\"critical\",\"trees\",\"beyond\",\"bag\",\"vitamin\",\"assembly\",\"solved\",\"array\",\"perspective\",\"pas\",\"wwii\",\"skinny\",\"contains\",\"lift\",\"cleaning\",\"peter\",\"aap\",\"pimples\",\"initial\",\"lesserknown\",\"sights\",\"principles\",\"realize\",\"millionaire\",\"faux\",\"orbit\",\"desire\",\"hi\",\"prophet\",\"suits\",\"careers\",\"thinks\",\"quantity\",\"spots\",\"wage\",\"asleep\",\"sociology\",\"guard\",\"units\",\"structural\",\"operation\",\"pants\",\"w\",\"bulk\",\"possibly\",\"drunk\",\"fired\",\"accident\",\"inch\",\"bottle\",\"aerospace\",\"narcissist\",\"ux\",\"angeles\",\"wood\",\"index\",\"safely\",\"robotics\",\"edition\",\"metals\",\"practices\",\"scheme\",\"interior\",\"diabetes\",\"nobel\",\"youth\",\"lived\",\"september\",\"chief\",\"proposed\",\"assuming\",\"sin\",\"counter\",\"disable\",\"introduce\",\"restore\",\"swimming\",\"intern\",\"answering\",\"mentioned\",\"crash\",\"laser\",\"teenagers\",\"presentation\",\"quran\",\"classified\",\"demonetisation\",\"communicate\",\"cotton\",\"autism\",\"anger\",\"environmental\",\"stable\",\"7th\",\"bread\",\"invited\",\"wisdom\",\"wrote\",\"widely\",\"minor\",\"formal\",\"dreaming\",\"managers\",\"escape\",\"pollution\",\"taiwan\",\"verification\",\"los\",\"figures\",\"26\",\"illness\",\"sides\",\"compatible\",\"pack\",\"conspiracy\",\"hedge\",\"flights\",\"dropped\",\"former\",\"suffer\",\"aware\",\"designers\",\"mahabharata\",\"evolve\",\"weigh\",\"dies\",\"fruits\",\"cc\",\"butter\",\"sharing\",\"atoms\",\"tongue\",\"transaction\",\"poverty\",\"suffering\",\"presidents\",\"resistance\",\"adam\",\"civilization\",\"mining\",\"toronto\",\"stick\",\"increased\",\"wild\",\"freelance\",\"removal\",\"aws\",\"rio\",\"principle\",\"asus\",\"cute\",\"consumer\",\"pool\",\"variable\",\"tutorials\",\"advance\",\"keeping\",\"visible\",\"cognizant\",\"equations\",\"rooms\",\"krishna\",\"printer\",\"tooth\",\"mentally\",\"realistic\",\"automobile\",\"cake\",\"tie\",\"beach\",\"ghost\",\"comfortable\",\"mysql\",\"oral\",\"closed\",\"helps\",\"maharashtra\",\"admissions\",\"i5\",\"partners\",\"axis\",\"beliefs\",\"neck\",\"clans\",\"hidden\",\"cyber\",\"voting\",\"bacteria\",\"layer\",\"chhattisgarh\",\"5000\",\"sitting\",\"murder\",\"argument\",\"f\",\"privacy\",\"syndrome\",\"2010\",\"bite\",\"vacation\",\"isro\",\"trouble\",\"records\",\"answered\",\"digit\",\"defeat\",\"childhood\",\"5s\",\"gates\",\"f1\",\"town\",\"anal\",\"copper\",\"talks\",\"affiliate\",\"sociopath\",\"installed\",\"static\",\"copyright\",\"animation\",\"donate\",\"stranger\",\"bcom\",\"destroyed\",\"gujarat\",\"foundation\",\"prize\",\"components\",\"foreigner\",\"arms\",\"unlimited\",\"needing\",\"settings\",\"item\",\"eve\",\"competition\",\"landing\",\"beard\",\"patent\",\"ending\",\"2020\",\"incident\",\"petroleum\",\"florida\",\"particularly\",\"ups\",\"generator\",\"leather\",\"heal\",\"experiment\",\"28\",\"passing\",\"talent\",\"remote\",\"300\",\"published\",\"impossible\",\"steam\",\"80\",\"washing\",\"guilty\",\"punjab\",\"70\",\"album\",\"bullet\",\"paris\",\"interface\",\"agencies\",\"mission\",\"digits\",\"modis\",\"recruitment\",\"manipal\",\"telling\",\"meal\",\"orange\",\"stone\",\"links\",\"ab\",\"upper\",\"cameras\",\"p\",\"combat\",\"passion\",\"shower\",\"thailand\",\"beings\",\"grad\",\"27\",\"finger\",\"jump\",\"lights\",\"ui\",\"bba\",\"sweden\",\"arrive\",\"4th\",\"amendment\",\"window\",\"satellite\",\"al\",\"matlab\",\"jokes\",\"muhammad\",\"expression\",\"booking\",\"dinner\",\"skype\",\"lots\",\"2018\",\"teen\",\"finish\",\"dslr\",\"mens\",\"proud\",\"entrepreneurs\",\"ukraine\",\"coins\",\"scenario\",\"transmission\",\"ignore\",\"pride\",\"contribute\",\"grand\",\"curve\",\"false\",\"operations\",\"breakup\",\"eventually\",\"acquire\",\"commission\",\"lies\",\"spoken\",\"pills\",\"masturbating\",\"jackson\",\"airbnb\",\"delivered\",\"disk\",\"radiation\",\"plays\",\"marvel\",\"particle\",\"breakfast\",\"smartphones\",\"relevant\",\"quota\",\"refund\",\"inches\",\"telugu\",\"angel\",\"eastern\",\"inflation\",\"predict\",\"annoying\",\"obc\",\"tough\",\"conduct\",\"originate\",\"notification\",\"backup\",\"harder\",\"richest\",\"pronounce\",\"sri\",\"wheel\",\"wasnt\",\"oldest\",\"sheet\",\"soda\",\"20s\",\"wipro\",\"awesome\",\"facial\",\"z\",\"noida\",\"confident\",\"fbi\",\"corrupt\",\"succeed\",\"reddit\",\"associate\",\"input\",\"guns\",\"rahul\",\"baking\",\"description\",\"musical\",\"apache\",\"nowadays\",\"fluid\",\"capacity\",\"loose\",\"freshman\",\"cfa\",\"optional\",\"theres\",\"ps4\",\"trends\",\"jon\",\"richard\",\"legit\",\"nodejs\",\"document\",\"sexually\",\"particles\",\"singer\",\"printing\",\"captain\",\"valuable\",\"several\",\"aiims\",\"boot\",\"sit\",\"zone\",\"billionaire\",\"floor\",\"gravitational\",\"export\",\"motivation\",\"golden\",\"transgender\",\"healthcare\",\"heaven\",\"81\",\"leaves\",\"listening\",\"overall\",\"press\",\"dishes\",\"railways\",\"warming\",\"enfield\",\"extent\",\"acceleration\",\"afford\",\"bonds\",\"border\",\"registration\",\"cast\",\"hope\",\"shipping\",\"karnataka\",\"specifically\",\"opportunity\",\"arabia\",\"pump\",\"pg\",\"carrier\",\"plot\",\"kingdom\",\"contract\",\"painful\",\"kindle\",\"boring\",\"essential\",\"disney\",\"charger\",\"seconds\",\"measured\",\"honda\",\"ba\",\"makeup\",\"\\u2013\",\"mini\",\"annual\",\"traits\",\"retrieve\",\"willing\",\"swift\",\"consume\",\"hindus\",\"psychopath\",\"tells\",\"solving\",\"conditions\",\"artists\",\"spotify\",\"bomb\",\"integrate\",\"stuck\",\"nikon\",\"gadgets\",\"womens\",\"judge\",\"republicans\",\"vacuum\",\"felt\",\"putin\",\"tennis\",\"concentration\",\"fans\",\"constantly\",\"matrix\",\"secrets\",\"spot\",\"soft\",\"stored\",\"neural\",\"submit\",\"scores\",\"ola\",\"wire\",\"gdp\",\"jaipur\",\"typically\",\"airline\",\"roles\",\"cheaper\",\"machines\",\"shift\",\"impress\",\"basics\",\"32\",\"conservative\",\"birds\",\"tend\",\"duty\",\"setup\",\"rude\",\"pink\",\"church\",\"mine\",\"jack\",\"sending\",\"cooking\",\"versus\",\"expert\",\"olympic\",\"biotechnology\",\"gurgaon\",\"worked\",\"codes\",\"successfully\",\"hardware\",\"faith\",\"pr\",\"television\",\"compound\",\"vit\",\"universal\",\"thank\",\"grammatically\",\"chicago\",\"ivy\",\"worried\",\"enterprise\",\"sodium\",\"railway\",\"remedies\",\"racism\",\"tracking\",\"psychological\",\"apartment\",\"magazine\",\"martial\",\"beauty\",\"waiting\",\"attacks\",\"horror\",\"fantasy\",\"ma\",\"select\",\"increasing\",\"metro\",\"opt\",\"map\",\"watched\",\"gear\",\"icloud\",\"james\",\"comedy\",\"lollipop\",\"ireland\",\"upcoming\",\"italian\",\"oven\",\"emotionally\",\"decided\",\"lakh\",\"grey\",\"kept\",\"produced\",\"mouth\",\"manual\",\"dhoni\",\"fill\",\"throat\",\"shoot\",\"liked\",\"innovative\",\"immediately\",\"lonely\",\"fighting\",\"max\",\"accidentally\",\"schedule\",\"orgasm\",\"rape\",\"ride\",\"muscles\",\"graduates\",\"taller\",\"boost\",\"lakhs\",\"microwave\",\"electrons\",\"upon\",\"attract\",\"ap\",\"abuse\",\"earths\",\"forever\",\"underrated\",\"facing\",\"terrorist\",\"alien\",\"celebrity\",\"frequently\",\"vpn\",\"wales\",\"powder\",\"superman\",\"mixed\",\"caught\",\"goods\",\"beginning\",\"starts\",\"atomic\",\"associated\",\"triangle\",\"parties\",\"banning\",\"k\",\"honey\",\"monitor\",\"graph\",\"leaders\",\"embedded\",\"juice\",\"split\",\"lady\",\"sequence\",\"911\",\"harassment\",\"nepal\",\"pop\",\"habit\",\"setting\",\"edge\",\"ww2\",\"gps\",\"federal\",\"charged\",\"lying\",\"empty\",\"whenever\",\"airplane\",\"jet\",\"destroy\",\"ies\",\"wouldnt\",\"quick\",\"decrease\",\"robert\",\"pradesh\",\"professors\",\"massage\",\"held\",\"spending\",\"markets\",\"objects\",\"chart\",\"mechanics\",\"silver\",\"usage\",\"basketball\",\"gen\",\"periods\",\"identity\",\"individuals\",\"css\",\"soul\",\"ipod\",\"chest\",\"understanding\",\"coast\",\"classic\",\"spain\",\"babies\",\"sd\",\"hostel\",\"shirt\",\"further\",\"logical\",\"franchise\",\"obtain\",\"foreigners\",\"fully\",\"region\",\"designed\",\"cheated\",\"beneficial\",\"shes\",\"accent\",\"couldnt\",\"queen\",\"sick\",\"blowing\",\"properly\",\"stronger\",\"returns\",\"condition\",\"musk\",\"ugly\",\"teams\",\"filter\",\"snow\",\"glasses\",\"employer\",\"solid\",\"followed\",\"embarrassing\",\"auto\",\"meeting\",\"belong\",\"strike\",\"internships\",\"bachelors\",\"administration\",\"temple\",\"wealth\",\"retail\",\"speakers\",\"electoral\",\"headphones\",\"streaming\",\"mirror\",\"diesel\",\"republic\",\"antivirus\",\"customers\",\"atm\",\"vagina\",\"cigarettes\",\"aptitude\",\"lewis\",\"saudi\",\"puppy\",\"recovery\",\"jimmy\",\"obsessed\",\"domestic\",\"pen\",\"batch\",\"de\",\"drawing\",\"ai\",\"medium\",\"simply\",\"photoshop\",\"sms\",\"turning\",\"nadu\",\"appropriate\",\"adobe\",\"substitute\",\"fruit\",\"recipes\",\"fighter\",\"saving\",\"greater\",\"cheat\",\"routine\",\"push\",\"sherlock\",\"arguments\",\"sony\",\"import\",\"soldiers\",\"charges\",\"emotions\",\"ibm\",\"un\",\"innovations\",\"itunes\",\"consultant\",\"iims\",\"relations\",\"psychopaths\",\"existing\",\"angle\",\"clash\",\"bus\",\"australian\",\"crazy\",\"pull\",\"theories\",\"savings\",\"suit\",\"contrast\",\"calculus\",\"pi\",\"credits\",\"bluetooth\",\"himself\",\"traveling\",\"criminal\",\"xiaomi\",\"zealand\",\"seats\",\"electron\",\"script\",\"11th\",\"lessons\",\"programmers\",\"december\",\"flag\",\"singh\",\"arabic\",\"sale\",\"nfl\",\"grammar\",\"killing\",\"virgin\",\"differently\",\"poem\",\"provided\",\"automation\",\"shy\",\"translation\",\"mathematical\",\"45\",\"celebrities\",\"spring\",\"downloading\",\"dr\",\"organization\",\"majority\",\"clients\",\"hd\",\"motivate\",\"thats\",\"thesis\",\"door\",\"weakest\",\"saw\",\"canon\",\"younger\",\"costs\",\"river\",\"rings\",\"factory\",\"decent\",\"clintons\",\"holes\",\"desert\",\"divorce\",\"sold\",\"cheese\",\"atom\",\"taught\",\"minute\",\"ocean\",\"crisis\",\"represent\",\"surgical\",\"parent\",\"brexit\",\"possibility\",\"longest\",\"edit\",\"scholarship\",\"motivated\",\"chocolate\",\"faced\",\"90\",\"parallel\",\"foot\",\"examination\",\"friendly\",\"kinds\",\"wins\",\"islamic\",\"degrees\",\"registered\",\"distribution\",\"junior\",\"gave\",\"sing\",\"articles\",\"hadoop\",\"saved\",\"hero\",\"ear\",\"asks\",\"improved\",\"teenager\",\"forms\",\"wash\",\"provides\",\"washington\",\"strikes\",\"binary\",\"syria\",\"indonesia\",\"powers\",\"highly\",\"heshe\",\"happiness\",\"director\",\"citizenship\",\"knew\",\"humanity\",\"translate\",\"nba\",\"permanently\",\"soccer\",\"todays\",\"challenges\",\"barack\",\"title\",\"latin\",\"fitness\",\"genuine\",\"investor\",\"dislike\",\"scenes\",\"hacker\",\"bangladesh\",\"ebay\",\"earning\",\"dell\",\"paytm\",\"spouse\",\"bored\",\"roman\",\"official\",\"dragon\",\"park\",\"except\",\"habits\",\"quote\",\"astrology\",\"congress\",\"automatically\",\"island\",\"religions\",\"christianity\",\"supreme\",\"owner\",\"hell\",\"wikipedia\",\"cancel\",\"industries\",\"actress\",\"client\",\"visual\",\"michael\",\"remain\",\"ability\",\"concrete\",\"conflict\",\"string\",\"linear\",\"supposed\",\"engines\",\"2012\",\"\\u2018\",\"lesser\",\"traditional\",\"episodes\",\"goals\",\"tata\",\"opening\",\"target\",\"weak\",\"anonymous\",\"bjp\",\"resource\",\"concepts\",\"ruby\",\"friendship\",\"nyc\",\"pretty\",\"implement\",\"painting\",\"ill\",\"agency\",\"reverse\",\"confused\",\"italy\",\"response\",\"yellow\",\"dance\",\"contain\",\"vice\",\"editing\",\"acting\",\"weirdest\",\"feels\",\"govt\",\"accounting\",\"rise\",\"wise\",\"leaving\",\"lens\",\"artist\",\"arvind\",\"pattern\",\"scared\",\"attention\",\"airlines\",\"sky\",\"malaysia\",\"port\",\"attempt\",\"element\",\"classical\",\"shown\",\"safety\",\"including\",\"tablet\",\"la\",\"terrorism\",\"commit\",\"maps\",\"african\",\"viewed\",\"calling\",\"6s\",\"agent\",\"output\",\"justice\",\"don\",\"addiction\",\"lock\",\"vegetarian\",\"britain\",\"percent\",\"meditation\",\"ibps\",\"monthly\",\"writers\",\"forward\",\"stuff\",\"mr\",\"ready\",\"forgot\",\"flying\",\"recommended\",\"fields\",\"blind\",\"l\",\"hinduism\",\"desktop\",\"host\",\"tattoo\",\"maintain\",\"boards\",\"helpful\",\"semester\",\"load\",\"tier\",\"agree\",\"factor\",\"elon\",\"freshers\",\"sql\",\"cases\",\"exact\",\"confidence\",\"behavior\",\"hacked\",\"quotes\",\"hydrogen\",\"pakistani\",\"masturbate\",\"divided\",\"skill\",\"fine\",\"falling\",\"chess\",\"charging\",\"pages\",\"vector\",\"supporters\",\"waste\",\"sanders\",\"affordable\",\"unlock\",\"techniques\",\"wine\",\"keyboard\",\"cm\",\"wireless\",\"lawyer\",\"egg\",\"cope\",\"mindblowing\",\"recipe\",\"corruption\",\"scored\",\"secure\",\"teaching\",\"opposite\",\"educational\",\"bernie\",\"y\",\"library\",\"models\",\"kid\",\"stack\",\"separate\",\"19\",\"extremely\",\"properties\",\"cable\",\"magic\",\"removed\",\"computing\",\"hospital\",\"beer\",\"christians\",\"twice\",\"kg\",\"consulting\",\"whose\",\"serious\",\"petrol\",\"travelling\",\"revolution\",\"custom\",\"structures\",\"guide\",\"celebrate\",\"lenovo\",\"turned\",\"ielts\",\"grades\",\"fuel\",\"relative\",\"oracle\",\"academy\",\"lack\",\"passed\",\"relation\",\"values\",\"movement\",\"strategies\",\"eu\",\"emotional\",\"legs\",\"pokemon\",\"3g\",\"iran\",\"mostly\",\"jewish\",\"offered\",\"log\",\"hasnt\",\"explanation\",\"signal\",\"stores\",\"syllabus\",\"bits\",\"yoga\",\"weapons\",\"gods\",\"10000\",\"delivery\",\"gb\",\"sum\",\"letters\",\"venture\",\"selection\",\"winning\",\"35\",\"comment\",\"consequences\",\"sport\",\"items\",\"seems\",\"ring\",\"jealous\",\"laptops\",\"criteria\",\"fresh\",\"reference\",\"bitcoin\",\"infinite\",\"perform\",\"brazil\",\"density\",\"plans\",\"hosting\",\"clothing\",\"hong\",\"dying\",\"heavy\",\"steve\",\"gone\",\"damage\",\"missing\",\"ethical\",\"republican\",\"contacts\",\"activity\",\"electronic\",\"qualities\",\"piano\",\"hisher\",\"repair\",\"posts\",\"disease\",\"winter\",\"ten\",\"publish\",\"paint\",\"physically\",\"executive\",\"deposit\",\"elements\",\"xbox\",\"ceo\",\"visitors\",\"discovered\",\"tickets\",\"literature\",\"primary\",\"naturally\",\"senior\",\"u\",\"hardest\",\"debate\",\"frequency\",\"vietnam\",\"cry\",\"assistant\",\"gifts\",\"practical\",\"funny\",\"valid\",\"liberal\",\"refer\",\"beat\",\"shape\",\"institutes\",\"msc\",\"internal\",\"located\",\"significant\",\"scientists\",\"g\",\"ship\",\"proper\",\"independence\",\"added\",\"hes\",\"catch\",\"urine\",\"effectively\",\"named\",\"responsible\",\"strength\",\"whos\",\"immigration\",\"vehicle\",\"tesla\",\"kong\",\"meth\",\"england\",\"huge\",\"pizza\",\"rejected\",\"george\",\"fan\",\"salt\",\"browser\",\"sat\",\"loved\",\"fees\",\"walking\",\"symbol\",\"equity\",\"ubuntu\",\"alternatives\",\"theme\",\"virus\",\"manufacturing\",\"cutoff\",\"pure\",\"22\",\"introvert\",\"unable\",\"greek\",\"rice\",\"gst\",\"happening\",\"centre\",\"kiss\",\"prison\",\"bigger\",\"font\",\"construction\",\"exercises\",\"keeps\",\"gmat\",\"offers\",\"cross\",\"nasa\",\"unit\",\"advertising\",\"cup\",\"fixed\",\"limited\",\"billion\",\"subjects\",\"arts\",\"worlds\",\"stupid\",\"breaking\",\"funding\",\"tank\",\"generate\",\"efficient\",\"exists\",\"atheist\",\"entrepreneur\",\"direction\",\"broken\",\"offline\",\"firms\",\"station\",\"magnetic\",\"include\",\"aliens\",\"tinder\",\"logo\",\"photography\",\"worse\",\"besides\",\"path\",\"somebody\",\"interviews\",\"persons\",\"figure\",\"placed\",\"nation\",\"knows\",\"unmarried\",\"hp\",\"profitable\",\"tricks\",\"boss\",\"reply\",\"scam\",\"circle\",\"processor\",\"debt\",\"growing\",\"royal\",\"fiction\",\"department\",\"mistake\",\"weird\",\"graphics\",\"external\",\"article\",\"volume\",\"scratch\",\"chain\",\"protect\",\"storage\",\"texas\",\"liquid\",\"circuit\",\"graphic\",\"tired\",\"weather\",\"oxygen\",\"velocity\",\"dad\",\"band\",\"teachers\",\"drugs\",\"complex\",\"studio\",\"accenture\",\"leader\",\"levels\",\"goal\",\"logic\",\"acne\",\"plastic\",\"motion\",\"button\",\"peoples\",\"vision\",\"gap\",\"dollar\",\"computers\",\"stomach\",\"sources\",\"constant\",\"draw\",\"dress\",\"calculated\",\"sort\",\"3rd\",\"club\",\"channels\",\"creating\",\"candidates\",\"kejriwal\",\"broke\",\"sentences\",\"format\",\"emails\",\"raw\",\"stanford\",\"completed\",\"documents\",\"pan\",\"showing\",\"enter\",\"unknown\",\"bought\",\"router\",\"claim\",\"six\",\"technologies\",\"\\u20b9\",\"flipkart\",\"infosys\",\"mutual\",\"angry\",\"iits\",\"affected\",\"prices\",\"shares\",\"naruto\",\"processing\",\"finding\",\"democratic\",\"evolution\",\"harmful\",\"dual\",\"virtual\",\"member\",\"wave\",\"actual\",\"extra\",\"radio\",\"citizens\",\"e\",\"hr\",\"previous\",\"stopped\",\"walk\",\"redmi\",\"speaker\",\"torrent\",\"smoke\",\"mistakes\",\"flash\",\"iron\",\"entire\",\"individual\",\"express\",\"flow\",\"mode\",\"aircraft\",\"section\",\"planets\",\"10th\",\"respond\",\"easier\",\"evil\",\"percentile\",\"seeing\",\"calories\",\"upgrade\",\"professor\",\"v\",\"launch\",\"staff\",\"till\",\"silicon\",\"entry\",\"constitution\",\"century\",\"notice\",\"ie\",\"atheists\",\"tests\",\"21\",\"became\",\"kerala\",\"truly\",\"count\",\"essay\",\"papers\",\"accurate\",\"colors\",\"respect\",\"ideal\",\"rock\",\"reliance\",\"peace\",\"masturbation\",\"audio\",\"random\",\"independent\",\"colour\",\"hotels\",\"presidency\",\"generation\",\"paypal\",\"shot\",\"central\",\"released\",\"occur\",\"display\",\"industrial\",\"particular\",\"risk\",\"eg\",\"belly\",\"pet\",\"similarities\",\"organic\",\"marijuana\",\"networks\",\"aspects\",\"flat\",\"d\",\"comments\",\"nose\",\"identify\",\"rbi\",\"improvement\",\"directly\",\"framework\",\"suggestions\",\"designing\",\"brands\",\"religious\",\"influence\",\"novels\",\"statistics\",\"historical\",\"ground\",\"commerce\",\"pregnancy\",\"romantic\",\"failure\",\"wearing\",\"john\",\"apart\",\"bay\",\"symptoms\",\"200\",\"couple\",\"60\",\"canadian\",\"lie\",\"print\",\"carry\",\"gender\",\"experienced\",\"pounds\",\"reservation\",\"either\",\"stage\",\"artificial\",\"fit\",\"blogs\",\"developing\",\"environment\",\"learned\",\"copy\",\"phase\",\"bond\",\"democracy\",\"cgpa\",\"operating\",\"surface\",\"officers\",\"h1b\",\"ip\",\"workout\",\"fee\",\"elected\",\"hands\",\"largest\",\"sad\",\"shouldnt\",\"seat\",\"sister\",\"developers\",\"despite\",\"scene\",\"po\",\"diploma\",\"request\",\"empire\",\"ratio\",\"considering\",\"academic\",\"tree\",\"register\",\"advantage\",\"eligible\",\"nit\",\"shop\",\"intel\",\"funniest\",\"alternative\",\"fail\",\"ads\",\"nature\",\"miss\",\"involved\",\"overrated\",\"attend\",\"freedom\",\"dna\",\"beginners\",\"raise\",\"dry\",\"failed\",\"legally\",\"batman\",\"upload\",\"carbon\",\"regret\",\"applied\",\"points\",\"investors\",\"pick\",\"equivalent\",\"connected\",\"christmas\",\"lyrics\",\"nations\",\"caused\",\"bsc\",\"1st\",\"action\",\"activities\",\"biology\",\"hide\",\"asia\",\"takes\",\"require\",\"alive\",\"mom\",\"cycle\",\"generally\",\"campaign\",\"fair\",\"wake\",\"bit\",\"rules\",\"olympics\",\"racist\",\"areas\",\"eggs\",\"feature\",\"sap\",\"taxes\",\"ad\",\"shall\",\"theyre\",\"species\",\"pilot\",\"firm\",\"fish\",\"define\",\"doctors\",\"piece\",\"itself\",\"bang\",\"solutions\",\"iim\",\"2013\",\"wanted\",\"length\",\"burn\",\"waves\",\"bar\",\"gives\",\"forces\",\"christian\",\"anybody\",\"relationships\",\"nice\",\"wedding\",\"various\",\"brother\",\"films\",\"cream\",\"suddenly\",\"philippines\",\"fashion\",\"truth\",\"gpa\",\"cgl\",\"tall\",\"goa\",\"hacking\",\"statement\",\"reset\",\"materials\",\"played\",\"match\",\"usb\",\"novel\",\"unusual\",\"knowing\",\"selected\",\"valley\",\"chrome\",\"couples\",\"becomes\",\"died\",\"cheating\",\"community\",\"groups\",\"category\",\"pursuing\",\"writer\",\"mexico\",\"anymore\",\"sugar\",\"climate\",\"brown\",\"players\",\"ii\",\"reviews\",\"took\",\"led\",\"connection\",\"begin\",\"html\",\"changing\",\"received\",\"plants\",\"debit\",\"record\",\"revenue\",\"mars\",\"strongest\",\"members\",\"formed\",\"union\",\"thought\",\"existence\",\"kashmir\",\"gandhi\",\"pdf\",\"banned\",\"0\",\"plane\",\"treated\",\"electricity\",\"scale\",\"basis\",\"moral\",\"images\",\"methods\",\"certification\",\"voltage\",\"style\",\"base\",\"excel\",\"amazing\",\"regarding\",\"result\",\"rates\",\"hold\",\"indias\",\"airport\",\"businesses\",\"feet\",\"built\",\"linkedin\",\"signs\",\"above\",\"networking\",\"r\",\"shopping\",\"looks\",\"went\",\"placements\",\"bed\",\"experiences\",\"daughter\",\"tourist\",\"employee\",\"caste\",\"wait\",\"direct\",\"especially\",\"feed\",\"continue\",\"expected\",\"algorithm\",\"depressed\",\"shoes\",\"soon\",\"supply\",\"stress\",\"24\",\"inr\",\"foods\",\"rent\",\"architecture\",\"ban\",\"entrance\",\"actors\",\"messenger\",\"unique\",\"kolkata\",\"funds\",\"rupee\",\"promote\",\"rupees\",\"jews\",\"23\",\"cook\",\"cultural\",\"accepted\",\"hear\",\"glass\",\"road\",\"joining\",\"measure\",\"havent\",\"metal\",\"resume\",\"afraid\",\"turkey\",\"meat\",\"goes\",\"installation\",\"netflix\",\"benefit\",\"demand\",\"release\",\"produce\",\"report\",\"cover\",\"changes\",\"double\",\"2nd\",\"reaction\",\"killed\",\"steel\",\"requirements\",\"france\",\"exchange\",\"ac\",\"quantum\",\"reliable\",\"box\",\"results\",\"lives\",\"treatment\",\"4g\",\"ece\",\"probability\",\"sleeping\",\"philosophy\",\"handle\",\"forget\",\"driver\",\"demonetization\",\"algorithms\",\"trade\",\"rule\",\"muscle\",\"calls\",\"tried\",\"mental\",\"sure\",\"quit\",\"navy\",\"achieve\",\"francisco\",\"location\",\"until\",\"sense\",\"anxiety\",\"wordpress\",\"focus\",\"fact\",\"production\",\"conversation\",\"motor\",\"five\",\"attracted\",\"hit\",\"analyst\",\"moto\",\"isis\",\"chicken\",\"sector\",\"permanent\",\"along\",\"king\",\"slow\",\"candidate\",\"minutes\",\"purchase\",\"gun\",\"selling\",\"usually\",\"\\u2026\",\"fly\",\"round\",\"panel\",\"error\",\"stocks\",\"api\",\"remember\",\"africa\",\"paying\",\"hitler\",\"3d\",\"regular\",\"losing\",\"mail\",\"yahoo\",\"cheapest\",\"older\",\"concept\",\"characters\",\"definition\",\"lines\",\"pm\",\"cloud\",\"cats\",\"russian\",\"ipad\",\"korean\",\"proof\",\"battle\",\"stars\",\"stream\",\"recent\",\"typical\",\"performance\",\"harvard\",\"restaurant\",\"origin\",\"listen\",\"smell\",\"decide\",\"serve\",\"undergraduate\",\"profit\",\"situation\",\"surgery\",\"asking\",\"plant\",\"link\",\"square\",\"completing\",\"four\",\"trust\",\"payment\",\"gym\",\"andor\",\"worklife\",\"guitar\",\"elections\",\"half\",\"investing\",\"scientist\",\"street\",\"needs\",\"native\",\"thoughts\",\"reality\",\"40\",\"medicine\",\"race\",\"choice\",\"longer\",\"came\",\"applying\",\"hiring\",\"west\",\"weed\",\"hacks\",\"step\",\"sea\",\"crime\",\"devices\",\"event\",\"citizen\",\"14\",\"17\",\"ticket\",\"fund\",\"equation\",\"suicide\",\"whom\",\"met\",\"almost\",\"designer\",\"local\",\"departments\",\"khan\",\"customer\",\"banking\",\"javascript\",\"trip\",\"issue\",\"react\",\"cannot\",\"dubai\",\"wall\",\"touch\",\"parts\",\"loves\",\"clothes\",\"straight\",\"sexual\",\"active\",\"inpatient\",\"dreams\",\"protein\",\"table\",\"exercise\",\"lord\",\"mtech\",\"creative\",\"ball\",\"speaking\",\"son\",\"receive\",\"dollars\",\"domain\",\"prospects\",\"hour\",\"graduation\",\"commercial\",\"themselves\",\"factors\",\"jesus\",\"programmer\",\"recommend\",\"replace\",\"chat\",\"placement\",\"episode\",\"fastest\",\"restaurants\",\"object\",\"drivers\",\"gaming\",\"mark\",\"taste\",\"seem\",\"perfect\",\"potential\",\"trumps\",\"appear\",\"rights\",\"equal\",\"rest\",\"package\",\"meant\",\"drop\",\"cool\",\"material\",\"potter\",\"events\",\"convince\",\"completely\",\"n\",\"zero\",\"significance\",\"lower\",\"feelings\",\"followers\",\"evidence\",\"certain\",\"later\",\"original\",\"bible\",\"disorder\",\"testing\",\"via\",\"stand\",\"actor\",\"characteristics\",\"cities\",\"reach\",\"ago\",\"mbbs\",\"speech\",\"electric\",\"approach\",\"scientific\",\"root\",\"analytics\",\"below\",\"grade\",\"mains\",\"topic\",\"fun\",\"ancient\",\"adult\",\"standard\",\"ice\",\"everyday\",\"population\",\"invented\",\"european\",\"intelligent\",\"11\",\"subject\",\"rehab\",\"background\",\"giving\",\"platform\",\"flight\",\"thrones\",\"maths\",\"dc\",\"teeth\",\"mit\",\"weeks\",\"east\",\"means\",\"programs\",\"beginner\",\"heat\",\"third\",\"tea\",\"range\",\"london\",\"maximum\",\"enjoy\",\"2000\",\"cells\",\"quickly\",\"here\",\"expensive\",\"phrase\",\"partner\",\"league\",\"anime\",\"latest\",\"specific\",\"whether\",\"functions\",\"os\",\"fire\",\"saying\",\"secret\",\"13\",\"planet\",\"hole\",\"super\",\"teacher\",\"strong\",\"accounts\",\"minister\",\"database\",\"economic\",\"channel\",\"estate\",\"ram\",\"switch\",\"asian\",\"smoking\",\"branch\",\"israel\",\"18\",\"features\",\"success\",\"lead\",\"total\",\"key\",\"master\",\"ok\",\"favourite\",\"psychology\",\"pok\\u00e9mon\",\"nothing\",\"clean\",\"25\",\"politics\",\"drinking\",\"sometimes\",\"recently\",\"korea\",\"sent\",\"poor\",\"hindu\",\"hollywood\",\"survive\",\"cure\",\"property\",\"return\",\"narendra\",\"budget\",\"sports\",\"limit\",\"arent\",\"boys\",\"driving\",\"whole\",\"cash\",\"smartphone\",\"php\",\"developed\",\"ssc\",\"hot\",\"attractive\",\"tool\",\"physical\",\"ecommerce\",\"sbi\",\"morning\",\"animal\",\"multiple\",\"loan\",\"acid\",\"fresher\",\"spanish\",\"moving\",\"decision\",\"county\",\"determined\",\"becoming\",\"seo\",\"summer\",\"manage\",\"server\",\"competitive\",\"milk\",\"importance\",\"banks\",\"cheap\",\"powerful\",\"issues\",\"penis\",\"according\",\"analysis\",\"bike\",\"position\",\"western\",\"advanced\",\"campus\",\"highest\",\"front\",\"court\",\"status\",\"gravity\",\"positions\",\"comes\",\"steps\",\"complete\",\"electronics\",\"won\",\"hurt\",\"certificate\",\"temperature\",\"player\",\"someones\",\"communication\",\"million\",\"talking\",\"preparing\",\"finance\",\"cancer\",\"9\",\"harry\",\"accept\",\"2014\",\"plus\",\"born\",\"tcs\",\"license\",\"bring\",\"teach\",\"practice\",\"trading\",\"m\",\"might\",\"opportunities\",\"global\",\"wish\",\"outside\",\"attack\",\"procedure\",\"needed\",\"update\",\"coffee\",\"provider\",\"rather\",\"16\",\"allow\",\"tamil\",\"mix\",\"connect\",\"room\",\"watching\",\"deep\",\"york\",\"image\",\"birth\",\"sign\",\"birthday\",\"playing\",\"wars\",\"grads\",\"hire\",\"phones\",\"cbse\",\"details\",\"clear\",\"cricket\",\"dangerous\",\"track\",\"corporate\",\"voice\",\"upsc\",\"content\",\"okay\",\"san\",\"heart\",\"far\",\"heard\",\"prove\",\"positive\",\"moment\",\"sales\",\"opinion\",\"engineers\",\"block\",\"diet\",\"coding\",\"core\",\"baby\",\"father\",\"little\",\"large\",\"blocked\",\"distance\",\"land\",\"simple\",\"husband\",\"told\",\"traffic\",\"prevent\",\"pictures\",\"planning\",\"fear\",\"classes\",\"towards\",\"technical\",\"building\",\"trying\",\"photo\",\"early\",\"uses\",\"sydney\",\"startups\",\"act\",\"id\",\"describe\",\"12th\",\"may\",\"formula\",\"gets\",\"present\",\"wont\",\"cut\",\"treat\",\"mathematics\",\"visiting\",\"eye\",\"policy\",\"close\",\"cse\",\"suitable\",\"version\",\"tools\",\"head\",\"minimum\",\"chennai\",\"easily\",\"method\",\"intelligence\",\"gre\",\"mother\",\"doctor\",\"macbook\",\"deleted\",\"gas\",\"suggest\",\"cards\",\"files\",\"loss\",\"art\",\"easiest\",\"late\",\"among\",\"together\",\"depression\",\"higher\",\"alone\",\"economics\",\"dead\",\"growth\",\"insurance\",\"gold\",\"necessary\",\"neet\",\"blog\",\"example\",\"memory\",\"crack\",\"consider\",\"works\",\"currency\",\"recruit\",\"pursue\",\"strategy\",\"young\",\"cs\",\"projects\",\"50\",\"manager\",\"abroad\",\"schools\",\"illegal\",\"inside\",\"stories\",\"hand\",\"t\",\"greatest\",\"personality\",\"galaxy\",\"device\",\"views\",\"user\",\"chemistry\",\"cars\",\"iq\",\"prefer\",\"picture\",\"nuclear\",\"middle\",\"applications\",\"gmail\",\"laws\",\"final\",\"capital\",\"kids\",\"society\",\"fake\",\"bill\",\"save\",\"though\",\"likely\",\"determine\",\"shows\",\"character\",\"snapchat\",\"youre\",\"eyes\",\"islam\",\"marry\",\"brand\",\"yet\",\"impact\",\"speak\",\"within\",\"rich\",\"resources\",\"net\",\"non\",\"pressure\",\"changed\",\"allowed\",\"obama\",\"cold\",\"running\",\"feeling\",\"jio\",\"football\",\"gift\",\"written\",\"buying\",\"mac\",\"spend\",\"prime\",\"blue\",\"train\",\"studies\",\"negative\",\"thinking\",\"solution\",\"sun\",\"least\",\"following\",\"install\",\"else\",\"muslims\",\"camera\",\"vote\",\"linux\",\"expect\",\"german\",\"recover\",\"starting\",\"crush\",\"coming\",\"muslim\",\"modern\",\"battery\",\"provide\",\"access\",\"presidential\",\"interest\",\"dating\",\"pro\",\"likes\",\"french\",\"singapore\",\"useful\",\"already\",\"professional\",\"percentage\",\"drink\",\"created\",\"board\",\"passport\",\"structure\",\"case\",\"height\",\"microsoft\",\"break\",\"screen\",\"names\",\"chance\",\"special\",\"30\",\"skin\",\"natural\",\"color\",\"interested\",\"amount\",\"pain\",\"healthy\",\"hack\",\"messages\",\"ias\",\"gay\",\"disadvantages\",\"pass\",\"moon\",\"systems\",\"hindi\",\"financial\",\"taken\",\"yes\",\"sim\",\"pregnant\",\"faster\",\"animals\",\"internship\",\"let\",\"photos\",\"balance\",\"sound\",\"due\",\"knowledge\",\"charge\",\"message\",\"officer\",\"solar\",\"military\",\"meet\",\"option\",\"reading\",\"across\",\"overcome\",\"everyone\",\"everything\",\"wife\",\"reduce\",\"chances\",\"samsung\",\"income\",\"bollywood\",\"season\",\"europe\",\"boy\",\"currently\",\"ex\",\"smart\",\"california\",\"engine\",\"paid\",\"army\",\"contact\",\"address\",\"wants\",\"ones\",\"gain\",\"reasons\",\"avoid\",\"please\",\"note\",\"known\",\"pune\",\"film\",\"national\",\"once\",\"users\",\"porn\",\"scope\",\"twitter\",\"drug\",\"rank\",\"japan\",\"fight\",\"transfer\",\"political\",\"green\",\"news\",\"self\",\"uber\",\"basic\",\"british\",\"religion\",\"hyderabad\",\"topics\",\"explain\",\"phd\",\"eating\",\"letter\",\"calculate\",\"ive\",\"tech\",\"personal\",\"japanese\",\"check\",\"hotel\",\"wifi\",\"beautiful\",\"difficult\",\"paper\",\"languages\",\"investment\",\"develop\",\"north\",\"electrical\",\"ios\",\"alcohol\",\"exactly\",\"profile\",\"past\",\"exams\",\"ca\",\"convert\",\"vs\",\"understand\",\"care\",\"dream\",\"try\",\"americans\",\"lost\",\"chemical\",\"source\",\"b\",\"admission\",\"easy\",\"must\",\"three\",\"effect\",\"view\",\"options\",\"page\",\"away\",\"red\",\"said\",\"line\",\"short\",\"happy\",\"security\",\"dark\",\"preparation\",\"second\",\"fat\",\"matter\",\"few\",\"since\",\"role\",\"pc\",\"office\",\"team\",\"delete\",\"cell\",\"election\",\"economy\",\"term\",\"dogs\",\"text\",\"female\",\"effective\",\"brain\",\"share\",\"digital\",\"btech\",\"russia\",\"\\u201c\",\"party\",\"numbers\",\"20\",\"store\",\"male\",\"mass\",\"turn\",\"left\",\"married\",\"rs\",\"taking\",\"those\",\"password\",\"follow\",\"advice\",\"isnt\",\"15\",\"types\",\"network\",\"\\u201d\",\"week\",\"purpose\",\"related\",\"fix\",\"started\",\"courses\",\"masters\",\"grow\",\"8\",\"fast\",\"leave\",\"100\",\"often\",\"found\",\"pros\",\"marriage\",\"cons\",\"quality\",\"words\",\"kill\",\"price\",\"near\",\"modi\",\"enough\",\"search\",\"python\",\"x\",\"blood\",\"math\",\"yourself\",\"drive\",\"size\",\"star\",\"graduate\",\"majors\",\"500\",\"model\",\"studying\",\"general\",\"oil\",\"colleges\",\"area\",\"developer\",\"germany\",\"industry\",\"full\",\"training\",\"says\",\"period\",\"videos\",\"universe\",\"fall\",\"daily\",\"information\",\"foreign\",\"credit\",\"force\",\"12\",\"youve\",\"south\",\"offer\",\"set\",\"add\",\"send\",\"australia\",\"center\",\"1000\",\"famous\",\"2015\",\"lot\",\"function\",\"tax\",\"correct\",\"solve\",\"advantages\",\"coaching\",\"institute\",\"effects\",\"guys\",\"again\",\"group\",\"hours\",\"side\",\"sentence\",\"low\",\"similar\",\"plan\",\"children\",\"answers\",\"talk\",\"marks\",\"ideas\",\"theory\",\"death\",\"compared\",\"night\",\"remove\",\"dog\",\"anything\",\"single\",\"successful\",\"gate\",\"indians\",\"put\",\"problems\",\"move\",\"writing\",\"point\",\"invest\",\"asked\",\"biggest\",\"others\",\"stock\",\"notes\",\"story\",\"machine\",\"private\",\"sell\",\"seen\",\"required\",\"field\",\"file\",\"rate\",\"humans\",\"application\",\"face\",\"sites\",\"mind\",\"facts\",\"mumbai\",\"post\",\"stay\",\"child\",\"terms\",\"products\",\"control\",\"legal\",\"police\",\"didnt\",\"level\",\"worst\",\"hate\",\"visit\",\"called\",\"amazon\",\"causes\",\"health\",\"form\",\"physics\",\"iit\",\"skills\",\"times\",\"medical\",\"based\",\"list\",\"websites\",\"die\",\"part\",\"less\",\"benefits\",\"apple\",\"instead\",\"these\",\"boyfriend\",\"sleep\",\"canada\",\"reason\",\"education\",\"cause\",\"jee\",\"value\",\"today\",\"media\",\"public\",\"happened\",\"product\",\"research\",\"main\",\"behind\",\"international\",\"project\",\"uk\",\"differ\",\"7\",\"places\",\"wear\",\"order\",\"date\",\"etc\",\"small\",\"songs\",\"apps\",\"email\",\"given\",\"wrong\",\"site\",\"normal\",\"culture\",\"also\",\"civil\",\"city\",\"available\",\"house\",\"exist\",\"startup\",\"services\",\"ms\",\"both\",\"down\",\"2017\",\"run\",\"cat\",\"well\",\"space\",\"join\",\"deal\",\"games\",\"visa\",\"rid\",\"air\",\"speed\",\"popular\",\"problem\",\"support\",\"current\",\"pakistan\",\"choose\",\"build\",\"idea\",\"america\",\"whatsapp\",\"affect\",\"law\",\"technology\",\"call\",\"6\",\"universities\",\"family\",\"marketing\",\"major\",\"actually\",\"favorite\",\"light\",\"bangalore\",\"woman\",\"because\",\"type\",\"program\",\"looking\",\"living\",\"open\",\"believe\",\"month\",\"able\",\"management\",\"travel\",\"degree\",\"show\",\"interesting\",\"score\",\"months\",\"series\",\"chinese\",\"development\",\"end\",\"code\",\"design\",\"per\",\"employees\",\"review\",\"clinton\",\"common\",\"kind\",\"internet\",\"song\",\"download\",\"course\",\"parents\",\"jobs\",\"such\",\"increase\",\"java\",\"god\",\"another\",\"united\",\"girlfriend\",\"mechanical\",\"always\",\"next\",\"never\",\"around\",\"tips\",\"mba\",\"myself\",\"hillary\",\"apply\",\"answer\",\"something\",\"considered\",\"making\",\"differences\",\"market\",\"compare\",\"great\",\"keep\",\"test\",\"s\",\"win\",\"against\",\"states\",\"earn\",\"youtube\",\"worth\",\"delhi\",\"energy\",\"laptop\",\"american\",\"lose\",\"each\",\"hard\",\"makes\",\"age\",\"ask\",\"safe\",\"body\",\"power\",\"salary\",\"4\",\"watch\",\"white\",\"windows\",\"instagram\",\"history\",\"pay\",\"every\",\"last\",\"create\",\"relationship\",\"music\",\"too\",\"meaning\",\"state\",\"average\",\"earth\",\"got\",\"process\",\"class\",\"tv\",\"eat\",\"done\",\"happens\",\"days\",\"big\",\"off\",\"improve\",\"future\",\"place\",\"man\",\"human\",\"government\",\"play\",\"countries\",\"food\",\"service\",\"students\",\"weight\",\"game\",\"engineer\",\"write\",\"very\",\"interview\",\"web\",\"tell\",\"social\",\"girls\",\"video\",\"look\",\"having\",\"guy\",\"home\",\"hair\",\"usa\",\"doesnt\",\"word\",\"bank\",\"friend\",\"true\",\"experience\",\"career\",\"president\",\"question\",\"own\",\"china\",\"come\",\"under\",\"working\",\"him\",\"doing\",\"donald\",\"friends\",\"right\",\"5\",\"cost\",\"mobile\",\"even\",\"movies\",\"then\",\"c\",\"\\u2019\",\"exam\",\"men\",\"learning\",\"card\",\"war\",\"read\",\"programming\",\"black\",\"anyone\",\"high\",\"10\",\"companies\",\"car\",\"getting\",\"give\",\"important\",\"questions\",\"cant\",\"iphone\",\"website\",\"top\",\"water\",\"prepare\",\"during\",\"real\",\"say\",\"system\",\"name\",\"through\",\"two\",\"1\",\"our\",\"study\",\"3\",\"university\",\"made\",\"back\",\"happen\",\"stop\",\"student\",\"sex\",\"bad\",\"language\",\"going\",\"same\",\"before\",\"software\",\"school\",\"live\",\"country\",\"android\",\"science\",\"help\",\"she\",\"see\",\"thing\",\"women\",\"over\",\"data\",\"examples\",\"computer\",\"had\",\"ways\",\"change\",\"while\",\"book\",\"english\",\"account\",\"still\",\"movie\",\"books\",\"2016\",\"facebook\",\"free\",\"number\",\"college\",\"app\",\"2\",\"just\",\"now\",\"no\",\"trump\",\"company\",\"only\",\"old\",\"been\",\"google\",\"phone\",\"long\",\"different\",\"girl\",\"his\",\"her\",\"years\",\"really\",\"them\",\"using\",\"business\",\"need\",\"being\",\"buy\",\"day\",\"person\",\"things\",\"possible\",\"could\",\"were\",\"its\",\"love\",\"engineering\",\"im\",\"used\",\"online\",\"go\",\"year\",\"he\",\"into\",\"feel\",\"dont\",\"first\",\"up\"]]]}}},\"view\":{\"type\":\"object\",\"name\":\"CDSView\",\"id\":\"p1045\",\"attributes\":{\"filter\":{\"type\":\"object\",\"name\":\"AllIndices\",\"id\":\"p1046\"}}},\"glyph\":{\"type\":\"object\",\"name\":\"Scatter\",\"id\":\"p1041\",\"attributes\":{\"x\":{\"type\":\"field\",\"field\":\"x\"},\"y\":{\"type\":\"field\",\"field\":\"y\"},\"size\":{\"type\":\"value\",\"value\":10},\"line_color\":{\"type\":\"field\",\"field\":\"color\"},\"line_alpha\":{\"type\":\"value\",\"value\":0.25},\"fill_color\":{\"type\":\"field\",\"field\":\"color\"},\"fill_alpha\":{\"type\":\"value\",\"value\":0.25},\"hatch_color\":{\"type\":\"field\",\"field\":\"color\"},\"hatch_alpha\":{\"type\":\"value\",\"value\":0.25}}},\"nonselection_glyph\":{\"type\":\"object\",\"name\":\"Scatter\",\"id\":\"p1042\",\"attributes\":{\"x\":{\"type\":\"field\",\"field\":\"x\"},\"y\":{\"type\":\"field\",\"field\":\"y\"},\"size\":{\"type\":\"value\",\"value\":10},\"line_color\":{\"type\":\"field\",\"field\":\"color\"},\"line_alpha\":{\"type\":\"value\",\"value\":0.1},\"fill_color\":{\"type\":\"field\",\"field\":\"color\"},\"fill_alpha\":{\"type\":\"value\",\"value\":0.1},\"hatch_color\":{\"type\":\"field\",\"field\":\"color\"},\"hatch_alpha\":{\"type\":\"value\",\"value\":0.1}}},\"muted_glyph\":{\"type\":\"object\",\"name\":\"Scatter\",\"id\":\"p1043\",\"attributes\":{\"x\":{\"type\":\"field\",\"field\":\"x\"},\"y\":{\"type\":\"field\",\"field\":\"y\"},\"size\":{\"type\":\"value\",\"value\":10},\"line_color\":{\"type\":\"field\",\"field\":\"color\"},\"line_alpha\":{\"type\":\"value\",\"value\":0.2},\"fill_color\":{\"type\":\"field\",\"field\":\"color\"},\"fill_alpha\":{\"type\":\"value\",\"value\":0.2},\"hatch_color\":{\"type\":\"field\",\"field\":\"color\"},\"hatch_alpha\":{\"type\":\"value\",\"value\":0.2}}}}}],\"toolbar\":{\"type\":\"object\",\"name\":\"Toolbar\",\"id\":\"p1012\",\"attributes\":{\"tools\":[{\"type\":\"object\",\"name\":\"PanTool\",\"id\":\"p1025\"},{\"type\":\"object\",\"name\":\"WheelZoomTool\",\"id\":\"p1026\",\"attributes\":{\"renderers\":\"auto\"}},{\"type\":\"object\",\"name\":\"BoxZoomTool\",\"id\":\"p1027\",\"attributes\":{\"overlay\":{\"type\":\"object\",\"name\":\"BoxAnnotation\",\"id\":\"p1028\",\"attributes\":{\"syncable\":false,\"line_color\":\"black\",\"line_alpha\":1.0,\"line_width\":2,\"line_dash\":[4,4],\"fill_color\":\"lightgrey\",\"fill_alpha\":0.5,\"level\":\"overlay\",\"visible\":false,\"left\":{\"type\":\"number\",\"value\":\"nan\"},\"right\":{\"type\":\"number\",\"value\":\"nan\"},\"top\":{\"type\":\"number\",\"value\":\"nan\"},\"bottom\":{\"type\":\"number\",\"value\":\"nan\"},\"left_units\":\"canvas\",\"right_units\":\"canvas\",\"top_units\":\"canvas\",\"bottom_units\":\"canvas\",\"handles\":{\"type\":\"object\",\"name\":\"BoxInteractionHandles\",\"id\":\"p1034\",\"attributes\":{\"all\":{\"type\":\"object\",\"name\":\"AreaVisuals\",\"id\":\"p1033\",\"attributes\":{\"fill_color\":\"white\",\"hover_fill_color\":\"lightgray\"}}}}}}}},{\"type\":\"object\",\"name\":\"SaveTool\",\"id\":\"p1035\"},{\"type\":\"object\",\"name\":\"ResetTool\",\"id\":\"p1036\"},{\"type\":\"object\",\"name\":\"HelpTool\",\"id\":\"p1037\"},{\"type\":\"object\",\"name\":\"HoverTool\",\"id\":\"p1047\",\"attributes\":{\"renderers\":\"auto\",\"tooltips\":[[\"token\",\"@token\"]]}}],\"active_scroll\":{\"id\":\"p1026\"}}},\"left\":[{\"type\":\"object\",\"name\":\"LinearAxis\",\"id\":\"p1020\",\"attributes\":{\"ticker\":{\"type\":\"object\",\"name\":\"BasicTicker\",\"id\":\"p1021\",\"attributes\":{\"mantissas\":[1,2,5]}},\"formatter\":{\"type\":\"object\",\"name\":\"BasicTickFormatter\",\"id\":\"p1022\"},\"major_label_policy\":{\"type\":\"object\",\"name\":\"AllLabels\",\"id\":\"p1023\"}}}],\"below\":[{\"type\":\"object\",\"name\":\"LinearAxis\",\"id\":\"p1015\",\"attributes\":{\"ticker\":{\"type\":\"object\",\"name\":\"BasicTicker\",\"id\":\"p1016\",\"attributes\":{\"mantissas\":[1,2,5]}},\"formatter\":{\"type\":\"object\",\"name\":\"BasicTickFormatter\",\"id\":\"p1017\"},\"major_label_policy\":{\"type\":\"object\",\"name\":\"AllLabels\",\"id\":\"p1018\"}}}],\"center\":[{\"type\":\"object\",\"name\":\"Grid\",\"id\":\"p1019\",\"attributes\":{\"axis\":{\"id\":\"p1015\"}}},{\"type\":\"object\",\"name\":\"Grid\",\"id\":\"p1024\",\"attributes\":{\"dimension\":1,\"axis\":{\"id\":\"p1020\"}}}]}}]}};\n",
              "  const render_items = [{\"docid\":\"8aac60e2-8879-43f9-a1ad-706aa80c7211\",\"roots\":{\"p1004\":\"d76847d6-2121-464f-b0ba-f0d27fedecef\"},\"root_ids\":[\"p1004\"]}];\n",
              "  void root.Bokeh.embed.embed_items_notebook(docs_json, render_items);\n",
              "  }\n",
              "  if (root.Bokeh !== undefined) {\n",
              "    embed_document(root);\n",
              "  } else {\n",
              "    let attempts = 0;\n",
              "    const timer = setInterval(function(root) {\n",
              "      if (root.Bokeh !== undefined) {\n",
              "        clearInterval(timer);\n",
              "        embed_document(root);\n",
              "      } else {\n",
              "        attempts++;\n",
              "        if (attempts > 100) {\n",
              "          clearInterval(timer);\n",
              "          console.log(\"Bokeh: ERROR: Unable to run BokehJS code because BokehJS library is missing\");\n",
              "        }\n",
              "      }\n",
              "    }, 10, root)\n",
              "  }\n",
              "})(window);"
            ],
            "application/vnd.bokehjs_exec.v0+json": ""
          },
          "metadata": {
            "application/vnd.bokehjs_exec.v0+json": {
              "id": "p1004"
            }
          }
        },
        {
          "output_type": "execute_result",
          "data": {
            "text/plain": [
              "figure(id='p1004', ...)"
            ],
            "text/html": [
              "<div style=\"display: table;\"><div style=\"display: table-row;\"><div style=\"display: table-cell;\"><b title=\"bokeh.plotting._figure.figure\">figure</b>(</div><div style=\"display: table-cell;\">id&nbsp;=&nbsp;'p1004', <span id=\"p1051\" style=\"cursor: pointer;\">&hellip;)</span></div></div><div class=\"p1050\" style=\"display: none;\"><div style=\"display: table-cell;\"></div><div style=\"display: table-cell;\">above&nbsp;=&nbsp;[],</div></div><div class=\"p1050\" style=\"display: none;\"><div style=\"display: table-cell;\"></div><div style=\"display: table-cell;\">align&nbsp;=&nbsp;'auto',</div></div><div class=\"p1050\" style=\"display: none;\"><div style=\"display: table-cell;\"></div><div style=\"display: table-cell;\">aspect_ratio&nbsp;=&nbsp;None,</div></div><div class=\"p1050\" style=\"display: none;\"><div style=\"display: table-cell;\"></div><div style=\"display: table-cell;\">aspect_scale&nbsp;=&nbsp;1,</div></div><div class=\"p1050\" style=\"display: none;\"><div style=\"display: table-cell;\"></div><div style=\"display: table-cell;\">attribution&nbsp;=&nbsp;[],</div></div><div class=\"p1050\" style=\"display: none;\"><div style=\"display: table-cell;\"></div><div style=\"display: table-cell;\">background_fill_alpha&nbsp;=&nbsp;1.0,</div></div><div class=\"p1050\" style=\"display: none;\"><div style=\"display: table-cell;\"></div><div style=\"display: table-cell;\">background_fill_color&nbsp;=&nbsp;'#ffffff',</div></div><div class=\"p1050\" style=\"display: none;\"><div style=\"display: table-cell;\"></div><div style=\"display: table-cell;\">below&nbsp;=&nbsp;[LinearAxis(id='p1015', ...)],</div></div><div class=\"p1050\" style=\"display: none;\"><div style=\"display: table-cell;\"></div><div style=\"display: table-cell;\">border_fill_alpha&nbsp;=&nbsp;1.0,</div></div><div class=\"p1050\" style=\"display: none;\"><div style=\"display: table-cell;\"></div><div style=\"display: table-cell;\">border_fill_color&nbsp;=&nbsp;'#ffffff',</div></div><div class=\"p1050\" style=\"display: none;\"><div style=\"display: table-cell;\"></div><div style=\"display: table-cell;\">center&nbsp;=&nbsp;[Grid(id='p1019', ...), Grid(id='p1024', ...)],</div></div><div class=\"p1050\" style=\"display: none;\"><div style=\"display: table-cell;\"></div><div style=\"display: table-cell;\">context_menu&nbsp;=&nbsp;None,</div></div><div class=\"p1050\" style=\"display: none;\"><div style=\"display: table-cell;\"></div><div style=\"display: table-cell;\">css_classes&nbsp;=&nbsp;[],</div></div><div class=\"p1050\" style=\"display: none;\"><div style=\"display: table-cell;\"></div><div style=\"display: table-cell;\">css_variables&nbsp;=&nbsp;{},</div></div><div class=\"p1050\" style=\"display: none;\"><div style=\"display: table-cell;\"></div><div style=\"display: table-cell;\">disabled&nbsp;=&nbsp;False,</div></div><div class=\"p1050\" style=\"display: none;\"><div style=\"display: table-cell;\"></div><div style=\"display: table-cell;\">elements&nbsp;=&nbsp;[],</div></div><div class=\"p1050\" style=\"display: none;\"><div style=\"display: table-cell;\"></div><div style=\"display: table-cell;\">extra_x_ranges&nbsp;=&nbsp;{},</div></div><div class=\"p1050\" style=\"display: none;\"><div style=\"display: table-cell;\"></div><div style=\"display: table-cell;\">extra_x_scales&nbsp;=&nbsp;{},</div></div><div class=\"p1050\" style=\"display: none;\"><div style=\"display: table-cell;\"></div><div style=\"display: table-cell;\">extra_y_ranges&nbsp;=&nbsp;{},</div></div><div class=\"p1050\" style=\"display: none;\"><div style=\"display: table-cell;\"></div><div style=\"display: table-cell;\">extra_y_scales&nbsp;=&nbsp;{},</div></div><div class=\"p1050\" style=\"display: none;\"><div style=\"display: table-cell;\"></div><div style=\"display: table-cell;\">flow_mode&nbsp;=&nbsp;'block',</div></div><div class=\"p1050\" style=\"display: none;\"><div style=\"display: table-cell;\"></div><div style=\"display: table-cell;\">frame_align&nbsp;=&nbsp;True,</div></div><div class=\"p1050\" style=\"display: none;\"><div style=\"display: table-cell;\"></div><div style=\"display: table-cell;\">frame_height&nbsp;=&nbsp;None,</div></div><div class=\"p1050\" style=\"display: none;\"><div style=\"display: table-cell;\"></div><div style=\"display: table-cell;\">frame_width&nbsp;=&nbsp;None,</div></div><div class=\"p1050\" style=\"display: none;\"><div style=\"display: table-cell;\"></div><div style=\"display: table-cell;\">height&nbsp;=&nbsp;400,</div></div><div class=\"p1050\" style=\"display: none;\"><div style=\"display: table-cell;\"></div><div style=\"display: table-cell;\">height_policy&nbsp;=&nbsp;'auto',</div></div><div class=\"p1050\" style=\"display: none;\"><div style=\"display: table-cell;\"></div><div style=\"display: table-cell;\">hidpi&nbsp;=&nbsp;True,</div></div><div class=\"p1050\" style=\"display: none;\"><div style=\"display: table-cell;\"></div><div style=\"display: table-cell;\">hold_render&nbsp;=&nbsp;False,</div></div><div class=\"p1050\" style=\"display: none;\"><div style=\"display: table-cell;\"></div><div style=\"display: table-cell;\">js_event_callbacks&nbsp;=&nbsp;{},</div></div><div class=\"p1050\" style=\"display: none;\"><div style=\"display: table-cell;\"></div><div style=\"display: table-cell;\">js_property_callbacks&nbsp;=&nbsp;{},</div></div><div class=\"p1050\" style=\"display: none;\"><div style=\"display: table-cell;\"></div><div style=\"display: table-cell;\">left&nbsp;=&nbsp;[LinearAxis(id='p1020', ...)],</div></div><div class=\"p1050\" style=\"display: none;\"><div style=\"display: table-cell;\"></div><div style=\"display: table-cell;\">lod_factor&nbsp;=&nbsp;10,</div></div><div class=\"p1050\" style=\"display: none;\"><div style=\"display: table-cell;\"></div><div style=\"display: table-cell;\">lod_interval&nbsp;=&nbsp;300,</div></div><div class=\"p1050\" style=\"display: none;\"><div style=\"display: table-cell;\"></div><div style=\"display: table-cell;\">lod_threshold&nbsp;=&nbsp;2000,</div></div><div class=\"p1050\" style=\"display: none;\"><div style=\"display: table-cell;\"></div><div style=\"display: table-cell;\">lod_timeout&nbsp;=&nbsp;500,</div></div><div class=\"p1050\" style=\"display: none;\"><div style=\"display: table-cell;\"></div><div style=\"display: table-cell;\">margin&nbsp;=&nbsp;None,</div></div><div class=\"p1050\" style=\"display: none;\"><div style=\"display: table-cell;\"></div><div style=\"display: table-cell;\">match_aspect&nbsp;=&nbsp;False,</div></div><div class=\"p1050\" style=\"display: none;\"><div style=\"display: table-cell;\"></div><div style=\"display: table-cell;\">max_height&nbsp;=&nbsp;None,</div></div><div class=\"p1050\" style=\"display: none;\"><div style=\"display: table-cell;\"></div><div style=\"display: table-cell;\">max_width&nbsp;=&nbsp;None,</div></div><div class=\"p1050\" style=\"display: none;\"><div style=\"display: table-cell;\"></div><div style=\"display: table-cell;\">min_border&nbsp;=&nbsp;5,</div></div><div class=\"p1050\" style=\"display: none;\"><div style=\"display: table-cell;\"></div><div style=\"display: table-cell;\">min_border_bottom&nbsp;=&nbsp;None,</div></div><div class=\"p1050\" style=\"display: none;\"><div style=\"display: table-cell;\"></div><div style=\"display: table-cell;\">min_border_left&nbsp;=&nbsp;None,</div></div><div class=\"p1050\" style=\"display: none;\"><div style=\"display: table-cell;\"></div><div style=\"display: table-cell;\">min_border_right&nbsp;=&nbsp;None,</div></div><div class=\"p1050\" style=\"display: none;\"><div style=\"display: table-cell;\"></div><div style=\"display: table-cell;\">min_border_top&nbsp;=&nbsp;None,</div></div><div class=\"p1050\" style=\"display: none;\"><div style=\"display: table-cell;\"></div><div style=\"display: table-cell;\">min_height&nbsp;=&nbsp;None,</div></div><div class=\"p1050\" style=\"display: none;\"><div style=\"display: table-cell;\"></div><div style=\"display: table-cell;\">min_width&nbsp;=&nbsp;None,</div></div><div class=\"p1050\" style=\"display: none;\"><div style=\"display: table-cell;\"></div><div style=\"display: table-cell;\">name&nbsp;=&nbsp;None,</div></div><div class=\"p1050\" style=\"display: none;\"><div style=\"display: table-cell;\"></div><div style=\"display: table-cell;\">outline_line_alpha&nbsp;=&nbsp;1.0,</div></div><div class=\"p1050\" style=\"display: none;\"><div style=\"display: table-cell;\"></div><div style=\"display: table-cell;\">outline_line_cap&nbsp;=&nbsp;'butt',</div></div><div class=\"p1050\" style=\"display: none;\"><div style=\"display: table-cell;\"></div><div style=\"display: table-cell;\">outline_line_color&nbsp;=&nbsp;'#e5e5e5',</div></div><div class=\"p1050\" style=\"display: none;\"><div style=\"display: table-cell;\"></div><div style=\"display: table-cell;\">outline_line_dash&nbsp;=&nbsp;[],</div></div><div class=\"p1050\" style=\"display: none;\"><div style=\"display: table-cell;\"></div><div style=\"display: table-cell;\">outline_line_dash_offset&nbsp;=&nbsp;0,</div></div><div class=\"p1050\" style=\"display: none;\"><div style=\"display: table-cell;\"></div><div style=\"display: table-cell;\">outline_line_join&nbsp;=&nbsp;'bevel',</div></div><div class=\"p1050\" style=\"display: none;\"><div style=\"display: table-cell;\"></div><div style=\"display: table-cell;\">outline_line_width&nbsp;=&nbsp;1,</div></div><div class=\"p1050\" style=\"display: none;\"><div style=\"display: table-cell;\"></div><div style=\"display: table-cell;\">output_backend&nbsp;=&nbsp;'canvas',</div></div><div class=\"p1050\" style=\"display: none;\"><div style=\"display: table-cell;\"></div><div style=\"display: table-cell;\">renderers&nbsp;=&nbsp;[GlyphRenderer(id='p1044', ...)],</div></div><div class=\"p1050\" style=\"display: none;\"><div style=\"display: table-cell;\"></div><div style=\"display: table-cell;\">reset_policy&nbsp;=&nbsp;'standard',</div></div><div class=\"p1050\" style=\"display: none;\"><div style=\"display: table-cell;\"></div><div style=\"display: table-cell;\">resizable&nbsp;=&nbsp;False,</div></div><div class=\"p1050\" style=\"display: none;\"><div style=\"display: table-cell;\"></div><div style=\"display: table-cell;\">right&nbsp;=&nbsp;[],</div></div><div class=\"p1050\" style=\"display: none;\"><div style=\"display: table-cell;\"></div><div style=\"display: table-cell;\">sizing_mode&nbsp;=&nbsp;None,</div></div><div class=\"p1050\" style=\"display: none;\"><div style=\"display: table-cell;\"></div><div style=\"display: table-cell;\">styles&nbsp;=&nbsp;{},</div></div><div class=\"p1050\" style=\"display: none;\"><div style=\"display: table-cell;\"></div><div style=\"display: table-cell;\">stylesheets&nbsp;=&nbsp;[],</div></div><div class=\"p1050\" style=\"display: none;\"><div style=\"display: table-cell;\"></div><div style=\"display: table-cell;\">subscribed_events&nbsp;=&nbsp;PropertyValueSet(),</div></div><div class=\"p1050\" style=\"display: none;\"><div style=\"display: table-cell;\"></div><div style=\"display: table-cell;\">syncable&nbsp;=&nbsp;True,</div></div><div class=\"p1050\" style=\"display: none;\"><div style=\"display: table-cell;\"></div><div style=\"display: table-cell;\">tags&nbsp;=&nbsp;[],</div></div><div class=\"p1050\" style=\"display: none;\"><div style=\"display: table-cell;\"></div><div style=\"display: table-cell;\">title&nbsp;=&nbsp;Title(id='p1011', ...),</div></div><div class=\"p1050\" style=\"display: none;\"><div style=\"display: table-cell;\"></div><div style=\"display: table-cell;\">title_location&nbsp;=&nbsp;'above',</div></div><div class=\"p1050\" style=\"display: none;\"><div style=\"display: table-cell;\"></div><div style=\"display: table-cell;\">toolbar&nbsp;=&nbsp;Toolbar(id='p1012', ...),</div></div><div class=\"p1050\" style=\"display: none;\"><div style=\"display: table-cell;\"></div><div style=\"display: table-cell;\">toolbar_inner&nbsp;=&nbsp;False,</div></div><div class=\"p1050\" style=\"display: none;\"><div style=\"display: table-cell;\"></div><div style=\"display: table-cell;\">toolbar_location&nbsp;=&nbsp;'right',</div></div><div class=\"p1050\" style=\"display: none;\"><div style=\"display: table-cell;\"></div><div style=\"display: table-cell;\">toolbar_sticky&nbsp;=&nbsp;True,</div></div><div class=\"p1050\" style=\"display: none;\"><div style=\"display: table-cell;\"></div><div style=\"display: table-cell;\">visible&nbsp;=&nbsp;True,</div></div><div class=\"p1050\" style=\"display: none;\"><div style=\"display: table-cell;\"></div><div style=\"display: table-cell;\">width&nbsp;=&nbsp;600,</div></div><div class=\"p1050\" style=\"display: none;\"><div style=\"display: table-cell;\"></div><div style=\"display: table-cell;\">width_policy&nbsp;=&nbsp;'auto',</div></div><div class=\"p1050\" style=\"display: none;\"><div style=\"display: table-cell;\"></div><div style=\"display: table-cell;\">x_range&nbsp;=&nbsp;DataRange1d(id='p1005', ...),</div></div><div class=\"p1050\" style=\"display: none;\"><div style=\"display: table-cell;\"></div><div style=\"display: table-cell;\">x_scale&nbsp;=&nbsp;LinearScale(id='p1013', ...),</div></div><div class=\"p1050\" style=\"display: none;\"><div style=\"display: table-cell;\"></div><div style=\"display: table-cell;\">y_range&nbsp;=&nbsp;DataRange1d(id='p1006', ...),</div></div><div class=\"p1050\" style=\"display: none;\"><div style=\"display: table-cell;\"></div><div style=\"display: table-cell;\">y_scale&nbsp;=&nbsp;LinearScale(id='p1014', ...))</div></div></div>\n",
              "<script>\n",
              "(function() {\n",
              "  let expanded = false;\n",
              "  const ellipsis = document.getElementById(\"p1051\");\n",
              "  ellipsis.addEventListener(\"click\", function() {\n",
              "    const rows = document.getElementsByClassName(\"p1050\");\n",
              "    for (let i = 0; i < rows.length; i++) {\n",
              "      const el = rows[i];\n",
              "      el.style.display = expanded ? \"none\" : \"table-row\";\n",
              "    }\n",
              "    ellipsis.innerHTML = expanded ? \"&hellip;)\" : \"&lsaquo;&lsaquo;&lsaquo;\";\n",
              "    expanded = !expanded;\n",
              "  });\n",
              "})();\n",
              "</script>\n"
            ]
          },
          "metadata": {},
          "execution_count": 72
        }
      ],
      "source": [
        "draw_vectors(embedding[:, 0], embedding[:, 1], token=top_words)"
      ]
    },
    {
      "cell_type": "markdown",
      "metadata": {
        "id": "msYujzOalOvQ"
      },
      "source": [
        "Для сдачи задания необходимо загрузить функции `subsample_frequent_words` и `get_negative_sampling_prob`, а также сгенерировать файл для посылки ниже и приложить в соответствующую задачу. Успехов!"
      ]
    },
    {
      "cell_type": "code",
      "execution_count": 73,
      "metadata": {
        "id": "J5dwzBwVlOvQ",
        "outputId": "217634ab-0482-473f-b984-74660a781487",
        "colab": {
          "base_uri": "https://localhost:8080/",
          "height": 216
        }
      },
      "outputs": [
        {
          "output_type": "error",
          "ename": "AssertionError",
          "evalue": "Please, download `words_subset.txt` and place it in the working directory",
          "traceback": [
            "\u001b[0;31m---------------------------------------------------------------------------\u001b[0m",
            "\u001b[0;31mAssertionError\u001b[0m                            Traceback (most recent call last)",
            "\u001b[0;32m<ipython-input-73-05a6ffec4d9b>\u001b[0m in \u001b[0;36m<cell line: 0>\u001b[0;34m()\u001b[0m\n\u001b[1;32m      4\u001b[0m \u001b[0;32mimport\u001b[0m \u001b[0mjson\u001b[0m\u001b[0;34m\u001b[0m\u001b[0;34m\u001b[0m\u001b[0m\n\u001b[1;32m      5\u001b[0m \u001b[0;34m\u001b[0m\u001b[0m\n\u001b[0;32m----> 6\u001b[0;31m assert os.path.exists(\n\u001b[0m\u001b[1;32m      7\u001b[0m     \u001b[0;34m\"words_subset.txt\"\u001b[0m\u001b[0;34m\u001b[0m\u001b[0;34m\u001b[0m\u001b[0m\n\u001b[1;32m      8\u001b[0m ), \"Please, download `words_subset.txt` and place it in the working directory\"\n",
            "\u001b[0;31mAssertionError\u001b[0m: Please, download `words_subset.txt` and place it in the working directory"
          ]
        }
      ],
      "source": [
        "# do not change the code in the block below\n",
        "# __________start of block__________\n",
        "import os\n",
        "import json\n",
        "\n",
        "assert os.path.exists(\n",
        "    \"words_subset.txt\"\n",
        "), \"Please, download `words_subset.txt` and place it in the working directory\"\n",
        "\n",
        "with open(\"words_subset.txt\") as iofile:\n",
        "    selected_words = iofile.read().split(\"\\n\")\n",
        "\n",
        "\n",
        "def get_matrix_for_selected_words(selected_words, embedding_matrix, word_to_index):\n",
        "    word_vectors = []\n",
        "    for word in selected_words:\n",
        "        index = word_to_index.get(word, None)\n",
        "        vector = [0.0] * embedding_matrix.shape[1]\n",
        "        if index is not None:\n",
        "            vector = embedding_matrix[index].numpy().tolist()\n",
        "        word_vectors.append(vector)\n",
        "    return word_vectors\n",
        "\n",
        "\n",
        "word_vectors = get_matrix_for_selected_words(\n",
        "    selected_words, embedding_matrix_context, word_to_index\n",
        ")\n",
        "\n",
        "with open(\"submission_dict.json\", \"w\") as iofile:\n",
        "    json.dump(word_vectors, iofile)\n",
        "print(\"File saved to `submission_dict.json`\")\n",
        "# __________end of block__________"
      ]
    },
    {
      "cell_type": "code",
      "source": [],
      "metadata": {
        "id": "q8lx-mUOeqIr"
      },
      "execution_count": null,
      "outputs": []
    }
  ],
  "metadata": {
    "colab": {
      "provenance": []
    },
    "kernelspec": {
      "display_name": "py3_research",
      "language": "python",
      "name": "python3"
    },
    "language_info": {
      "codemirror_mode": {
        "name": "ipython",
        "version": 3
      },
      "file_extension": ".py",
      "mimetype": "text/x-python",
      "name": "python",
      "nbconvert_exporter": "python",
      "pygments_lexer": "ipython3",
      "version": "3.11.2"
    },
    "widgets": {
      "application/vnd.jupyter.widget-state+json": {
        "d248075d40724ae2ade22b3b71ac7d2e": {
          "model_module": "@jupyter-widgets/controls",
          "model_name": "HBoxModel",
          "model_module_version": "1.5.0",
          "state": {
            "_dom_classes": [],
            "_model_module": "@jupyter-widgets/controls",
            "_model_module_version": "1.5.0",
            "_model_name": "HBoxModel",
            "_view_count": null,
            "_view_module": "@jupyter-widgets/controls",
            "_view_module_version": "1.5.0",
            "_view_name": "HBoxView",
            "box_style": "",
            "children": [
              "IPY_MODEL_9eab0bf575ee453ba5ead647bfa7544b",
              "IPY_MODEL_38b7d3c21cce49929e3e6226702755e4",
              "IPY_MODEL_05877ba5690543259cd03d96f23252a1"
            ],
            "layout": "IPY_MODEL_d81ee40484964dfeb23c0d24c9f1553a"
          }
        },
        "9eab0bf575ee453ba5ead647bfa7544b": {
          "model_module": "@jupyter-widgets/controls",
          "model_name": "HTMLModel",
          "model_module_version": "1.5.0",
          "state": {
            "_dom_classes": [],
            "_model_module": "@jupyter-widgets/controls",
            "_model_module_version": "1.5.0",
            "_model_name": "HTMLModel",
            "_view_count": null,
            "_view_module": "@jupyter-widgets/controls",
            "_view_module_version": "1.5.0",
            "_view_name": "HTMLView",
            "description": "",
            "description_tooltip": null,
            "layout": "IPY_MODEL_213d1f53595648adb755b8e632905335",
            "placeholder": "​",
            "style": "IPY_MODEL_c2b812593a424309a723ff548865134f",
            "value": "100%"
          }
        },
        "38b7d3c21cce49929e3e6226702755e4": {
          "model_module": "@jupyter-widgets/controls",
          "model_name": "FloatProgressModel",
          "model_module_version": "1.5.0",
          "state": {
            "_dom_classes": [],
            "_model_module": "@jupyter-widgets/controls",
            "_model_module_version": "1.5.0",
            "_model_name": "FloatProgressModel",
            "_view_count": null,
            "_view_module": "@jupyter-widgets/controls",
            "_view_module_version": "1.5.0",
            "_view_name": "ProgressView",
            "bar_style": "success",
            "description": "",
            "description_tooltip": null,
            "layout": "IPY_MODEL_781d6fd9118f49c5a0978cb690d47d6b",
            "max": 3500,
            "min": 0,
            "orientation": "horizontal",
            "style": "IPY_MODEL_2ebd07246a804a08b11f1ce9a9947e32",
            "value": 3500
          }
        },
        "05877ba5690543259cd03d96f23252a1": {
          "model_module": "@jupyter-widgets/controls",
          "model_name": "HTMLModel",
          "model_module_version": "1.5.0",
          "state": {
            "_dom_classes": [],
            "_model_module": "@jupyter-widgets/controls",
            "_model_module_version": "1.5.0",
            "_model_name": "HTMLModel",
            "_view_count": null,
            "_view_module": "@jupyter-widgets/controls",
            "_view_module_version": "1.5.0",
            "_view_name": "HTMLView",
            "description": "",
            "description_tooltip": null,
            "layout": "IPY_MODEL_1cff444a950f43be826845dd4e41b155",
            "placeholder": "​",
            "style": "IPY_MODEL_04508f1da26343f2bcfaf0e2823bda45",
            "value": " 3500/3500 [2:40:28&lt;00:00,  2.70s/it]"
          }
        },
        "d81ee40484964dfeb23c0d24c9f1553a": {
          "model_module": "@jupyter-widgets/base",
          "model_name": "LayoutModel",
          "model_module_version": "1.2.0",
          "state": {
            "_model_module": "@jupyter-widgets/base",
            "_model_module_version": "1.2.0",
            "_model_name": "LayoutModel",
            "_view_count": null,
            "_view_module": "@jupyter-widgets/base",
            "_view_module_version": "1.2.0",
            "_view_name": "LayoutView",
            "align_content": null,
            "align_items": null,
            "align_self": null,
            "border": null,
            "bottom": null,
            "display": null,
            "flex": null,
            "flex_flow": null,
            "grid_area": null,
            "grid_auto_columns": null,
            "grid_auto_flow": null,
            "grid_auto_rows": null,
            "grid_column": null,
            "grid_gap": null,
            "grid_row": null,
            "grid_template_areas": null,
            "grid_template_columns": null,
            "grid_template_rows": null,
            "height": null,
            "justify_content": null,
            "justify_items": null,
            "left": null,
            "margin": null,
            "max_height": null,
            "max_width": null,
            "min_height": null,
            "min_width": null,
            "object_fit": null,
            "object_position": null,
            "order": null,
            "overflow": null,
            "overflow_x": null,
            "overflow_y": null,
            "padding": null,
            "right": null,
            "top": null,
            "visibility": null,
            "width": null
          }
        },
        "213d1f53595648adb755b8e632905335": {
          "model_module": "@jupyter-widgets/base",
          "model_name": "LayoutModel",
          "model_module_version": "1.2.0",
          "state": {
            "_model_module": "@jupyter-widgets/base",
            "_model_module_version": "1.2.0",
            "_model_name": "LayoutModel",
            "_view_count": null,
            "_view_module": "@jupyter-widgets/base",
            "_view_module_version": "1.2.0",
            "_view_name": "LayoutView",
            "align_content": null,
            "align_items": null,
            "align_self": null,
            "border": null,
            "bottom": null,
            "display": null,
            "flex": null,
            "flex_flow": null,
            "grid_area": null,
            "grid_auto_columns": null,
            "grid_auto_flow": null,
            "grid_auto_rows": null,
            "grid_column": null,
            "grid_gap": null,
            "grid_row": null,
            "grid_template_areas": null,
            "grid_template_columns": null,
            "grid_template_rows": null,
            "height": null,
            "justify_content": null,
            "justify_items": null,
            "left": null,
            "margin": null,
            "max_height": null,
            "max_width": null,
            "min_height": null,
            "min_width": null,
            "object_fit": null,
            "object_position": null,
            "order": null,
            "overflow": null,
            "overflow_x": null,
            "overflow_y": null,
            "padding": null,
            "right": null,
            "top": null,
            "visibility": null,
            "width": null
          }
        },
        "c2b812593a424309a723ff548865134f": {
          "model_module": "@jupyter-widgets/controls",
          "model_name": "DescriptionStyleModel",
          "model_module_version": "1.5.0",
          "state": {
            "_model_module": "@jupyter-widgets/controls",
            "_model_module_version": "1.5.0",
            "_model_name": "DescriptionStyleModel",
            "_view_count": null,
            "_view_module": "@jupyter-widgets/base",
            "_view_module_version": "1.2.0",
            "_view_name": "StyleView",
            "description_width": ""
          }
        },
        "781d6fd9118f49c5a0978cb690d47d6b": {
          "model_module": "@jupyter-widgets/base",
          "model_name": "LayoutModel",
          "model_module_version": "1.2.0",
          "state": {
            "_model_module": "@jupyter-widgets/base",
            "_model_module_version": "1.2.0",
            "_model_name": "LayoutModel",
            "_view_count": null,
            "_view_module": "@jupyter-widgets/base",
            "_view_module_version": "1.2.0",
            "_view_name": "LayoutView",
            "align_content": null,
            "align_items": null,
            "align_self": null,
            "border": null,
            "bottom": null,
            "display": null,
            "flex": null,
            "flex_flow": null,
            "grid_area": null,
            "grid_auto_columns": null,
            "grid_auto_flow": null,
            "grid_auto_rows": null,
            "grid_column": null,
            "grid_gap": null,
            "grid_row": null,
            "grid_template_areas": null,
            "grid_template_columns": null,
            "grid_template_rows": null,
            "height": null,
            "justify_content": null,
            "justify_items": null,
            "left": null,
            "margin": null,
            "max_height": null,
            "max_width": null,
            "min_height": null,
            "min_width": null,
            "object_fit": null,
            "object_position": null,
            "order": null,
            "overflow": null,
            "overflow_x": null,
            "overflow_y": null,
            "padding": null,
            "right": null,
            "top": null,
            "visibility": null,
            "width": null
          }
        },
        "2ebd07246a804a08b11f1ce9a9947e32": {
          "model_module": "@jupyter-widgets/controls",
          "model_name": "ProgressStyleModel",
          "model_module_version": "1.5.0",
          "state": {
            "_model_module": "@jupyter-widgets/controls",
            "_model_module_version": "1.5.0",
            "_model_name": "ProgressStyleModel",
            "_view_count": null,
            "_view_module": "@jupyter-widgets/base",
            "_view_module_version": "1.2.0",
            "_view_name": "StyleView",
            "bar_color": null,
            "description_width": ""
          }
        },
        "1cff444a950f43be826845dd4e41b155": {
          "model_module": "@jupyter-widgets/base",
          "model_name": "LayoutModel",
          "model_module_version": "1.2.0",
          "state": {
            "_model_module": "@jupyter-widgets/base",
            "_model_module_version": "1.2.0",
            "_model_name": "LayoutModel",
            "_view_count": null,
            "_view_module": "@jupyter-widgets/base",
            "_view_module_version": "1.2.0",
            "_view_name": "LayoutView",
            "align_content": null,
            "align_items": null,
            "align_self": null,
            "border": null,
            "bottom": null,
            "display": null,
            "flex": null,
            "flex_flow": null,
            "grid_area": null,
            "grid_auto_columns": null,
            "grid_auto_flow": null,
            "grid_auto_rows": null,
            "grid_column": null,
            "grid_gap": null,
            "grid_row": null,
            "grid_template_areas": null,
            "grid_template_columns": null,
            "grid_template_rows": null,
            "height": null,
            "justify_content": null,
            "justify_items": null,
            "left": null,
            "margin": null,
            "max_height": null,
            "max_width": null,
            "min_height": null,
            "min_width": null,
            "object_fit": null,
            "object_position": null,
            "order": null,
            "overflow": null,
            "overflow_x": null,
            "overflow_y": null,
            "padding": null,
            "right": null,
            "top": null,
            "visibility": null,
            "width": null
          }
        },
        "04508f1da26343f2bcfaf0e2823bda45": {
          "model_module": "@jupyter-widgets/controls",
          "model_name": "DescriptionStyleModel",
          "model_module_version": "1.5.0",
          "state": {
            "_model_module": "@jupyter-widgets/controls",
            "_model_module_version": "1.5.0",
            "_model_name": "DescriptionStyleModel",
            "_view_count": null,
            "_view_module": "@jupyter-widgets/base",
            "_view_module_version": "1.2.0",
            "_view_name": "StyleView",
            "description_width": ""
          }
        }
      }
    }
  },
  "nbformat": 4,
  "nbformat_minor": 0
}